{
 "cells": [
  {
   "cell_type": "code",
   "execution_count": 1,
   "id": "e3478591-7849-4330-ac7e-12f3cb880335",
   "metadata": {},
   "outputs": [],
   "source": [
    "import numpy as np\n",
    "np.random.seed(42)\n",
    "import matplotlib.pyplot as plt\n",
    "plt.rc('figure', figsize=(10, 6))\n",
    "np.set_printoptions(precision=4, suppress=True)"
   ]
  },
  {
   "cell_type": "markdown",
   "id": "c6c0f765-9954-478b-b764-5bf140ae6dc0",
   "metadata": {},
   "source": [
    "# Numpy:"
   ]
  },
  {
   "cell_type": "markdown",
   "id": "75100aad-97ff-43e5-a519-53461a436740",
   "metadata": {},
   "source": [
    "NumPy, qui est l’abréviation de Numerical Python, est l’un des plus importants packages fondamentaux pour le calcul numérique en Python. La plupart des programmes de calcul offrant des fonctionnalités scientifiques utilisent les tableaux de NumPy comme lingua franca pour l’échange de données. Voici quelques-uns des éléments que vous trouverez dans NumPy :\n",
    "\n",
    "Voici quelques-uns des éléments que vous trouverez dans NumPy : \n",
    "- ndarray, un tableau multidimensionnel efficace, fournissant des opérations arithmétiques rapides orientées tableaux ainsi que des capacités de diffusion souples. \n",
    "- Fonctions mathématiques pour des opérations rapides sur des tableaux de données entiers sans avoir à écrire des boucles. \n",
    "- Outils de lecture/écriture de données de tableaux sur disque, et outils de travail avec des fichiers mappés en mémoire. \n",
    "- Algèbre linéaire, génération de nombres aléatoires et capacités de transformation de Fourier. \n",
    "- API C pour connecter NumPy avec des librairies écrites en C, C++ ou Fortran. \n",
    "\n",
    "NumPy est si important pour les calculs numériques en Python car il est conçu pour être efficace sur de grands jeux de données. Il y a plusieurs raisons à cela : \n",
    "- NumPy stocke en interne les données dans un bloc de mémoire contigu, indépendant des autres objets Python natifs. La librairie d’algorithmes de NumPy écrite en langage C peut fonctionner sur cette mémoire sans aucune vérification de type ou autre surcharge. Les tableaux NumPy utilisent également beaucoup moins de mémoire que les séquences natives de Python. \n",
    "- Les opérations NumPy effectuent des calculs complexes sur des tableaux entiers sans avoir besoin des boucles for de Python. Pour vous donner une idée de la différence de performance, considérez un tableau NumPy d’un million d’entiers, et la liste Python équivalente\n"
   ]
  },
  {
   "cell_type": "code",
   "execution_count": 2,
   "id": "13c6757b-017b-4090-9800-8f8aecd0f558",
   "metadata": {},
   "outputs": [],
   "source": [
    "import numpy as np\n",
    "\n",
    "my_arr = np.arange(1_000_000)\n",
    "my_list = list(range(1_000_000))"
   ]
  },
  {
   "cell_type": "markdown",
   "id": "ab9211d8-9bcb-48fb-a49e-6156eee40cbe",
   "metadata": {},
   "source": [
    "Multiplions maintenant chaque séquence par 2 :"
   ]
  },
  {
   "cell_type": "code",
   "execution_count": 3,
   "id": "9df3ee07-f469-434a-ae42-f1e4fd19fe6e",
   "metadata": {},
   "outputs": [
    {
     "name": "stdout",
     "output_type": "stream",
     "text": [
      "1.7 ms ± 51.7 µs per loop (mean ± std. dev. of 7 runs, 1,000 loops each)\n",
      "84.7 ms ± 4.43 ms per loop (mean ± std. dev. of 7 runs, 10 loops each)\n"
     ]
    }
   ],
   "source": [
    "%timeit my_arr2 = my_arr * 2\n",
    "%timeit my_list2 = [x * 2 for x in my_list]"
   ]
  },
  {
   "cell_type": "markdown",
   "id": "4c5e1141-ebcb-45da-aa8f-792632c956ee",
   "metadata": {},
   "source": [
    "Les algorithmes basés sur NumPy sont généralement 10 à 100 fois plus rapides (ou plus) que leurs homologues en Python pur et utilisent beaucoup moins de mémoire."
   ]
  },
  {
   "cell_type": "markdown",
   "id": "73c70ec3-fc74-4d52-9127-54ddfcfc360e",
   "metadata": {},
   "source": [
    "## NumPy et ndarray : un objet multidimensionnel"
   ]
  },
  {
   "cell_type": "markdown",
   "id": "372f3a2f-30fd-41b3-951d-dec93a5616d0",
   "metadata": {},
   "source": [
    "L’une des caractéristiques clés de NumPy est son objet tableau à N dimensions, ou ndarray, qui est un conteneur rapide et polyvalent pour les grands jeux de données en Python. Les tableaux vous permettent d’effectuer des opérations mathématiques sur des blocs entiers de données en utilisant une syntaxe similaire à celle des opérations équivalentes entre éléments scalaires. Pour vous donner une idée de la façon dont NumPy permet des calculs par lots avec une syntaxe similaire aux valeurs scalaires des objets standard de Python, j’importe d’abord NumPy et je génère un petit tableau de données aléatoires :"
   ]
  },
  {
   "cell_type": "code",
   "execution_count": 4,
   "id": "b6eb2a17-d98e-4156-9328-8140d7bf8580",
   "metadata": {},
   "outputs": [
    {
     "data": {
      "text/plain": [
       "array([[ 0.4967, -0.1383,  0.6477],\n",
       "       [ 1.523 , -0.2342, -0.2341]])"
      ]
     },
     "execution_count": 4,
     "metadata": {},
     "output_type": "execute_result"
    }
   ],
   "source": [
    "import numpy as np\n",
    "# Generate some random data\n",
    "data = np.random.randn(2, 3)\n",
    "data"
   ]
  },
  {
   "cell_type": "markdown",
   "id": "d361a81a-35c0-4c91-b92a-4fe25213a311",
   "metadata": {},
   "source": [
    "J’applique ensuite des opérations mathématiques sur ces données :"
   ]
  },
  {
   "cell_type": "code",
   "execution_count": 5,
   "id": "7ea629b5-1989-407f-a71b-e6220b14907b",
   "metadata": {},
   "outputs": [
    {
     "data": {
      "text/plain": [
       "array([[ 4.9671, -1.3826,  6.4769],\n",
       "       [15.2303, -2.3415, -2.3414]])"
      ]
     },
     "execution_count": 5,
     "metadata": {},
     "output_type": "execute_result"
    }
   ],
   "source": [
    "data * 10"
   ]
  },
  {
   "cell_type": "code",
   "execution_count": 6,
   "id": "37dc5f74-43a7-4046-ba15-8cb133c0ccf0",
   "metadata": {},
   "outputs": [
    {
     "data": {
      "text/plain": [
       "array([[ 0.9934, -0.2765,  1.2954],\n",
       "       [ 3.0461, -0.4683, -0.4683]])"
      ]
     },
     "execution_count": 6,
     "metadata": {},
     "output_type": "execute_result"
    }
   ],
   "source": [
    "data + data"
   ]
  },
  {
   "cell_type": "markdown",
   "id": "c616362e-adc3-4d72-a69c-be6599cdc5f0",
   "metadata": {},
   "source": [
    "Dans le premier exemple, tous les éléments ont été multipliés par 10. Dans le second, les valeurs correspondantes de chaque « cellule » du tableau ont été ajoutées les unes aux autres."
   ]
  },
  {
   "cell_type": "markdown",
   "id": "d974e6b0-502c-48b6-9889-58323355d924",
   "metadata": {},
   "source": [
    "Un ndarray est un conteneur multidimensionnel générique pour des données homogènes, c’est-à-dire que tous les éléments doivent être du même type. Chaque tableau a une forme (shape), un tuple indiquant la taille de chaque dimension, et un dtype, un objet décrivant le type de données du tableau :"
   ]
  },
  {
   "cell_type": "code",
   "execution_count": 7,
   "id": "584b6bff-3aaa-405b-a997-09cdc71d7acd",
   "metadata": {},
   "outputs": [
    {
     "data": {
      "text/plain": [
       "(2, 3)"
      ]
     },
     "execution_count": 7,
     "metadata": {},
     "output_type": "execute_result"
    }
   ],
   "source": [
    "data.shape"
   ]
  },
  {
   "cell_type": "code",
   "execution_count": 8,
   "id": "2119dd22-0471-478a-8538-c346a57c398d",
   "metadata": {},
   "outputs": [
    {
     "data": {
      "text/plain": [
       "dtype('float64')"
      ]
     },
     "execution_count": 8,
     "metadata": {},
     "output_type": "execute_result"
    }
   ],
   "source": [
    "data.dtype"
   ]
  },
  {
   "cell_type": "markdown",
   "id": "af251b00-9908-40cf-af0e-93f2ff7fea4a",
   "metadata": {},
   "source": [
    "## Créer des ndarray\n",
    "La façon la plus simple de créer un tableau est d’utiliser la fonction array. Celle-ci accepte tout objet de type séquence (y compris les autres tableaux) et produit un nouveau tableau NumPy contenant les données qui lui sont passées. Par exemple, une liste est un bon candidat pour une telle conversion :"
   ]
  },
  {
   "cell_type": "code",
   "execution_count": 9,
   "id": "4623a428-97b7-476c-9503-0d901c367e51",
   "metadata": {},
   "outputs": [
    {
     "data": {
      "text/plain": [
       "array([6. , 7.5, 8. , 0. , 1. ])"
      ]
     },
     "execution_count": 9,
     "metadata": {},
     "output_type": "execute_result"
    }
   ],
   "source": [
    "data1 = [6, 7.5, 8, 0, 1]\n",
    "arr1 = np.array(data1)\n",
    "arr1"
   ]
  },
  {
   "cell_type": "markdown",
   "id": "a73ea624-6ae4-4213-bb1b-f43ddd6bec93",
   "metadata": {},
   "source": [
    "Les séquences imbriquées, comme une liste de listes de même longueur, seront converties en un tableau multidimensionnel :"
   ]
  },
  {
   "cell_type": "code",
   "execution_count": 10,
   "id": "e778ce4a-fde7-416f-a027-a57e4411d0b6",
   "metadata": {},
   "outputs": [
    {
     "data": {
      "text/plain": [
       "array([[1, 2, 3, 4],\n",
       "       [5, 6, 7, 8]])"
      ]
     },
     "execution_count": 10,
     "metadata": {},
     "output_type": "execute_result"
    }
   ],
   "source": [
    "data2 = [[1, 2, 3, 4], [5, 6, 7, 8]]\n",
    "arr2 = np.array(data2)\n",
    "arr2"
   ]
  },
  {
   "cell_type": "markdown",
   "id": "cddc30a3-596d-4a83-b2df-09b1acd252e9",
   "metadata": {},
   "source": [
    "Comme data2 était une liste de listes, le tableau NumPy arr2 a deux dimensions dont la forme est déduite des données. Nous pouvons le confirmer en examinant les attributs ndim et shape :"
   ]
  },
  {
   "cell_type": "code",
   "execution_count": 11,
   "id": "f2c0e56b-f725-46cf-b512-7658b2e247c6",
   "metadata": {},
   "outputs": [
    {
     "data": {
      "text/plain": [
       "2"
      ]
     },
     "execution_count": 11,
     "metadata": {},
     "output_type": "execute_result"
    }
   ],
   "source": [
    "arr2.ndim"
   ]
  },
  {
   "cell_type": "code",
   "execution_count": 12,
   "id": "c11e23de-234d-44e7-b5a1-70ad09b3ca1b",
   "metadata": {},
   "outputs": [
    {
     "data": {
      "text/plain": [
       "(2, 4)"
      ]
     },
     "execution_count": 12,
     "metadata": {},
     "output_type": "execute_result"
    }
   ],
   "source": [
    "arr2.shape"
   ]
  },
  {
   "cell_type": "markdown",
   "id": "7f37d882-5c35-42b8-bf0b-138cccc4c5cd",
   "metadata": {},
   "source": [
    "Sauf indication contraire, np.array essaie de déduire un bon type de données pour le tableau qu’il crée. Le type de données est stocké dans un objet de métadonnées spécial, dtype. Ainsi, dans les deux exemples précédents, nous avons :"
   ]
  },
  {
   "cell_type": "code",
   "execution_count": 13,
   "id": "131ce903-e9e3-49e3-8eb7-c9315f055404",
   "metadata": {},
   "outputs": [
    {
     "data": {
      "text/plain": [
       "dtype('float64')"
      ]
     },
     "execution_count": 13,
     "metadata": {},
     "output_type": "execute_result"
    }
   ],
   "source": [
    "arr1.dtype"
   ]
  },
  {
   "cell_type": "code",
   "execution_count": 14,
   "id": "b2315b25-10a2-4c32-b14f-d0555bdce836",
   "metadata": {},
   "outputs": [
    {
     "data": {
      "text/plain": [
       "dtype('int32')"
      ]
     },
     "execution_count": 14,
     "metadata": {},
     "output_type": "execute_result"
    }
   ],
   "source": [
    "arr2.dtype"
   ]
  },
  {
   "cell_type": "markdown",
   "id": "7904429c-47fc-47a4-b5d6-ada8d4187afe",
   "metadata": {},
   "source": [
    "En plus de np.array, il existe un certain nombre d’autres fonctions permettant de créer de nouveaux tableaux. Par exemple, zeros et ones créent des tableaux de 0 ou de 1, respectivement, avec une longueur ou une forme donnée. empty crée un tableau sans initialiser ses valeurs à une valeur particulière. Pour créer un tableau de dimensions supérieures avec ces méthodes, il faut passer un tuple pour spécifier la forme :"
   ]
  },
  {
   "cell_type": "code",
   "execution_count": 15,
   "id": "daffb281-df64-4689-9c7d-d08682eed6c7",
   "metadata": {},
   "outputs": [
    {
     "data": {
      "text/plain": [
       "array([0., 0., 0., 0., 0., 0., 0., 0., 0., 0.])"
      ]
     },
     "execution_count": 15,
     "metadata": {},
     "output_type": "execute_result"
    }
   ],
   "source": [
    "np.zeros(10)"
   ]
  },
  {
   "cell_type": "code",
   "execution_count": 16,
   "id": "e0424492-71d1-4bcd-b45e-658ae91b3e92",
   "metadata": {},
   "outputs": [
    {
     "data": {
      "text/plain": [
       "array([[0., 0., 0., 0., 0., 0.],\n",
       "       [0., 0., 0., 0., 0., 0.],\n",
       "       [0., 0., 0., 0., 0., 0.]])"
      ]
     },
     "execution_count": 16,
     "metadata": {},
     "output_type": "execute_result"
    }
   ],
   "source": [
    "np.zeros((3, 6))"
   ]
  },
  {
   "cell_type": "code",
   "execution_count": 17,
   "id": "5e88b82c-28a5-48b5-b6d3-c8345f95536f",
   "metadata": {},
   "outputs": [
    {
     "data": {
      "text/plain": [
       "array([[[9.7467e-312, 2.4703e-322],\n",
       "        [0.0000e+000, 0.0000e+000],\n",
       "        [7.5660e-307, 6.8212e-043]],\n",
       "\n",
       "       [[7.1735e-091, 5.4017e-066],\n",
       "        [2.3265e-057, 2.4719e-056],\n",
       "        [3.9991e+252, 3.6003e+179]]])"
      ]
     },
     "execution_count": 17,
     "metadata": {},
     "output_type": "execute_result"
    }
   ],
   "source": [
    "np.empty((2, 3, 2))"
   ]
  },
  {
   "cell_type": "markdown",
   "id": "f77c0cbb-f738-49c5-bd17-a205348cd4c3",
   "metadata": {},
   "source": [
    "*Remarque*:  \n",
    "Il n’est pas sûr de supposer que np.empty retournera un tableau rempli de zéros. Dans certains cas, il peut renvoyer des valeurs non initialisées, des genres de « déchets »."
   ]
  },
  {
   "cell_type": "markdown",
   "id": "1c37a009-6637-4d1f-b9c4-c80d8d36707d",
   "metadata": {},
   "source": [
    "arange est une version ndarray de la fonction native range de Python :"
   ]
  },
  {
   "cell_type": "code",
   "execution_count": 18,
   "id": "7910915b-0778-49e0-a545-d780817fe16f",
   "metadata": {},
   "outputs": [
    {
     "data": {
      "text/plain": [
       "array([ 0,  1,  2,  3,  4,  5,  6,  7,  8,  9, 10, 11, 12, 13, 14])"
      ]
     },
     "execution_count": 18,
     "metadata": {},
     "output_type": "execute_result"
    }
   ],
   "source": [
    "np.arange(15)"
   ]
  },
  {
   "cell_type": "markdown",
   "id": "37ef6921-5b96-4f3f-94dd-f9595b456266",
   "metadata": {
    "tags": []
   },
   "source": [
    "## Types de données pour les ndarray \n",
    "Le type de données, ou dtype, est un objet spécial contenant les informations (ou métadonnées, c’est-à-dire des données sur les données) dont le ndarray a besoin pour interpréter un élément de mémoire comme étant d’un type de données particulier :"
   ]
  },
  {
   "cell_type": "code",
   "execution_count": 19,
   "id": "72e12eed-09be-4986-bad6-cb2e65ef7068",
   "metadata": {},
   "outputs": [
    {
     "data": {
      "text/plain": [
       "dtype('float64')"
      ]
     },
     "execution_count": 19,
     "metadata": {},
     "output_type": "execute_result"
    }
   ],
   "source": [
    "arr1 = np.array([1, 2, 3], dtype=np.float64)\n",
    "arr2 = np.array([1, 2, 3], dtype=np.int32)\n",
    "arr1.dtype"
   ]
  },
  {
   "cell_type": "code",
   "execution_count": 20,
   "id": "6222c8d4-8b55-45f6-b0da-e539b27b7982",
   "metadata": {},
   "outputs": [
    {
     "data": {
      "text/plain": [
       "dtype('int32')"
      ]
     },
     "execution_count": 20,
     "metadata": {},
     "output_type": "execute_result"
    }
   ],
   "source": [
    "arr2.dtype"
   ]
  },
  {
   "cell_type": "markdown",
   "id": "2a4ff40b-2851-46d8-b697-ee6e8ee66d59",
   "metadata": {},
   "source": [
    "Vous pouvez explicitement convertir ou diffuser un tableau d’un dtype vers un autre en utilisant la méthode astype des ndarray :"
   ]
  },
  {
   "cell_type": "code",
   "execution_count": 21,
   "id": "e73d967d-fe7d-4ef3-961b-190da4f87648",
   "metadata": {},
   "outputs": [
    {
     "data": {
      "text/plain": [
       "dtype('int32')"
      ]
     },
     "execution_count": 21,
     "metadata": {},
     "output_type": "execute_result"
    }
   ],
   "source": [
    "arr = np.array([1, 2, 3, 4, 5])\n",
    "arr.dtype"
   ]
  },
  {
   "cell_type": "code",
   "execution_count": 22,
   "id": "4cbb9e55-7784-4189-843a-b929081230a1",
   "metadata": {},
   "outputs": [
    {
     "data": {
      "text/plain": [
       "dtype('float64')"
      ]
     },
     "execution_count": 22,
     "metadata": {},
     "output_type": "execute_result"
    }
   ],
   "source": [
    "float_arr = arr.astype(np.float64)\n",
    "float_arr.dtype"
   ]
  },
  {
   "cell_type": "markdown",
   "id": "3ec2eb4e-7222-43b9-9442-1b8592040d24",
   "metadata": {},
   "source": [
    "Dans cet exemple, les nombres entiers ont été diffusés en virgule flottante. Si je diffuse des nombres en virgule flottante pour qu’ils deviennent de type entier, la partie décimale sera tronquée :"
   ]
  },
  {
   "cell_type": "code",
   "execution_count": 23,
   "id": "f83207cb-cd43-4355-a76a-502e90870743",
   "metadata": {},
   "outputs": [
    {
     "data": {
      "text/plain": [
       "array([ 3.7, -1.2, -2.6,  0.5, 12.9, 10.1])"
      ]
     },
     "execution_count": 23,
     "metadata": {},
     "output_type": "execute_result"
    }
   ],
   "source": [
    "arr = np.array([3.7, -1.2, -2.6, 0.5, 12.9, 10.1])\n",
    "arr"
   ]
  },
  {
   "cell_type": "code",
   "execution_count": 24,
   "id": "ab115614-6692-4a8b-95d0-b7a3f1845df0",
   "metadata": {},
   "outputs": [
    {
     "data": {
      "text/plain": [
       "array([ 3, -1, -2,  0, 12, 10])"
      ]
     },
     "execution_count": 24,
     "metadata": {},
     "output_type": "execute_result"
    }
   ],
   "source": [
    "arr.astype(np.int32)"
   ]
  },
  {
   "cell_type": "markdown",
   "id": "9cdb80c8-757d-455e-8292-b30388b49684",
   "metadata": {},
   "source": [
    "Si vous disposez d’un tableau de chaînes de caractères représentant des nombres, vous pouvez utiliser astype pour les convertir en un format numérique :"
   ]
  },
  {
   "cell_type": "code",
   "execution_count": 25,
   "id": "7cc374e1-4481-4fc6-911c-b4d9d90c8250",
   "metadata": {},
   "outputs": [
    {
     "data": {
      "text/plain": [
       "array([ 1.25, -9.6 , 42.  ])"
      ]
     },
     "execution_count": 25,
     "metadata": {},
     "output_type": "execute_result"
    }
   ],
   "source": [
    "numeric_strings = np.array(['1.25', '-9.6', '42'], dtype=np.string_)\n",
    "numeric_strings.astype(float)"
   ]
  },
  {
   "cell_type": "markdown",
   "id": "d27b9dac-70d9-4088-b3ab-cca6cdd8fae5",
   "metadata": {},
   "source": [
    "## Arithmétique avec des tableaux NumPy \n",
    "Les tableaux sont importants car ils vous permettent d’exprimer des opérations par lots sur des données sans avoir à écrire de boucles de répétition for. Les utilisateurs de NumPy appellent cela la vectorisation. Toute opération arithmétique entre des tableaux de taille égale applique cette opération élément par élément :"
   ]
  },
  {
   "cell_type": "code",
   "execution_count": 26,
   "id": "650bd6a0-6085-4d68-b3dd-c35dea7af332",
   "metadata": {},
   "outputs": [
    {
     "data": {
      "text/plain": [
       "array([[1., 2., 3.],\n",
       "       [4., 5., 6.]])"
      ]
     },
     "execution_count": 26,
     "metadata": {},
     "output_type": "execute_result"
    }
   ],
   "source": [
    "arr = np.array([[1., 2., 3.], [4., 5., 6.]])\n",
    "arr"
   ]
  },
  {
   "cell_type": "code",
   "execution_count": 27,
   "id": "b2ba48b2-5284-4af5-b974-71ab95e681b7",
   "metadata": {},
   "outputs": [
    {
     "data": {
      "text/plain": [
       "array([[ 1.,  4.,  9.],\n",
       "       [16., 25., 36.]])"
      ]
     },
     "execution_count": 27,
     "metadata": {},
     "output_type": "execute_result"
    }
   ],
   "source": [
    "arr * arr"
   ]
  },
  {
   "cell_type": "code",
   "execution_count": 28,
   "id": "19a9905f-3912-4406-a103-adc655423d15",
   "metadata": {},
   "outputs": [
    {
     "data": {
      "text/plain": [
       "array([[0., 0., 0.],\n",
       "       [0., 0., 0.]])"
      ]
     },
     "execution_count": 28,
     "metadata": {},
     "output_type": "execute_result"
    }
   ],
   "source": [
    "arr - arr"
   ]
  },
  {
   "cell_type": "markdown",
   "id": "7e18eebe-6ec9-4788-9083-9cb66f24caf9",
   "metadata": {},
   "source": [
    "Les opérations arithmétiques avec des scalaires propagent l’argument scalaire à chaque élément du tableau :"
   ]
  },
  {
   "cell_type": "code",
   "execution_count": 29,
   "id": "08369238-0dce-4144-b2d4-b5ac7b9fe2ec",
   "metadata": {},
   "outputs": [
    {
     "data": {
      "text/plain": [
       "array([[1.    , 0.5   , 0.3333],\n",
       "       [0.25  , 0.2   , 0.1667]])"
      ]
     },
     "execution_count": 29,
     "metadata": {},
     "output_type": "execute_result"
    }
   ],
   "source": [
    "1 / arr"
   ]
  },
  {
   "cell_type": "code",
   "execution_count": 30,
   "id": "53b3df09-4d33-4c7d-b401-21632aa97728",
   "metadata": {},
   "outputs": [
    {
     "data": {
      "text/plain": [
       "array([[1.    , 1.4142, 1.7321],\n",
       "       [2.    , 2.2361, 2.4495]])"
      ]
     },
     "execution_count": 30,
     "metadata": {},
     "output_type": "execute_result"
    }
   ],
   "source": [
    "arr ** 0.5"
   ]
  },
  {
   "cell_type": "markdown",
   "id": "e0be4fcd-b7ef-45c8-afdd-be2aad349c6c",
   "metadata": {},
   "source": [
    "Les comparaisons entre des tableaux de même taille donnent des tableaux booléens :"
   ]
  },
  {
   "cell_type": "code",
   "execution_count": 31,
   "id": "a2c0cff0-dbf7-4cfc-a3d7-ee6d0b62cf81",
   "metadata": {},
   "outputs": [
    {
     "data": {
      "text/plain": [
       "array([[ 0.,  4.,  1.],\n",
       "       [ 7.,  2., 12.]])"
      ]
     },
     "execution_count": 31,
     "metadata": {},
     "output_type": "execute_result"
    }
   ],
   "source": [
    "arr2 = np.array([[0., 4., 1.], [7., 2., 12.]])\n",
    "arr2"
   ]
  },
  {
   "cell_type": "code",
   "execution_count": 32,
   "id": "eddc336c-c4a6-4cca-8a24-33aab46d11c2",
   "metadata": {},
   "outputs": [
    {
     "data": {
      "text/plain": [
       "array([[False,  True, False],\n",
       "       [ True, False,  True]])"
      ]
     },
     "execution_count": 32,
     "metadata": {},
     "output_type": "execute_result"
    }
   ],
   "source": [
    "arr2 > arr"
   ]
  },
  {
   "cell_type": "markdown",
   "id": "b8f5368f-c8c0-4d32-a732-3cd40335a427",
   "metadata": {},
   "source": [
    "### Indexation et tranchage élémentaires \n",
    "L’indexation des tableaux NumPy est un sujet riche, car il existe de nombreuses façons de sélectionner un sous-ensemble de vos données ou des éléments individuels selon vos besoins. Le cas des tableaux à une dimension est simple. En surface, ils agissent de manière similaire aux listes Python :"
   ]
  },
  {
   "cell_type": "code",
   "execution_count": 33,
   "id": "71880e3b-5557-4daa-b4d7-db6e56918671",
   "metadata": {},
   "outputs": [
    {
     "data": {
      "text/plain": [
       "array([0, 1, 2, 3, 4, 5, 6, 7, 8, 9])"
      ]
     },
     "execution_count": 33,
     "metadata": {},
     "output_type": "execute_result"
    }
   ],
   "source": [
    "arr = np.arange(10)\n",
    "arr"
   ]
  },
  {
   "cell_type": "code",
   "execution_count": 34,
   "id": "41b9948e-9f42-450f-aec0-8fca57ac16e6",
   "metadata": {},
   "outputs": [
    {
     "data": {
      "text/plain": [
       "5"
      ]
     },
     "execution_count": 34,
     "metadata": {},
     "output_type": "execute_result"
    }
   ],
   "source": [
    "arr[5]"
   ]
  },
  {
   "cell_type": "code",
   "execution_count": 35,
   "id": "11163359-a70b-4ad2-8791-d8a7fab90ca3",
   "metadata": {},
   "outputs": [
    {
     "data": {
      "text/plain": [
       "array([5, 6, 7])"
      ]
     },
     "execution_count": 35,
     "metadata": {},
     "output_type": "execute_result"
    }
   ],
   "source": [
    "arr[5:8]"
   ]
  },
  {
   "cell_type": "code",
   "execution_count": 36,
   "id": "ce92a676-da20-47df-9336-afdcd9b426ec",
   "metadata": {},
   "outputs": [
    {
     "data": {
      "text/plain": [
       "array([ 0,  1,  2,  3,  4, 12, 12, 12,  8,  9])"
      ]
     },
     "execution_count": 36,
     "metadata": {},
     "output_type": "execute_result"
    }
   ],
   "source": [
    "arr[5:8] = 12\n",
    "arr"
   ]
  },
  {
   "cell_type": "markdown",
   "id": "3136798e-d413-4870-9fe8-f4ec9f546827",
   "metadata": {},
   "source": [
    "Comme vous pouvez le voir, si vous attribuez une valeur scalaire à une tranche, comme dans arr [5 : 8] = 12, cette valeur est propagée (donc diffusée) à la sélection tout entière. Une première distinction importante par rapport aux listes natives de Python est que les tranches de tableaux sont des vues sur le tableau original. Cela signifie que les données ne sont pas copiées, et que toute modification apportée à la vue sera répercutée dans le tableau source. Pour donner un exemple, je crée d’abord une tranche (slice) du tableau arr :"
   ]
  },
  {
   "cell_type": "code",
   "execution_count": 37,
   "id": "bc83898e-06ad-49e8-9805-7f64d5d28c7e",
   "metadata": {},
   "outputs": [
    {
     "data": {
      "text/plain": [
       "array([12, 12, 12])"
      ]
     },
     "execution_count": 37,
     "metadata": {},
     "output_type": "execute_result"
    }
   ],
   "source": [
    "arr_slice = arr[5:8]\n",
    "arr_slice"
   ]
  },
  {
   "cell_type": "markdown",
   "id": "05e0bc6d-e2be-4b11-ab5e-83896ae2c71b",
   "metadata": {},
   "source": [
    "Maintenant, lorsque je change des valeurs dans arr_slice, ces transformations sont reflétées dans le tableau original arr :"
   ]
  },
  {
   "cell_type": "code",
   "execution_count": 38,
   "id": "300373d4-77d3-423d-9e51-983764ab512a",
   "metadata": {},
   "outputs": [
    {
     "data": {
      "text/plain": [
       "array([    0,     1,     2,     3,     4,    12, 12345,    12,     8,\n",
       "           9])"
      ]
     },
     "execution_count": 38,
     "metadata": {},
     "output_type": "execute_result"
    }
   ],
   "source": [
    "arr_slice[1] = 12345\n",
    "arr"
   ]
  },
  {
   "cell_type": "markdown",
   "id": "707c9364-e4da-4934-b26d-ae6be694e1f5",
   "metadata": {},
   "source": [
    "La tranche « vide » [ : ] affectera toutes les valeurs d’un tableau :"
   ]
  },
  {
   "cell_type": "code",
   "execution_count": 39,
   "id": "e591ad08-6b24-4318-b951-e187e0e32b00",
   "metadata": {},
   "outputs": [
    {
     "data": {
      "text/plain": [
       "array([ 0,  1,  2,  3,  4, 64, 64, 64,  8,  9])"
      ]
     },
     "execution_count": 39,
     "metadata": {},
     "output_type": "execute_result"
    }
   ],
   "source": [
    "arr_slice[:] = 64\n",
    "arr"
   ]
  },
  {
   "cell_type": "markdown",
   "id": "032e9076-46be-4f5b-816e-fe9c8870585a",
   "metadata": {},
   "source": [
    "Si vous n’êtes pas encore familiarisé avec NumPy, vous pourriez être surpris par ce comportement, surtout si vous travaillez avec d’autres langages de programmation de tableaux qui copient directement les données. Comme NumPy a été conçu pour pouvoir fonctionner avec de très grands tableaux, il n’est pas difficile d’imaginer les problèmes de performances et de mémoire qui pourraient se poser si NumPy insistait pour toujours copier des données.  \n",
    "Si vous voulez une copie d’une tranche d’un tableau au lieu d’une vue, vous devrez le spécifier explicitement, par exemple via l’instruction arr[5:8].copy().  \n"
   ]
  },
  {
   "cell_type": "markdown",
   "id": "e3ba6f49-c8cb-4b2f-9665-af4337644f15",
   "metadata": {},
   "source": [
    "Avec des tableaux possédant davantage de dimensions, vous avez beaucoup plus d’options. Dans un tableau bidimensionnel, les éléments pour chaque indice ne sont plus des scalaires, mais plutôt des tableaux unidimensionnels :  "
   ]
  },
  {
   "cell_type": "code",
   "execution_count": 40,
   "id": "9bc48bd8-9b10-42f5-af0f-df1eeb83b1dd",
   "metadata": {},
   "outputs": [
    {
     "data": {
      "text/plain": [
       "array([7, 8, 9])"
      ]
     },
     "execution_count": 40,
     "metadata": {},
     "output_type": "execute_result"
    }
   ],
   "source": [
    "arr2d = np.array([[1, 2, 3], [4, 5, 6], [7, 8, 9]])\n",
    "arr2d[2]"
   ]
  },
  {
   "cell_type": "markdown",
   "id": "35b084e3-f97e-48be-9548-a0e9c54780ae",
   "metadata": {},
   "source": [
    "Il est ainsi possible d’accéder aux éléments individuels de manière récursive. Mais cela demande un peu trop de travail. C’est pourquoi vous pouvez passer une liste d’indices séparés par des virgules pour sélectionner des éléments individuels. Ces instructions sont donc équivalentes :"
   ]
  },
  {
   "cell_type": "code",
   "execution_count": 41,
   "id": "08df3cec-7999-4ad8-a451-6f420cae7380",
   "metadata": {},
   "outputs": [
    {
     "data": {
      "text/plain": [
       "3"
      ]
     },
     "execution_count": 41,
     "metadata": {},
     "output_type": "execute_result"
    }
   ],
   "source": [
    "arr2d[0][2]"
   ]
  },
  {
   "cell_type": "code",
   "execution_count": 42,
   "id": "1312da0b-a2ed-4761-9f82-749735432595",
   "metadata": {},
   "outputs": [
    {
     "data": {
      "text/plain": [
       "3"
      ]
     },
     "execution_count": 42,
     "metadata": {},
     "output_type": "execute_result"
    }
   ],
   "source": [
    "arr2d[0, 2]"
   ]
  },
  {
   "attachments": {
    "28a01be1-2f46-4023-bf3b-56e0fe5c231e.png": {
     "image/png": "[encoded data removed]"
    }
   },
   "cell_type": "markdown",
   "id": "8d4b86d9-e9da-4593-a30b-51c76796e17d",
   "metadata": {},
   "source": [
    "Cette Figure illustre le mode d’indexation sur un tableau bidimensionnel. Je trouve utile de considérer l’axe 0 comme représentant les « lignes » du tableau, et l’axe 1 comme représentant ses « colonnes ».\n",
    "![image.png](attachment:28a01be1-2f46-4023-bf3b-56e0fe5c231e.png)"
   ]
  },
  {
   "cell_type": "markdown",
   "id": "76b35bd0-788c-45a2-8ef5-53432254245b",
   "metadata": {},
   "source": [
    "Dans les tableaux multidimensionnels, si vous omettez les indices du haut, l’objet renvoyé sera un ndarray de dimension inférieure comprenant toutes les données des dimensions supérieures. Ainsi, dans le tableau 2 × 2 × 3 arr3d :"
   ]
  },
  {
   "cell_type": "code",
   "execution_count": 43,
   "id": "f6d93ead-0668-44ae-8a2c-349388bab685",
   "metadata": {},
   "outputs": [
    {
     "data": {
      "text/plain": [
       "array([[[ 1,  2,  3],\n",
       "        [ 4,  5,  6]],\n",
       "\n",
       "       [[ 7,  8,  9],\n",
       "        [10, 11, 12]]])"
      ]
     },
     "execution_count": 43,
     "metadata": {},
     "output_type": "execute_result"
    }
   ],
   "source": [
    "arr3d = np.array([[[1, 2, 3], [4, 5, 6]], [[7, 8, 9], [10, 11, 12]]])\n",
    "arr3d"
   ]
  },
  {
   "cell_type": "markdown",
   "id": "5c827c0d-ce40-4d9d-89f2-a12de0e49184",
   "metadata": {},
   "source": [
    "arr3d[0] est un tableau de dimensions 2 × 3 :"
   ]
  },
  {
   "cell_type": "code",
   "execution_count": 44,
   "id": "31eadf22-a5e1-49f3-be75-2130897e0df9",
   "metadata": {},
   "outputs": [
    {
     "data": {
      "text/plain": [
       "array([[1, 2, 3],\n",
       "       [4, 5, 6]])"
      ]
     },
     "execution_count": 44,
     "metadata": {},
     "output_type": "execute_result"
    }
   ],
   "source": [
    "arr3d[0]"
   ]
  },
  {
   "cell_type": "markdown",
   "id": "8bc03af3-6857-495e-8995-29e7b61dcab7",
   "metadata": {},
   "source": [
    "Des valeurs scalaires comme des tableaux peuvent être affectées à arr3d[0] :"
   ]
  },
  {
   "cell_type": "code",
   "execution_count": 45,
   "id": "38732907-b214-4910-9776-1ac2e77c61dd",
   "metadata": {},
   "outputs": [
    {
     "data": {
      "text/plain": [
       "array([[[42, 42, 42],\n",
       "        [42, 42, 42]],\n",
       "\n",
       "       [[ 7,  8,  9],\n",
       "        [10, 11, 12]]])"
      ]
     },
     "execution_count": 45,
     "metadata": {},
     "output_type": "execute_result"
    }
   ],
   "source": [
    "old_values = arr3d[0].copy()\n",
    "arr3d[0] = 42\n",
    "arr3d"
   ]
  },
  {
   "cell_type": "code",
   "execution_count": 46,
   "id": "f30868c5-d69b-42b0-9bef-4c274c871b79",
   "metadata": {},
   "outputs": [
    {
     "data": {
      "text/plain": [
       "array([[[ 1,  2,  3],\n",
       "        [ 4,  5,  6]],\n",
       "\n",
       "       [[ 7,  8,  9],\n",
       "        [10, 11, 12]]])"
      ]
     },
     "execution_count": 46,
     "metadata": {},
     "output_type": "execute_result"
    }
   ],
   "source": [
    "arr3d[0] = old_values\n",
    "arr3d"
   ]
  },
  {
   "cell_type": "markdown",
   "id": "c4759bb6-d235-4d5e-b12a-83f3355261a4",
   "metadata": {},
   "source": [
    "De même, arr3d[1, 0] vous fournit toutes les valeurs dont les indices commencent par (1, 0), produisant ainsi un tableau à une dimension :\n"
   ]
  },
  {
   "cell_type": "code",
   "execution_count": 47,
   "id": "ba0a37c9-ad3e-4916-9040-2a43a2dd6592",
   "metadata": {},
   "outputs": [
    {
     "data": {
      "text/plain": [
       "array([7, 8, 9])"
      ]
     },
     "execution_count": 47,
     "metadata": {},
     "output_type": "execute_result"
    }
   ],
   "source": [
    "arr3d[1, 0]"
   ]
  },
  {
   "cell_type": "markdown",
   "id": "69156373-f7b4-4d6d-9f1b-3f6f32cee7c6",
   "metadata": {},
   "source": [
    "Cette expression est la même que si nous avions indexé en deux étapes :"
   ]
  },
  {
   "cell_type": "code",
   "execution_count": 48,
   "id": "f9e44f25-497f-479a-8001-3c035a309f22",
   "metadata": {},
   "outputs": [
    {
     "data": {
      "text/plain": [
       "array([[ 7,  8,  9],\n",
       "       [10, 11, 12]])"
      ]
     },
     "execution_count": 48,
     "metadata": {},
     "output_type": "execute_result"
    }
   ],
   "source": [
    "x = arr3d[1]\n",
    "x"
   ]
  },
  {
   "cell_type": "code",
   "execution_count": 49,
   "id": "ae3d38f6-265f-472d-8f3e-4cf09963cd2a",
   "metadata": {},
   "outputs": [
    {
     "data": {
      "text/plain": [
       "array([7, 8, 9])"
      ]
     },
     "execution_count": 49,
     "metadata": {},
     "output_type": "execute_result"
    }
   ],
   "source": [
    "x[0]"
   ]
  },
  {
   "cell_type": "markdown",
   "id": "6da82f18-3251-4014-a20f-028a324a63c0",
   "metadata": {},
   "source": [
    "Notez que, dans tous ces cas où des sous-sections du tableau ont été sélectionnées, les tableaux renvoyés sont des vues."
   ]
  },
  {
   "cell_type": "markdown",
   "id": "02e60e3e-33a5-463f-a588-34568d4faa04",
   "metadata": {},
   "source": [
    "### Indexer avec des tranches: \n",
    "Comme les objets unidimensionnels tels que les listes Python, les tableaux ndarray peuvent être partagés en tranches avec la syntaxe familière :"
   ]
  },
  {
   "cell_type": "code",
   "execution_count": 50,
   "id": "6d5c8b7f-32e5-4a97-8516-8be8ca313a42",
   "metadata": {},
   "outputs": [
    {
     "data": {
      "text/plain": [
       "array([ 0,  1,  2,  3,  4, 64, 64, 64,  8,  9])"
      ]
     },
     "execution_count": 50,
     "metadata": {},
     "output_type": "execute_result"
    }
   ],
   "source": [
    "arr"
   ]
  },
  {
   "cell_type": "code",
   "execution_count": 51,
   "id": "9184488e-7cc3-4551-addd-384c721a9e15",
   "metadata": {},
   "outputs": [
    {
     "data": {
      "text/plain": [
       "array([ 1,  2,  3,  4, 64])"
      ]
     },
     "execution_count": 51,
     "metadata": {},
     "output_type": "execute_result"
    }
   ],
   "source": [
    "arr[1:6]"
   ]
  },
  {
   "cell_type": "markdown",
   "id": "da18a5cc-944c-457e-a182-ae549be60739",
   "metadata": {},
   "source": [
    "Considérons le tableau bidimensionnel défini plus haut, arr2d. Trancher ce tableau est un peu différent :"
   ]
  },
  {
   "cell_type": "code",
   "execution_count": 52,
   "id": "5871b23d-2597-4d44-b56c-68f7633790d0",
   "metadata": {},
   "outputs": [
    {
     "data": {
      "text/plain": [
       "array([[1, 2, 3],\n",
       "       [4, 5, 6],\n",
       "       [7, 8, 9]])"
      ]
     },
     "execution_count": 52,
     "metadata": {},
     "output_type": "execute_result"
    }
   ],
   "source": [
    "arr2d"
   ]
  },
  {
   "cell_type": "code",
   "execution_count": 53,
   "id": "8da07658-f780-47aa-aafe-22933c51d13e",
   "metadata": {},
   "outputs": [
    {
     "data": {
      "text/plain": [
       "array([[1, 2, 3],\n",
       "       [4, 5, 6]])"
      ]
     },
     "execution_count": 53,
     "metadata": {},
     "output_type": "execute_result"
    }
   ],
   "source": [
    "arr2d[:2]"
   ]
  },
  {
   "cell_type": "markdown",
   "id": "e59793e1-4cea-4d7a-8a59-abe1f1ceb6d1",
   "metadata": {},
   "source": [
    "Comme vous pouvez le constater, le tranchage a été effectué selon l’axe 0, le premier. Une tranche, par conséquent, sélectionne une série d’éléments le long d’un axe. Il peut être utile de lire l’expression arr2d[ : 2] comme signifiant « sélectionner les deux premières lignes de arr2d ».  \n",
    "\n",
    "Vous pouvez passer plusieurs tranches, tout comme vous pouvez passer plusieurs indices :"
   ]
  },
  {
   "cell_type": "code",
   "execution_count": 54,
   "id": "83c9b64b-1787-4e3e-86b5-1710dd165242",
   "metadata": {},
   "outputs": [
    {
     "data": {
      "text/plain": [
       "array([[2, 3],\n",
       "       [5, 6]])"
      ]
     },
     "execution_count": 54,
     "metadata": {},
     "output_type": "execute_result"
    }
   ],
   "source": [
    "arr2d[:2, 1:]"
   ]
  },
  {
   "cell_type": "markdown",
   "id": "81c28759-99b2-4eeb-923d-6842947b6157",
   "metadata": {},
   "source": [
    "En procédant ainsi, vous obtenez toujours des vues de tableaux ayant le même nombre de dimensions. En mélangeant des indices entiers et des tranches, vous obtenez des tranches de dimensions inférieures.  \n",
    "Par exemple, je peux sélectionner la deuxième ligne, mais seulement les deux premières colonnes, comme ceci :"
   ]
  },
  {
   "cell_type": "code",
   "execution_count": 55,
   "id": "bff60fcf-69a3-4930-a25e-ec5f58917fa9",
   "metadata": {},
   "outputs": [
    {
     "data": {
      "text/plain": [
       "array([4, 5])"
      ]
     },
     "execution_count": 55,
     "metadata": {},
     "output_type": "execute_result"
    }
   ],
   "source": [
    "arr2d[1, :2]"
   ]
  },
  {
   "cell_type": "markdown",
   "id": "08d0ad90-52c5-4589-95f2-0c69307a3a5f",
   "metadata": {},
   "source": [
    "De même, je peux sélectionner la troisième colonne, mais seulement les deux premières lignes, de cette manière :"
   ]
  },
  {
   "cell_type": "code",
   "execution_count": 56,
   "id": "f7432df1-a449-4a8e-a742-406a07bb26ac",
   "metadata": {},
   "outputs": [
    {
     "data": {
      "text/plain": [
       "array([3, 6])"
      ]
     },
     "execution_count": 56,
     "metadata": {},
     "output_type": "execute_result"
    }
   ],
   "source": [
    "arr2d[:2, 2]"
   ]
  },
  {
   "cell_type": "markdown",
   "id": "cc8efe21-9f7a-425a-a9c3-2df5364ff052",
   "metadata": {},
   "source": [
    "La Figure suivante illustre cette méthode de travail. Notez que le deux-points signifie que l’on prend l’axe entier, de sorte que vous pouvez trancher uniquement les axes de dimensions supérieures avec la syntaxe suivante :"
   ]
  },
  {
   "attachments": {
    "96b26bfd-3fd9-460c-9c27-9e33e55602d6.png": {
     "image/png": "[encoded data removed]"
    }
   },
   "cell_type": "markdown",
   "id": "85956154-76df-40d0-a7ce-b2a34955676b",
   "metadata": {},
   "source": [
    "![image.png](attachment:96b26bfd-3fd9-460c-9c27-9e33e55602d6.png)"
   ]
  },
  {
   "cell_type": "code",
   "execution_count": 57,
   "id": "e34ff414-30f7-47d8-aee5-d07b0becb728",
   "metadata": {},
   "outputs": [
    {
     "data": {
      "text/plain": [
       "array([[1],\n",
       "       [4],\n",
       "       [7]])"
      ]
     },
     "execution_count": 57,
     "metadata": {},
     "output_type": "execute_result"
    }
   ],
   "source": [
    "arr2d[:, :1]"
   ]
  },
  {
   "cell_type": "markdown",
   "id": "392a2088-b476-4929-83e9-e763d20063e1",
   "metadata": {},
   "source": [
    "Bien sûr, l’affectation à une tranche s’applique à la sélection tout entière :"
   ]
  },
  {
   "cell_type": "code",
   "execution_count": 58,
   "id": "9b0ee65f-faec-4048-8897-ac0c2d7a3d5f",
   "metadata": {},
   "outputs": [
    {
     "data": {
      "text/plain": [
       "array([[1, 0, 0],\n",
       "       [4, 0, 0],\n",
       "       [7, 8, 9]])"
      ]
     },
     "execution_count": 58,
     "metadata": {},
     "output_type": "execute_result"
    }
   ],
   "source": [
    "arr2d[:2, 1:] = 0\n",
    "arr2d"
   ]
  },
  {
   "cell_type": "markdown",
   "id": "e677e1e0-413f-41ea-b0d0-984c0aed80af",
   "metadata": {},
   "source": [
    "### Indexation booléenne \n",
    "Prenons un exemple dans lequel nous avons quelques données dans un tableau, ainsi qu’un tableau de noms avec des doublons. Je vais utiliser ici la fonction randn de numpy.random pour générer des données aléatoires avec une distribution normale :"
   ]
  },
  {
   "cell_type": "code",
   "execution_count": 59,
   "id": "435b58ac-b487-407d-a526-d167eee33766",
   "metadata": {},
   "outputs": [
    {
     "data": {
      "text/plain": [
       "array(['Bob', 'Joe', 'Will', 'Bob', 'Will', 'Joe', 'Joe'], dtype='<U4')"
      ]
     },
     "execution_count": 59,
     "metadata": {},
     "output_type": "execute_result"
    }
   ],
   "source": [
    "names = np.array(['Bob', 'Joe', 'Will', 'Bob', 'Will', 'Joe', 'Joe'])\n",
    "data = np.random.randn(7, 4)\n",
    "names"
   ]
  },
  {
   "cell_type": "code",
   "execution_count": 60,
   "id": "e253a682-f911-4859-9ff0-325e206e9ca9",
   "metadata": {},
   "outputs": [
    {
     "data": {
      "text/plain": [
       "array([[ 1.5792,  0.7674, -0.4695,  0.5426],\n",
       "       [-0.4634, -0.4657,  0.242 , -1.9133],\n",
       "       [-1.7249, -0.5623, -1.0128,  0.3142],\n",
       "       [-0.908 , -1.4123,  1.4656, -0.2258],\n",
       "       [ 0.0675, -1.4247, -0.5444,  0.1109],\n",
       "       [-1.151 ,  0.3757, -0.6006, -0.2917],\n",
       "       [-0.6017,  1.8523, -0.0135, -1.0577]])"
      ]
     },
     "execution_count": 60,
     "metadata": {},
     "output_type": "execute_result"
    }
   ],
   "source": [
    "data"
   ]
  },
  {
   "cell_type": "markdown",
   "id": "0c67a1ed-bc09-4abf-a847-06143c1a0aba",
   "metadata": {},
   "source": [
    "Supposons que chaque nom soit associé à une ligne du tableau de données et que nous voulions sélectionner toutes les lignes correspondant au nom 'Bob'. Comme dans le cas des opérations arithmétiques, les comparaisons (telles que ==) avec les tableaux sont également vectorisées. Ainsi, la comparaison de noms avec la chaîne 'Bob' renvoie un tableau booléen :"
   ]
  },
  {
   "cell_type": "code",
   "execution_count": 61,
   "id": "42215637-43ae-41af-828d-188564a0d5ab",
   "metadata": {},
   "outputs": [
    {
     "data": {
      "text/plain": [
       "array([ True, False, False,  True, False, False, False])"
      ]
     },
     "execution_count": 61,
     "metadata": {},
     "output_type": "execute_result"
    }
   ],
   "source": [
    "names == 'Bob'"
   ]
  },
  {
   "cell_type": "markdown",
   "id": "479e1c72-5c6c-4e22-a8f2-df5cc71afc72",
   "metadata": {},
   "source": [
    "Ce tableau booléen peut être passé lors de l’indexation du tableau data :"
   ]
  },
  {
   "cell_type": "code",
   "execution_count": 62,
   "id": "e88b35c3-b311-4f16-826c-461dd102edeb",
   "metadata": {},
   "outputs": [
    {
     "data": {
      "text/plain": [
       "array([[ 1.5792,  0.7674, -0.4695,  0.5426],\n",
       "       [-0.908 , -1.4123,  1.4656, -0.2258]])"
      ]
     },
     "execution_count": 62,
     "metadata": {},
     "output_type": "execute_result"
    }
   ],
   "source": [
    "data[names == 'Bob']"
   ]
  },
  {
   "cell_type": "markdown",
   "id": "7b994c60-1020-414b-940b-058bd51828c8",
   "metadata": {},
   "source": [
    "Le tableau booléen doit être de la même longueur que l’axe du tableau qu’il indexe. Vous pouvez même mélanger et faire correspondre des tableaux booléens avec des tranches ou des entiers (ou des séquences d’entiers, sujet sur lequel nous reviendrons plus tard). Dans ces exemples, j’effectue une sélection des lignes avec names == 'Bob' et j’indexe également les colonnes :"
   ]
  },
  {
   "cell_type": "code",
   "execution_count": 63,
   "id": "8103d743-44a4-4850-8a83-46f37524e56b",
   "metadata": {},
   "outputs": [
    {
     "data": {
      "text/plain": [
       "array([[-0.4695,  0.5426],\n",
       "       [ 1.4656, -0.2258]])"
      ]
     },
     "execution_count": 63,
     "metadata": {},
     "output_type": "execute_result"
    }
   ],
   "source": [
    "data[names == 'Bob', 2:]"
   ]
  },
  {
   "cell_type": "code",
   "execution_count": 64,
   "id": "607749d4-512f-44af-89b4-1a2387e50256",
   "metadata": {},
   "outputs": [
    {
     "data": {
      "text/plain": [
       "array([ 0.5426, -0.2258])"
      ]
     },
     "execution_count": 64,
     "metadata": {},
     "output_type": "execute_result"
    }
   ],
   "source": [
    "data[names == 'Bob', 3]"
   ]
  },
  {
   "cell_type": "markdown",
   "id": "811825ec-618a-4845-9465-66916ec08b3b",
   "metadata": {},
   "source": [
    "Pour tout sélectionner sauf 'Bob', vous pouvez utiliser soit ! =, soit la condition de négation avec ∼:"
   ]
  },
  {
   "cell_type": "code",
   "execution_count": 65,
   "id": "ad09b1cb-15ec-4087-90dd-e9d3f32098b6",
   "metadata": {},
   "outputs": [
    {
     "data": {
      "text/plain": [
       "array([False,  True,  True, False,  True,  True,  True])"
      ]
     },
     "execution_count": 65,
     "metadata": {},
     "output_type": "execute_result"
    }
   ],
   "source": [
    "names != 'Bob'"
   ]
  },
  {
   "cell_type": "code",
   "execution_count": 66,
   "id": "74ae75f9-4173-4a2c-97ac-6442d41d8d9e",
   "metadata": {},
   "outputs": [
    {
     "data": {
      "text/plain": [
       "array([[-0.4634, -0.4657,  0.242 , -1.9133],\n",
       "       [-1.7249, -0.5623, -1.0128,  0.3142],\n",
       "       [ 0.0675, -1.4247, -0.5444,  0.1109],\n",
       "       [-1.151 ,  0.3757, -0.6006, -0.2917],\n",
       "       [-0.6017,  1.8523, -0.0135, -1.0577]])"
      ]
     },
     "execution_count": 66,
     "metadata": {},
     "output_type": "execute_result"
    }
   ],
   "source": [
    "data[~(names == 'Bob')] #data[(names != 'Bob')]"
   ]
  },
  {
   "cell_type": "markdown",
   "id": "762cd73e-a398-4eb1-9b29-76cc834c3ccd",
   "metadata": {},
   "source": [
    "L’opérateur ∼ peut être utile lorsque vous souhaitez inverser une condition générale :"
   ]
  },
  {
   "cell_type": "code",
   "execution_count": 67,
   "id": "9743d217-a266-4413-ad9d-97673168b065",
   "metadata": {},
   "outputs": [
    {
     "data": {
      "text/plain": [
       "array([[-0.4634, -0.4657,  0.242 , -1.9133],\n",
       "       [-1.7249, -0.5623, -1.0128,  0.3142],\n",
       "       [ 0.0675, -1.4247, -0.5444,  0.1109],\n",
       "       [-1.151 ,  0.3757, -0.6006, -0.2917],\n",
       "       [-0.6017,  1.8523, -0.0135, -1.0577]])"
      ]
     },
     "execution_count": 67,
     "metadata": {},
     "output_type": "execute_result"
    }
   ],
   "source": [
    "cond = names == 'Bob'\n",
    "data[~cond]"
   ]
  },
  {
   "cell_type": "markdown",
   "id": "12045158-2bd4-4cc9-b12f-a9f1bdda1f93",
   "metadata": {},
   "source": [
    "En sélectionnant deux des trois noms pour combiner plusieurs conditions booléennes, on peut utiliser les opérateurs arithmétiques booléens comme & (et) et | (ou) :"
   ]
  },
  {
   "cell_type": "code",
   "execution_count": 68,
   "id": "8666eea6-d534-43a9-ac60-7fcbd1c468c9",
   "metadata": {},
   "outputs": [
    {
     "data": {
      "text/plain": [
       "array([ True, False,  True,  True,  True, False, False])"
      ]
     },
     "execution_count": 68,
     "metadata": {},
     "output_type": "execute_result"
    }
   ],
   "source": [
    "mask = (names == 'Bob') | (names == 'Will')\n",
    "mask"
   ]
  },
  {
   "cell_type": "code",
   "execution_count": 69,
   "id": "763ca3ef-3539-42ec-8b2d-b5a0c56caa9a",
   "metadata": {},
   "outputs": [
    {
     "data": {
      "text/plain": [
       "array([[ 1.5792,  0.7674, -0.4695,  0.5426],\n",
       "       [-1.7249, -0.5623, -1.0128,  0.3142],\n",
       "       [-0.908 , -1.4123,  1.4656, -0.2258],\n",
       "       [ 0.0675, -1.4247, -0.5444,  0.1109]])"
      ]
     },
     "execution_count": 69,
     "metadata": {},
     "output_type": "execute_result"
    }
   ],
   "source": [
    "data[mask]"
   ]
  },
  {
   "cell_type": "markdown",
   "id": "b4021922-677d-4bb9-87de-64e038fe23c9",
   "metadata": {},
   "source": [
    "La sélection de données dans un tableau par indexation booléenne crée toujours une copie de ces données, même si le tableau renvoyé est inchangé.  \n",
    "*Note:* Les mots clés Python and et or ne fonctionnent pas avec les tableaux booléens. Utilisez à leur place & (et) et | (ou)."
   ]
  },
  {
   "cell_type": "markdown",
   "id": "452318b7-0cd2-43f7-ab1a-d5d62ad020c1",
   "metadata": {},
   "source": [
    "La définition de valeurs à l’aide de tableaux booléens fonctionne comme on peut s’attendre. Exemple:"
   ]
  },
  {
   "cell_type": "code",
   "execution_count": 70,
   "id": "01182f03-f26e-43b6-abed-d3e80c3f21d0",
   "metadata": {},
   "outputs": [
    {
     "data": {
      "text/plain": [
       "array([[1.5792, 0.7674, 0.    , 0.5426],\n",
       "       [0.    , 0.    , 0.242 , 0.    ],\n",
       "       [0.    , 0.    , 0.    , 0.3142],\n",
       "       [0.    , 0.    , 1.4656, 0.    ],\n",
       "       [0.0675, 0.    , 0.    , 0.1109],\n",
       "       [0.    , 0.3757, 0.    , 0.    ],\n",
       "       [0.    , 1.8523, 0.    , 0.    ]])"
      ]
     },
     "execution_count": 70,
     "metadata": {},
     "output_type": "execute_result"
    }
   ],
   "source": [
    "data[data < 0] = 0\n",
    "data"
   ]
  },
  {
   "cell_type": "markdown",
   "id": "b34fd300-28d3-47d0-818c-673e78c3822f",
   "metadata": {},
   "source": [
    "Il est également facile de définir des lignes ou des colonnes entières à l’aide d’un tableau booléen unidimensionnel :"
   ]
  },
  {
   "cell_type": "code",
   "execution_count": 71,
   "id": "172181d9-36b2-4167-8b88-17b9bc09e820",
   "metadata": {},
   "outputs": [
    {
     "data": {
      "text/plain": [
       "array([[7.    , 7.    , 7.    , 7.    ],\n",
       "       [0.    , 0.    , 0.242 , 0.    ],\n",
       "       [7.    , 7.    , 7.    , 7.    ],\n",
       "       [7.    , 7.    , 7.    , 7.    ],\n",
       "       [7.    , 7.    , 7.    , 7.    ],\n",
       "       [0.    , 0.3757, 0.    , 0.    ],\n",
       "       [0.    , 1.8523, 0.    , 0.    ]])"
      ]
     },
     "execution_count": 71,
     "metadata": {},
     "output_type": "execute_result"
    }
   ],
   "source": [
    "data[names != 'Joe'] = 7\n",
    "data"
   ]
  },
  {
   "cell_type": "markdown",
   "id": "2252b4bd-2d30-4ee0-ac4a-bb141d2f2165",
   "metadata": {},
   "source": [
    "Transposer des tableaux et permuter les axes La transposition est une forme spéciale de remodelage qui renvoie une vue sur les données sous-jacentes sans rien copier. Les tableaux disposent de la méthode transpose ainsi que de l’attribut spécial T :"
   ]
  },
  {
   "cell_type": "code",
   "execution_count": 72,
   "id": "6dc6e106-bd8e-43b3-b106-48500343d1ae",
   "metadata": {},
   "outputs": [
    {
     "data": {
      "text/plain": [
       "array([[ 0,  1,  2,  3,  4],\n",
       "       [ 5,  6,  7,  8,  9],\n",
       "       [10, 11, 12, 13, 14]])"
      ]
     },
     "execution_count": 72,
     "metadata": {},
     "output_type": "execute_result"
    }
   ],
   "source": [
    "arr = np.arange(15).reshape((3, 5))\n",
    "arr"
   ]
  },
  {
   "cell_type": "code",
   "execution_count": 73,
   "id": "c28f55ce-94bb-4808-93d5-0eef3556ffdb",
   "metadata": {},
   "outputs": [
    {
     "data": {
      "text/plain": [
       "array([[ 0,  5, 10],\n",
       "       [ 1,  6, 11],\n",
       "       [ 2,  7, 12],\n",
       "       [ 3,  8, 13],\n",
       "       [ 4,  9, 14]])"
      ]
     },
     "execution_count": 73,
     "metadata": {},
     "output_type": "execute_result"
    }
   ],
   "source": [
    "arr.T"
   ]
  },
  {
   "cell_type": "markdown",
   "id": "987d577a-13d2-4c67-bcc6-76a0e4eeb412",
   "metadata": {},
   "source": [
    "Cette méthode est très courante pour les calculs matriciels, par exemple lorsque vous calculez le produit scalaire de la matrice avec np.dot :"
   ]
  },
  {
   "cell_type": "code",
   "execution_count": 74,
   "id": "dc825f91-33d8-41b8-8ecf-2c37054963cc",
   "metadata": {},
   "outputs": [
    {
     "data": {
      "text/plain": [
       "array([[ 0.8225, -1.2208,  0.2089],\n",
       "       [-1.9597, -1.3282,  0.1969],\n",
       "       [ 0.7385,  0.1714, -0.1156],\n",
       "       [-0.3011, -1.4785, -0.7198],\n",
       "       [-0.4606,  1.0571,  0.3436],\n",
       "       [-1.763 ,  0.3241, -0.3851]])"
      ]
     },
     "execution_count": 74,
     "metadata": {},
     "output_type": "execute_result"
    }
   ],
   "source": [
    "arr = np.random.randn(6, 3)\n",
    "arr"
   ]
  },
  {
   "cell_type": "code",
   "execution_count": 75,
   "id": "edf3ac44-0cb4-482e-aa7d-0ee70565eea7",
   "metadata": {},
   "outputs": [
    {
     "data": {
      "text/plain": [
       "array([[8.4734, 1.112 , 0.438 ],\n",
       "       [1.112 , 6.6925, 0.7665],\n",
       "       [0.438 , 0.7665, 0.8803]])"
      ]
     },
     "execution_count": 75,
     "metadata": {},
     "output_type": "execute_result"
    }
   ],
   "source": [
    "np.dot(arr.T, arr)"
   ]
  },
  {
   "cell_type": "markdown",
   "id": "3b255873-cdd9-4350-9cf6-7922d4e92a69",
   "metadata": {},
   "source": [
    "La transposition simple avec .T est un cas particulier d’échange d’axes. ndarray dispose de la méthode swapaxes, qui reçoit une paire de numéros d’axes et commute les axes spécifiés afin de réarranger les données :"
   ]
  },
  {
   "cell_type": "code",
   "execution_count": 76,
   "id": "3a6da2ca-5b30-485e-be50-6f72eb8b7eab",
   "metadata": {},
   "outputs": [
    {
     "data": {
      "text/plain": [
       "array([[ 0,  1,  0],\n",
       "       [ 1,  2, -2],\n",
       "       [ 6,  3,  2],\n",
       "       [-1,  0, -1],\n",
       "       [ 1,  0,  1]])"
      ]
     },
     "execution_count": 76,
     "metadata": {},
     "output_type": "execute_result"
    }
   ],
   "source": [
    "arr = np.array([[0, 1, 0], [1, 2, -2], [6, 3, 2], [-1, 0, -1], [1, 0, 1\n",
    "]])\n",
    "arr"
   ]
  },
  {
   "cell_type": "code",
   "execution_count": 77,
   "id": "43050710-d974-4a69-88e4-ae2f324649b9",
   "metadata": {},
   "outputs": [
    {
     "data": {
      "text/plain": [
       "array([[ 0,  1,  6, -1,  1],\n",
       "       [ 1,  2,  3,  0,  0],\n",
       "       [ 0, -2,  2, -1,  1]])"
      ]
     },
     "execution_count": 77,
     "metadata": {},
     "output_type": "execute_result"
    }
   ],
   "source": [
    "arr.swapaxes(0, 1)"
   ]
  },
  {
   "cell_type": "markdown",
   "id": "67c142fe-cd3f-4cb6-a20f-58b62423713c",
   "metadata": {},
   "source": [
    "swapaxes renvoie également une vue sur les données sans en faire une copie."
   ]
  },
  {
   "cell_type": "markdown",
   "id": "376b5d07-4773-4bff-bbd3-d4621432d105",
   "metadata": {},
   "source": [
    "# Fonctions universelles : fonctions de tableau rapides élément par élément \n",
    "Une fonction universelle, ou ufunc, est une fonction qui effectue des opérations élément par élément sur les données de tableaux ndarray. On peut les considérer comme des enveloppes vectorisées rapides contenant des fonctions simples qui reçoivent une ou plusieurs valeurs scalaires, et produisent un ou plusieurs résultats scalaires. De nombreuses fonctions ufunc sont de simples transformations d’éléments, comme sqrt (racine carrée) ou exp (exponentielle) :"
   ]
  },
  {
   "cell_type": "code",
   "execution_count": 78,
   "id": "fe8b8244-1d29-4ff7-88a1-2faf9309446e",
   "metadata": {},
   "outputs": [
    {
     "data": {
      "text/plain": [
       "array([0, 1, 2, 3, 4, 5, 6, 7, 8, 9])"
      ]
     },
     "execution_count": 78,
     "metadata": {},
     "output_type": "execute_result"
    }
   ],
   "source": [
    "arr = np.arange(10)\n",
    "arr"
   ]
  },
  {
   "cell_type": "code",
   "execution_count": 79,
   "id": "198a70be-30b4-4e5c-9cfe-f9265cad6313",
   "metadata": {},
   "outputs": [
    {
     "data": {
      "text/plain": [
       "array([0.    , 1.    , 1.4142, 1.7321, 2.    , 2.2361, 2.4495, 2.6458,\n",
       "       2.8284, 3.    ])"
      ]
     },
     "execution_count": 79,
     "metadata": {},
     "output_type": "execute_result"
    }
   ],
   "source": [
    "np.sqrt(arr)"
   ]
  },
  {
   "cell_type": "code",
   "execution_count": 80,
   "id": "c9133e3f-b34e-49c6-bc2e-9c53f82a9c1b",
   "metadata": {},
   "outputs": [
    {
     "data": {
      "text/plain": [
       "array([   1.    ,    2.7183,    7.3891,   20.0855,   54.5982,  148.4132,\n",
       "        403.4288, 1096.6332, 2980.958 , 8103.0839])"
      ]
     },
     "execution_count": 80,
     "metadata": {},
     "output_type": "execute_result"
    }
   ],
   "source": [
    "np.exp(arr)"
   ]
  },
  {
   "cell_type": "markdown",
   "id": "b4ac58d8-c313-496c-8d51-ad29c9f2e7a9",
   "metadata": {},
   "source": [
    "On les appelle des ufunc unaires. D’autres, comme add ou maximum, prennent deux tableaux (donc, des ufunc binaires) et renvoient comme résultat un seul tableau :"
   ]
  },
  {
   "cell_type": "code",
   "execution_count": 81,
   "id": "692ca388-a1c7-4449-89d3-3be82ef142d8",
   "metadata": {},
   "outputs": [
    {
     "data": {
      "text/plain": [
       "array([-0.6769,  0.6117,  1.031 ,  0.9313, -0.8392, -0.3092,  0.3313,\n",
       "        0.9755])"
      ]
     },
     "execution_count": 81,
     "metadata": {},
     "output_type": "execute_result"
    }
   ],
   "source": [
    "x = np.random.randn(8)\n",
    "y = np.random.randn(8)\n",
    "x"
   ]
  },
  {
   "cell_type": "code",
   "execution_count": 82,
   "id": "a7fb23f1-3b06-4a3b-9d80-a44c01efbaf9",
   "metadata": {},
   "outputs": [
    {
     "data": {
      "text/plain": [
       "array([-0.4792, -0.1857, -1.1063, -1.1962,  0.8125,  1.3562, -0.072 ,\n",
       "        1.0035])"
      ]
     },
     "execution_count": 82,
     "metadata": {},
     "output_type": "execute_result"
    }
   ],
   "source": [
    "y"
   ]
  },
  {
   "cell_type": "code",
   "execution_count": 83,
   "id": "bdfe1d7f-a9fb-4afc-b7d6-0831a775c75f",
   "metadata": {},
   "outputs": [
    {
     "data": {
      "text/plain": [
       "array([-0.4792,  0.6117,  1.031 ,  0.9313,  0.8125,  1.3562,  0.3313,\n",
       "        1.0035])"
      ]
     },
     "execution_count": 83,
     "metadata": {},
     "output_type": "execute_result"
    }
   ],
   "source": [
    "np.maximum(x, y)"
   ]
  },
  {
   "cell_type": "markdown",
   "id": "d266e98d-29bb-4da5-91ae-442d9331995d",
   "metadata": {},
   "source": [
    "Ici, numpy.maximum a calculé le maximum, élément par élément, du contenu de x et de y."
   ]
  },
  {
   "attachments": {
    "dbb449f8-edf0-4fd2-9cef-327d846d189e.png": {
     "image/png": "[encoded data removed]"
    },
    "fa6ffd72-b71f-42b9-9bf9-fc160e1a66e3.png": {
     "image/png": "[encoded data removed]"
    }
   },
   "cell_type": "markdown",
   "id": "c7e279d0-73ba-4e58-96ae-1775cbf14659",
   "metadata": {},
   "source": [
    "![image.png](attachment:dbb449f8-edf0-4fd2-9cef-327d846d189e.png)  \n",
    "![image.png](attachment:fa6ffd72-b71f-42b9-9bf9-fc160e1a66e3.png)"
   ]
  },
  {
   "cell_type": "markdown",
   "id": "0132998d-f978-4e79-bd0d-2d2c1b511595",
   "metadata": {},
   "source": [
    "# Programmation orientée tableaux avec les tableaux NumPy \n",
    "L’utilisation des tableaux NumPy vous permet d’exprimer de nombreux types de tâches de traitement des données sous forme d’expressions de tableau concises qui, autrement, pourraient nécessiter l’écriture de boucles. Cette pratique consistant à remplacer les boucles explicites par des expressions de tableau est communément appelée vectorisation. En général, les opérations vectorisées sont souvent plus rapides d’un ou de deux ordres de grandeur (voire plus) que leurs équivalents Python purs, ce qui a l’impact le plus important dans n’importe quel type de calcul numérique.  \n",
    "\n",
    "À titre d’exemple simple, supposons que nous souhaitions évaluer la fonction $\\sqrt{x^2 + y^2}$ sur une grille de valeurs régulières. La fonction np.meshgrid prend deux tableaux 1D, et produit deux matrices 2D correspondant à toutes les paires (x, y) des deux tableaux source :"
   ]
  },
  {
   "cell_type": "code",
   "execution_count": 84,
   "id": "74c32f4a-8ca5-4056-86f2-9369d5cdb120",
   "metadata": {},
   "outputs": [
    {
     "data": {
      "text/plain": [
       "array([[-5.  , -5.  , -5.  , ..., -5.  , -5.  , -5.  ],\n",
       "       [-4.99, -4.99, -4.99, ..., -4.99, -4.99, -4.99],\n",
       "       [-4.98, -4.98, -4.98, ..., -4.98, -4.98, -4.98],\n",
       "       ...,\n",
       "       [ 4.97,  4.97,  4.97, ...,  4.97,  4.97,  4.97],\n",
       "       [ 4.98,  4.98,  4.98, ...,  4.98,  4.98,  4.98],\n",
       "       [ 4.99,  4.99,  4.99, ...,  4.99,  4.99,  4.99]])"
      ]
     },
     "execution_count": 84,
     "metadata": {},
     "output_type": "execute_result"
    }
   ],
   "source": [
    "points = np.arange(-5, 5, 0.01) # 1000 equally spaced points\n",
    "xs, ys = np.meshgrid(points, points)\n",
    "ys"
   ]
  },
  {
   "cell_type": "markdown",
   "id": "9519e4bf-a256-4ab5-bcd4-2dcdc2bb93e9",
   "metadata": {},
   "source": [
    "Maintenant, pour évaluer la fonction, il s’agit d’écrire la même expression que celle que vous formuleriez avec deux points :"
   ]
  },
  {
   "cell_type": "code",
   "execution_count": 85,
   "id": "8a9c5f3e-3141-4198-a32b-3d073c36c204",
   "metadata": {},
   "outputs": [
    {
     "data": {
      "text/plain": [
       "array([[7.0711, 7.064 , 7.0569, ..., 7.0499, 7.0569, 7.064 ],\n",
       "       [7.064 , 7.0569, 7.0499, ..., 7.0428, 7.0499, 7.0569],\n",
       "       [7.0569, 7.0499, 7.0428, ..., 7.0357, 7.0428, 7.0499],\n",
       "       ...,\n",
       "       [7.0499, 7.0428, 7.0357, ..., 7.0286, 7.0357, 7.0428],\n",
       "       [7.0569, 7.0499, 7.0428, ..., 7.0357, 7.0428, 7.0499],\n",
       "       [7.064 , 7.0569, 7.0499, ..., 7.0428, 7.0499, 7.0569]])"
      ]
     },
     "execution_count": 85,
     "metadata": {},
     "output_type": "execute_result"
    }
   ],
   "source": [
    "z = np.sqrt(xs ** 2 + ys ** 2)\n",
    "z"
   ]
  },
  {
   "cell_type": "markdown",
   "id": "9fa27292-aa8f-4b03-a477-de7637fc8c16",
   "metadata": {},
   "source": [
    "j’utilise matplotlib (que nous verrons par la suite) pour créer des visualisations de ce tableau à deux dimensions :"
   ]
  },
  {
   "cell_type": "code",
   "execution_count": 86,
   "id": "e6ba7482-ee98-4812-b348-7673d6860b68",
   "metadata": {},
   "outputs": [
    {
     "data": {
      "text/plain": [
       "Text(0.5, 1.0, 'Image plot of $\\\\sqrt{x^2 + y^2}$ for a grid of values')"
      ]
     },
     "execution_count": 86,
     "metadata": {},
     "output_type": "execute_result"
    },
    {
     "data": {
      "image/png": "[encoded data removed]",
      "text/plain": [
       "<Figure size 1000x600 with 2 Axes>"
      ]
     },
     "metadata": {},
     "output_type": "display_data"
    }
   ],
   "source": [
    "import matplotlib.pyplot as plt\n",
    "plt.imshow(z, cmap=plt.cm.gray); plt.colorbar()\n",
    "plt.title(\"Image plot of $\\sqrt{x^2 + y^2}$ for a grid of values\")"
   ]
  },
  {
   "cell_type": "markdown",
   "id": "83b34eac-2d79-41b6-a8b7-9891725155eb",
   "metadata": {},
   "source": [
    "Exprimer une logique conditionnelle sous forme d’opérations de tableau La fonction numpy.where est une version vectorisée de l’expression ternaire x if condition else y. Supposons que nous ayons un tableau booléen et deux tableaux de valeurs :"
   ]
  },
  {
   "cell_type": "code",
   "execution_count": 87,
   "id": "8ec32053-e50f-4d52-98e3-3ad1ce2a9d27",
   "metadata": {},
   "outputs": [],
   "source": [
    "xarr = np.array([1.1, 1.2, 1.3, 1.4, 1.5])\n",
    "yarr = np.array([2.1, 2.2, 2.3, 2.4, 2.5])\n",
    "cond = np.array([True, False, True, True, False])"
   ]
  },
  {
   "cell_type": "markdown",
   "id": "abe373b9-ac15-4836-9b6c-65ec31f4feeb",
   "metadata": {},
   "source": [
    "Supposons que nous voulions prendre une valeur de xarr lorsque la valeur correspondante dans cond est vraie, et sinon prendre la valeur de yarr. Nous pourrions alors avoir la compréhension de liste suivante :"
   ]
  },
  {
   "cell_type": "code",
   "execution_count": 88,
   "id": "f73596ca-d2c4-438a-a951-d8b61867bf79",
   "metadata": {},
   "outputs": [
    {
     "data": {
      "text/plain": [
       "[1.1, 2.2, 1.3, 1.4, 2.5]"
      ]
     },
     "execution_count": 88,
     "metadata": {},
     "output_type": "execute_result"
    }
   ],
   "source": [
    "result = [(x if c else y)\n",
    "          for x, y, c in zip(xarr, yarr, cond)]\n",
    "result"
   ]
  },
  {
   "cell_type": "markdown",
   "id": "c1a6324a-b925-4b7b-a774-c3d187ad7fc5",
   "metadata": {},
   "source": [
    "Cela pose de multiples problèmes. Premièrement, ce code ne sera pas très performant pour de grands tableaux (du fait que tout le travail est effectué avec du code Python interprété). Deuxièmement, il ne fonctionnera pas avec des tableaux multidimensionnels. Avec np.where, vous pouvez écrire cela de manière très concise :"
   ]
  },
  {
   "cell_type": "code",
   "execution_count": 89,
   "id": "92afad8c-bb07-49c4-b7f1-67c573b28805",
   "metadata": {},
   "outputs": [
    {
     "data": {
      "text/plain": [
       "array([1.1, 2.2, 1.3, 1.4, 2.5])"
      ]
     },
     "execution_count": 89,
     "metadata": {},
     "output_type": "execute_result"
    }
   ],
   "source": [
    "result = np.where(cond, xarr, yarr)\n",
    "result"
   ]
  },
  {
   "cell_type": "markdown",
   "id": "f374bded-c52a-425d-8e74-5e1216a22f7c",
   "metadata": {},
   "source": [
    "Les deuxième et troisième arguments de np.where ne sont pas nécessairement des tableaux : l’un ou les deux peuvent être des scalaires. Une utilisation typique de where dans l’analyse des données consiste à produire un nouveau tableau de valeurs basé sur un autre tableau. Supposons que vous ayez une matrice de données générées de manière aléatoire et que vous vouliez remplacer toutes les valeurs positives par 2 et toutes les valeurs négatives par –2. C’est très facile à réaliser avec np.where :"
   ]
  },
  {
   "cell_type": "code",
   "execution_count": 90,
   "id": "c8102387-b5fd-406b-8386-df2be97f4941",
   "metadata": {},
   "outputs": [
    {
     "data": {
      "text/plain": [
       "array([[ 0.3616, -0.6451,  0.3614,  1.538 ],\n",
       "       [-0.0358,  1.5646, -2.6197,  0.8219],\n",
       "       [ 0.087 , -0.299 ,  0.0918, -1.9876],\n",
       "       [-0.2197,  0.3571,  1.4779, -0.5183]])"
      ]
     },
     "execution_count": 90,
     "metadata": {},
     "output_type": "execute_result"
    }
   ],
   "source": [
    "arr = np.random.randn(4, 4)\n",
    "arr"
   ]
  },
  {
   "cell_type": "code",
   "execution_count": 91,
   "id": "0147a034-6825-4da1-9780-36aaeb642269",
   "metadata": {},
   "outputs": [
    {
     "data": {
      "text/plain": [
       "array([[ True, False,  True,  True],\n",
       "       [False,  True, False,  True],\n",
       "       [ True, False,  True, False],\n",
       "       [False,  True,  True, False]])"
      ]
     },
     "execution_count": 91,
     "metadata": {},
     "output_type": "execute_result"
    }
   ],
   "source": [
    "arr > 0"
   ]
  },
  {
   "cell_type": "code",
   "execution_count": 92,
   "id": "66bf59d9-d8b3-435b-b47a-55e336a7c9e7",
   "metadata": {},
   "outputs": [
    {
     "data": {
      "text/plain": [
       "array([[ 2, -2,  2,  2],\n",
       "       [-2,  2, -2,  2],\n",
       "       [ 2, -2,  2, -2],\n",
       "       [-2,  2,  2, -2]])"
      ]
     },
     "execution_count": 92,
     "metadata": {},
     "output_type": "execute_result"
    }
   ],
   "source": [
    "np.where(arr > 0, 2, -2)"
   ]
  },
  {
   "cell_type": "markdown",
   "id": "df7da7a6-6b9d-47c1-ad1f-664fec85938e",
   "metadata": {},
   "source": [
    "Vous pouvez combiner des scalaires et des tableaux en utilisant np.where. Par exemple, je peux remplacer toutes les valeurs positives dans arr par la constante 2, comme cela :"
   ]
  },
  {
   "cell_type": "code",
   "execution_count": 93,
   "id": "42ec4187-15bb-4175-8702-56b36b30a841",
   "metadata": {},
   "outputs": [
    {
     "data": {
      "text/plain": [
       "array([[ 2.    , -0.6451,  2.    ,  2.    ],\n",
       "       [-0.0358,  2.    , -2.6197,  2.    ],\n",
       "       [ 2.    , -0.299 ,  2.    , -1.9876],\n",
       "       [-0.2197,  2.    ,  2.    , -0.5183]])"
      ]
     },
     "execution_count": 93,
     "metadata": {},
     "output_type": "execute_result"
    }
   ],
   "source": [
    "np.where(arr > 0, 2, arr) # set only positive values to 2"
   ]
  },
  {
   "cell_type": "markdown",
   "id": "a5d553a0-c79a-45cd-af10-81a5f8f58759",
   "metadata": {},
   "source": [
    "## Méthodes mathématiques et statistiques \n",
    "Un ensemble de fonctions mathématiques qui calculent des statistiques sur un tableau entier ou sur les données le long d’un axe sont accessibles en tant que méthodes de la classe des tableaux. Vous pouvez utiliser des agrégations (souvent appelées réductions) comme la somme (sum), la moyenne (mean) et l’écart-type (std) soit en appelant la méthode de l’instance de tableau, soit en utilisant la fonction NumPy de haut niveau. Ici, je génère des données aléatoires avec une distribution normale, et je calcule des statistiques globales :"
   ]
  },
  {
   "cell_type": "code",
   "execution_count": 94,
   "id": "24ba5736-573f-438d-b260-52d31d992606",
   "metadata": {},
   "outputs": [
    {
     "data": {
      "text/plain": [
       "array([[-0.8085, -0.5018,  0.9154,  0.3288],\n",
       "       [-0.5298,  0.5133,  0.0971,  0.9686],\n",
       "       [-0.7021, -0.3277, -0.3921, -1.4635],\n",
       "       [ 0.2961,  0.2611,  0.0051, -0.2346],\n",
       "       [-1.4154, -0.4206, -0.3427, -0.8023]])"
      ]
     },
     "execution_count": 94,
     "metadata": {},
     "output_type": "execute_result"
    }
   ],
   "source": [
    "arr = np.random.randn(5, 4)\n",
    "arr"
   ]
  },
  {
   "cell_type": "code",
   "execution_count": 95,
   "id": "f408ad02-6010-4b53-aef0-6ed5efccdfb7",
   "metadata": {},
   "outputs": [
    {
     "data": {
      "text/plain": [
       "-0.2277755984840249"
      ]
     },
     "execution_count": 95,
     "metadata": {},
     "output_type": "execute_result"
    }
   ],
   "source": [
    "arr.mean()"
   ]
  },
  {
   "cell_type": "code",
   "execution_count": 96,
   "id": "f4e90130-6c67-42d7-aa6a-0a48e5203c6f",
   "metadata": {},
   "outputs": [
    {
     "data": {
      "text/plain": [
       "-0.2277755984840249"
      ]
     },
     "execution_count": 96,
     "metadata": {},
     "output_type": "execute_result"
    }
   ],
   "source": [
    "np.mean(arr)"
   ]
  },
  {
   "cell_type": "code",
   "execution_count": 97,
   "id": "22ea6d19-c8c6-4bbd-adce-8263023ec0c0",
   "metadata": {},
   "outputs": [
    {
     "data": {
      "text/plain": [
       "-4.555511969680498"
      ]
     },
     "execution_count": 97,
     "metadata": {},
     "output_type": "execute_result"
    }
   ],
   "source": [
    "arr.sum()"
   ]
  },
  {
   "cell_type": "markdown",
   "id": "563711c5-4f18-4349-8956-0dea01d76175",
   "metadata": {},
   "source": [
    "Les fonctions comme mean et sum prennent un argument axis optionnel qui calcule la statistique pour l’axe spécifié, ce qui donne un tableau avec une dimension de moins :"
   ]
  },
  {
   "cell_type": "code",
   "execution_count": 98,
   "id": "e91ebd09-ea94-4146-85da-5b5135d69a32",
   "metadata": {},
   "outputs": [
    {
     "data": {
      "text/plain": [
       "array([-0.0165,  0.2623, -0.7213,  0.0819, -0.7453])"
      ]
     },
     "execution_count": 98,
     "metadata": {},
     "output_type": "execute_result"
    }
   ],
   "source": [
    "arr.mean(axis=1)"
   ]
  },
  {
   "cell_type": "code",
   "execution_count": 99,
   "id": "5216aebf-7545-4578-b464-7ac062a59972",
   "metadata": {},
   "outputs": [
    {
     "data": {
      "text/plain": [
       "array([-3.1596, -0.4757,  0.2828, -1.203 ])"
      ]
     },
     "execution_count": 99,
     "metadata": {},
     "output_type": "execute_result"
    }
   ],
   "source": [
    "arr.sum(axis=0)"
   ]
  },
  {
   "cell_type": "markdown",
   "id": "31bedd72-dd40-4d68-8faf-a5c3573d62fc",
   "metadata": {},
   "source": [
    "Ici, arr.mean(1) signifie « calculer la moyenne entre les colonnes », et arr.sum(0) signifie « calculer la somme des lignes »."
   ]
  },
  {
   "cell_type": "markdown",
   "id": "627b9a2f-0829-4b2e-85c4-584a1657c72d",
   "metadata": {},
   "source": [
    "## Méthodes pour les tableaux booléens \n",
    "Les valeurs booléennes sont forcées à 1 (True, vrai) et 0 (False, faux) dans les méthodes précédentes. Ainsi, la somme est souvent employée comme moyen de compter les valeurs Vrai dans un tableau booléen :"
   ]
  },
  {
   "cell_type": "code",
   "execution_count": 100,
   "id": "c52c2674-4e14-4de1-b412-6f05f3cf62f7",
   "metadata": {},
   "outputs": [
    {
     "data": {
      "text/plain": [
       "58"
      ]
     },
     "execution_count": 100,
     "metadata": {},
     "output_type": "execute_result"
    }
   ],
   "source": [
    "arr = np.random.randn(100)\n",
    "(arr > 0).sum() # Number of positive values"
   ]
  },
  {
   "cell_type": "markdown",
   "id": "7da684b1-eb87-4c9e-a83a-f01a2ade6a4d",
   "metadata": {},
   "source": [
    "Il existe deux méthodes supplémentaires, any et all, qui sont utiles en particulier pour les tableaux booléens. any teste si une ou plusieurs valeurs d’un tableau sont vraies (True), tandis que all vérifie si toutes les valeurs le sont :"
   ]
  },
  {
   "cell_type": "code",
   "execution_count": 101,
   "id": "e25faaf4-b41a-4565-b456-0a9c26c06a36",
   "metadata": {},
   "outputs": [
    {
     "data": {
      "text/plain": [
       "True"
      ]
     },
     "execution_count": 101,
     "metadata": {},
     "output_type": "execute_result"
    }
   ],
   "source": [
    "bools = np.array([False, False, True, False])\n",
    "bools.any()"
   ]
  },
  {
   "cell_type": "code",
   "execution_count": 102,
   "id": "8b0de746-96ff-4068-a5d2-0d5761323176",
   "metadata": {},
   "outputs": [
    {
     "data": {
      "text/plain": [
       "False"
      ]
     },
     "execution_count": 102,
     "metadata": {},
     "output_type": "execute_result"
    }
   ],
   "source": [
    "bools.all()"
   ]
  },
  {
   "cell_type": "markdown",
   "id": "f30b1bd2-a37a-4257-9d1e-172a834e40b0",
   "metadata": {},
   "source": [
    "Ces méthodes fonctionnent également avec des tableaux non booléens, dans lesquels les éléments non nuls sont évalués à True."
   ]
  },
  {
   "cell_type": "markdown",
   "id": "d2366532-2949-4f73-8a5c-7d6380fcd64c",
   "metadata": {},
   "source": [
    "Tris Comme le type natif de Python list, les tableaux NumPy peuvent être triés en place avec la méthode sort :"
   ]
  },
  {
   "cell_type": "code",
   "execution_count": 103,
   "id": "74c63b4f-961c-4f2d-be0a-74b752abae82",
   "metadata": {},
   "outputs": [
    {
     "data": {
      "text/plain": [
       "array([-1.3777, -0.9378,  0.515 ,  0.5138,  0.515 ,  3.8527])"
      ]
     },
     "execution_count": 103,
     "metadata": {},
     "output_type": "execute_result"
    }
   ],
   "source": [
    "arr = np.random.randn(6)\n",
    "arr"
   ]
  },
  {
   "cell_type": "code",
   "execution_count": 104,
   "id": "7e243fff-e6ff-4716-9ea8-108473e5cadd",
   "metadata": {},
   "outputs": [
    {
     "data": {
      "text/plain": [
       "array([-1.3777, -0.9378,  0.5138,  0.515 ,  0.515 ,  3.8527])"
      ]
     },
     "execution_count": 104,
     "metadata": {},
     "output_type": "execute_result"
    }
   ],
   "source": [
    "arr.sort()\n",
    "arr"
   ]
  },
  {
   "cell_type": "markdown",
   "id": "1dbd0ea7-3fdb-433a-8df3-8b849d748a5c",
   "metadata": {},
   "source": [
    "Vous pouvez trier en place chaque section unidimensionnelle de valeurs dans un tableau multidimensionnel le long d’un axe en passant le numéro de l’axe à trier :"
   ]
  },
  {
   "cell_type": "code",
   "execution_count": 105,
   "id": "8e7d7f96-745d-4bb7-b4e9-17b11fa191ea",
   "metadata": {},
   "outputs": [
    {
     "data": {
      "text/plain": [
       "array([[ 0.5709,  1.1356,  0.954 ],\n",
       "       [ 0.6514, -0.3153,  0.759 ],\n",
       "       [-0.7728, -0.2368, -0.4854],\n",
       "       [ 0.0819,  2.3147, -1.8673],\n",
       "       [ 0.6863, -1.6127, -0.4719]])"
      ]
     },
     "execution_count": 105,
     "metadata": {},
     "output_type": "execute_result"
    }
   ],
   "source": [
    "arr = np.random.randn(5, 3)\n",
    "arr"
   ]
  },
  {
   "cell_type": "code",
   "execution_count": 106,
   "id": "5d437050-798b-4622-b488-d7e46b505a2a",
   "metadata": {},
   "outputs": [
    {
     "data": {
      "text/plain": [
       "array([[ 0.5709,  0.954 ,  1.1356],\n",
       "       [-0.3153,  0.6514,  0.759 ],\n",
       "       [-0.7728, -0.4854, -0.2368],\n",
       "       [-1.8673,  0.0819,  2.3147],\n",
       "       [-1.6127, -0.4719,  0.6863]])"
      ]
     },
     "execution_count": 106,
     "metadata": {},
     "output_type": "execute_result"
    }
   ],
   "source": [
    "arr.sort(1)\n",
    "arr"
   ]
  },
  {
   "cell_type": "markdown",
   "id": "6dfed7f7-1de6-4473-8eed-a746e84fc901",
   "metadata": {},
   "source": [
    "La méthode de haut niveau np.sort renvoie une copie triée d’un tableau au lieu de modifier le tableau en place. Une façon rapide et efficace de calculer les quantiles d’un tableau consiste à le trier et à sélectionner la valeur à un rang particulier :"
   ]
  },
  {
   "cell_type": "code",
   "execution_count": 107,
   "id": "70ae16e7-4987-4668-980a-97dbee343784",
   "metadata": {},
   "outputs": [
    {
     "data": {
      "text/plain": [
       "-1.556581898659751"
      ]
     },
     "execution_count": 107,
     "metadata": {},
     "output_type": "execute_result"
    }
   ],
   "source": [
    "large_arr = np.random.randn(1000)\n",
    "large_arr.sort()\n",
    "large_arr[int(0.05 * len(large_arr))] # 5% quantile"
   ]
  },
  {
   "cell_type": "markdown",
   "id": "f7dc1d57-c91f-4489-9a0b-a5615b02ab36",
   "metadata": {},
   "source": [
    "## Unique et autres logiques d’ensembles :  \n",
    "NumPy dispose d’opérations ensemblistes de base pour les tableaux unidimensionnels. Une opération couramment utilisée est np.unique, qui renvoie les valeurs uniques triées dans un tableau :"
   ]
  },
  {
   "cell_type": "code",
   "execution_count": 108,
   "id": "1f8d7747-2c13-489f-b705-82e0c1784d6a",
   "metadata": {},
   "outputs": [
    {
     "data": {
      "text/plain": [
       "array(['Bob', 'Joe', 'Will'], dtype='<U4')"
      ]
     },
     "execution_count": 108,
     "metadata": {},
     "output_type": "execute_result"
    }
   ],
   "source": [
    "names = np.array(['Bob', 'Joe', 'Will', 'Bob', 'Will', 'Joe', 'Joe'])\n",
    "np.unique(names)"
   ]
  },
  {
   "cell_type": "code",
   "execution_count": 109,
   "id": "913881c6-fcb7-44f5-bec4-7fc5cd20479a",
   "metadata": {},
   "outputs": [
    {
     "data": {
      "text/plain": [
       "array([1, 2, 3, 4])"
      ]
     },
     "execution_count": 109,
     "metadata": {},
     "output_type": "execute_result"
    }
   ],
   "source": [
    "ints = np.array([3, 3, 3, 2, 2, 1, 1, 4, 4])\n",
    "np.unique(ints)"
   ]
  },
  {
   "cell_type": "markdown",
   "id": "798073b5-d8ef-4730-9112-5d4e866e4198",
   "metadata": {},
   "source": [
    "Une autre fonction, np.in1d, teste l’appartenance des valeurs d’un tableau à un autre, en retournant un tableau booléen :"
   ]
  },
  {
   "cell_type": "code",
   "execution_count": 110,
   "id": "679f42bf-a544-4a2b-b498-a8cdee542b43",
   "metadata": {},
   "outputs": [
    {
     "data": {
      "text/plain": [
       "array([ True, False, False,  True,  True, False,  True])"
      ]
     },
     "execution_count": 110,
     "metadata": {},
     "output_type": "execute_result"
    }
   ],
   "source": [
    "values = np.array([6, 0, 0, 3, 2, 5, 6])\n",
    "np.in1d(values, [2, 3, 6])"
   ]
  },
  {
   "cell_type": "markdown",
   "id": "e6c8f407-c666-4d03-9b95-8cb6def22332",
   "metadata": {},
   "source": [
    "## Algèbre linéaire :\n",
    "L’algèbre linéaire, comme la multiplication matricielle, les décompositions, les déterminants et autres calculs mathématiques sur les matrices carrées, est une partie importante de toute librairie dédiée aux tableaux. Contrairement à certains langages comme MATLAB, la multiplication de deux tableaux bidimensionnels avec * est un produit par élément au lieu d’un produit matriciel scalaire (dot) :"
   ]
  },
  {
   "cell_type": "code",
   "execution_count": 111,
   "id": "df40c2e7-0d7b-45f3-b8da-7040a4953de5",
   "metadata": {},
   "outputs": [
    {
     "data": {
      "text/plain": [
       "array([[1., 2., 3.],\n",
       "       [4., 5., 6.]])"
      ]
     },
     "execution_count": 111,
     "metadata": {},
     "output_type": "execute_result"
    }
   ],
   "source": [
    "x = np.array([[1., 2., 3.], [4., 5., 6.]])\n",
    "y = np.array([[6., 23.], [-1, 7], [8, 9]])\n",
    "x"
   ]
  },
  {
   "cell_type": "code",
   "execution_count": 112,
   "id": "00086ca9-16e4-4309-928b-da4f290fa724",
   "metadata": {},
   "outputs": [
    {
     "data": {
      "text/plain": [
       "array([[ 6., 23.],\n",
       "       [-1.,  7.],\n",
       "       [ 8.,  9.]])"
      ]
     },
     "execution_count": 112,
     "metadata": {},
     "output_type": "execute_result"
    }
   ],
   "source": [
    "y"
   ]
  },
  {
   "cell_type": "code",
   "execution_count": 113,
   "id": "6c443a00-fa1e-456f-9619-7c17ac202694",
   "metadata": {},
   "outputs": [
    {
     "data": {
      "text/plain": [
       "array([[ 28.,  64.],\n",
       "       [ 67., 181.]])"
      ]
     },
     "execution_count": 113,
     "metadata": {},
     "output_type": "execute_result"
    }
   ],
   "source": [
    "x.dot(y)"
   ]
  },
  {
   "cell_type": "markdown",
   "id": "55ce6394-8c3e-432c-98fd-f335173827bf",
   "metadata": {},
   "source": [
    "x.dot(y) est équivalent à np.dot(x, y) :"
   ]
  },
  {
   "cell_type": "code",
   "execution_count": 114,
   "id": "87507cb6-d423-495d-becf-dd01776b6028",
   "metadata": {},
   "outputs": [
    {
     "data": {
      "text/plain": [
       "array([[ 28.,  64.],\n",
       "       [ 67., 181.]])"
      ]
     },
     "execution_count": 114,
     "metadata": {},
     "output_type": "execute_result"
    }
   ],
   "source": [
    "np.dot(x, y)"
   ]
  },
  {
   "cell_type": "markdown",
   "id": "51073cec-92b6-43b3-a4bb-5e1d0060f582",
   "metadata": {},
   "source": [
    "Un produit matriciel entre un tableau bidimensionnel et un tableau unidimensionnel de taille appropriée donne un tableau unidimensionnel :"
   ]
  },
  {
   "cell_type": "code",
   "execution_count": 115,
   "id": "41b5fe02-4c62-4da5-8432-4f8860be1760",
   "metadata": {},
   "outputs": [
    {
     "data": {
      "text/plain": [
       "array([ 6., 15.])"
      ]
     },
     "execution_count": 115,
     "metadata": {},
     "output_type": "execute_result"
    }
   ],
   "source": [
    "np.dot(x, np.ones(3))"
   ]
  },
  {
   "cell_type": "markdown",
   "id": "d5692152-d86a-47c9-8b1d-7de18c60eb41",
   "metadata": {},
   "source": [
    "Le symbole @ (à partir de Python 3.5) fonctionne également comme un opérateur infixe qui effectue une multiplication matricielle :"
   ]
  },
  {
   "cell_type": "code",
   "execution_count": 116,
   "id": "0105e100-68c4-4390-b3ae-a852305766ab",
   "metadata": {},
   "outputs": [
    {
     "data": {
      "text/plain": [
       "array([ 6., 15.])"
      ]
     },
     "execution_count": 116,
     "metadata": {},
     "output_type": "execute_result"
    }
   ],
   "source": [
    "x @ np.ones(3)"
   ]
  },
  {
   "cell_type": "markdown",
   "id": "fd651644-cee6-4c31-9ba8-bd734d7d61af",
   "metadata": {},
   "source": [
    "numpy.linalg dispose d'un ensemble complet de décompositions de matrices et de fonctions telles que l'inverse et le déterminant :"
   ]
  },
  {
   "cell_type": "code",
   "execution_count": 117,
   "id": "9686fe92-c789-4c29-b3f3-159957b75f20",
   "metadata": {},
   "outputs": [
    {
     "data": {
      "text/plain": [
       "array([[ 1.0433, -0.9322, -0.8134, -0.1926, -0.079 ],\n",
       "       [-0.9322,  1.4466,  1.2103,  0.3831, -0.1954],\n",
       "       [-0.8134,  1.2103,  1.8221,  0.3459, -0.1822],\n",
       "       [-0.1926,  0.3831,  0.3459,  0.2223, -0.0913],\n",
       "       [-0.079 , -0.1954, -0.1822, -0.0913,  0.2149]])"
      ]
     },
     "execution_count": 117,
     "metadata": {},
     "output_type": "execute_result"
    }
   ],
   "source": [
    "from numpy.linalg import inv, qr\n",
    "X = np.random.randn(5, 5)\n",
    "mat = X.T @ X\n",
    "inv(mat)"
   ]
  },
  {
   "cell_type": "code",
   "execution_count": 118,
   "id": "3375aab9-920f-4b16-a5da-cc88bf9e0109",
   "metadata": {},
   "outputs": [
    {
     "data": {
      "text/plain": [
       "array([[ 1.,  0.,  0.,  0.,  0.],\n",
       "       [ 0.,  1., -0., -0.,  0.],\n",
       "       [-0.,  0.,  1.,  0., -0.],\n",
       "       [ 0.,  0.,  0.,  1., -0.],\n",
       "       [ 0.,  0., -0., -0.,  1.]])"
      ]
     },
     "execution_count": 118,
     "metadata": {},
     "output_type": "execute_result"
    }
   ],
   "source": [
    "mat @ inv(mat)"
   ]
  },
  {
   "attachments": {
    "5c1d9aba-69c6-47bd-bdd0-d3c225286682.png": {
     "image/png": "[encoded data removed]"
    }
   },
   "cell_type": "markdown",
   "id": "ec330f86-2930-44c2-8402-9396e74c5211",
   "metadata": {},
   "source": [
    "![image.png](attachment:5c1d9aba-69c6-47bd-bdd0-d3c225286682.png)"
   ]
  },
  {
   "cell_type": "markdown",
   "id": "8fd32a53-d1fa-4aac-9ff5-59c095a8da42",
   "metadata": {},
   "source": [
    "## Génération de nombres pseudo-aléatoires : \n",
    "\n",
    "Le module numpy.random complète le module natif de Python random avec des fonctions permettant de générer efficacement des tableaux entiers de valeurs d’échantillons à partir de nombreux types de distributions de probabilités. Par exemple, vous pouvez obtenir un tableau 4 × 4 d’échantillons à partir d’une distribution (ou loi) normale standard en utilisant la fonction normal :"
   ]
  },
  {
   "cell_type": "code",
   "execution_count": 119,
   "id": "12d43c0f-bb33-4fb4-af22-ddbb1555420e",
   "metadata": {},
   "outputs": [
    {
     "data": {
      "text/plain": [
       "array([[ 0.3309,  0.8335, -1.9937,  0.3741],\n",
       "       [ 1.2277, -1.2096,  1.6726,  0.419 ],\n",
       "       [-0.705 , -0.0558,  0.5583,  0.076 ],\n",
       "       [ 0.5388, -0.9207,  0.1694, -1.4137]])"
      ]
     },
     "execution_count": 119,
     "metadata": {},
     "output_type": "execute_result"
    }
   ],
   "source": [
    "samples = np.random.normal(size=(4, 4))\n",
    "samples"
   ]
  },
  {
   "cell_type": "markdown",
   "id": "d39b74e7-b97a-43cc-8a0d-d7511f2e531d",
   "metadata": {},
   "source": [
    "Le module aléatoire natif de Python, en revanche, n’échantillonne qu’une seule valeur à la fois. Comme vous pouvez le constater, numpy.random est bien plus rapide d’un ordre de grandeur pour générer de très grands échantillons :"
   ]
  },
  {
   "cell_type": "code",
   "execution_count": 120,
   "id": "1c6e4dda-3b1c-484a-bf22-2325db6d0b06",
   "metadata": {},
   "outputs": [
    {
     "name": "stdout",
     "output_type": "stream",
     "text": [
      "1.14 s ± 101 ms per loop (mean ± std. dev. of 7 runs, 1 loop each)\n",
      "34.4 ms ± 1.67 ms per loop (mean ± std. dev. of 7 runs, 10 loops each)\n"
     ]
    }
   ],
   "source": [
    "from random import normalvariate\n",
    "N = 1000000\n",
    "%timeit samples = [normalvariate(0, 1) for _ in range(N)]\n",
    "%timeit np.random.normal(size=N)"
   ]
  },
  {
   "cell_type": "markdown",
   "id": "30de86ab-53c9-488a-be0c-66789e43957d",
   "metadata": {},
   "source": [
    "Nous disons que ce sont des nombres pseudo-aléatoires parce qu’ils sont générés par un algorithme au comportement déterministe, basé sur la graine (seed) du générateur de nombres aléatoires. Vous pouvez modifier cette graine dans NumPy en utilisant np.random.seed :"
   ]
  },
  {
   "cell_type": "code",
   "execution_count": 121,
   "id": "6579bc00-76af-47bd-98b0-16b62a5fb604",
   "metadata": {},
   "outputs": [],
   "source": [
    "np.random.seed(1234)"
   ]
  },
  {
   "cell_type": "markdown",
   "id": "cc3ea595-518e-44ec-99c7-70b5e9915312",
   "metadata": {},
   "source": [
    "Les fonctions de génération de données dans numpy.random utilisent une graine aléatoire globale. Pour éviter cet état global, vous pouvez créer un générateur de nombres aléatoires isolé des autres avec numpy.random.RandomState :"
   ]
  },
  {
   "cell_type": "code",
   "execution_count": 122,
   "id": "8cbd3729-e69e-4f64-893a-7f910dceef4c",
   "metadata": {},
   "outputs": [
    {
     "data": {
      "text/plain": [
       "array([ 0.4714, -1.191 ,  1.4327, -0.3127, -0.7206,  0.8872,  0.8596,\n",
       "       -0.6365,  0.0157, -2.2427])"
      ]
     },
     "execution_count": 122,
     "metadata": {},
     "output_type": "execute_result"
    }
   ],
   "source": [
    "rng = np.random.RandomState(1234)\n",
    "rng.randn(10)"
   ]
  },
  {
   "cell_type": "markdown",
   "id": "6498d685-fa32-4a69-a92e-09193d81457b",
   "metadata": {},
   "source": [
    "Liste partielle des fonctions de numpy.random."
   ]
  },
  {
   "attachments": {
    "c4b80bbd-d4f0-459b-bc66-9bf6afa7f87f.png": {
     "image/png": "[encoded data removed]"
    }
   },
   "cell_type": "markdown",
   "id": "cab9709e-2f21-4104-966a-2dcf7c6250b1",
   "metadata": {},
   "source": [
    "![image.png](attachment:c4b80bbd-d4f0-459b-bc66-9bf6afa7f87f.png)"
   ]
  }
 ],
 "metadata": {
  "kernelspec": {
   "display_name": "Python 3 (ipykernel)",
   "language": "python",
   "name": "python3"
  },
  "language_info": {
   "codemirror_mode": {
    "name": "ipython",
    "version": 3
   },
   "file_extension": ".py",
   "mimetype": "text/x-python",
   "name": "python",
   "nbconvert_exporter": "python",
   "pygments_lexer": "ipython3",
   "version": "3.10.9"
  }
 },
 "nbformat": 4,
 "nbformat_minor": 5
}
