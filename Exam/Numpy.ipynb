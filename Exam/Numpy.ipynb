{
  "cells": [
    {
      "cell_type": "code",
      "execution_count": null,
      "id": "e3478591-7849-4330-ac7e-12f3cb880335",
      "metadata": {
        "id": "e3478591-7849-4330-ac7e-12f3cb880335"
      },
      "outputs": [],
      "source": [
        "import numpy as np\n",
        "np.random.seed(42)\n",
        "import matplotlib.pyplot as plt\n",
        "plt.rc('figure', figsize=(10, 6))\n",
        "np.set_printoptions(precision=4, suppress=True)"
      ]
    },
    {
      "cell_type": "markdown",
      "id": "c6c0f765-9954-478b-b764-5bf140ae6dc0",
      "metadata": {
        "id": "c6c0f765-9954-478b-b764-5bf140ae6dc0"
      },
      "source": [
        "# Numpy:"
      ]
    },
    {
      "cell_type": "markdown",
      "id": "75100aad-97ff-43e5-a519-53461a436740",
      "metadata": {
        "id": "75100aad-97ff-43e5-a519-53461a436740"
      },
      "source": [
        "NumPy, qui est l’abréviation de Numerical Python, est l’un des plus importants packages fondamentaux pour le calcul numérique en Python. La plupart des programmes de calcul offrant des fonctionnalités scientifiques utilisent les tableaux de NumPy comme lingua franca pour l’échange de données.\n",
        "\n",
        "Voici quelques-uns des éléments que vous trouverez dans NumPy :\n",
        "- ndarray, un tableau multidimensionnel efficace, fournissant des opérations arithmétiques rapides orientées tableaux ainsi que des capacités de diffusion souples.\n",
        "- Fonctions mathématiques pour des opérations rapides sur des tableaux de données entiers sans avoir à écrire des boucles.\n",
        "- Outils de lecture/écriture de données de tableaux sur disque, et outils de travail avec des fichiers mappés en mémoire.\n",
        "- Algèbre linéaire, génération de nombres aléatoires et capacités de transformation de Fourier.\n",
        "- API C pour connecter NumPy avec des librairies écrites en C, C++ ou Fortran.\n",
        "\n",
        "NumPy est si important pour les calculs numériques en Python car il est conçu pour être efficace sur de grands jeux de données. Il y a plusieurs raisons à cela :\n",
        "- NumPy stocke en interne les données dans un bloc de mémoire contigu, indépendant des autres objets Python natifs. La librairie d’algorithmes de NumPy écrite en langage C peut fonctionner sur cette mémoire sans aucune vérification de type ou autre surcharge. Les tableaux NumPy utilisent également beaucoup moins de mémoire que les séquences natives de Python.\n",
        "- Les opérations NumPy effectuent des calculs complexes sur des tableaux entiers sans avoir besoin des boucles for de Python. Pour vous donner une idée de la différence de performance, considérez un tableau NumPy d’un million d’entiers, et la liste Python équivalente\n"
      ]
    },
    {
      "cell_type": "code",
      "execution_count": null,
      "id": "13c6757b-017b-4090-9800-8f8aecd0f558",
      "metadata": {
        "id": "13c6757b-017b-4090-9800-8f8aecd0f558"
      },
      "outputs": [],
      "source": [
        "import numpy as np\n",
        "\n",
        "my_arr = np.arange(1_000_000)\n",
        "my_list = list(range(1_000_000))"
      ]
    },
    {
      "cell_type": "markdown",
      "id": "ab9211d8-9bcb-48fb-a49e-6156eee40cbe",
      "metadata": {
        "id": "ab9211d8-9bcb-48fb-a49e-6156eee40cbe"
      },
      "source": [
        "Multiplions maintenant chaque séquence par 2 :"
      ]
    },
    {
      "cell_type": "code",
      "execution_count": null,
      "id": "9df3ee07-f469-434a-ae42-f1e4fd19fe6e",
      "metadata": {
        "id": "9df3ee07-f469-434a-ae42-f1e4fd19fe6e",
        "outputId": "e4ec936f-7b48-46c5-c0cb-7b1436130e55",
        "colab": {
          "base_uri": "https://localhost:8080/"
        }
      },
      "outputs": [
        {
          "output_type": "stream",
          "name": "stdout",
          "text": [
            "4.42 ms ± 1.55 ms per loop (mean ± std. dev. of 7 runs, 100 loops each)\n",
            "166 ms ± 26.5 ms per loop (mean ± std. dev. of 7 runs, 1 loop each)\n"
          ]
        }
      ],
      "source": [
        "%timeit my_arr2 = my_arr * 2\n",
        "%timeit my_list2 = [x * 2 for x in my_list]"
      ]
    },
    {
      "cell_type": "markdown",
      "id": "4c5e1141-ebcb-45da-aa8f-792632c956ee",
      "metadata": {
        "id": "4c5e1141-ebcb-45da-aa8f-792632c956ee"
      },
      "source": [
        "Les algorithmes basés sur NumPy sont généralement 10 à 100 fois plus rapides (ou plus) que leurs homologues en Python pur et utilisent beaucoup moins de mémoire."
      ]
    },
    {
      "cell_type": "markdown",
      "id": "73c70ec3-fc74-4d52-9127-54ddfcfc360e",
      "metadata": {
        "id": "73c70ec3-fc74-4d52-9127-54ddfcfc360e"
      },
      "source": [
        "## NumPy et ndarray : un objet multidimensionnel"
      ]
    },
    {
      "cell_type": "markdown",
      "id": "372f3a2f-30fd-41b3-951d-dec93a5616d0",
      "metadata": {
        "id": "372f3a2f-30fd-41b3-951d-dec93a5616d0"
      },
      "source": [
        "L’une des caractéristiques clés de NumPy est son objet tableau à N dimensions, ou ndarray, qui est un conteneur rapide et polyvalent pour les grands jeux de données en Python. Les tableaux vous permettent d’effectuer des opérations mathématiques sur des blocs entiers de données en utilisant une syntaxe similaire à celle des opérations équivalentes entre éléments scalaires. Pour vous donner une idée de la façon dont NumPy permet des calculs par lots avec une syntaxe similaire aux valeurs scalaires des objets standard de Python, j’importe d’abord NumPy et je génère un petit tableau de données aléatoires :"
      ]
    },
    {
      "cell_type": "code",
      "execution_count": null,
      "id": "b6eb2a17-d98e-4156-9328-8140d7bf8580",
      "metadata": {
        "id": "b6eb2a17-d98e-4156-9328-8140d7bf8580",
        "outputId": "eb0486e3-f59d-431b-f090-efad842e5607",
        "colab": {
          "base_uri": "https://localhost:8080/"
        }
      },
      "outputs": [
        {
          "output_type": "execute_result",
          "data": {
            "text/plain": [
              "array([[ 0.4967, -0.1383,  0.6477],\n",
              "       [ 1.523 , -0.2342, -0.2341]])"
            ]
          },
          "metadata": {},
          "execution_count": 4
        }
      ],
      "source": [
        "import numpy as np\n",
        "# Generate some random data\n",
        "data = np.random.randn(2, 3)\n",
        "data"
      ]
    },
    {
      "cell_type": "markdown",
      "id": "d361a81a-35c0-4c91-b92a-4fe25213a311",
      "metadata": {
        "id": "d361a81a-35c0-4c91-b92a-4fe25213a311"
      },
      "source": [
        "J’applique ensuite des opérations mathématiques sur ces données :"
      ]
    },
    {
      "cell_type": "code",
      "execution_count": null,
      "id": "7ea629b5-1989-407f-a71b-e6220b14907b",
      "metadata": {
        "id": "7ea629b5-1989-407f-a71b-e6220b14907b",
        "outputId": "7b2712c1-acb5-4a30-bdf1-900bc58fa312",
        "colab": {
          "base_uri": "https://localhost:8080/"
        }
      },
      "outputs": [
        {
          "output_type": "execute_result",
          "data": {
            "text/plain": [
              "array([[ 4.9671, -1.3826,  6.4769],\n",
              "       [15.2303, -2.3415, -2.3414]])"
            ]
          },
          "metadata": {},
          "execution_count": 5
        }
      ],
      "source": [
        "data * 10"
      ]
    },
    {
      "cell_type": "code",
      "execution_count": null,
      "id": "37dc5f74-43a7-4046-ba15-8cb133c0ccf0",
      "metadata": {
        "id": "37dc5f74-43a7-4046-ba15-8cb133c0ccf0",
        "outputId": "c0fdd8b7-c9ce-4200-fbc0-e21ed8c248a9",
        "colab": {
          "base_uri": "https://localhost:8080/"
        }
      },
      "outputs": [
        {
          "output_type": "execute_result",
          "data": {
            "text/plain": [
              "array([[ 0.9934, -0.2765,  1.2954],\n",
              "       [ 3.0461, -0.4683, -0.4683]])"
            ]
          },
          "metadata": {},
          "execution_count": 6
        }
      ],
      "source": [
        "data + data"
      ]
    },
    {
      "cell_type": "markdown",
      "id": "c616362e-adc3-4d72-a69c-be6599cdc5f0",
      "metadata": {
        "id": "c616362e-adc3-4d72-a69c-be6599cdc5f0"
      },
      "source": [
        "Dans le premier exemple, tous les éléments ont été multipliés par 10. Dans le second, les valeurs correspondantes de chaque « cellule » du tableau ont été ajoutées les unes aux autres."
      ]
    },
    {
      "cell_type": "markdown",
      "id": "d974e6b0-502c-48b6-9889-58323355d924",
      "metadata": {
        "id": "d974e6b0-502c-48b6-9889-58323355d924"
      },
      "source": [
        "Un ndarray est un conteneur multidimensionnel générique pour des données homogènes, c’est-à-dire que tous les éléments doivent être du même type. Chaque tableau a une forme (shape), un tuple indiquant la taille de chaque dimension, et un dtype, un objet décrivant le type de données du tableau :"
      ]
    },
    {
      "cell_type": "code",
      "execution_count": null,
      "id": "584b6bff-3aaa-405b-a997-09cdc71d7acd",
      "metadata": {
        "id": "584b6bff-3aaa-405b-a997-09cdc71d7acd",
        "outputId": "9a2d7c7e-240f-436a-d95f-8b4be2b08eb3",
        "colab": {
          "base_uri": "https://localhost:8080/"
        }
      },
      "outputs": [
        {
          "output_type": "execute_result",
          "data": {
            "text/plain": [
              "(2, 3)"
            ]
          },
          "metadata": {},
          "execution_count": 7
        }
      ],
      "source": [
        "data.shape"
      ]
    },
    {
      "cell_type": "code",
      "execution_count": null,
      "id": "2119dd22-0471-478a-8538-c346a57c398d",
      "metadata": {
        "id": "2119dd22-0471-478a-8538-c346a57c398d",
        "outputId": "0d207972-b93e-4c1d-cf09-14c3125c13d8",
        "colab": {
          "base_uri": "https://localhost:8080/"
        }
      },
      "outputs": [
        {
          "output_type": "execute_result",
          "data": {
            "text/plain": [
              "dtype('float64')"
            ]
          },
          "metadata": {},
          "execution_count": 8
        }
      ],
      "source": [
        "data.dtype"
      ]
    },
    {
      "cell_type": "markdown",
      "id": "af251b00-9908-40cf-af0e-93f2ff7fea4a",
      "metadata": {
        "id": "af251b00-9908-40cf-af0e-93f2ff7fea4a"
      },
      "source": [
        "## Créer des ndarray\n",
        "La façon la plus simple de créer un tableau est d’utiliser la fonction array. Celle-ci accepte tout objet de type séquence (y compris les autres tableaux) et produit un nouveau tableau NumPy contenant les données qui lui sont passées. Par exemple, une liste est un bon candidat pour une telle conversion :"
      ]
    },
    {
      "cell_type": "code",
      "execution_count": null,
      "id": "4623a428-97b7-476c-9503-0d901c367e51",
      "metadata": {
        "id": "4623a428-97b7-476c-9503-0d901c367e51",
        "outputId": "4dd192a3-6a9d-4829-80ed-a67eac10c5d7",
        "colab": {
          "base_uri": "https://localhost:8080/"
        }
      },
      "outputs": [
        {
          "output_type": "execute_result",
          "data": {
            "text/plain": [
              "array([6. , 7.5, 8. , 0. , 1. ])"
            ]
          },
          "metadata": {},
          "execution_count": 9
        }
      ],
      "source": [
        "data1 = [6, 7.5, 8, 0, 1]\n",
        "arr1 = np.array(data1)\n",
        "arr1"
      ]
    },
    {
      "cell_type": "markdown",
      "id": "a73ea624-6ae4-4213-bb1b-f43ddd6bec93",
      "metadata": {
        "id": "a73ea624-6ae4-4213-bb1b-f43ddd6bec93"
      },
      "source": [
        "Les séquences imbriquées, comme une liste de listes de même longueur, seront converties en un tableau multidimensionnel :"
      ]
    },
    {
      "cell_type": "code",
      "execution_count": null,
      "id": "e778ce4a-fde7-416f-a027-a57e4411d0b6",
      "metadata": {
        "id": "e778ce4a-fde7-416f-a027-a57e4411d0b6",
        "outputId": "df2b7162-c027-4e48-cede-1f9932076cdb",
        "colab": {
          "base_uri": "https://localhost:8080/"
        }
      },
      "outputs": [
        {
          "output_type": "execute_result",
          "data": {
            "text/plain": [
              "array([[1, 2, 3, 4],\n",
              "       [5, 6, 7, 8]])"
            ]
          },
          "metadata": {},
          "execution_count": 10
        }
      ],
      "source": [
        "data2 = [[1, 2, 3, 4], [5, 6, 7, 8]]\n",
        "arr2 = np.array(data2)\n",
        "arr2"
      ]
    },
    {
      "cell_type": "markdown",
      "id": "cddc30a3-596d-4a83-b2df-09b1acd252e9",
      "metadata": {
        "id": "cddc30a3-596d-4a83-b2df-09b1acd252e9"
      },
      "source": [
        "Comme data2 était une liste de listes, le tableau NumPy arr2 a deux dimensions dont la forme est déduite des données. Nous pouvons le confirmer en examinant les attributs ndim et shape :"
      ]
    },
    {
      "cell_type": "code",
      "execution_count": null,
      "id": "f2c0e56b-f725-46cf-b512-7658b2e247c6",
      "metadata": {
        "id": "f2c0e56b-f725-46cf-b512-7658b2e247c6",
        "outputId": "5e4fa7f6-666a-4005-9eff-319d42d68208",
        "colab": {
          "base_uri": "https://localhost:8080/"
        }
      },
      "outputs": [
        {
          "output_type": "execute_result",
          "data": {
            "text/plain": [
              "2"
            ]
          },
          "metadata": {},
          "execution_count": 11
        }
      ],
      "source": [
        "arr2.ndim"
      ]
    },
    {
      "cell_type": "code",
      "execution_count": null,
      "id": "c11e23de-234d-44e7-b5a1-70ad09b3ca1b",
      "metadata": {
        "id": "c11e23de-234d-44e7-b5a1-70ad09b3ca1b",
        "outputId": "fc054398-d83f-4468-f184-84a88b79a70b",
        "colab": {
          "base_uri": "https://localhost:8080/"
        }
      },
      "outputs": [
        {
          "output_type": "execute_result",
          "data": {
            "text/plain": [
              "(2, 4)"
            ]
          },
          "metadata": {},
          "execution_count": 12
        }
      ],
      "source": [
        "arr2.shape"
      ]
    },
    {
      "cell_type": "markdown",
      "id": "7f37d882-5c35-42b8-bf0b-138cccc4c5cd",
      "metadata": {
        "id": "7f37d882-5c35-42b8-bf0b-138cccc4c5cd"
      },
      "source": [
        "Sauf indication contraire, np.array essaie de déduire un bon type de données pour le tableau qu’il crée. Le type de données est stocké dans un objet de métadonnées spécial, dtype. Ainsi, dans les deux exemples précédents, nous avons :"
      ]
    },
    {
      "cell_type": "code",
      "execution_count": null,
      "id": "131ce903-e9e3-49e3-8eb7-c9315f055404",
      "metadata": {
        "id": "131ce903-e9e3-49e3-8eb7-c9315f055404",
        "outputId": "5794f63f-d475-4194-e5fe-cb10df6297ac",
        "colab": {
          "base_uri": "https://localhost:8080/"
        }
      },
      "outputs": [
        {
          "output_type": "execute_result",
          "data": {
            "text/plain": [
              "dtype('float64')"
            ]
          },
          "metadata": {},
          "execution_count": 13
        }
      ],
      "source": [
        "arr1.dtype"
      ]
    },
    {
      "cell_type": "code",
      "execution_count": null,
      "id": "b2315b25-10a2-4c32-b14f-d0555bdce836",
      "metadata": {
        "id": "b2315b25-10a2-4c32-b14f-d0555bdce836",
        "outputId": "88baea15-4808-4806-b0d8-ee02869f31bb",
        "colab": {
          "base_uri": "https://localhost:8080/"
        }
      },
      "outputs": [
        {
          "output_type": "execute_result",
          "data": {
            "text/plain": [
              "dtype('int64')"
            ]
          },
          "metadata": {},
          "execution_count": 14
        }
      ],
      "source": [
        "arr2.dtype"
      ]
    },
    {
      "cell_type": "markdown",
      "id": "7904429c-47fc-47a4-b5d6-ada8d4187afe",
      "metadata": {
        "id": "7904429c-47fc-47a4-b5d6-ada8d4187afe"
      },
      "source": [
        "En plus de np.array, il existe un certain nombre d’autres fonctions permettant de créer de nouveaux tableaux. Par exemple, zeros et ones créent des tableaux de 0 ou de 1, respectivement, avec une longueur ou une forme donnée. empty crée un tableau sans initialiser ses valeurs à une valeur particulière. Pour créer un tableau de dimensions supérieures avec ces méthodes, il faut passer un tuple pour spécifier la forme :"
      ]
    },
    {
      "cell_type": "code",
      "execution_count": null,
      "id": "daffb281-df64-4689-9c7d-d08682eed6c7",
      "metadata": {
        "id": "daffb281-df64-4689-9c7d-d08682eed6c7",
        "outputId": "751527b9-a776-47fb-9565-1654679a332d",
        "colab": {
          "base_uri": "https://localhost:8080/"
        }
      },
      "outputs": [
        {
          "output_type": "execute_result",
          "data": {
            "text/plain": [
              "array([0., 0., 0., 0., 0., 0., 0., 0., 0., 0.])"
            ]
          },
          "metadata": {},
          "execution_count": 15
        }
      ],
      "source": [
        "np.zeros(10)"
      ]
    },
    {
      "cell_type": "code",
      "execution_count": null,
      "id": "e0424492-71d1-4bcd-b45e-658ae91b3e92",
      "metadata": {
        "id": "e0424492-71d1-4bcd-b45e-658ae91b3e92",
        "outputId": "2eaae511-cccb-4cff-b9ea-5c6afdf84726",
        "colab": {
          "base_uri": "https://localhost:8080/"
        }
      },
      "outputs": [
        {
          "output_type": "execute_result",
          "data": {
            "text/plain": [
              "array([[0., 0., 0., 0., 0., 0.],\n",
              "       [0., 0., 0., 0., 0., 0.],\n",
              "       [0., 0., 0., 0., 0., 0.]])"
            ]
          },
          "metadata": {},
          "execution_count": 16
        }
      ],
      "source": [
        "np.zeros((3, 6))"
      ]
    },
    {
      "cell_type": "code",
      "execution_count": null,
      "id": "5e88b82c-28a5-48b5-b6d3-c8345f95536f",
      "metadata": {
        "id": "5e88b82c-28a5-48b5-b6d3-c8345f95536f",
        "outputId": "e7072790-8ffc-4fc4-c279-90babb8079d2",
        "colab": {
          "base_uri": "https://localhost:8080/"
        }
      },
      "outputs": [
        {
          "output_type": "execute_result",
          "data": {
            "text/plain": [
              "array([[[0., 0.],\n",
              "        [0., 0.],\n",
              "        [0., 0.]],\n",
              "\n",
              "       [[0., 0.],\n",
              "        [0., 0.],\n",
              "        [0., 0.]]])"
            ]
          },
          "metadata": {},
          "execution_count": 17
        }
      ],
      "source": [
        "np.empty((2, 3, 2))"
      ]
    },
    {
      "cell_type": "markdown",
      "id": "f77c0cbb-f738-49c5-bd17-a205348cd4c3",
      "metadata": {
        "id": "f77c0cbb-f738-49c5-bd17-a205348cd4c3"
      },
      "source": [
        "*Remarque*:  \n",
        "Il n’est pas sûr de supposer que np.empty retournera un tableau rempli de zéros. Dans certains cas, il peut renvoyer des valeurs non initialisées, des genres de « déchets »."
      ]
    },
    {
      "cell_type": "markdown",
      "id": "1c37a009-6637-4d1f-b9c4-c80d8d36707d",
      "metadata": {
        "id": "1c37a009-6637-4d1f-b9c4-c80d8d36707d"
      },
      "source": [
        "arange est une version ndarray de la fonction native range de Python :"
      ]
    },
    {
      "cell_type": "code",
      "execution_count": null,
      "id": "7910915b-0778-49e0-a545-d780817fe16f",
      "metadata": {
        "id": "7910915b-0778-49e0-a545-d780817fe16f",
        "outputId": "3250a597-56c1-41d5-8551-fb7d5cbd9790",
        "colab": {
          "base_uri": "https://localhost:8080/"
        }
      },
      "outputs": [
        {
          "output_type": "execute_result",
          "data": {
            "text/plain": [
              "array([ 0,  1,  2,  3,  4,  5,  6,  7,  8,  9, 10, 11, 12, 13, 14])"
            ]
          },
          "metadata": {},
          "execution_count": 18
        }
      ],
      "source": [
        "np.arange(15)"
      ]
    },
    {
      "cell_type": "markdown",
      "id": "37ef6921-5b96-4f3f-94dd-f9595b456266",
      "metadata": {
        "tags": [],
        "id": "37ef6921-5b96-4f3f-94dd-f9595b456266"
      },
      "source": [
        "## Types de données pour les ndarray\n",
        "Le type de données, ou dtype, est un objet spécial contenant les informations (ou métadonnées, c’est-à-dire des données sur les données) dont le ndarray a besoin pour interpréter un élément de mémoire comme étant d’un type de données particulier :"
      ]
    },
    {
      "cell_type": "code",
      "execution_count": null,
      "id": "72e12eed-09be-4986-bad6-cb2e65ef7068",
      "metadata": {
        "id": "72e12eed-09be-4986-bad6-cb2e65ef7068",
        "outputId": "397dbbfb-9384-4086-e33e-a2b82de19110",
        "colab": {
          "base_uri": "https://localhost:8080/"
        }
      },
      "outputs": [
        {
          "output_type": "execute_result",
          "data": {
            "text/plain": [
              "dtype('float64')"
            ]
          },
          "metadata": {},
          "execution_count": 19
        }
      ],
      "source": [
        "arr1 = np.array([1, 2, 3], dtype=np.float64)\n",
        "arr2 = np.array([1, 2, 3], dtype=np.int32)\n",
        "arr1.dtype"
      ]
    },
    {
      "cell_type": "code",
      "execution_count": null,
      "id": "6222c8d4-8b55-45f6-b0da-e539b27b7982",
      "metadata": {
        "id": "6222c8d4-8b55-45f6-b0da-e539b27b7982",
        "outputId": "f5da3282-7114-4313-d17b-2018eecc8153",
        "colab": {
          "base_uri": "https://localhost:8080/"
        }
      },
      "outputs": [
        {
          "output_type": "execute_result",
          "data": {
            "text/plain": [
              "dtype('int32')"
            ]
          },
          "metadata": {},
          "execution_count": 20
        }
      ],
      "source": [
        "arr2.dtype"
      ]
    },
    {
      "cell_type": "markdown",
      "id": "2a4ff40b-2851-46d8-b697-ee6e8ee66d59",
      "metadata": {
        "id": "2a4ff40b-2851-46d8-b697-ee6e8ee66d59"
      },
      "source": [
        "Vous pouvez explicitement convertir ou diffuser un tableau d’un dtype vers un autre en utilisant la méthode astype des ndarray :"
      ]
    },
    {
      "cell_type": "code",
      "execution_count": null,
      "id": "e73d967d-fe7d-4ef3-961b-190da4f87648",
      "metadata": {
        "id": "e73d967d-fe7d-4ef3-961b-190da4f87648",
        "outputId": "8b023aaa-0809-4b0d-dd25-098b96d5044a",
        "colab": {
          "base_uri": "https://localhost:8080/"
        }
      },
      "outputs": [
        {
          "output_type": "execute_result",
          "data": {
            "text/plain": [
              "dtype('int64')"
            ]
          },
          "metadata": {},
          "execution_count": 21
        }
      ],
      "source": [
        "arr = np.array([1, 2, 3, 4, 5])\n",
        "arr.dtype"
      ]
    },
    {
      "cell_type": "code",
      "execution_count": null,
      "id": "4cbb9e55-7784-4189-843a-b929081230a1",
      "metadata": {
        "id": "4cbb9e55-7784-4189-843a-b929081230a1",
        "outputId": "a2ef7fb3-9d75-4e0d-b532-f7bc421d43d3",
        "colab": {
          "base_uri": "https://localhost:8080/"
        }
      },
      "outputs": [
        {
          "output_type": "execute_result",
          "data": {
            "text/plain": [
              "dtype('float64')"
            ]
          },
          "metadata": {},
          "execution_count": 22
        }
      ],
      "source": [
        "float_arr = arr.astype(np.float64)\n",
        "float_arr.dtype"
      ]
    },
    {
      "cell_type": "markdown",
      "id": "3ec2eb4e-7222-43b9-9442-1b8592040d24",
      "metadata": {
        "id": "3ec2eb4e-7222-43b9-9442-1b8592040d24"
      },
      "source": [
        "Dans cet exemple, les nombres entiers ont été diffusés en virgule flottante. Si je diffuse des nombres en virgule flottante pour qu’ils deviennent de type entier, la partie décimale sera tronquée :"
      ]
    },
    {
      "cell_type": "code",
      "execution_count": null,
      "id": "f83207cb-cd43-4355-a76a-502e90870743",
      "metadata": {
        "id": "f83207cb-cd43-4355-a76a-502e90870743",
        "outputId": "7d563625-e71c-4ef4-8296-41940fa90e58",
        "colab": {
          "base_uri": "https://localhost:8080/"
        }
      },
      "outputs": [
        {
          "output_type": "execute_result",
          "data": {
            "text/plain": [
              "array([ 3.7, -1.2, -2.6,  0.5, 12.9, 10.1])"
            ]
          },
          "metadata": {},
          "execution_count": 23
        }
      ],
      "source": [
        "arr = np.array([3.7, -1.2, -2.6, 0.5, 12.9, 10.1])\n",
        "arr"
      ]
    },
    {
      "cell_type": "code",
      "execution_count": null,
      "id": "ab115614-6692-4a8b-95d0-b7a3f1845df0",
      "metadata": {
        "id": "ab115614-6692-4a8b-95d0-b7a3f1845df0",
        "outputId": "abd282b7-7a02-47f0-c443-ef5f1f40f47e",
        "colab": {
          "base_uri": "https://localhost:8080/"
        }
      },
      "outputs": [
        {
          "output_type": "execute_result",
          "data": {
            "text/plain": [
              "array([ 3, -1, -2,  0, 12, 10], dtype=int32)"
            ]
          },
          "metadata": {},
          "execution_count": 24
        }
      ],
      "source": [
        "arr.astype(np.int32)"
      ]
    },
    {
      "cell_type": "markdown",
      "id": "9cdb80c8-757d-455e-8292-b30388b49684",
      "metadata": {
        "id": "9cdb80c8-757d-455e-8292-b30388b49684"
      },
      "source": [
        "Si vous disposez d’un tableau de chaînes de caractères représentant des nombres, vous pouvez utiliser astype pour les convertir en un format numérique :"
      ]
    },
    {
      "cell_type": "code",
      "execution_count": null,
      "id": "7cc374e1-4481-4fc6-911c-b4d9d90c8250",
      "metadata": {
        "id": "7cc374e1-4481-4fc6-911c-b4d9d90c8250",
        "outputId": "c630128b-0749-4509-ee3b-71dd55414d7b",
        "colab": {
          "base_uri": "https://localhost:8080/"
        }
      },
      "outputs": [
        {
          "output_type": "execute_result",
          "data": {
            "text/plain": [
              "array([ 1.25, -9.6 , 42.  ])"
            ]
          },
          "metadata": {},
          "execution_count": 25
        }
      ],
      "source": [
        "numeric_strings = np.array(['1.25', '-9.6', '42'], dtype=np.string_)\n",
        "numeric_strings.astype(float)"
      ]
    },
    {
      "cell_type": "markdown",
      "id": "d27b9dac-70d9-4088-b3ab-cca6cdd8fae5",
      "metadata": {
        "id": "d27b9dac-70d9-4088-b3ab-cca6cdd8fae5"
      },
      "source": [
        "## Arithmétique avec des tableaux NumPy\n",
        "Les tableaux sont importants car ils vous permettent d’exprimer des opérations par lots sur des données sans avoir à écrire de boucles de répétition for. Les utilisateurs de NumPy appellent cela la vectorisation. Toute opération arithmétique entre des tableaux de taille égale applique cette opération élément par élément :"
      ]
    },
    {
      "cell_type": "code",
      "execution_count": null,
      "id": "650bd6a0-6085-4d68-b3dd-c35dea7af332",
      "metadata": {
        "id": "650bd6a0-6085-4d68-b3dd-c35dea7af332",
        "outputId": "96fc21fe-03d2-4bff-8530-a304250eef3f",
        "colab": {
          "base_uri": "https://localhost:8080/"
        }
      },
      "outputs": [
        {
          "output_type": "execute_result",
          "data": {
            "text/plain": [
              "array([[1., 2., 3.],\n",
              "       [4., 5., 6.]])"
            ]
          },
          "metadata": {},
          "execution_count": 26
        }
      ],
      "source": [
        "arr = np.array([[1., 2., 3.], [4., 5., 6.]])\n",
        "arr"
      ]
    },
    {
      "cell_type": "code",
      "execution_count": null,
      "id": "b2ba48b2-5284-4af5-b974-71ab95e681b7",
      "metadata": {
        "id": "b2ba48b2-5284-4af5-b974-71ab95e681b7",
        "outputId": "1d5d3d3b-112a-4d01-82f3-65bdd0e1b1b5",
        "colab": {
          "base_uri": "https://localhost:8080/"
        }
      },
      "outputs": [
        {
          "output_type": "execute_result",
          "data": {
            "text/plain": [
              "array([[ 1.,  4.,  9.],\n",
              "       [16., 25., 36.]])"
            ]
          },
          "metadata": {},
          "execution_count": 27
        }
      ],
      "source": [
        "arr * arr"
      ]
    },
    {
      "cell_type": "code",
      "execution_count": null,
      "id": "19a9905f-3912-4406-a103-adc655423d15",
      "metadata": {
        "id": "19a9905f-3912-4406-a103-adc655423d15",
        "outputId": "ad0f3687-cb10-4b1d-e245-80e64e4b985e",
        "colab": {
          "base_uri": "https://localhost:8080/"
        }
      },
      "outputs": [
        {
          "output_type": "execute_result",
          "data": {
            "text/plain": [
              "array([[0., 0., 0.],\n",
              "       [0., 0., 0.]])"
            ]
          },
          "metadata": {},
          "execution_count": 28
        }
      ],
      "source": [
        "arr - arr"
      ]
    },
    {
      "cell_type": "markdown",
      "id": "7e18eebe-6ec9-4788-9083-9cb66f24caf9",
      "metadata": {
        "id": "7e18eebe-6ec9-4788-9083-9cb66f24caf9"
      },
      "source": [
        "Les opérations arithmétiques avec des scalaires propagent l’argument scalaire à chaque élément du tableau :"
      ]
    },
    {
      "cell_type": "code",
      "execution_count": null,
      "id": "08369238-0dce-4144-b2d4-b5ac7b9fe2ec",
      "metadata": {
        "id": "08369238-0dce-4144-b2d4-b5ac7b9fe2ec",
        "outputId": "ddaab856-f942-4b26-d82d-60a35068d622",
        "colab": {
          "base_uri": "https://localhost:8080/"
        }
      },
      "outputs": [
        {
          "output_type": "execute_result",
          "data": {
            "text/plain": [
              "array([[1.    , 0.5   , 0.3333],\n",
              "       [0.25  , 0.2   , 0.1667]])"
            ]
          },
          "metadata": {},
          "execution_count": 29
        }
      ],
      "source": [
        "1 / arr"
      ]
    },
    {
      "cell_type": "code",
      "execution_count": null,
      "id": "53b3df09-4d33-4c7d-b401-21632aa97728",
      "metadata": {
        "id": "53b3df09-4d33-4c7d-b401-21632aa97728",
        "outputId": "86632a20-9b81-4d0b-c9ce-2755efaec719",
        "colab": {
          "base_uri": "https://localhost:8080/"
        }
      },
      "outputs": [
        {
          "output_type": "execute_result",
          "data": {
            "text/plain": [
              "array([[1.    , 1.4142, 1.7321],\n",
              "       [2.    , 2.2361, 2.4495]])"
            ]
          },
          "metadata": {},
          "execution_count": 30
        }
      ],
      "source": [
        "arr ** 0.5"
      ]
    },
    {
      "cell_type": "markdown",
      "id": "e0be4fcd-b7ef-45c8-afdd-be2aad349c6c",
      "metadata": {
        "id": "e0be4fcd-b7ef-45c8-afdd-be2aad349c6c"
      },
      "source": [
        "Les comparaisons entre des tableaux de même taille donnent des tableaux booléens :"
      ]
    },
    {
      "cell_type": "code",
      "execution_count": null,
      "id": "a2c0cff0-dbf7-4cfc-a3d7-ee6d0b62cf81",
      "metadata": {
        "id": "a2c0cff0-dbf7-4cfc-a3d7-ee6d0b62cf81",
        "outputId": "55932591-8daf-4c8c-dc13-c478d90ec7a0",
        "colab": {
          "base_uri": "https://localhost:8080/"
        }
      },
      "outputs": [
        {
          "output_type": "execute_result",
          "data": {
            "text/plain": [
              "array([[ 0.,  4.,  1.],\n",
              "       [ 7.,  2., 12.]])"
            ]
          },
          "metadata": {},
          "execution_count": 31
        }
      ],
      "source": [
        "arr2 = np.array([[0., 4., 1.], [7., 2., 12.]])\n",
        "arr2"
      ]
    },
    {
      "cell_type": "code",
      "execution_count": null,
      "id": "eddc336c-c4a6-4cca-8a24-33aab46d11c2",
      "metadata": {
        "id": "eddc336c-c4a6-4cca-8a24-33aab46d11c2",
        "outputId": "58694362-df84-4a42-d222-900b1a99afd7",
        "colab": {
          "base_uri": "https://localhost:8080/"
        }
      },
      "outputs": [
        {
          "output_type": "execute_result",
          "data": {
            "text/plain": [
              "array([[False,  True, False],\n",
              "       [ True, False,  True]])"
            ]
          },
          "metadata": {},
          "execution_count": 32
        }
      ],
      "source": [
        "arr2 > arr"
      ]
    },
    {
      "cell_type": "markdown",
      "id": "b8f5368f-c8c0-4d32-a732-3cd40335a427",
      "metadata": {
        "id": "b8f5368f-c8c0-4d32-a732-3cd40335a427"
      },
      "source": [
        "### Indexation et tranchage élémentaires\n",
        "L’indexation des tableaux NumPy est un sujet riche, car il existe de nombreuses façons de sélectionner un sous-ensemble de vos données ou des éléments individuels selon vos besoins. Le cas des tableaux à une dimension est simple. En surface, ils agissent de manière similaire aux listes Python :"
      ]
    },
    {
      "cell_type": "code",
      "execution_count": null,
      "id": "71880e3b-5557-4daa-b4d7-db6e56918671",
      "metadata": {
        "id": "71880e3b-5557-4daa-b4d7-db6e56918671",
        "outputId": "8eb7ba6c-2b71-4f7d-b7c5-89133ad180fa",
        "colab": {
          "base_uri": "https://localhost:8080/"
        }
      },
      "outputs": [
        {
          "output_type": "execute_result",
          "data": {
            "text/plain": [
              "array([0, 1, 2, 3, 4, 5, 6, 7, 8, 9])"
            ]
          },
          "metadata": {},
          "execution_count": 33
        }
      ],
      "source": [
        "arr = np.arange(10)\n",
        "arr"
      ]
    },
    {
      "cell_type": "code",
      "execution_count": null,
      "id": "41b9948e-9f42-450f-aec0-8fca57ac16e6",
      "metadata": {
        "id": "41b9948e-9f42-450f-aec0-8fca57ac16e6",
        "outputId": "e32fbdd9-d099-4ea8-e83f-157cc7793e9b",
        "colab": {
          "base_uri": "https://localhost:8080/"
        }
      },
      "outputs": [
        {
          "output_type": "execute_result",
          "data": {
            "text/plain": [
              "5"
            ]
          },
          "metadata": {},
          "execution_count": 34
        }
      ],
      "source": [
        "arr[5]"
      ]
    },
    {
      "cell_type": "code",
      "execution_count": null,
      "id": "11163359-a70b-4ad2-8791-d8a7fab90ca3",
      "metadata": {
        "id": "11163359-a70b-4ad2-8791-d8a7fab90ca3",
        "outputId": "eccf5ab3-74b9-461e-fef1-812b29189d7b",
        "colab": {
          "base_uri": "https://localhost:8080/"
        }
      },
      "outputs": [
        {
          "output_type": "execute_result",
          "data": {
            "text/plain": [
              "array([5, 6, 7])"
            ]
          },
          "metadata": {},
          "execution_count": 35
        }
      ],
      "source": [
        "arr[5:8]"
      ]
    },
    {
      "cell_type": "code",
      "execution_count": null,
      "id": "ce92a676-da20-47df-9336-afdcd9b426ec",
      "metadata": {
        "id": "ce92a676-da20-47df-9336-afdcd9b426ec",
        "outputId": "6b4bd14f-f029-4698-f3fa-5f579d781a5f",
        "colab": {
          "base_uri": "https://localhost:8080/"
        }
      },
      "outputs": [
        {
          "output_type": "execute_result",
          "data": {
            "text/plain": [
              "array([ 0,  1,  2,  3,  4, 12, 12, 12,  8,  9])"
            ]
          },
          "metadata": {},
          "execution_count": 36
        }
      ],
      "source": [
        "arr[5:8] = 12\n",
        "arr"
      ]
    },
    {
      "cell_type": "markdown",
      "id": "3136798e-d413-4870-9fe8-f4ec9f546827",
      "metadata": {
        "id": "3136798e-d413-4870-9fe8-f4ec9f546827"
      },
      "source": [
        "Comme vous pouvez le voir, si vous attribuez une valeur scalaire à une tranche, comme dans arr [5 : 8] = 12, cette valeur est propagée (donc diffusée) à la sélection tout entière. Une première distinction importante par rapport aux listes natives de Python est que les tranches de tableaux sont des vues sur le tableau original. Cela signifie que les données ne sont pas copiées, et que toute modification apportée à la vue sera répercutée dans le tableau source. Pour donner un exemple, je crée d’abord une tranche (slice) du tableau arr :"
      ]
    },
    {
      "cell_type": "code",
      "execution_count": null,
      "id": "bc83898e-06ad-49e8-9805-7f64d5d28c7e",
      "metadata": {
        "id": "bc83898e-06ad-49e8-9805-7f64d5d28c7e",
        "outputId": "e9da84f9-62b3-4978-996e-e5287be32394",
        "colab": {
          "base_uri": "https://localhost:8080/"
        }
      },
      "outputs": [
        {
          "output_type": "execute_result",
          "data": {
            "text/plain": [
              "array([12, 12, 12])"
            ]
          },
          "metadata": {},
          "execution_count": 37
        }
      ],
      "source": [
        "arr_slice = arr[5:8]\n",
        "arr_slice"
      ]
    },
    {
      "cell_type": "markdown",
      "id": "05e0bc6d-e2be-4b11-ab5e-83896ae2c71b",
      "metadata": {
        "id": "05e0bc6d-e2be-4b11-ab5e-83896ae2c71b"
      },
      "source": [
        "Maintenant, lorsque je change des valeurs dans arr_slice, ces transformations sont reflétées dans le tableau original arr :"
      ]
    },
    {
      "cell_type": "code",
      "execution_count": null,
      "id": "300373d4-77d3-423d-9e51-983764ab512a",
      "metadata": {
        "id": "300373d4-77d3-423d-9e51-983764ab512a",
        "outputId": "d32d8628-bba1-40e5-e2c3-51e06e3167fb",
        "colab": {
          "base_uri": "https://localhost:8080/"
        }
      },
      "outputs": [
        {
          "output_type": "execute_result",
          "data": {
            "text/plain": [
              "array([    0,     1,     2,     3,     4,    12, 12345,    12,     8,\n",
              "           9])"
            ]
          },
          "metadata": {},
          "execution_count": 38
        }
      ],
      "source": [
        "arr_slice[1] = 12345\n",
        "arr"
      ]
    },
    {
      "cell_type": "markdown",
      "id": "707c9364-e4da-4934-b26d-ae6be694e1f5",
      "metadata": {
        "id": "707c9364-e4da-4934-b26d-ae6be694e1f5"
      },
      "source": [
        "La tranche « vide » [ : ] affectera toutes les valeurs d’un tableau :"
      ]
    },
    {
      "cell_type": "code",
      "execution_count": null,
      "id": "e591ad08-6b24-4318-b951-e187e0e32b00",
      "metadata": {
        "id": "e591ad08-6b24-4318-b951-e187e0e32b00",
        "outputId": "7619b84e-a7d4-4b6b-8259-7a2dab0f2ad6",
        "colab": {
          "base_uri": "https://localhost:8080/"
        }
      },
      "outputs": [
        {
          "output_type": "execute_result",
          "data": {
            "text/plain": [
              "array([ 0,  1,  2,  3,  4, 64, 64, 64,  8,  9])"
            ]
          },
          "metadata": {},
          "execution_count": 39
        }
      ],
      "source": [
        "arr_slice[:] = 64\n",
        "arr"
      ]
    },
    {
      "cell_type": "markdown",
      "id": "032e9076-46be-4f5b-816e-fe9c8870585a",
      "metadata": {
        "id": "032e9076-46be-4f5b-816e-fe9c8870585a"
      },
      "source": [
        "Si vous n’êtes pas encore familiarisé avec NumPy, vous pourriez être surpris par ce comportement, surtout si vous travaillez avec d’autres langages de programmation de tableaux qui copient directement les données. Comme NumPy a été conçu pour pouvoir fonctionner avec de très grands tableaux, il n’est pas difficile d’imaginer les problèmes de performances et de mémoire qui pourraient se poser si NumPy insistait pour toujours copier des données.  \n",
        "Si vous voulez une copie d’une tranche d’un tableau au lieu d’une vue, vous devrez le spécifier explicitement, par exemple via l’instruction arr[5:8].copy().  \n"
      ]
    },
    {
      "cell_type": "markdown",
      "id": "e3ba6f49-c8cb-4b2f-9665-af4337644f15",
      "metadata": {
        "id": "e3ba6f49-c8cb-4b2f-9665-af4337644f15"
      },
      "source": [
        "Avec des tableaux possédant davantage de dimensions, vous avez beaucoup plus d’options. Dans un tableau bidimensionnel, les éléments pour chaque indice ne sont plus des scalaires, mais plutôt des tableaux unidimensionnels :  "
      ]
    },
    {
      "cell_type": "code",
      "execution_count": null,
      "id": "9bc48bd8-9b10-42f5-af0f-df1eeb83b1dd",
      "metadata": {
        "id": "9bc48bd8-9b10-42f5-af0f-df1eeb83b1dd",
        "outputId": "061585d5-8b5c-4ca0-afd0-cb6f7ce2ce5a",
        "colab": {
          "base_uri": "https://localhost:8080/"
        }
      },
      "outputs": [
        {
          "output_type": "execute_result",
          "data": {
            "text/plain": [
              "array([7, 8, 9])"
            ]
          },
          "metadata": {},
          "execution_count": 43
        }
      ],
      "source": [
        "arr2d = np.array([[1, 2, 3], [4, 5, 6], [7, 8, 9]])\n",
        "arr2d[2]"
      ]
    },
    {
      "cell_type": "markdown",
      "id": "35b084e3-f97e-48be-9548-a0e9c54780ae",
      "metadata": {
        "id": "35b084e3-f97e-48be-9548-a0e9c54780ae"
      },
      "source": [
        "Il est ainsi possible d’accéder aux éléments individuels de manière récursive. Mais cela demande un peu trop de travail. C’est pourquoi vous pouvez passer une liste d’indices séparés par des virgules pour sélectionner des éléments individuels. Ces instructions sont donc équivalentes :"
      ]
    },
    {
      "cell_type": "code",
      "execution_count": null,
      "id": "08df3cec-7999-4ad8-a451-6f420cae7380",
      "metadata": {
        "id": "08df3cec-7999-4ad8-a451-6f420cae7380",
        "outputId": "078a5c25-a090-49d9-e633-f2ee9d1ce3a6",
        "colab": {
          "base_uri": "https://localhost:8080/"
        }
      },
      "outputs": [
        {
          "output_type": "execute_result",
          "data": {
            "text/plain": [
              "3"
            ]
          },
          "metadata": {},
          "execution_count": 44
        }
      ],
      "source": [
        "arr2d[0][2]"
      ]
    },
    {
      "cell_type": "code",
      "execution_count": null,
      "id": "1312da0b-a2ed-4761-9f82-749735432595",
      "metadata": {
        "id": "1312da0b-a2ed-4761-9f82-749735432595",
        "outputId": "f5080990-e954-4400-87d4-1192c0cb2de9",
        "colab": {
          "base_uri": "https://localhost:8080/"
        }
      },
      "outputs": [
        {
          "output_type": "execute_result",
          "data": {
            "text/plain": [
              "3"
            ]
          },
          "metadata": {},
          "execution_count": 45
        }
      ],
      "source": [
        "arr2d[0, 2]"
      ]
    },
    {
      "cell_type": "markdown",
      "id": "8d4b86d9-e9da-4593-a30b-51c76796e17d",
      "metadata": {
        "id": "8d4b86d9-e9da-4593-a30b-51c76796e17d"
      },
      "source": [
        "Cette Figure illustre le mode d’indexation sur un tableau bidimensionnel. Je trouve utile de considérer l’axe 0 comme représentant les « lignes » du tableau, et l’axe 1 comme représentant ses « colonnes ».\n",
        "![image.png](data:image/png;base64,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)"
      ]
    },
    {
      "cell_type": "markdown",
      "id": "76b35bd0-788c-45a2-8ef5-53432254245b",
      "metadata": {
        "id": "76b35bd0-788c-45a2-8ef5-53432254245b"
      },
      "source": [
        "Dans les tableaux multidimensionnels, si vous omettez les indices du haut, l’objet renvoyé sera un ndarray de dimension inférieure comprenant toutes les données des dimensions supérieures. Ainsi, dans le tableau 2 × 2 × 3 arr3d :"
      ]
    },
    {
      "cell_type": "code",
      "execution_count": null,
      "id": "f6d93ead-0668-44ae-8a2c-349388bab685",
      "metadata": {
        "id": "f6d93ead-0668-44ae-8a2c-349388bab685",
        "outputId": "91801d74-ce29-4d6a-bfe8-45ff43afae2d",
        "colab": {
          "base_uri": "https://localhost:8080/"
        }
      },
      "outputs": [
        {
          "output_type": "execute_result",
          "data": {
            "text/plain": [
              "array([[[ 1,  2,  3],\n",
              "        [ 4,  5,  6]],\n",
              "\n",
              "       [[ 7,  8,  9],\n",
              "        [10, 11, 12]]])"
            ]
          },
          "metadata": {},
          "execution_count": 46
        }
      ],
      "source": [
        "arr3d = np.array([[[1, 2, 3], [4, 5, 6]], [[7, 8, 9], [10, 11, 12]]])\n",
        "arr3d"
      ]
    },
    {
      "cell_type": "markdown",
      "id": "5c827c0d-ce40-4d9d-89f2-a12de0e49184",
      "metadata": {
        "id": "5c827c0d-ce40-4d9d-89f2-a12de0e49184"
      },
      "source": [
        "arr3d[0] est un tableau de dimensions 2 × 3 :"
      ]
    },
    {
      "cell_type": "code",
      "execution_count": null,
      "id": "31eadf22-a5e1-49f3-be75-2130897e0df9",
      "metadata": {
        "id": "31eadf22-a5e1-49f3-be75-2130897e0df9",
        "outputId": "67ed9d88-938a-4f70-8a1b-0dfe0fb090ec",
        "colab": {
          "base_uri": "https://localhost:8080/"
        }
      },
      "outputs": [
        {
          "output_type": "execute_result",
          "data": {
            "text/plain": [
              "array([[1, 2, 3],\n",
              "       [4, 5, 6]])"
            ]
          },
          "metadata": {},
          "execution_count": 47
        }
      ],
      "source": [
        "arr3d[0]"
      ]
    },
    {
      "cell_type": "markdown",
      "id": "8bc03af3-6857-495e-8995-29e7b61dcab7",
      "metadata": {
        "id": "8bc03af3-6857-495e-8995-29e7b61dcab7"
      },
      "source": [
        "Des valeurs scalaires comme des tableaux peuvent être affectées à arr3d[0] :"
      ]
    },
    {
      "cell_type": "code",
      "execution_count": null,
      "id": "38732907-b214-4910-9776-1ac2e77c61dd",
      "metadata": {
        "id": "38732907-b214-4910-9776-1ac2e77c61dd",
        "outputId": "7fb22529-1325-4e66-90cc-b517bad1e3b6",
        "colab": {
          "base_uri": "https://localhost:8080/"
        }
      },
      "outputs": [
        {
          "output_type": "execute_result",
          "data": {
            "text/plain": [
              "array([[[42, 42, 42],\n",
              "        [42, 42, 42]],\n",
              "\n",
              "       [[ 7,  8,  9],\n",
              "        [10, 11, 12]]])"
            ]
          },
          "metadata": {},
          "execution_count": 48
        }
      ],
      "source": [
        "old_values = arr3d[0].copy()\n",
        "arr3d[0] = 42\n",
        "arr3d"
      ]
    },
    {
      "cell_type": "code",
      "execution_count": null,
      "id": "f30868c5-d69b-42b0-9bef-4c274c871b79",
      "metadata": {
        "id": "f30868c5-d69b-42b0-9bef-4c274c871b79",
        "outputId": "089cb315-10da-42aa-b15e-d00fb77f8357",
        "colab": {
          "base_uri": "https://localhost:8080/"
        }
      },
      "outputs": [
        {
          "output_type": "execute_result",
          "data": {
            "text/plain": [
              "array([[[ 1,  2,  3],\n",
              "        [ 4,  5,  6]],\n",
              "\n",
              "       [[ 7,  8,  9],\n",
              "        [10, 11, 12]]])"
            ]
          },
          "metadata": {},
          "execution_count": 49
        }
      ],
      "source": [
        "arr3d[0] = old_values\n",
        "arr3d"
      ]
    },
    {
      "cell_type": "markdown",
      "id": "c4759bb6-d235-4d5e-b12a-83f3355261a4",
      "metadata": {
        "id": "c4759bb6-d235-4d5e-b12a-83f3355261a4"
      },
      "source": [
        "De même, arr3d[1, 0] vous fournit toutes les valeurs dont les indices commencent par (1, 0), produisant ainsi un tableau à une dimension :\n"
      ]
    },
    {
      "cell_type": "code",
      "execution_count": null,
      "id": "ba0a37c9-ad3e-4916-9040-2a43a2dd6592",
      "metadata": {
        "id": "ba0a37c9-ad3e-4916-9040-2a43a2dd6592",
        "outputId": "202cb7e2-9af6-4a57-8e19-1a9bd0d9e96f",
        "colab": {
          "base_uri": "https://localhost:8080/"
        }
      },
      "outputs": [
        {
          "output_type": "execute_result",
          "data": {
            "text/plain": [
              "array([7, 8, 9])"
            ]
          },
          "metadata": {},
          "execution_count": 50
        }
      ],
      "source": [
        "arr3d[1, 0]"
      ]
    },
    {
      "cell_type": "markdown",
      "id": "69156373-f7b4-4d6d-9f1b-3f6f32cee7c6",
      "metadata": {
        "id": "69156373-f7b4-4d6d-9f1b-3f6f32cee7c6"
      },
      "source": [
        "Cette expression est la même que si nous avions indexé en deux étapes :"
      ]
    },
    {
      "cell_type": "code",
      "execution_count": null,
      "id": "f9e44f25-497f-479a-8001-3c035a309f22",
      "metadata": {
        "id": "f9e44f25-497f-479a-8001-3c035a309f22",
        "outputId": "3edcfaf2-c190-4c49-ad3b-8ce18f1ff640",
        "colab": {
          "base_uri": "https://localhost:8080/"
        }
      },
      "outputs": [
        {
          "output_type": "execute_result",
          "data": {
            "text/plain": [
              "array([[ 7,  8,  9],\n",
              "       [10, 11, 12]])"
            ]
          },
          "metadata": {},
          "execution_count": 51
        }
      ],
      "source": [
        "x = arr3d[1]\n",
        "x"
      ]
    },
    {
      "cell_type": "code",
      "execution_count": null,
      "id": "ae3d38f6-265f-472d-8f3e-4cf09963cd2a",
      "metadata": {
        "id": "ae3d38f6-265f-472d-8f3e-4cf09963cd2a",
        "outputId": "45fe69a9-d797-4ad5-c875-7c3b9d10ff24",
        "colab": {
          "base_uri": "https://localhost:8080/"
        }
      },
      "outputs": [
        {
          "output_type": "execute_result",
          "data": {
            "text/plain": [
              "array([7, 8, 9])"
            ]
          },
          "metadata": {},
          "execution_count": 52
        }
      ],
      "source": [
        "x[0]"
      ]
    },
    {
      "cell_type": "markdown",
      "id": "6da82f18-3251-4014-a20f-028a324a63c0",
      "metadata": {
        "id": "6da82f18-3251-4014-a20f-028a324a63c0"
      },
      "source": [
        "Notez que, dans tous ces cas où des sous-sections du tableau ont été sélectionnées, les tableaux renvoyés sont des vues."
      ]
    },
    {
      "cell_type": "markdown",
      "id": "02e60e3e-33a5-463f-a588-34568d4faa04",
      "metadata": {
        "id": "02e60e3e-33a5-463f-a588-34568d4faa04"
      },
      "source": [
        "### Indexer avec des tranches:\n",
        "Comme les objets unidimensionnels tels que les listes Python, les tableaux ndarray peuvent être partagés en tranches avec la syntaxe familière :"
      ]
    },
    {
      "cell_type": "code",
      "execution_count": null,
      "id": "6d5c8b7f-32e5-4a97-8516-8be8ca313a42",
      "metadata": {
        "id": "6d5c8b7f-32e5-4a97-8516-8be8ca313a42",
        "outputId": "f7f90562-3cef-4def-8990-c8c4586215ca",
        "colab": {
          "base_uri": "https://localhost:8080/"
        }
      },
      "outputs": [
        {
          "output_type": "execute_result",
          "data": {
            "text/plain": [
              "array([ 0,  1,  2,  3,  4, 64, 64, 64,  8,  9])"
            ]
          },
          "metadata": {},
          "execution_count": 53
        }
      ],
      "source": [
        "arr"
      ]
    },
    {
      "cell_type": "code",
      "execution_count": null,
      "id": "9184488e-7cc3-4551-addd-384c721a9e15",
      "metadata": {
        "id": "9184488e-7cc3-4551-addd-384c721a9e15",
        "outputId": "6d5b66da-89ea-4446-8594-07185b592e9d",
        "colab": {
          "base_uri": "https://localhost:8080/"
        }
      },
      "outputs": [
        {
          "output_type": "execute_result",
          "data": {
            "text/plain": [
              "array([ 1,  2,  3,  4, 64])"
            ]
          },
          "metadata": {},
          "execution_count": 54
        }
      ],
      "source": [
        "arr[1:6]"
      ]
    },
    {
      "cell_type": "markdown",
      "id": "da18a5cc-944c-457e-a182-ae549be60739",
      "metadata": {
        "id": "da18a5cc-944c-457e-a182-ae549be60739"
      },
      "source": [
        "Considérons le tableau bidimensionnel défini plus haut, arr2d. Trancher ce tableau est un peu différent :"
      ]
    },
    {
      "cell_type": "code",
      "execution_count": null,
      "id": "5871b23d-2597-4d44-b56c-68f7633790d0",
      "metadata": {
        "id": "5871b23d-2597-4d44-b56c-68f7633790d0",
        "outputId": "982f2e98-9149-4843-8fef-44567c3ebe8f",
        "colab": {
          "base_uri": "https://localhost:8080/"
        }
      },
      "outputs": [
        {
          "output_type": "execute_result",
          "data": {
            "text/plain": [
              "array([[1, 2, 3],\n",
              "       [4, 5, 6],\n",
              "       [7, 8, 9]])"
            ]
          },
          "metadata": {},
          "execution_count": 55
        }
      ],
      "source": [
        "arr2d"
      ]
    },
    {
      "cell_type": "code",
      "execution_count": null,
      "id": "8da07658-f780-47aa-aafe-22933c51d13e",
      "metadata": {
        "id": "8da07658-f780-47aa-aafe-22933c51d13e",
        "outputId": "882c7254-7b0a-4433-be13-c0028608b4f9",
        "colab": {
          "base_uri": "https://localhost:8080/"
        }
      },
      "outputs": [
        {
          "output_type": "execute_result",
          "data": {
            "text/plain": [
              "array([[1, 2, 3],\n",
              "       [4, 5, 6]])"
            ]
          },
          "metadata": {},
          "execution_count": 56
        }
      ],
      "source": [
        "arr2d[:2]"
      ]
    },
    {
      "cell_type": "markdown",
      "id": "e59793e1-4cea-4d7a-8a59-abe1f1ceb6d1",
      "metadata": {
        "id": "e59793e1-4cea-4d7a-8a59-abe1f1ceb6d1"
      },
      "source": [
        "Comme vous pouvez le constater, le tranchage a été effectué selon l’axe 0, le premier. Une tranche, par conséquent, sélectionne une série d’éléments le long d’un axe. Il peut être utile de lire l’expression arr2d[ : 2] comme signifiant « sélectionner les deux premières lignes de arr2d ».  \n",
        "\n",
        "Vous pouvez passer plusieurs tranches, tout comme vous pouvez passer plusieurs indices :"
      ]
    },
    {
      "cell_type": "code",
      "execution_count": null,
      "id": "83c9b64b-1787-4e3e-86b5-1710dd165242",
      "metadata": {
        "id": "83c9b64b-1787-4e3e-86b5-1710dd165242",
        "outputId": "9fb38a60-81a5-46bf-b297-1174fc70541c",
        "colab": {
          "base_uri": "https://localhost:8080/"
        }
      },
      "outputs": [
        {
          "output_type": "execute_result",
          "data": {
            "text/plain": [
              "array([[2, 3],\n",
              "       [5, 6]])"
            ]
          },
          "metadata": {},
          "execution_count": 57
        }
      ],
      "source": [
        "arr2d[:2, 1:]"
      ]
    },
    {
      "cell_type": "markdown",
      "id": "81c28759-99b2-4eeb-923d-6842947b6157",
      "metadata": {
        "id": "81c28759-99b2-4eeb-923d-6842947b6157"
      },
      "source": [
        "En procédant ainsi, vous obtenez toujours des vues de tableaux ayant le même nombre de dimensions. En mélangeant des indices entiers et des tranches, vous obtenez des tranches de dimensions inférieures.  \n",
        "Par exemple, je peux sélectionner la deuxième ligne, mais seulement les deux premières colonnes, comme ceci :"
      ]
    },
    {
      "cell_type": "code",
      "execution_count": null,
      "id": "bff60fcf-69a3-4930-a25e-ec5f58917fa9",
      "metadata": {
        "id": "bff60fcf-69a3-4930-a25e-ec5f58917fa9",
        "outputId": "c706a71a-1f4a-4678-babf-aa2500a46314",
        "colab": {
          "base_uri": "https://localhost:8080/"
        }
      },
      "outputs": [
        {
          "output_type": "execute_result",
          "data": {
            "text/plain": [
              "array([4, 5])"
            ]
          },
          "metadata": {},
          "execution_count": 58
        }
      ],
      "source": [
        "arr2d[1, :2]"
      ]
    },
    {
      "cell_type": "markdown",
      "id": "08d0ad90-52c5-4589-95f2-0c69307a3a5f",
      "metadata": {
        "id": "08d0ad90-52c5-4589-95f2-0c69307a3a5f"
      },
      "source": [
        "De même, je peux sélectionner la troisième colonne, mais seulement les deux premières lignes, de cette manière :"
      ]
    },
    {
      "cell_type": "code",
      "execution_count": null,
      "id": "f7432df1-a449-4a8e-a742-406a07bb26ac",
      "metadata": {
        "id": "f7432df1-a449-4a8e-a742-406a07bb26ac",
        "outputId": "62aff069-0141-4927-db38-67b41544b596",
        "colab": {
          "base_uri": "https://localhost:8080/"
        }
      },
      "outputs": [
        {
          "output_type": "execute_result",
          "data": {
            "text/plain": [
              "array([3, 6])"
            ]
          },
          "metadata": {},
          "execution_count": 59
        }
      ],
      "source": [
        "arr2d[:2, 2]"
      ]
    },
    {
      "cell_type": "markdown",
      "id": "cc8efe21-9f7a-425a-a9c3-2df5364ff052",
      "metadata": {
        "id": "cc8efe21-9f7a-425a-a9c3-2df5364ff052"
      },
      "source": [
        "La Figure suivante illustre cette méthode de travail. Notez que le deux-points signifie que l’on prend l’axe entier, de sorte que vous pouvez trancher uniquement les axes de dimensions supérieures avec la syntaxe suivante :"
      ]
    },
    {
      "cell_type": "markdown",
      "id": "85956154-76df-40d0-a7ce-b2a34955676b",
      "metadata": {
        "id": "85956154-76df-40d0-a7ce-b2a34955676b"
      },
      "source": [
        "![image.png](data:image/png;base64,iVBORw0KGgoAAAANSUhEUgAAAUcAAAGlCAYAAABpxTTiAAAgAElEQVR4XuzdB5h0RZU+8Ovq/t1dc85rRBGUIKCAKIICZlBBEAmKgEhSURAMRCWpgBJUghIEERQExQyCEgRzQAHFBCIixl11XXfXP7/SdyzaCT0zd+ab6a/6eebpnu5769576tRb7wl16jZ//s3Vf+lued3uLo/01l5NAk0CTQJLvQT+57fXdLdp4LjU60ETQJNAk8CABBo4NpVoEmgSaBIYRwINHJtaNAk0CTQJNHBsOtAk0CTQJDCcBBpzHE5O7agmgSaBpUwCDRyXsg7v83H/53/+p/unf/qn0qR3/9/udrcr///f//1fd5vb3KZ8/stf/jJ2nO9zfD7nuP/93//tbnvb25Z2vLTltxyXe/edNtN2zq9/z3mD95B7zP2lndyT/3O/9TGD1/S8OdY9/+lPf+r+3//7f2P36jf3733w/vrsg4XWlj70vNGL3F8th8gqfRHZDso45+gHMs7/6du67/ye/qr7vr5u+uG///u/S3v+Jns1cFxo2rVI7ufPf/5zZyD84Q9/6G5/+9sXIPj9739fAOKf//mfu//6r//q7nSnO5VjopQGBYX0e14U2iDxnXeKa2Bpz7tztaHdgJHvtO/lvAycGoR95x4zsLT7L//yL2Pta9N9u6dcx7vvfedY//vTRg3qrpt7dqx7cK26fcdrP/fgt1F//cd//Efpt8iaLMlJv9AFssjEl8mFjLz++Mc/dv/6r/86NslGbul3fa5d72Tpd+2SffQiE6q2tOsaaTd95p68tOOYySauBo6jrrFz9HwU9Sc/+Un3mte8prxTeopcg9Lxxx/frbDCCkWBo7BhVP6PMtcMMQBnoP3bv/3bmCKHhYUdRMm1DZQNhAw0wOn7mrkFpP2WgeOc3/zmN2Xg+uyaRx99dHfVVVd1e+21V/eQhzyktBFWEnZsYPq+ZoomifxPNp7vnve859hgryeEOeqSJd4sufznf/5n9+Y3v7m74IILCoBlAiOTpzzlKd1BBx00Nonoh3ri07eZZHw28TgmoBi2VzNMctcvANPxAFabzgkwZwL1rt1MgHe4wx0mZY8NHJe4Si3OG6B4N954Y7fWWmt1N9xwQ/eYxzym+8UvflGUjfLe8Y537N7//vd3j3rUo8ZY369+9avurne96xgbDMtwTs08gUzAJu0BMW1S8F//+tdl0FBy3wVQwwIHB4H2vDK4DBCDJ4PGgHTP3l/5yld2V1xxRXfyySd3j370o8cA3P04xuDzcg+epTblwobSoxnsrj9oZi7OXp/8rgGjZ95yyy278847r1tuueW63/72t2OTxpprrtkdeeSRBbTudre7jU2YJpJYHDF1f/e7340xO5PfXe5ylwJ+2tcH+jxuHbqTyS8uDscBzNo0D9t3PcdNxeYbOI6ils7DM1E+oLj22msXhvfZz362u/Od71yUMbO2AUAhKW4UNeZQlNh7zFq3XfuD4ruK6RpFD6jGtwS4AJXfXcvvBmqYrOMAYRhI2slgienu+tdee2130003FbDHLGKWhzXGL5rncZ2Y0xm0jql9sWHL89AtS/QS5Al4tthii+4LX/hC98UvfrF7wAMeUCYdkxk5kBWZYvDpR3KLPsRM9iDp99qHGLnG1aGPA5KxXtKf0cWcE70woTp/qkmrgeMSVafFe3GK9+Mf/7hbb731ipIZCAGHsDTAcfbZZ3fnn39+t8wyy3S77rpr941vfKN773vfW5jDi1/84u7iiy8uQLbGGmuU4wyk5z//+d2qq65aFPgzn/lM96lPfaqA8De/+c3yO5PXtTFTAL388st3L3jBC7p///d/L+zu5z//eQHrr3zlK2Wwrr/++uU+DUyD8PLLLy/X4g5wX+uuu25hiZ7j1FNPLW1uvfXW3T3ucY/SQZdeemm5h5/+9KfdYx/72HKtu9/97uX4973vfYVBMxkxTkxp9dVX757znOeMsduYlou3t4e7c+CE5b30pS/tzjnnnCJHcorf1qQR8GMJfOhDHyp9Qc4bbbRRt+KKK5Zjv/Wtb3Xvec97usc97nEFRK+77rruGc94RulTx5D75z73ue4+97lPt9tuuxU3CF24733v273whS/sHvzgB5d2fvjDHxb9oQd0A2jf7373G/N715PyeE/YwHG4fm9HjSOBH/3oR90GG2xQlO3jH/948bEBL8oL8Cj9iSee2O29997l/yOOOKIcBzAB4Dve8Y5u22237S655JJyLsbmRYFPO+20MjiOOuqo7rWvfW33sIc9rCg7H6ZBtfPOOxfQ0i5Wsssuu3RveMMbCnN8y1ve0h177LFjAR5MAaC+4hWv6L7//e932223XRlQBofB9/jHP774woDaTjvt1F122WVlsAFdoL/77ruXQRyfIrPxkEMOKUwUwH/ve98rMgAGwBnwOx/oan8wCDWqygQcsT3yPf3007sf/OAHpV+ZyORy73vfu+iHY17+8pd3H/vYx4p8/AbQ9NGLXvSi4q8Eckxp/ev4/fbbr/iDHU++JkeT3dOf/vTSl9/5zncK0+fm+ehHP1p0id7pB/1ER570pCcVvXAfJve4SCbqjwaOo6qpc/xcWB3lN6Ob2QFHIs0GCYD7+te/XgbGDjvsUJjaIx/5yKLc/gCbQbHVVlsVEwyD22abbboPf/jD3de+9rXy+fDDD++OOeaYbp999intAVTmLoB85jOfWdjmE5/4xDLIsEV+woc+9KHdKqusUhiKNrA9rO8Rj3hE8XedcsopBdg23njj7glPeEIBWgMNOG644YYFiC+66KIyqNzTHnvsUZiuQWhwOd9zn3nmmeU6GKbrux9gqD0DVfvvfve7bxVtn+MuWeLNAzGT0/bbb18mN5NS/LlcL1/+8peLmS1QZ8IBiGR+5ZVXlj4ySfmNa+O5z31uMbuf97znFTkLjpm4br755m6TTTYpYHfGGWcUy0C/8G0DRYzUBIgt0jv34Lzvfve7BbAPOOCAMiFrm460aPUSV5vRuwEACBSZrGb3zTffvJjBlC6Kx+TJoKCgZnggd+CBBxYFv/7668eY40c+8pEy6wMazIz5eu6553Yf+MAHCiN81ateVUDSjA/IgNSmm25aBpvBBMwwU2Dtnn75y1+WaxiABgZTWEDguOOO6970pjcVkMV6BYmYfq7J9HIdbBHQ3ute9+pWW221Mmjf/va3FxaEQWKtzP7DDjusMEdgiu0IQJxwwgmlfW4ADDm+ykTSR08T/v5EwJFeMKv1nT6PHxho6nfvABF4kanJRXALY7z66quLpWGiNdnQgZNOOqnI1eTqGPr0+c9/vkyGL3nJS8rkx4RnYvsfAHO/AFt6QxdMbHSAy+ThD394Mc8BY0vlGWVtXILPhiUyIwGMYMgnPvGJMksnfYLJwv+UNB0DAbg99alPLX46ps3PfvazotAGBYU2i2MG/EqYAHYm6vm6172umFR8Rl4A6dOf/nRpWzAmDGXPPfcs5rWBBCi/+tWvFmbB/OJzPPjggwsQvu1tbyuga4Bpw70AXMCK0RhgGAwwNEAxoX333bdcm7lm8Hs+QAhUMWQDFjvFmEwKBmVMugSGlmB3zculTY4mSoCn30yecbUkfQazYwH4zeTBlcHt8MY3vrFMNli6CVRfPOtZzyoAqs+AKbmzDExEXDHAlx7y9dKll73sZeWzP5aJNDO6QQeka0nV0m8macHDqdKrmlk9L2ozehcBgmZtYEfRgENyzJKwa5aPz4hpJHBhtgZcQFFAJD4+4IqhMbG1CZSYQQFHg4aJBeiY4gCV2QpEgTCGwudkEGAwTPcwQEzBd8wwJpiB6hwDjKnNx4j5AmADyj24toGFOTLPmdvaNqiZa57xgx/8YAFHxzMNMU/g6JmY+9hwIq1TDcRR0BAyBkQCbyYfjNBz+4t/Fzg+7WlPK8xe/wFBOsLf6Bx/9Mgx+ptbxeRlMgSOZEzXvv3tbxcQFgATwHEtk6c+9T/miKnqUxOj/nZ/gJcO0g/6MlmKVQPHUdDKJfAMWAJwo8SUDNNi2tSrWLAG4PDWt76123///bv73//+xSck0MF8prCAhuJ7ByrMZYDFFBKxBECY46GHHtptttlmxax65zvfWf7HRB1nIGAhmKF7AbwGlAHnmpz/AAzQipYzrfmdmG5MYmYyHyEmyBTDOjzPsssuW0xAgSf3xETnE+ULxXTcD9MeMGob4wWq2uMPZe4lOjuZb2sJdN+cXNKkA+jI9qyzziqWBR2Iua1v6AcmDgRNLNwY2Lg+8zurwqRrstK3+ppeiToDR2axPuOXdj65fulLXyo5tsASw9R/3B8YPPYJJH2nb/iZWRgB7OZznBNVWLobZc5gUQCG306QJIm4YZCUkqKLElNCznDMiqICFmBIUaVlON8sjl0CQNFJwAOIABYwFAUFyq7rNya4wQKc+BCZy4CXb8qAedCDHlQinswsTA5jveaaawqwORfrBPCCBsxq5h5gc7xBChyB7utf//rCNvg3BVt8zzfmPpn4zHcskU+Tr9KAF5wBpHEzJBF9lLUGCCaCzxLQT/y29RJS4MiF8upXv7pMOoAPiAIrZrFJkjyf/exnlz+Tkn785Cc/WXSGWa1vWQVAWD+yIrz7Hyj6cy9cIYBUIBBo00uAiWEm97aB4yhr5BJ6NkrOyY0BABgvisZ/xLSSxsMcxdgoK9+k9AxAiDUCJLmA0nmwOQyRrw/QCp4AO4DCsS/9B+BhY5SakgMw0UmRZg57LEOuIhDjfwLAzC8+SewWOGKTwJXPid9KVNN9AjImPZMdYwToBqmBDdy0hbnwUa600krdOuusU8x+PiypIVKMsCG/MeswU+1hrGQSuSyhrpq3yzJVyetd73pXASyTI39h/coqIqYvgMP0gJ++FeQy4ZjALEHE8kw+AFQfmLDkMnJxYJvMctfjCuE7dl2ZBCZcgCjgB6SxTOfJReVWSX7jVK6OZlbPm+qM1oWy+iAR6iga5hAA88RZyQA0/QbwgIWBxO8EQAEPgMHMAiRhG96zLjsFJlIgIulDrhNmxmwHkEnTcP0kIRtIWVcdlmMwepas43VsCmRkaWDayuqbpKe4H8+Rdd2AOO0lAKFt3y0NywdTRCTyzrK+FBUhiywHJbf6/6yD15fcLSlU4f/BQiWp3JR12VlrjR0yzb2yQso1UmCk7vusmZ9sVDZwHC3MmrenyTrmKHUKQQTA8ntdFsrgoayAzO9MIX4iznWskX/Qi5M9ipx112Fgfk8+ZYBMu7UPKezEteqXtlIppg4SJCE49+eZsi46S/+0maoyAeLavxogCIDmvEwiU63jnbeOm8MLefbI3Hv6IYU7yNTL9wHQLM/0fRYQpI+9Zylglm3GDE61nnpyoheumzYDiimjV5vQU62Oce0GjnOoLKPcdCqu1OBXrz/2OWBUMwQyCVNjGjE9+ZCY30yhRDWxrYBVwC/AlvSgtJXr5J6Sa1mz1jDRsIyAeF3f0fmp5pOSbBnIOS+DKud5Fp/TXtZth90YsCnFNcr6EHALIAYEs848zDkTSgAz69sLGP2tHmiO8d0goKY9x/ota7axdhOQvs96/lgKg/oXwJ0KIBs4jrrGztHzRWkzCKLIMWPDtFJYgmkcgKrNVM55fkNRxVTJSZtYQQZA2g/oBoS0mWuGXYathb3EVK8BDnP1wkDq+n9AEaAB55pppO0w5IBnKv2kEpDv/aXqS0zNpSEJnLyzXDK+ZxNDZBd51rpTT2j6I5NKdCD97NyAXgAxE1OdEaAvswghDDL3FDDMRDZVBkEDxzkCj1FvNoM+FVFipoZBpBKL/2MSxd+Uc1J3MRVzLDUUXfZ/oouDs7vrYgkZYAZK1jxrz3UBW2361oOyNvdqllObdzGp8wzuV9vaTFUZzxVADDjHV5lrOy+AHNNulPWCrzA+v7D6uEBiYdQTWI4ZZJXx3YZNeo+rw7EAMHUfo1MB00zKdWFl16z1KO4Rfdmi1aOskUvo2cICo9hhcAGZujhtFNNA8T2gAWDAI68aOLPyJTUbw84CNpn5M7gClGkDANZmdK5RD8yAVkzi/B/wDKjXgYKYY36rATemd64ZM65mu0uom+b1srXPMSAVK6H2z9bBqQS90mdxmWRCjWsl4BpWXreRc9MPuVZ80pk802e1RTGZgBpznFf1aRdrEmgSWCwSaOC4WHqq3WeTQJPAvEqggeO8irtdrEmgSWCxSKCB42LpqXafTQJNAvMqgQaO8yrudrEmgSaBxSKBBo6LpafafTYJNAnMqwRuBY63vfMy415cOF1ukfQL+UNZuiNUnqTY2d51UimySiHJoFkdMdv2c36WF9VZ80knmCopdNh7SBpCcq2StT+Yk1WnFtTXzhIs1+vrnoa993Zck0CTwF8lMBQ4ZqlOco2SPJtk3j6EOQha2kxybR/tp40sW0rmfa7TJxAF0AF9neM3uGdFcrXqdcODz9rAsc/eb201CQwvgaHAMXsNS+JNSfosHK9ZzvCXHf/IgETAN6y0z2u4ct1ePk8GUNN9Lm1mT95cz3fZujQsOYBcJ7QOgmEDx+lKvx3fJNCPBIYCx0EACWOsB/Vsb6de1RC2hYEB5MVW0WSQ8WY5GsBMhn9A07OmokvAMoA4asA40SQ3as8527HQzl8YEhgKHCkvkMom7VncnX1q+3qUrIEMYwzD6suvOWiq1xU/+nqGmpnWZrV9VhRjVXkGg0yRheyxUT9zWOyogUYDxz61rLU11xIYChzdBGBUIl7FZWtelSvPQv++bjI+TftBqAjtlfW1fV1DO3EJpMoHEMLe+mTC8W26XgqpKvuuTLviCtwTng0rTpWRGhT7NPP7lN1s2qqrsdTt9Cn32dxfO7dJoJbAP6TyZHYfjJga4MqaKy1lVzD7emRQ9yHSevG4/WXt6WEj7wc+8IEFXPp61Sardu1XoUy7Xcn6ZGqpfgz8lN1Xkl95ffuLeKawR2X6U+k45b3m26xOQQcglfp6cQUkMyFgXbsM6oBcFvnrR4xZJefawvC82U9FX9Z1/OKjTZQ/xSByP6nIkqBdSlRpRwUXlWAGC2EMqy+53xS3YCGl/bh0tK3iTMqYub9U3kl9wWQ8xHLIub7P/acox6DPedh7XejHkSUSlSrbqVoUmejPuhp8XeTDMbPNGqFv6cfIOhNyqvjYQsOWCV4ZZ9FFeFBXlxoKHMN+7ONg3w/Vm+0ol4KkfXVaFMleEK985SvL3iBhqH1dIwLRUZivfUaWWWaZsuVjn6+U4SIje6yodm2fDJsIeSYDGnBmq8j4HuvisX2C9WTPRkkpSIqNZvB6hrgGnE9e7jnVdFLtxG+qd9f7hdhfxbN7ARCKy7Vggt17773L8dpR7JY+pd6ha9ODuBkMNKXMyCtuFwMwx7tHloZre46p9gUZTw4pv5bJyTP7zjWAr/dYAgFh/5OH+wtQGlzu0T1kk3q/0WN702TA1qXS5quP+9Ttidry/OT1ve99r+wYaTM1+/B43pSgI7+MjUGLKe3ORCa17DNp6yN6mPbsS3PhhRd2H/rQhwpAZpJL5krAOu9DgaODXfziiy8uW1XaRtFucFH+vgSfEvOLHRzJy6BIbUG7rAHHlVdeudtkk03K5u93vetdC1jY7jN7jAzuazETJZlJX4QlBljC4FJirC4r5bkold98jxEGAOtq2ICD64AsklOqXZtr2bzqyU9+cvHB2njLZlQJVAXgAtBANRNHZnvXcf0od8DNuYNFaqeSRyYGx4XVZLDUgcf0ZUpoRVfrZ4+bhhxZP9dee23ZNpaMzj///JEHR3KzF5B9q+GF3RfJwoSqH8mHLEx2dMP/fou8417JJDJV3w3+7prZaiGWTnRFm0DRTpI22nrLW95SiEnS7vR9Jtz07dDg6OGA40YbbVT2jwWOHrSvIp4xb7KLWM0c+zSrI9DxmGNfYETgg+Co4rUd65773OeWoAym48/WohQlfs8lwRzD1JKsnsKuZBXAjJ+WHng2/5uVA45hA6l/GHAbTPmyR7WtWvlevXtRypg2Ya/6PJZEvnOszdu5QqITZEmGAeCZ6GPyeOMKCbPjY7dhFxA3mdXZBnVdwQymuIbcp37kN+d+sksjxjLqzBE7tOOgHSbtKmk3xvQL8LF9LRnSd5up2UY3E2om5NqVMh1w1B92PLT7oM8YKzKSCToT/Zlnnln2ULeroV0LM/HWLNJ1y3389pruNn/+zdVlJ6Lb3eWRt9ogJzfnAQ0KJqi9fe0YBxyhfj2Yp/Mw4x3roUYFHDPQMBnM0fajzKtnPOMZBRxtds7fyKTnn8u+J0sCHPUv5eFXu9vd7jZmBrsvShs/XFKOAnj6MMofP2FMktoEz2on52NQFNP2mRhk2DL9ygQRcxYIp7p0CqmaNLHP3LN7tD2sbTzDLKejh0kXc03Xcq/00Haw9rcGigb66quvPlZ9PM9cB5Kym16ANdsl7LHHHqX/TQqjDo72AbL9LoC0va7+izvCntJ2mWQtmXBsk2sLW9uxxn2T/q8nw2H70hasJlwuFv2jfSRu9913L9hVb8hlS9ejjz66bAf8uMc9rlyi9reHdQ4Fjk7mSwg4etBDDjlkzBcz7ANMddyog6NN5Ndff/0xcDS7+U70ekmCI+XxwgT1McYEEJ/61KeWDewpGlPonHPOKYrM/2f/3/POO6/s/yKgZTBgR/SEovFN28PZvsSUbaeddipKawBtueWW3Tvf+c7iYgjLckxK6ns3wz/sYQ8r7AJAYYpkdMABBxSf7aabblqO2WWXXYqZdPLJJ5cBMBNXT6yWBF64dd773veWe3NNbRtE8Un6ns8U4LmmQJt79AqIOw9ztHk9UxObGnVwBE6syxNPPLG4juhBWPURRxxRGLhJhjyZt/r/7W9/eyEJmWjroM1UeFH/zjKjawLG9HOvvfYqTNXmbVm44nvtX3nllcXPncByJjv6H0JQrKhhmKObMKsaOAZBwLFP5jieWU2YBkI24ZmOsCY61nUyU9QBGb6/vszqOJ3NgAarwaHzMMb11luvACJgDDgaWAbekvI5konBzgQEcNisPaVths6xLsJ+3XXXlYFuo3TmE58hxQOcgIMy8jVdddVVJTJ/1FFHlZk5mxtRVMr52c9+tttiiy26N73pTYU5xudHlwIsp5xySpnxyY7vjnmEcTjWtaPsGIj7AKba1YfxMdVLNbNefzydyPXj6+Qn44/afvvtiwxOOOGE7j3veU/pt/jGvANPcmEBAFMTSaKzCRxhMUCAPOJzNDgXe0AmGQsxhckDsJgwTf6eORNaIv+eOcE9kzFXCLaPPQqOpC2yy0QYZu67/D7ZuM7kQx+0S3cvuuiioj/ZRE1b9MZkzSXkuLhvknI3Nn6HAUcNengXgvYirpijxvsyq2MmAQi0l/kEHKXzJDo6CuD4tKc9rTwXYDSwACZTdkmCYwIamCG2JnJ/4403dkxCAHH66acXBTbYsUUgusIKK5R3xzNJsV/sElv0PSDcbLPNihtG/3lOfStAsdVWWxVw3HHHHcuElMEQvw9QBcT0y+dVVlnlVsAUs8s9rrvuuuXan/zkJ4sPN7pS1wGIf3AiXY1p7VzPwAzWR4ARwwWEwK9OXSITPlOsx0Sw9tprl2emx2EiJhx+LYGZCy64oAzwgONs01b6GAszbSPgmNQX/5tIuYy42/RvJp06Ip1gCRmbyExsovjGQg2OPicrIJNWrjnePdepUclkwF7pEJZIn03S7iUWCuCEaQHH6EYdHBqKOTZwnJ4aTcYcFyI4hk0bzBQIKAFCIMcMft/73ld8Q8Dtox/9aGF8lI85a4AAhZtvvrmAE4YENJjXQCHugrCl8cAxyq2tDIbLL7+8tCcn1KACgMlpdLzvmGQGI9+ga9a+K0w0bCWRyPGCNRnEGRxhuo5lCh555JFlAOu3gJvrk5VACzOMdUNmvgvD1d4ogmPAPyMiIGYSY1afdNJJZcJKJNpxqegVHcEsgRKGLpWrTr2pQTCf62CdPp3Iwgs7ZOW+9rWvLRMdy8MrOuBcfXzYYYd1X/7yl8vEHwBP/8aybOD4tzzH+TKrFyI4Uj6KRamwICawz2ZWszofkcijYwRD5IsxYwFBnYoB3CgctwvTGWjFpM02p+OBYwZQtsqM8ic1xoCot0EFktrBbNdcc81yf0n2DQAmml0n9dYBlHq6cx3Hx7QPIwKMHPcGsgGfQROACPgmUh+n/ygzx7g+6owMciCngw8+uEykZJX+Cnhm0sHGLfDgewRMCZYkjaZO6QrAek+gb7APM7HnOnGFmMT1nyBowK92Zwiy8RlL70m+Nr1L9NznBo4NHAsjuummmwqomW35Y0wWZ511VmGKzEoJ7I5LrhgXC9ZEsSgoYAAq/NKCJG9729u6Zz7zmWNl5wIY44Fjqj7FgZ9oNTCq9592fS8DgDOdv5ML5v73v38B4Wz5auD6rD3KHoAcL0G8duckpzJR08MPP7w75phjis9R0KU2iRM4yICKKZjJYlSZYyahsVzAW4CLLDA0LgSy0jdhgwE1/XHuueeWLIXVVlutTML6L2AbdohtkymfZZLs9VvtkgggDr6b0PmM+au55TDZFK1xj7Xfcb/99iv+cfcdy6U2rYdO5Wlm9Wib1RSe4vIlm9klZnttvPHGJW+MqSRRm7ICTDM//2RWFVGkOLOlawhU8ClaJZJBMhlzjOInZYjPzzXuc5/7lHQMZqtj6vQYQQ5mr9xR53nR0+RsMvOwXAxBO4PBrvRowDFO+cIYbhnwjgeOwFfAhQvBd2G1cur43fmLt9tuu+Ibj994lJkjuSURvh4VX//610ukGPjtvPPOY9W0wvQEJWUY8NGSq6BkgDH9BhiB5hVXXFH6VsRbX5gsM4HqgzBAcg5YuxfASPdkStA//Q4QE6Wmv9wfQBR4um5WLkV/6oBtY46NORYdByTAUIKsQAlAFH2WynPssceWiDQFBY7M6rPPPruk8GQFhN84wy+77LIyOJg0AIVyU/p+XgIAACAASURBVM4o9URmdXx/7oVPyuAwCCi8dgwQig7ssFL3kNxDbbsXPkogLYVGupC0EsCFzUz0iokcPzFXgkHkf+a0Z2cyuocwUPe17777FgD3nWPk92G5NQsZRZ8jOSblKpNA3CKiz3zTSc8J+JEnQNQPXC2O0ZeAUjI494xjZT/IEsDouEwsM41LRb/QgRocA9LuQ1+zfHznWlgp94tAIMsioOd8GRd028Smj8OCExQKoDdwbOBYcIOznIlhJmUqq77En2cm5zj3HeUDgBSNIkn5AVLSMkSOgSLzPEEaKTdSfIBYHOkCPBhEUnkSKTajJ6JoBQxwpbyUWFQfwFqzy3QTLPICvMCI6cSEsvoorA8IA3kmHFdAPZAHgbIukJHnII8UK/CsmCEG6Zk8i+WgfGwGtmvXeX3ZHgOIuF/sG6P2ihwyWPtKH5sQ/efxBz5EOgAELTOOSa22gIk3z6y/sDfWiEkGQMYVIrCG9TPNBf0y4cQCySQWC8HkZNXU+9///uJ7roM7ZK3/1YFIihc9s+ZbsFH7fs9SxrhIIrIGjg0cx8wbg5n5Q0mSQkXxgJMZFzhRpJixvrM+lQIDNsBCISkuJQQ6ZnC/Z3WNVB/mNtDk20wakeOT0uP6rqstfk2DqiTl3gKGZv2sPkpem2sLHAHQrNTBYIEjBiLhV5vjBWTCWLUv/80kIKfTsTHnsrzQZJCVMJ4pE0VSeBItd18+89+6/jXXXFOSwEcdHIGg9C3mrInE5Ebu/rhKih/vb7m/5GhiwfbTn46jEyZpFkJSgurk+0x+Mamjb/QF4ALPuEjoafSP7JOYv/nmm5d7DMOMWZ9gTPSqgWMDxzG/TR3EMPApd13tJP65sB/KllVNzB7pNglMJEhD0ZKSQQljVnOIW4bqBYTiO4pZGh9TnORZhlZHE3O/Ad6AD/OMP9A9YBSJhOa9JlN1QCbsMqxEu0yzFLNIBFw7qWUKJGNuO899ewZywHCZhjfccEPJwxx1cDQZYo9YmXQv7pHknWKLMcfDEiPXBEosscU8BQO5VVI5J8BW65HvaiCM/kTf9EkYvO/iS2YJCTCyTOSuJgiYawR0y5LXlgT+15JlS3MqT0zUgAylM+gxKYDnlQTeOjk3vpo4yGvlzUJ/51JMszpQEeWW5oNVUUDmtWTduq2YmjHLcn8BxjDA+IgyUJxnoK244orF1GfeZWlainuMZ2UG1Dxz2sw9ZHWWa3uGrArLgK5zJ1Owg8+TiW+wa5uPzcqjUQdHQJhgh6R3rgT9kP5Kjcu6+hH3hUmY60EgUFYA1pkIdSbFTJr1RJg1+2Gneac3tbtCv2hP5oFItgnL+2B/5D6jdw0cG3Mc8yEGoChWTOek0iQBu47mmZnr9BvnxHytGV49yzPbRboBpYCFwSBNyPHOBUZJ6whQ+S0md76rgVH7UWj3Y204cz8VgzKw8v8gQIZtxJcaJhvW4/yY9VkOlzbCXlLbMhML362UI/eOAXEljDo46n8yZEJLAWMZhFmTccrdkYPPdeqUfueWEVgzcTK5w+ZijkdHwhLrFU/pw4BpPcm5J/rjniwukCDOrK5dLXXkO5ZRA8cGjmNL3pJsSymjgElfyaBPECR+mcGAQgCmZnkB3ST8homm7cz48ScFzLzHrI2ZnYTr+KGS4pNE3/gca2ANY5ko+BEQjFmdROQMnphlYc9hyAF9z1EPrsgoz5ek8lEHx4BQQCwTaYIhnj/pTvo1Sff6Sv8llSuWQny4yVQIS6/lXQe4tOMV1plJ03tM+gRsHJN2aqYZXSz3MIxZ7WSKjSqLOgm3K0uUWmmDM/FM/o9yuWHOWI5sYXjLxyLkmbQ73jlxmCdpOZXA+7pOOomgBRSYDApPWIds/elCW1sdJQoo+T9+szqIUYNWDRD1+bVCpp0oXx2hDeDkmAByrZwBn8F1r/W56d/cWxjk4LXGC8bk3Lrf45yfKHhTy2DwufN/7Q7Ic012/b70eiG0M1Hf1D7l6FbN/Gq9qWUc3RlPXwbN57rPB9urz6/7Z/CcWoZDgaMTOOhTUQVdluOVSGIfneImM2PzFSXHDkDyGfT1qgeqduVHBRz7VODkeKWeowXwwFHVkoUIjn3Jt7XTJDAqEhgKHKGuaCSnsi0SrFrAHNHdPgElkVEJyKJWEpAFSmL29CH0sTD939YT29Mk4DiR2TXd62Y28k5Gah4qUmClh9JXDRynK9F2fJPA/EtgKHDEggCXXC2OZZU0JAbXi/pne+uAJNE+Kw6yTQIHbV+gVZtRiWyKngIrINzXq3YGczwLQqR0UmOOfUm5tdMkMLcSGAocU7UEkFgmxee4zz77FJ/jeIv5Z3LLdW4ZcORzxOj8iWr29eLnSDoKMz7FXa0T7guEE7yIg19yrCVRAHghVuXpS7atnSaBUZLAUOAIuACUVQeK3cojsyRMtIkvso9XHPHMdIvYAbFwvuocfYGW+9RW8qOYvAoYyLMC9H2+EmnLSglpHYBe4mkzq/uUdGurSWBuJDAUOLq03CPrYoFjHVLvyx+YKKFrJSUgSbmJdPUhAm0nHURAyXMld62vaLX7BPKpRJNVIyqRNHDsoxdbG00Ccy+BocHRAFcin1ktk93Ccmtu+9rfBTAlP0w1acUCMEcVNbIBVB/iiD8wRVgxR+tysxKkj2toI0vrsjD+pz/9aQnINLO6Lwm3dpoE5lYCQ4GjQAlmp5CpahnSbPgcU0iyj1sEjsk/kueomgkzlAnaFzt1n/E5ZtWF3E2Mrs+ADKabqtauI8/RHhuCS2reNbO6D41pbTQJzK0EhgJHt2C9qJxAVTdUObGwHwBkedlsb7M2pQVklIFSyNQysCRVz/YaMdlTI846UBF4pdQBV19mNXCM6wFzlMrTotV99F5ro0lg/iQwFDga7MBRTqBUHuCYGmnjVTqZ6e1niY+tOVX1wBwtXO/LdHdf9RIw5nryHK3E6TvwA2yTypM8x5bKM1PtaOc1CcyvBIYGR6a1CPJGG21UgAtzzPrEvm45K2GUmVKpBZtTCLOufNLHtVLZw/WAIwB2nT7B0X1iqFbIMKsVR7VCpvkc++jB1kaTwNxLYGhwxLJEqzFHK2T4HLM3Qx+3Obi2WuUMvkD+OYvU+3rFdAZcWVvtOoC4r1ddNDPpQpgjEBbMaj7HviTd2mkSmDsJDAWOGJXlg5ijVB4bMWGOSkANLh6f6a0CrdQAtKmRFTJAJBWpZ9ru4Hk1OGKOgkytnmNf0m3tNAmMjgQaODZwHB1tbk/SJNCjBBo4NnDsUZ1aU00CoyOBBo4NHEdHm9uTNAn0KIEGjg0ce1Sn1lSTwOhIoIFjA8fR0eb2JE0CPUqggWMDxx7VqTXVJDA6Emjg2MBxdLS5PUmTQI8SaODYwLFHdWpNNQmMjgQaODZwHB1tbk/SJNCjBBo4NnDsUZ1aU00CoyOBBo4NHEdHm9uTNAn0KIGhwNH1sjWrtdXbbbddd+ihh5a11X2+FLW1Vvtd73pXqedoz+pHPOIRpUBEX69sueA6WVvtOn1usJXtX1P0NlV5PEsrWdZXT7Z2mgTmVgJDgaNBbq+VSy65pNt8881LVR5bsyrH1WeZLyCoWs7xxx9fdh9U4kudxT5f2Vwre7wopgG0+q4EnnsmI1uz2n3QNgltD5k+e7O11SQwdxIYChwBoN0Hs2/1lltu2b35zW8uOwMCmb5eKn6rEXncccd1O++8c7fCCisUQOlrh0P36X6z7YJ3ZdiAMHDs61lS+ce7aumYYytZ1peWtHaaBOZHAkOBo0FelyyLWa3KdZ+FaIEjgAKOu+yySylZZoOtPl/Zp0abmCo2rGRZ3wzVhOJZgOO11147Vux2vfXWa/Uc++zQ1laTwBxJYGhwjH9OJfDtt9++O/DAAwsw9gmO2cpUPUcbbDF3sbo+fY4AGKgDSXvIXHrppcW32ec2CdwQ2R8bODKrUwm8+RznSJNbs00CPUtgKHA02H/zm9+ULQW22GKLbquttiqVwO94xzv2Bo51Edqjjz66e+Mb39jd+9737lZcccXCWvt6MaUxOs8EKL/0pS8V0x1D7ct/qh3Po33g+JOf/KS75pprSiXwddZZpzHHvjqztdMkMIcSGAocDfabb765u+KKKwo42lJglVVWKdsXqN7dxyuAgonyz1199dVlL2kR8T53H8z+McBL2z/60Y+K79SWD31tAetZgK9r3OlOd+p+/etflw3KbMfQAjJ9aEtro0lg7iUwFDi6DQMcc2RWY4wAJZHfPm8TeAn+MHmxrrvf/e69gZb7zLasQB2I3XjjjeU6gLivrVldQ/v2j3ENLomf/exnZavZtdZaqzHHPhWmtdUkMEcSGAoc45+zb/Wmm27aPfvZz+5e8pKXlFSevrZNxbQwN2zu05/+dHfUUUeVLWCf97zn9QZaZJj9sQEiV4Go+Itf/OLumc98Zm/XwXSBI/n4bJ+aww47rETEm1k9R5rcmm0S6FkCQ4EjALT7oEFu98EEZKTd9O2nw7pOPPHEbqeddiqJ5t6TuN3Hs4fVhQ2vtNJK3QEHHFA2DeuTOWo/roJTTz21TCZ8m233wT56sbXRJDD3EhgKHN2GXMMLL7ywDHJ5jgBF1Jfp2NcLy2KCnnDCCd1ee+3VHXTQQYXZ9ZV/6D6zw6EI+E033dStuuqq3d57711AuK/rxA8LbMnotNNOK+C7/PLLd2uuuWYzq/tSmNZOk8AcSmAocARaTFDguM022xRz1wqZO9/5zr2xujpx+h3veEe3//77F9CyjLAvRlfLEau7/vrrS6K5a+244469sWDXSTqPz6ecckpZcikg08zqOdTm1nSTQI8SGAocDXQBkvPPP7+Y1VgQcOwziAEAme+YFsZoBY5cSsyxr72xI7dEpQVJpAq5zrbbbttbWhJ5YY/cDtjo6aefXsDR+u2WBN6j9rammgTmUAJDgWNtVis8AUgOOeSQEnDoyxRNXiAgPPzww7vXv/713cEHH1xWyvQJjoARa/T34x//uONzBMSYY1/XSepRVuN84AMfKLmhmOO6667bzOo5VOjWdJNAXxIYChwBSb18EHMEjiLLfQEKIMG4gO0RRxxRfI7Acdddd+0NgAktSeA+1+DYp88ROCbXkXz4HPlpLYdsZnVfqtvaaRKYWwk0cPwbc2zgOLeK1lpvElhsEmjg2MBxselsu98mgXmRQAPHBo7zomjtIk0Ci00CDRwbOC42nW332yQwLxJo4NjAcV4UrV2kSWCxSaCBYwPHxaaz7X6bBOZFAg0cGzjOi6K1izQJLDYJNHBs4LjYdLbdb5PAvEiggWMDx3lRtHaRJoHFJoEGjg0cF5vOtvttEpgXCSwocLTsznK7UVs+qJ6jtdUTLR9UVT2bldXLMfuqlTkvmtQu0iQwYhKYNTj2VXiCXLPuWRXwPffcc6zYbZ8gUZcSGyw80dezpMRa1opbW63MG3BUeEIBinve855lAzHbwqpupIIPgGzgOGIjrD3OopXAggNH4HDkkUcWcHzrW9/ae53FujakzbXmoipPKpePB4422GrguGjHS7vxpUgCswbHPlldzGrM8XWve11hjn0XoQWOuWf7SWebBIUn+qowFHaa5wlzXG655RpzXIoGV3vUxS2BWYNjX6YoMQIT7R1zzDHd7rvv3r3tbW/rXvGKV8xJhW4ACRxXXnnlsXqOfT6L5wlzVM/R9hLLLrts95SnPKUxx8U9ZtrdLyUSmDU49rWFgXb4HPndgCPmqGYkcOwTtOLX1CazOuDY53XCHL1jowHH5nNcSkZVe8yRkMCswbFPsxpwAZN3v/vd3R577FHM6h122GHOmON1113XPe5xjytbPthRsa9XfI4A3/PYJqExx76k29ppEpgfCQwNjj//+c+7b37zm93Tn/70bpVVVin7Sdv72W6B2XYAG8t2BzMBzTCuyy+/vOxdvf7663dPfvKTy34sfb1s7fCLX/yiRIqvuuqqwurWWmutbo011ugNhN2v9BxgTz5f/epXu8985jPd/e9//7I16yMe8Yhy/fvd737dQx7ykBK5JrsWre6rl1s7TQKzl8DQ4PjLX/6yu/LKK4sv0E6EQNB2rTGHa7Y0G1PbVq9A4g9/+EN3hzvcoYBLNsSa/eN2BYSyhYF313Lv/J2zue/Be/Mc7h0YZ/MwW7Ouvfba3cMe9rACiPe61726Bz3oQd3d7373ck8NHPvo4dZGk0A/EhgKHAEHNmQfmauvvroDlJgks/TGG2/s/vjHPxYgyN4pbm26QFPvIZNd+/Luun29cl8BIsDru+ne71T3497JDLt2La/73ve+hT0++MEP7u52t7t197jHPboHPOABJc9xEBzrqPpU12q/Nwk0CfQvgaHB0WC9+eaby4AHjPZ8FtD405/+VBgkplfv7DddsAk4ekR+upjsmF5YaR+P736BFTDSNhALc+yjfW1k90Hv2rfdLCZ5pzvdqZjbD3zgAwsgAkeAecc73nHMrE7wqYFjX73R2mkSmJkEhgLHmLZAEJAAQn47AOkz5ui9Zo7T9TkCRCCiHftX29nQC5ABtL5etdkOzIGw9hM86eM6ADHsOUDpO9dmTt/nPvcpLoM73/nOBSA9a5hs5NbAsY+eaG00CcxcAkOBowELIL28A0MsEpBlA3uAFvN0JkAT3yUAcb2w0KT3zPwRb32m+9Q+IHbv/vc5fsg+ruOete1ZvLQdhoo9MqmBod+xxgCjCaKBYx890NpoEpi9BP4BHNNkbRYb6EDR4DXw/cWMBpT+7yOgARhq8xpo1Gx09o/71xZqVlv7G6fLdie6n7gC6sBPABhT9Rem7HufPWuf+Zx9yaq10ySwtEpgQnCsBRLgS5oOMMS4fJ8/ABpTMCC3tAo1JnWeP6lOAcG8pxJPgjFLs7zaszcJLDQJDAWOgwER/9dgmP9rMFhoDzqf9xPWXbPvpBDlPSw1bLGxxvnsoXatJoGpJTAUOA5GnmvfYhK/A6C1z2zqy4/mETVzrtn0oElfP31fRS9GU6LtqZoE5l8C0wLH2j8XMJyI8Uw3lWf+H33urpgJo5bBoD+z/j9m99zdUWu5SaBJYLoSGAocax/aRKA3yBj7Cm5M94EWwvG1LAYZ9aDrYWmW00Loq3YPTQITSWDa4DhoGmY9dDOnby3imNbDMujmc2yDtElgYUlgaHCc6LbrbQcGU2QW1qMu+buJWyJyGnxf8nfY7qBJoEkgEugFHAfZZBPv9CXQzOvpy6yd0SQwlxIYChwnMw2n8kHO5c3PpO0lfb+DOaC5n2ZWz6Q32zlNAnMngaHBcT5AZT6uMXei/HvLw/oZ63tp4DgfPdOu0SQwvASGAsckfA82mxUz4yU9z8RMHHVwJJM6CbxO4WngOLzStiObBOZDAkOD40Rlw2rgrPMgp3vzk+X69VmybLK8zJkwvvGec6prBCQd11bITFdT2vFNAvMjgaGq8igyoawW8FDsVokv36k0o4xZHy8gYZWIwrbadb2s3+6TVXkG968ijtqUSoelItBM2O54z659964CT67huIc//OHleqqDp4qRwhNZRROwbJV5+tCo4dpI36fGJ71O4RA1BPRhdpH83e9+V/ouJenGu0IqPenflMdLZalB/cpk3JfeDffEC++o1G4gO7IlO/2hqA0ZpvBN6p5O9wm0py1jT18Yc8ZlisFM1N5Q4OhkjX/pS1/qtt122+6nP/1pUZLsHzPdm51Mqep6i4RBgTxcXy8dQUgpmEFYrun/vhhqqoCnilEqgW+55ZbdzjvvXEqWGYA6x734vd4VsYFjX709XDuD1o+zwu7pnsku1ZNq18hg6xnE9En/Oo9e+T/LQ8dLd1tawdHYJjOyySQFtMjL/9kuBVFKaUQVraZLllIPVl/AMeNPexmXswLH3LgNtmx6ZWMo7/aSSc3C4dRw4qPivwQs2Omll17aPelJTyqbUfVl7ubq2iNggPTBD36w7EBo29S+rhNQ9K5DPM8ll1zSbbjhht0uu+xSCt6Sm05XGTwybMxxtlo0s/PD9lItKRu66Y9sdRFLyRWyfcfg1TLYM/BYQSER3uu81smWls7sKRbnWXHFxZoLswNiKVkYNgkYZ/IKKOrfMNGw1MkmpqGYY8Dx4osvLrsPYkAHH3xwUZKp0Hc6D5OE8ve85z3d3nvv3b3pTW8q+1b3eY06EfvHP/5x2d1wr7326nUL2Aw28nG9M888s9ttt93KtV7+8peXycVg8WdzrcyGDRynoy39HDvYVwGtsJlMpExqW1uEZU7EXlJ/1PlYZ0zyiRjn0soa9V4mEzIIgzQZ+Z/8yLjeaM93k7k0JtKIWISxFlkBPseVMivmqCHIjs3ZknW77bbrDjzwwPJAM0XziUxrAjn22GMLMO63337di170oqKUfb5++9vfFsF7t83sPvvsU0Crr8o4yWXU0TrA9q/bbLNN9/jHP77beuutu3//938vz4Q12jKB+yDKkGh2lGdpHjx99vlkbWXwBMh+9rOfFYsCe7npppu6ddZZp3vmM59ZWKQBrb+mer35zW8eA9KHPvSh3eabbz5mqtd9urT3b4pnZ7uS6P8555xTJpfnPve5xcIj82FM4fH6RTvasN3ztddeW8Z6zeRnBY468Fe/+lXxOQJHA/ztb3978Zf15afLLEI473znO7vXv/713UEHHVR8dNP1MUymuJnZPdMNN9zQPeYxjyksGOD3dZ04400oQO+MM87oXvrSlxYgXm+99Upgxras/uxGmG0TGnOcCnL6/z1WkZaTMfGd73ynTMrAcOWVVy7g6P8M0DCb8czqBBdM7Nr59re/Xbbf/dSnPnWr/d1z7tIMjsGOsMPEFk488cRu//3373bcccdup512GpM7mYVETEcTslPB4Ycf3h166KHd6173ujLejbtZm9VuhH/x8ssv757//OcXcHzrW9861Aw6nYeIyQIcMUfg2LdZnf1dCBlDeOxjH9u95S1v6ZU5JhIWID7ttNOKzFZYYYVugw026B71qEcVv6PNtexhjUGm02v2ujQPnOiNARP3hO/oSEywHBMTyXt8VtnYDPjFxI1vN05/PkGAl2MdZ0L7/ve/32211Vbd6quvXvQ8Zpjf0z/xQabfck+1CWfMvOENbyi7dH7yk58srDMTYFxIS3Mfk0H2isrYv+yyywpwrbrqqt1RRx01tvmcvg6rjE+/DuZMZm5nzLMCWKXA921ve1v3ghe8YIwQ6YfoWvRqKJ+jg6XsXHTRRd3GG2/cvexlLysIjDn21bk1czziiCOKHxCj23XXXXtjdJ4jUWGf+RxXWmmljglkhuqLOQYU03nAkZ92+eWXL8xx2WWXLcDob5lllhkDx2y01VjFXyUQ0Aqr83/A6fe///2Yz4jcEjhJdDn+8JhUccYnw8K73R8BpH5nZgXovve973UvfOELi4+YLiZYmPSSL3/5y91HPvKR7hvf+EbHZNa3a621Vhkj2gwgc9u85jWvKabcBRdcUJ6ngePf6VIYXeRObq9+9au7U045pRAx+7v7DcYIap566qndFVdcUSYrZMNY4p6KvCciYslE8X7jjTcWF5dg6AknnFDcWkkdip5l3DZwnEdwFBF/6lOfWsCRSQ0cH/nIRxZwzH4yjTn+XcUDJoIhQMfLnulRXj5BzI+/CivE+n75y18WxXdMdpgEhHEBhR3UkWjfOYaLw+cf/vCHxYwGeEceeWSZUJNaYktiwUL+q+WWW64DlPrs4x//eLEMEvDzXQPHye3GZAUkFxhw8c0aI3vuuedY0ETfnHTSSWWiQmauueaakk6IYZp89A8TWX+P99KndVrd+9///u61r31tYaYbbbRROSUb3NUTYQPHeQRHoMh/ZVABR6Y1EztmdWOOt1btzPgGD2bHlGUOSSkjM+wRQD772c/utthiiwKcrA0AZrDwF5599tlFzrIC9thjj2IlaAdj5Nd+97vfXVxG9773vUvbBhgzGDjqK9/Vq7ec+5Of/KQkhwPlr33ta8WHxdLhjwe6jTlODopjZuvfJp1YWp/73OdK/2Dl5OtFluRP7uIe973vfUuQTCzi17/+dckEkf0Rd8p4V6Y/Sew3xvQv65dLjesuec91MLRYmb+9prvNn39z9V8Ket7lkWO5foM5f82sHq7DYw7W6QkxqzFHA857AjKYY5LCGzjeWsZJ/E0yMJ388Ic/XAARgwgYYowGCeYHOK+88sri0DcoAJdJCcOUM8tkxjwEFB/wgAeMuTqAIjPatZjBwJHZZrDGn5Xsg7BDA9Yf/6QIqMiq8xs4DjdWwtKS3XH88cd3X/jCF8qEBbBi7iZQE0vCeSZD/eEcY8lvEzFHelS7ZEyMu+++e2nf+XHpxbedybCB4zwyR6C47rrrjpnVGE3AMQnIzay+tU+K4lLaBDqYWP73jrkdffTRJWgiXYoTn0kt4V52AEYJ3LBO7WCaQJIpvMMOO3Tf/e53CxBilQYEkHUsXzTzbs011yy+dYCXfEgDMIPWPcj9Zdo5Tg5wM6uHA8YcRa7kSG4mLPJ/1ateVVghfyJZ+y7s0nkf+tCHymSE+TsWSE6WXlXHM5xvchWE1ff0xvn1AgD6RR8aOM4zOIY5AsaAIxMxAYQGjrcGxyzDyzp+jIK/yZ9UmY9+9KMlxQxzXG211Qp7ECgRicQKnvKUp4wtTUvU+lvf+lZhe9K4OP/jm4zppV3MhM+RXyrMJmaewWaAYY0CCF/5yldKqg7zLuxDW3ylgPMHP/hBd/7557eAzABuMoWL+XrLuz8ZKlxOTF4yBoxZB21iO+6447oLL7ywBIZNRBaLmCBjFmcSrd0gPgM/v+kzx2v7mGOOKVbIZz/72bH8U9+bIE2wQ5vVLoCKuqlNNtmk3PwhhxxSGukrcXppiFYPmtWNOU7OMgyYBFMouAECDP1JgQJAn//854sPkKLzMdIj4CYiKRqZIEmA0RWZ3sDRUk61ArwCgN6Z3i9+8Yu7O4cw1QAAIABJREFUJz7xid073vGOMVdTCkg4Xv4i80/qCQDcbLPNbmXahaly/ANHg7BFq2/d38kJjftk3333LT5F+Y2wJWxRP3OhnH766YXVwyIToj7CIAFoMhb0c9azA1ftALzaF+x3vmR9d+65597qOo7NwpahmGMDx+mZChOl8jRwnJ4cAQxwpPxmfaDGXJbexew1IEQ1rabAANdYY41i/kr7kF6DaUifcly9AoMpLHVLUjC/IuB1HvPNOzADdmuvvXYx9QKKwFk7HPpAj/kuJze+xqzbDcN0fAPHifs8DDzL+LD0+IP1O198Is0hT/oCgAmu6XdMUjqcl2OBp8g2C43VkBzVpHplCaEJDfM3gWozpnTWeDfmOM95jg0cpweOgoAAJ4UHrDQSpWROPetZzypgya8oV+1d73pXKVSCIRgwQMlxzDTnZxWGiV6u3Pbbb1+OAaJJRI4fUyoPC8lyT+3GoR//p+WmgNX5BpmBJy0r1XsaOA7fz5EZ2ZrgDjvssMLowvgAngkpE5S+dM573/vewvwl10v9CTsUSMMGX/KSl5RlwQ984APLBOsFKLFObUkD0q6EcOBcM0b3UgrTDBOtbsxx+M52ZGOO05PXREdTUgDJ2U55gZZACjMaEF511VUlURjYYQDWrGN6fscOgRvXBSADXjfffHP3xje+sbvuuuuKn1AaFVNcwrf2Ur4O6AJNrJLjPozQOBAJNyi1nyRl9yYtRFYC/1cDx+H6v3alAS39yWWnL01qKV/ouOSaAkcmtkIu+uljH/tY6eNkFKj5YEJ7whOeUPqdHzgl44xLbN51WCD+BHSSA5lodwPHW/pvvlfINOY43KDJUTF3DQwmL6AUaT7vvPPKzM4nKKiCKTznOc8puXFMqjj6E2EGZsBRnpwgTaLW8UkpvyfNJyxFFJNZzUxnNictC8OQQynhW8Jylhv6HoAD7vjgm89x6r5OHmvkq1/4igWy5Dp6JTgicVv/mXwSAMP+BcSSB5sgjkDaQx7ykBJ0EezEEFkOca0ATVFqf/QnZnUyIpLv2JjjEopWJwm8pfJMPIiy9raYOH8rSmzViRne/4AoFePDHBwbMypLWxNsqau65LgklyeVAwtUkGTTTTct7MMKGf5O18lyt1RvTz5jHWjJ0zRwnBoc62pIYZGWCMpBxNxFr/WT1VHMXwn9JiI+xqc97Wkl11UaVsBMP5m4TFJqMvBLOjdr7ukBM5wrxJ9rJM0r1095xKFTeebDrI456kEhuwX7VjuY9fta81ycrLcMqrTXmOPUCjzqRyQROQCMPTK7gaOBwqnP5JYgngrSZDJRlkZ8X4JBUob4zwxQqTxeGch1usmoy3iq58MY61xUvly5jHJUAViWgybBfrz2TJr8iMDROVYsqYZUFy6RYC54ZslgXC2zrsozSuCY2coz8WHxOR1wwAEletlXWlLzOU41HBbW78mzS46iHErreFVtwkKZ3Rz82f5iolqA8Y0BSL7Pr3/96+VB5V9iQwHE+n1hSWJ+7yYJ8wmGJADHdWFMKuqBBUoGZ1Ibn8zq8cZpVvAxo1lj/JBJ1o/5brGASQoLBZxTjfcFY1bPF3NMqSjXA46ouY4QBZ1KWMOqTgPHYSW15I8LoKX6SyLXqcWZSHn8kYAtxw7efZKI8z2WmHJqsVZqU38y1rLkJTP3dxBTNsnZrpiVSvEXY4sCKvFLJuVmvLvLSpe0kzXV6QNrsn0ngq0/JurHtL3UgWP8QzU4pmRZA8e5HxAL7QoxqzNpZmmioAC/cBz5GXB1Ttzgs9CtsCCfA6h17lzayblLM0AmcEYG2Wkw+8b4LdV6kuuqr1I9Z1D2aSuFppNDGWDN+mz9nJ1UBwtN/EObCyWVZ76YY5iBDmk+x4UGVfN/P2EoBlEGUBiFAeYF3AxQg0owZjIfeIJIddAm0fHxnm5pBse4uMiFrMkiBSISeU6OKXlOtZWqdsIe05dZfqi95Eumf6eS/VLHHEO1KThw5HOUyya61Vfgp5nV8w9ys7mi/qpfJVL5t3JaiYpnFUci1OMNrDofLxHyrMxIFDSA25jjXyUAxOrgFDDMX1wadaWjiay7yLWuvuMzRmpcA0bXqpckhlVOpDtDgaObNXtyZlqQrwqvtdVueqIyQdNV1swQzpP9LjnT+kfrLKdC+OlcK7MVpWU6rbjiiiUqbq1tX9dJR2Xh/Mknn1wiaVIQRD9TsmxpW1s9CAzDAESYfgZFwEpfpaBAHPsBrlgh8Q9mDW8AalBf6vuiHzG36grRMbsnm0DjQ4vrJqs/ch/1dXPNpT1qHRmlQnuYeUCMfIzTrHf2fyaquq/CPOu+DBOtJy3sP4A5uK103Sf6aihwpCSUQo6QbRKy+6AL8cn0YS5kpjUIUpLIJkVAMnlrg9eZCZi5Z45ZxU0xR6soLHgH+H08RwYmmUkMNoAti1I9WiqIXewaON5a0hP1I2VNDcXohzN9Fp30yra2vqOj9DErIgJodRBkOhPpdI9N+S3XZ0qHOLh+TSIGB/BM9Hi697YQj49f0L1FZvoz8iBDaVDJM80kWLPwGgAnmvwS8DEm67XakzHHYj0M43N085ROnpBqx07Mxua136DugOl2eHwMbthM4YVZDUYAZ3MN52aGieM2pdozuPoASM9gqZqO9dk1XE8lGflySys4TqQrE7GxMDETZv3ZZBnziV6SM0aZCSl9GGtkmMhkH+CR4E5dIss9ST+pwbEeG9MdJ33c50JpI4w+1oD70ldhkyFlYX4pDBIC4r2OXk8kywRrvMuHNCa1NdmmXEODo5uz9hE4Yo4Gtwz1LNjuA1C0kUrYNtfxB0ge97jH9cZOc5+eJ5VeJOtahmZtbF/PYTCbrdIB1oDaYEluFbktreA4XbM6TCFAGFPrq1/9asdVkVUrLBnL/4BhXdMvZapqv+FcAoPr63fv7k+FGfdgK17uobwaOP5VEuQUV4itKlL9m8yyTl3CdooQx80RIhM51sGX8fo3kW9VfNT6ZI2mhup4VkW+G4o5ZsG2bH/gyD8noTIzcl+gkkgfwLJCRqBEcvZ0B9VkAyDOdwKQWAqopPIYYOPNPDOZ2d0v2SQ7n1ltcGCOKoGPOjhOt78mOj79WFduoSPq+ikwIDkbQNJH4BgTKwAZq8CkO7gFxVyBZKpaq1BujbaiGJKYP/OZz5RLxsc4E72aq3teUu3Gkog1l9VF73vf+8q6aOum1WzMqjbHY321vmSsTWb5JRBDbySV20JDADarcuoc1LpfhgJHJ8haxxytFLB3tdprMa37AMewBIxOsMfGNyqoEFBfprv7DGBp0zNJAgfCqoH0dZ3Mhkn/UAxB+zL3lwbmOBHYTdesjqLWgReKLGCneKzqK/y6josJFmd9XcWlZihzDQTMfPeiCIbBbhmbKjCqx9TA2MDxry6u+JW96zuFii3XFLg866yzigwxSpZr0nLqxPC63yfqW23QB/5McQzgq5ydqkvph3pZZ9oZChwdzDmq6rLy8wBS3bVU4O1L4fgatanCsiKm2KmVK30qkoFisJmBFDXVETZh6nMNd1IRMqupKKJ9ZnW9wdZij1ZHubMSxPtg7lp0I8eEPQVAM5Hk+zrVIsu+Yi6n+ITKOnaqwy4MlJQJMwjsPYIh2BVQ0IZrZsMNNyzlzKZK+h1WjwcDPTkvIOx/VgnyYNng97///QLmNcvpU6eHve+FeFztV9TfGJ0dB5jANkbTZ1wV119/ffeJT3yiFDL2nco7+lYtz2QHTORDRFLi6nIMfeCnziZrtQ7Wn4cCRx3ZtkkYXrWWhjzHKHXSKRIJtGmVeopYud39MHM19SinCtqKOlBQS7hMUHyxZvTVV1+9HMNPB+SUy1cvUYmyTGLOca56fzInMHJmte+S8uN7g0hFHWXFMAVFJLy7j7C3ujenC1Qx81xHVRjpYDH34uf0LG3f6snHTCbXTCoAUNYIF5dK7+TsN4TJPuFf/OIXSwxCyTLbYihTh9g4Tkm6yQJ7Cf7oF/5M+qAyj2vVq+bocdtD5pZ+aytkhgf8wSPDjn0fZvfBD36w+G/N1MxK7EkVFGlMZmq+ZHuyUEaVV1StYToBJ1sOCFyp3mwilhUBNNX1U9zUuRtssEEBIdeR7jUeOLJwtGcQAE0Vw5Ugc760rT7A0f1jr3xXANdAY6KxfIBl2EcDx8n1K1YGUKMz2DV3mj4HUPqfleezfnU8P6HPfIdqI9hYDTAmpWu8KwZ8Y60oLOJ8kzf3IJ3KhJe+Gzpa3Zjj9EBkaWCO8QPSjXwWCTSrC5QACSal+nyUXmUajNDGVNwyPgtUMI3lfwKZrEe2s5xcVEEWIMokxhq9mND8RdocDxyz1M/1gayaftxBXDW2Wu0DHLELRXBtDWrgAnzVxLOzXQPH4cZLArDJTzSBMalZBmGBfLj0RL+mahIg424DcvzO9IPuTLQgJe6Z2mWTxSXA0UTqL6lfY37rYfIcGzgO19k5amkCx5gkte/IZwABLAWiBLykZGBSTCf7vjgG+7L/R5aJZa8XOwbyF0rOB6RAp17louSUAMd44Jg+oLOYBZ8yxnjssccWhtEHOBqcgBfLBeAyOPi+3DPG3MBxuPFCTgmcASYZCCwMOwpmRRRWp+/JO0n+XC0mXqa3d2A2WXA4oJdoN93DUPkvxQOSGE43wi7L1gkNHFcqpqCUoba2ejildlTSa5JDSMFSU0/aCubGnPUZO7STH/nyRzKP+ekoJjOJIqZggHcRfWaWDbWYPlk1kVQdqVG2Zx0PHDMQmPSYnZxIjnfXn6jgwHR9ju4xKWHkUFcjD7tpPsepdakOynFJmGxMjCZEfZLgqZYwSLmj+pMLhgVhwrPNQdZOT7Y8NJN42lXh3QTLAslk7jpJA2vg2HYfnFqDJzgiTC4KTjExQWlYwM+f2V4qC9PlGc94RmEJ2ByzWbVmqVqpXpPAjncmODOa4xwT8x0Fjg9KNJpfajxwNFCANDNayo82bNZUA+MgGE4XHIkkroQAZV2tpzHH4dQqExlAYlWopSA5O5kjdQoXfTOx8jdKKURoBGRMfPQi7HEynyMdAMLYKeZo72uBnZREy9a7Mc8bc2x7yAynyQNHRbGBESWmUHbzw/oOPfTQwqawO5sgATF+SOAoYg0ogSNm57zUQIySijRLe3IecKS09eoJjFM5fODne+3W+8qIWPNJAV8sJCso3GvqBdpFEJgDb5FxgBaAjnk1kSWRpGL+VMxX0CkRzrhUDETsVUqaCLztYsNekvI0nok/o85YpCclUJJ6l9gct4sAnvzVpD4lOTzM0P9SfqT7sEywzaTx8EMK8mWZbiZFMq+tHOa4SZR/swZpfdvA8RaFatHq2Y0qzBAoUED5hdn0iHnkte2225Z8Q452uWWOsXUAYFSAwwZKzO+smaWY2AGfpBL58lz5CbHIFKCg5MypT33qU0Wxk8pDwd0HP6f0DJ/dh/b5rRQa4djHMoAtdmIQuRdVmYBsgLOOWI4nIb8z8WztaZc7q2EsQXUvdUK6/Lxdd921pC9JWWrgeGtpkmP2Cte/MhD0rRSpOik7/kfHky+WyTLAHq1AqldHSc+hb1ZNCZQlEp0+BXzSzOgm3XI9/Z4ixgHQAqbN59h8jjOBSLM3paqTvrEk26Qyi3/5y18WxbTigenDzGYOU2oACfCYu9gdv5GZX2K3KDBzhzKLQkr25ajPEkDXwxyxBuAI8MJevVtuhrFinJLsDSz3AQRt+G5AAHVRToPLmnr3LGIef1PWck+WN5dd8rTHRHOf2elOO4CRjKzwwpY9WwPHfwTHbL8LtARaMEKgRocAlUmLvzHszuRmkjW5Yf8mSZkO9I387f1D3+gUy4JVELeJfsEWZUywaACkddZesT5q66GBYzOrZ4KNxVQNW0vVHPmI2Dgl9J0kbt8JqviOUlNiIJEN2ylvctcoqMRt/zsuCcAUHdjEdJbbxnQGpEBNe4l4K2CgIlLy1phnmAIz3bYHBgegxeasVrIUFrgZdDHNAvgTFVZNzh0TUPva1WaCSmE4BjXXgcT4Bo7/qGbxV/MDmsz0PdDjlzbBZc9p/csKAIR1ziL3DRcMvUhUmytDn2KTLAKWQwJ+mL0+2m233cqSToxfnYOwxbQdPWjg2MBxRuCYCGKSrWMe5XugQVExO8DmuPgXsw9IAi2+d34YFwbghbmlLmLSMCg3kxY4CvQAUsCWRPSYXQZWGCDl99l1gTrmiH0KHkko559yfpLHExWfCBwjMPeW9CP3HNPfoMcaAbUE8e9973sNHMfRsuQfZmkpeesPmSPSdARo9B1dAo4Yvn4CiBgm1k/OXvqC3LlxrIjiS8YKAaJjMpHz/fpd29wisYD0Y+6n5Tk2n+OMQdGJdSpPmCAQ9KqBkMImvYWCpuR9gjiOTxDD5zCwJPUCqlwrbTNpmeNAzbWY80zwKHjAzTvgBLxhoYCRr5O5L2pu+VmCMQHkpHtMltrlWR3nmLpMmjZci8nuGlb9YM5SRppZfWuVS6pO9CMTm7xYLhiAqJZDtmPN2no+x0y6GKM+wD4xRecJkL3yla8c2341qTqWH1oZQ2/0j9xUoJrSdwnexD+5oJhjlIffQMkyD9tnQYj4FqL02be67T44fZykqIke1mk4WkoUNuZlDYCJBGcmT5/EfxnACcjk3ARL6AgzlT9J+wYJPyMzKswQEw0TDNClPaDM52TAOSebNsXEGzatJ2kmeY76WQ1UuZjuk65xLxisNfhG4sNeb/o9tDjOqH3WmSTlxzKZTXh8g2SbrASWgpfv6txFE6jVWb6znt/xWeeeOpDa5M9WNCf7VqeNWBnRT+8LGhyZPVIy+krOHg8cCRI4tn2rF95gMgACWlF0oJyyc2EEWVcb03m8J0lbaS8gHsDq4+nrdKAEZLCSsOUAfw2ISzs4Bujq/olbAuMX8MIU+STjWx5PZkA2QJvJObjhPH8pJ8dPHYtmsn5fqsFRFDHgyM8xlY9p2AGUGTCsQiKyaCnn7yiVLBtWHrM5LgpfT5AUG0jmVbO+icpW1UBbs7w+cw3DZhKgCljGhVCnpzTm+FcJpO/qd59rt0smQ8fH9B3UqYBj+rPu14Bjzo2bZqrxvtSDo61Z2/LB2cDX3J9bs70wvpjNAb1EGifbDbMGyLTTJ3PTfhLOwxLDeAPIg9fr8/pz3xP9X6Hu2xogU3M11kCCavVKpPpuMhENTnbxWdeTZiYx300m/6UaHLNvNXBUpaMv870xx/4HUcBvPDO4Br3J2MAgS+mTNYYF1T60DLzaj1Wb89P1c/Yv1SXf4uDElzsyyaRGZ9J0krEw3l1P1I5jwypT5CLZDROtxU77Sy04UtgaHKUGNHBc8oNlkA0EYDLb1367sIWkYDg3+xtP9CTj+Rz7eur4yur7yACPbtVMpYHj383q9MFgfwfA9DHAnGw71dpMr/s0wUPyTj/UJfcm6v+hwFGjkmclsooMyg8SLJmswOR0Fa5WflVcsk2CpWAT+ZGmew3Hh9W5nqjYKqusUoqWior1BY6J3qaMl/QCMltmmWUW7QZb45kt4w30MKMoZB1RrMFg0JxKVLn2GaWvYprWeYs12OT7Ol8uZmxtfqedwYE4XT1K2zkvssma6azPrSPl9XPV59VMcrr3sdCOD4NP4CT/ZwXT4N7dg3IcNHG1E+aXvpvI5xh9ytirdY0uZv2+9tI/tT7U7o/o1lDgmGTd8847ryzkN9CFxQd3AptNZ8VsIiDrHS0Mt3LBEp+p2MB0r5vVFlZOKJ0lUVcNub78PzU46kxpHfKrpCbIrVtMuw8G3AbBsZ7hBxmQ36SzSN7NmtUAXZTb/5nJM4unAIFzk4g7VgTgFgVPPqHz6tzCDLIaHDNARSijP31OfploE2RJn6dIAh2TThJwznF5n67OLobjPas80vQPfEgajT6mC4neJ2F+KtN28LnHM5/pW/QpuhRArlPA6AL9S5pP0sfSd2GeuaehwNFD+ZPIutlmm5UBDiDdVBzQfXReTCZ11rAtWfKWAknU7OsVB21WcPA1iiQrc9/XS8ekwoy8LPtfYMO2Zl1s0erM/vWMHOd4VscEKOMnMijCiMihNoXi96lBz/nacr4leap/2zfG94BN9Rw7NyaJPCAacM3gyMCIkrsG3UmicF/gmOev12LXicysLHolCdxzKUphRUbtEuhL1xZSO/raM8oftnpJor717QBT+kx+zzpmsplun0zlW4xu1Hm0Pvvemm2FKqzvt+Sz9gkHxMP23dtQ4KgD5BopYQ4cYy7W6RSz7aSYHVkh4f/MPKHXs71GBqx2A16pAtzns6TKR56pCPqWycXm7gowLCbmGEZfA1FtCqZv6kCIY7NkMEBJf+r1y1n25fdcI2uesXmystLBi2slsz3Aqxmk6wIjv5N3mGoAMsrunqZK3RhWv+LgT8qO88JU4k5QfstWD1xRJkjEYtTB0VjS76q/q46kMG09aZBb/MMp0jHdPhkEx/yv3azQkhMZ4uZ7uuY7i0oUMaFPVt9k+9xMntGVWB1DgWN8jtYl2itDYxqOGTOsUk11HOEZQIoOhAVkne1U5w77e+0gd/8Wu1uHO5mLYLrmtg7PDOZcz+KZFqPPMf48OpCk63oiGwSKmJGZIGq/U/QlTDGmadi8gcSkxrC32GKLUliCwmfzdcdhIcrbK2iB/avIYqULk8k1U1wgPqT4ASdL8RlWd3JcTLiAegAgE4h3emYCxp4wSEUTRh0csXR7Qlu9hCmrVBRdUXTEGLPe3HH6bKaxhABi/W68KXdnQiJ3LiyrYOiE8ajP6MDhhx9e3HZW3gHxMNdMuLFOykQ7TMkyHW2AY452hbMcCvvx3XRp8USK6GaiXIqDqpqiph9A6dN09/BZo0mIl156aWEpnmkyyj6dAUQmKdCa/bHNpEp02ax8MTLH+vnJieyAVmbo+BIj3+z7kpk7/rfIOKtGoltZ32oQ6XPFAdTlo2Px42mbH/r8888vg4BC3//+9y91HyXz0xP3VFfHCSD3CY6ZuF3PXwA5E2wsK0Bu7TZXgSozow6OSojZK4j/3qIKz0vu8S8iV9xLAqFKzqmxOV3iET3MpJv3yy67rLDBVH1iNgNAhZXDCFP4BHtU4EIBE0Us4lcP+4+PeihwdENMF6aBaLVafJKn41ubDnBMdqwHNWhsgm62VeGX8k+Xek91PwkOGJgGGrACkHWO2iAYTNVm/XvYVjoey7n88svLbMm3uZjAsTZPAb7tVJlLFF7NPXoAHAS3DA6Kr0wUP9u1115b9hoGWCZVclCzD6j5nXwuvvji8r1NqiwVwyzsTUxOdhkMA9RXPgueYfoK4qrSIkeVDxxbiQnvOJVwTLBrrLFGuX5M3+n040TH0lP3yZfMgsr+NLUPjazcB/+p8lhLg1ktg0VREAFIE1zyE/W3Gp7iBz/72c+KvtCh7EM+kz5JgDDgaB07ObM6wmBd086TmZhj0dFBcQYZKgA0PnH3mUIU+m5ocKQMFHmTTTYp1SwocKLYM3m4yRikQQUgld0HWn36A8NcAuyEpyMxx5nOYoPPMuazuGVAG5gc1KqzCCqolr2YwDE+olS/sfMfczb+JWvSVbv2P8CSO4rpqbmo0Cv2pA0yUJwW88MOmZvMY+YmoDVJmQyBK/koTItlZKWE90EfrpJo9qXGFpyvNiR2YCJXEdqyTWlaPscp7/f4Ck3EjvU803nRIeajwWXyVjjXLoopxRb/5qjuW208xlSN3Lg11l133YILTGoyTSFbslcx3VYZJjYAypIy5lgg5OZ8LrTaZxwXTdwvE6XxZAJXx1MhEu3x+dpuwWSuKlLuWRuWDavpaBI3AceUzkQcHGjg2MBxUlxIlJqimxwps0kr0T9VTgCFSYzSqYyi5BSzRrkpW6MCR9ujAjOAKKhnhucX4hzXNvYFVBwDJJ0LHLMONgqbTZDcNCAGyNibLQ9S9Zkf2cBgOgFHFXHC5vOwCd4E0KYLjpiqdg1oVV6AtIGXvat9HkVwDGNLf8QKwwTJgNxNGvo0m6PpQ/UzTSBMWX4/BCiBk7qWYp3yFN1LX9W+6sH+cg33ZjIGwMCRuwXJyu6VqTnqGKmCAFM/xoc86PZo4NjAcVJcoFAUPTmLDqZUmCAfNEWn8CLMAAGAMiWZT9gyRU2ajnemjyg0hQVoQNX3sUIEZFT+ZqFIB4nCxi+UggTuC3gy5TBDhU0Njgw0IMx3zaeE3Xm5Rl0EIkGz6frN3Qvg40MDruoDMs0CjKPMHOvshWSWkJ/N0FgD/MT2BwoDjL8xfmMTp4AIHyE2GbCNDhRz9m/MNOk4YXT6cCLrzrEmZn3OpaL/WWn2knF+LEX64bP7MLGzcLIDZgZC+q+BYwPHScExzC2zq5nWHh1mX3/8Rv7n+KZUwFEUELgxoZlLlC9BCoxBOtOaa65ZBlTtCzRA+B+XX375khUB/AJo2VZB9BowMsssSOASOfvss8f8jdrze1J73FNcAwZFoujup94PezrM0bHk4n4zqL2Th+suTeCY7A81WJnTzFT+4uzlHfaH8WOKdIK+iClk18cEYqNjjsXI4wLLBDlZH9ELQChH2mv11Vcv98JCSbC3dgWYeO1gaWvWuFVyXEC5gWMDx0lxgdLFdBINFGWkhMDLVgWYG5MJewJKZu9tttmmmJpMXucmjcKFOMkFZ7BHqTrxIwbEbK1Jse1WKFkXiOX8mEXMZtd3Dr8iE94rFVtSpdt3zg9QJt/UNbUZEz3bqg4LkLkn1wnYZvdCbYwyOCYAUsvKd2eccUZxM/ArC5AluImpJZhG5vSFyWtyE632ygQTszhZEEn1if5lIh2PPboG3zPWyGph0bgHOgqUk3geCwVAK3psgk7ANyZ9nq2BYwPHSTEhq15EfqXLqNDOX8NcsuJAMILPkfkKZARGpHEwneS5JfE3+04zd0QtAaRIc62QjpWioy3OeytjAp4BJEyULwlDNdBEzA2q+jjAPjUoAAAgAElEQVRtMvkdA0T5SAOwYbIi3QYOx7wUq+m8tCU9hwlpgHsW+ZYZgKMMjuQUF0fqLPqfz5FFINEao09V9izFS0ANc6Q3VkBxuWSdM5mZrEy0QE46kN9NeNrPaxDA8n0m1/geTZrqM7gfk7U2kj7mWDosyKwPA9BJ+QlTbeDYwHFSXMhSOaBm6SPQAjiCLwAQe5K6IeGWD0fKipw+SdxAB6O0dIyim6mZMcwdv1mCqk0mVNgbX54o5tZbb1222aTQSa8QrAGoH/jABwo7kabDNHaPAFWbAJbS80O6lo2WfNaOPz5NTEGE3RJVgR9Mxj3UK14IZSL/lgHt2bWbrVmluDGrtZMVO4DYIMRmbD4fEB/GhzYdsJ7vY/McMZn971npBj8i89pkgemTKbnz7ZG9SYmOmGRNWlK6mLUmT3ISoKNHrBTZDnHJJEk7/uusi85EVIMkIKYj+scESs/qtdwmNss7+buBdfyQtdldrIxhksBduKXyDK+Co5TKA3iSSsVUBlgAkV8JIBxwwAFj+wyLPgOOLPBn7gIRQCZ9B8sUPQ4QUnA+zOc85zkFOJwrX1I6CNDiFzIAKS/QFMyh1EA2A9Q52Nu+++47Ngj4JzEQ4Ghw1NtvphDBJZdcUvyifKbyFZMCUqePTJbahd1wGwCBrJvWFtkASO/A0gD3TDaqr83C2p82vGYt7COxMAnWWJudAbPntP7Tx6yKgBpT18Si/+XKAiMyE+nmN3Q8k5eupHhI+iNLf2MOhzU6jknud5MSnyLANVlll0qf5RzTXaa19yxmCdAmQNfAsTHHSUdczOKYHKLUAAlTpHDMGODpc5hX/FIAjXIn8JFtMFOAwOCJmRYQ5HOU9oOFyKmsizy4ByCrPYzCQPNdruNzXYXF56zk0b7Bl1UQwA3ACyQBNwM4gy2O+YnAsQ7wpGBBHZHPMkvv2AvWbY31qIMj3TCpYfEmJTKNWc3S0AeZGDMZmtgck9UrzgOwkv0BnDZiemfiij8zYIaRAlJVwwToRMIBnqwJyd5e9IjlAZQFDOkFC8YEnvXwdUWfkj7UmGNLAp8MHSmRFwUGLlFuypO9pr1TVL/FX2MW9z9FDvAl1zDmWNJCEh30O58jc0sSON+i35jkScVIukzaCBjW/iLtUHTviXI7PukkVvJgLJiFhGSR80RMwxrCTMeTjXYDgJkQDOIwEG2QFZZikIvQ82+OOjhyf2CPLAyuCj7IpFYlCJZE7kSmI2/6wq/N3eElU4HZqx+yQ2T0pV41pT3694UvfKFkLVhEsOyyyxZ3DpdNXdqOrrBkBGsAsKCf9hP4qd0FJdDWwLGB42TgGIXM7BonfPLY/E45AWGKC2S5XgArJhOgGizI4TuDyjnxF/I5Mk2xU/4oA06uYla0pOiJ+06gxoCJ7yj1OnPvAWX341r8md6VxMMsMoDi7J/K5PXsrpGCE9p3/3W1KoM8uZZWRi0NzJG8MUT+RKk6yoORafqXHvjfcdEn7+SG/andqo8FbLgrkvSdfMoaaOMfDLjSweTk1vqRHEZ9xO/LpylgxBed7RIysWX5aSbKBo7NrJ7UrE7RWu8YHMWh0DGLUtCBkgI+IAk4MAHKVu8fHBYZM4mC82U7zl+2M5UW4nvMyzmKN4QBJj/RgItpXQdScm+un7Wyagq6X88AdLFTQaKwUAIIe3VcWOlEZnUYhvtz7dovlmg4k43P0W+A3drxUWeOmahEorEzBbH5ctPfmLW/uFMywfjdS6CE3zZ5jnUeaZ0Olshz+jrpVJmotUU3kmsZ85u14Bz+TEsHUy4viefOqZcvNnBs4DgpONbr2ikRRc4Mm9+8AxrgGECJokXxkmoTNkDBY6bXfkGDJ+a4G6vzIB2fWpy1eT1YMiwFdgNG8SWFOWJ5ufd60MVcmwock/hcs5ew5Jzr2oOFfgefJ/9P2gGL6MewQHIJG/NONnV9z6y51pc+A69UwjGhxH/t0QOA8T1G5jHP60ktjM93WQlVT3DJt4xPOfocszquomlX5WnR6uG1dJSi1cM/dTuSBGKSD0pjssh3k9zClEBjjo05LkzNXKR31cBxkXbcOLfdwLGB4+ho8wJ4kgaOC6ATerqFBo4NHHtSpdZMk8BoSaCBYwPH0dLo9jRNAj1JoIFjA8eeVKk10yQwWhK4FTje9s7LlKdLqDvLwHwn98iKAktvrIlUDSXfJxIXf0u9sH5YcSUVQgqIklRKW1kpYZOt5EEN29ZkxyVPTrhf2oDSSXKrUnizj2togwxErSUxy/tS+NXSJgU4PZdlU/48X+raydfKErb0Q1/309ppEmgSmJ4EhgLHrF9NCSjZ6yo/Z91rDahZ9zjd1IXks2lLMqgiA1YW2JQqS9im92iTHw28JAWrAAIcAVdfrySdZi2p5WOWrAFCVZI9lzWdAcfswtbAsa8eaO00CcxeAkODo4X6WJZ9ImSXq8Ai0XLwVa8wmMntYU4KCdiD1soCLLWu5zaTNutzyoLyW5KWJX5KWlZW3QoKm4b19aonCAmlqlsDfGtFFToAxMDRNS2V8zmlnRpz7KsXWjtNArOTwFDgaLAb4Ko82xwpqxiAzHgAOVOTELCm0krqrwVoZveYfz97MNUiWfVxJfR5nVSJSZY/xqjMFZDEFgOOJoCU8G/g2FcPtHaaBGYngaHBkWmrNpr1iYASu2OWAhe/ZTlWfIczua3UZUuZo1Jw8hYAnq6JPtm168owMXv5IetlXzO59/qcLEvyXTb3sZ4UE1arkH8TIAJIJr11vl7NrJ6t5Nv5TQL9SWAocAQeAMoSQuACFJUXUnvPXrECGxbch5XNhO0FALNfRBb39wmMxFaXusomSX2zRtfJEsI8RwowAELVZhRx4J7gv1UMoYFjf0rdWmoS6EMCtwLH29zx4aXNweiz/wEkcAQo3m1iAxgxyFRTiW9wslp4k930XIDURNdL6aQ870QrG2Yq5FoGGLAovD+AKDqtWgmgxCBFtBOQGrZs1kzvq53XJNAkMJwEbgWO/3SnR4x7VsAxNdOUagKMQJLZmzpqM2GMw93m4joqroUAZPYvEQRSaw5AqjyCTfo/RWI9ZQPHxdXX7W5HVwJDgaPHz14i2CH2GFPab4InqYw8uqIa/snqPFFnpS6dd9FrTBFQ+gOMKZnUwHF4GbcjmwTmWgLj+hwHL4oRAsWUNveOLWYbxJSkn+ubXSztD7oHUsMw1aoBYqLTTO06Qt2Y42Lp5Xafoy6BocCREFLFOZ/rXel89nvfwZPFKvzxfKcBvZjYtckdxtiY42Lt8XbfoyiBocCxHux1RLrekCb5gqMopOk+02BAqz4/qT1JfapL/DdwnK6k2/FNAnMngX8oPDHepeo11oMDf7zf5u52F0fLgwy6joTntzDterc7T5eodc5pbHxx9Hm7y9GTwNDgONGjtwj19JRiIrALSE6vtXZ0k0CTwFxJYNbg2Hd+4Fw96EJvt4HjQu+hdn9LmwRmDY5Lm8Bm+7wTTSYNHGcr2XZ+k0C/Epg1ODaf2PQ6pO0xMj15taObBJaUBGYNjkvqxkftum2SGbUebc+z2CUwa3BsPsfhVaAu6Dv8We3IJoEmgSUhgaH2kLEixvJAqzlS8stAV4nn9re//a02Mp8tAIh+5zquJWm6z4i4/EK5hdr07hr8ffUqldl2RNJ0srLIM1iPrthEUp9qOdVl3toKmdlKv52/pCRA362cq1d9LQSLKAVx8h5MMeYnu7+hwJGwVd5JuS+NptxXBvtgLt9MAC2J5G7egwTI+mSnKaib9i3l87nPeo7kpT1rplO6DDhaVx0gDgjm/3RcA8clNbTbdWcrgZQbhA0A0hhI8erZtj2b8wf3oArO9AKOKSwBSMIgzRAePAUnCKIGsZkAGhRPcVufs5pkLrZJ0HmewX36nIK3s+mEnOsZtKfqjnvHrqMojvF/mKMOqjcka+DYRw+0NpaEBFK937hSdcr/0e8lySBjwWVsBcOmuqehmKNGPKh9ZN785jcXEzHFJwKKQGYmbLHuRDcfcARY+b9PcEx1ce17EZRny1YGfShV2CjmmGrjKvE86UlPKnvwpLgtmTkmnebaDRz76IHWxpKQQMxqY0kpPiDJWpoKhOb6XnMfrF9YgrS4x6lY7VDgGLP629/+drfuuusWMHEBFw3rmQlTHBRK2GJYXG6+j7ZzrZjVrhHzXUd6nr6uUysD8FM5/Ve/+lW36aabdq997WtvtaGWGdYx8Xk2cJzrodLanysJpHIXfUagMqbqyX+urj1ZuymM45i46lIha9LzfntNd5s//+bqvzjodnd55BhADAIFQPzyl79c9l320A94wANuBYx15evxqtIMI5QESuxbrcK4rQTsu5IiDcO0McwxYY98Iyqab7/99t0GG2zQGzgWWd7icohMPvnJT3ZHHXVUt/baa3c77LBD2TcGKPpTDdzsmn1zGjgO04PtmIUogYxTpOmLX/xi94QnPKG4kFLPdEnds3FuXMEvRMU4dE91HdXx7m3Sqjx1ZPX3v/99d+mll3Ybbrhh2RhqhRVWKIO/b+ACrD/4wQ+6H/7wh2XPajv1DTpUZyPkALdZDgDbNOzwww/vXvrSl86m2VudG8d03AGnnXZat91223VrrLFGt+WWW3YPe9jDitmRTbdieoynREvaJDEpJnsgzL7eDiOgTgDxMWV3Skrpd4PFs8Z94XmT9RD/T8wc3zuOMvuN3tlWorYm/JYMCm15ReYzyTpwvTxbshiiJ9nGd9BtFJdInttAy327B5vQ2XJXRodJMBN/Jr9kNCzp/p2u0gcT4vJyfrI+8v7Od76zbMT32c9+tsggz0wWCUqmv1MKMcGR2RRcSVCV3pFrdM896p9dd921+8QnPtG95z3v6dZZZ50xHXNPCSIlc6QQqJo53vbOf93YPopRCwJNvuSSS7rnPe95BRxXXnnlsYjydAU82fGufe2113bf//73u0c96lEFHPsE4Dy8wfTrX/+6XOeII47oXvKSl/T2GPG9ZsACx2222aZbddVVu+c///ll32qsmO/R/t98lKnzuNC2Zk0hYwoOJOlEQBBgxa2SZ85s7NkpXUAg5xgg/K8pnOx5+YLiWuDX3njjjTsuHC868K53vatbaaWVxibjOgsgAcFcd7pg43mSflKnVOW+tRuzrH5+3zs36Wx1OphJVz9feeWVZVIwKb7//e8fSxtz7GIGx7p2a5a9+k4/euaXvexlBSd233330tcJ3pLX4GRYTxppq7ZChx2Urs915SVlzk4FWGvcf8CPzj3xiU8sWyIDSOMwk1d9HdcfGhwpjYthjh5a47YYrQveDvsQUx03quCIma644ord05/+9M7+1fe85z2LSY1FZtuEhbg1ayZI/RYGH0B0v4MzrmMSjQ9gZrINs4gOZGDkOAAKWFgMa665Zrf55psXgOXKIaswgzq6nzzVTKBhklPpWf17ro+lYnn1gHfv2X2zDhCG/ZKP5zXRJjuBXLAmu3N+4AMfKJfyf+51MYOjZwnbi+soYMZkfeMb39hddtll3bnnnlsYfxj3VVddVSxCAPbQhz60bE9sF06vwWyN6fRdjtV3iM53v/vdYm0su+yy5Y/eZPLTj+7DxLXZZpt1e+21VyEmsQISlE2wdijm6AYwxwaOw3VbnQTuDMwRM33MYx7TrbfeeoUNAUc7DwICDHIhM8cU5E06UkAy+WLuHWugaBk8Mb0HGR0wzXfOATJhoz7zN5PP1ltv3b3jHe8oAzGMLUCd6yZ1xP25p5n6tpLqkUESNgr0kg/rHgClgWaQG4hYh2cx2PVtfX+ezWuPPfYoA/ILX/jCyIBjHY+oE6tZljvvvHP36le/uoBPPcm84Q1vKHLw3Q033FAIlsyX5ZZbbiwnMv1KbtO1APg43/KWt4xN1vBKZgh3FvIRN43JlyVy5plndm9/+9u79ddffwzsM2lFP4cGR8zRw0NdM0JjjhMDZQ2OOvnUU08tg3355ZcvLAhz5IsBjqg9cDT4FiJzBBRJSYqfMEoUIBwzQ/62XQZQia8SSACtzMYxrZL7GTOLfpHD9ddfX3Rro402KqaPV6KgrhvzddAfnsml9oEOM5WF2cQvBry93K/PYYj5/Itf/KLbc889u49+9KNl0GEpBvhZZ51V/tde8mad41hA+qlPfWokwLH2CQ7KDgEgn+OOO67ssOmVVDXmNhZnAoUjL3jBC4plcOSRRxa5RZfCIgOsw/ShY0yqrm0feONPAFTbP/rRj8o16VBym8UZmP5PfvKTu0MOOaTcY3yg3qNjQ4EjIcSsrsExTvFhH2CY40bFrI4p6Z2/CTgaRFKhAo4A0mc+Eh20EMGRssR0th0vh/ZXv/rVomyrrbZa94xnPKOYosDOjExP/I85MK8c6zcM6hvf+Eb5zjHcC2Qjks/P+KpXvap78IMfXLIHHv/4x5fsAYMspmxAz/1gBc5zX89+9rMLCw+IziQgk0HuXKah+zeAAJ57ci+5BrboN9ka+u2MM87oXv/613eCEIKVJgV/QNWxr3zlKwtTGhVwjAsiTCzpcHSDT/3lL3956UsBx7gjvAOobMjnHGb16quv3r373e8uJKEGR7o13UkuOZZkr1/oDgb74Q9/uESnXZvbQx+b0HbZZZfy3UknnTQWUApIJnF9qGi1G0dHIT5nOUq8yiqrjEUMhwG9YY+Za3BMJ+gA+25TdOZbnwGZ+JbiI8Mct9pqq+7Rj350AUdmo6CWAeez4IwOWYjgGLMJAwQAGBNABygA6oUvfGG3zz77FMUzKK655poCiPvtt193/vnnFwAkBzIArJTxS1/6UvfiF7+4u+666wrQeW6DhA8KkABHQGPmD1t0vSwQ0G8S6m+66aYSFX3uc587xi4Hzfiw+MmYSB19dx3/H3jggd0BBxxQ7gkLAZCeJYGYBHIwFv5kKVrGhmMS+fZsu+22W2Evn/nMZ0aCOWbRB33lYiAP4MesNSEedthhJS4RN0SCdnUQhx44dv/99++23Xbbov+Z3GJa18EZv9V+yTpgnOMCxLFYBFmxQow1e8TT4ayrNqGZlE888cTyHPVKtXHN6snyHCnkxRdf3G2yySZjARkP3GeaDSHMJzgORqun6+eYCPATpU5aCJ+jFB7gKIXAO9YIHAENc2OhgmN8hJRQFoEBDzAAFaDDik844YTCsMiPX/p1r3tdYU8c3nyszsGasTLKSocwiec85zndjjvuWHRIYMqAwhxNvMwuoDTeS79hrN5PP/30EsmOOeQ+4yf0bmBkwE3Uv2FD6S9tYR7AXlaGydM1EiWPbxIDEXSRieCZsdg6+IRQvOY1rylyu+CCC0YCHGuWnSwD351yyimFQZusTCR1gRfHsR4cY+JEsowD+mFSja+a7JzneMwzeBAXSgAyPvCMs0zAAWBpVCZn+mFS9krwkD44D4jrk49//OOFQYYB6+NMcEOvkGngOCz3/XvO3SiAY3ITKRWmxpdkpgVyTEUztIgskwrIf/7zny8simIKXIRBUEDy8B226fPHPvaxkhBv4MRMo9jacgzmON7LYHEvlJyPCQi5dqLN3im5aycCGaWfqL2Yct7dG0D37J6Vj90rAZoEpoD93nvvXQJun/70p8ukl+CRATyK4BjLyzvZkInJDQgJupx88snFr16naiXiz7XCWiArzJHPca211ip9FZM70eNkwqR9+hHfdya72pqIuQxsBXpYNSwdwbJUw6IXWKp7o7cYbLIIYj2k/wpQD7tCpoHj0gmOAUSAgNUxf5nLlBZropS+k3pDgZlXzEwJt0CSkifY5LNUC1FEznDMMwwjAwjgPPaxjy3MkQ9zsleSfQ0a/j0DKwM2id38m3xaBtJ4fqwMsASZYl7FzHN/Br+gQdhpcvr4G6Wu8Ce/6U1vGgP5BKhGHRwTTPP+uc99rttiiy3KhCYuEdOULBLMIg/gdd555xVLCohimgJxMdGxbBMxn24yEMg7AbywxATQkj+rv/Q1F4/JmknNVZYgojb0XyY4QC6Ac/zxx48x1EEXTAPHKgm8mdX/CEWUi+JSQuYwRRdkEIzBEmNKATsDgVktfcKqIyZ17QOk7CK3TGIDiAJrP8zRZ3lwTHDgmGj14F25ToqfAK2sk3dcksrdsz/MMqxwPL9jzMRcIzqQQJQBI7hSB3p898EPfrCsk+dDxh4l8zs3qUmjyhxrEzfg5bllGXCHmBS5EupSgLUPPuebAGVvYJqOJVMTI/eEOACzV9ZCKn95T0RZX2knfeUz4D322GO7gw46qARi9I1JmYkeUzorvejyK17xiqKbxxxzzBjbHwTeBo4NHCdlZykugvHJCZOaItJHWfkLP/KRjxSTSoDEsZdffnkZIPvuu28BuAwgFwlz5GsUvACgvkuaRSo/8e/5neKO98IQDEBtC5xghrVjXjvYrCAIJiOX1CvpRINtJqm59mVhwFih/EUrPfhZ/a5tzNl3XAye3XvaThujCo41MCVAFrlIv9IPfMUmi7g0EqAKixMIoUv81Jgbl4hjWCJSbMgeGz/44IPHVtjU5m4WD4ShsxoknTPbsUH+TD59v4uI8wn7HPYpaKiegpVLciPjSx4E4AaODRwnBcf4jr7yla8UANxpp53KrEypDz300BKcY/5ikpTswgsvLMeY+aVQUErgxd+DdfI5iUT7wzoNjJSncy0DB2MQ3Dj66KPHrdBuADhGZBuDA6QGIuByD/yWBhkQY765vzj9x2OhYZYpbQV0nX/OOeeUQct3hTVjhdwMAgkCQRij+88KJ+lJyXVcGsAxukGmQFEQSyBEgA6jrn2E3HKJJJMn3SFHQS/Mjg5gjnTL+VwvZJyc0fglyTXLUnNdOgOQ+RH9zqoIYNMzOuKVwJsJ3cTufmU6hF0mHYjpXybz5nP8+9rqZlb/I05mXbGBQKkorpn6qU99agFEKw2wSU5vbBEwOYcyS1fifzR7O1/OmeBFooxAE8tkRse0AnzMs/ijUjg1jAXYGmhYpd8wSNeO7zJM9aKLLioDQLRZRH2igEwdfQ24apfvi2NfWhFfmgFjUGIdBqLAEsDHRlzbMzDp4tNyPYOdbLSFxWYwJ6Lt/750btIZbp5+lNZkYvzxj39cmJyJk2wwQlYElwn5yNLADLlfUqwDuPrMT+1cLhUWBsBKxoHPcdMMPpJ+12/jvXKeY+Rj6k+BIH5H/Zp0sfrcFpAZKDzRl6KOUioPxaK0AQHgBxyZmWZ1Ji7QCDglSGLmjiM+kcZUXtdmTKzsQRTwMoAkCFNgIJRASp2uET9UfFCulTSQVH7hDzX4MFgsJOx0POaYfNQAawZqAPn/t3fn0fZXZf3AP9VvyQIEEpVkRUgyZDEYVjZYgiFqNqqZImSTkVk22OzQDFpZZvM8OQtIkY1UKoiWDTgkJhZqYamlywFrVX/087Xx/XVzuOd+zz1n3/u999znrHXXnT7D3s9+9nu/n2E/uze3enlki6DrU3koKSPapI/Mb5F9AYt1B8dsMcYGmc3ZfUIPpAEmgGPPM4DM2Ppu3FgjFlDjZRuiRS86FNfHvOTw/H8jcPR87xZQtBjzT3K3cJn0eakFjh+m1xS38hwPTikS7AgoJB8z7BBAUDDg1pfHBxgAKUAYpe73VieSHfbmWRSX0jJrrez+J/0iycQBwrw3oIfFJRjCHOZzlCbke8B5XiJ4opSkkRzJfmdOoqVJawp7SapQUnvcm+ADmWDBzEzfMex1B0fjaRy4Q7gy5BHG3xtgJCtj6jqsDSj6HlnxAwrWxceYpO1+kZwHgDGbZ/+f8eVfTOqZ6jypNRmALHAscDw4Is5cMRsZzL8peF8UIjmNlC17qsOgkmLTB0UoLeYJUAAgQGKCMVHj7McwrrzyygMly1IUoi9y0e//tuDxd3H2mwiSy1MmbV7HM2ETke7BMoCZIhcBRtfk+sgn7JlcmG18ovonwIQ5rTs46mv2SYs4swAiW3IL08415EFmdMN4BqS4I1Isgk4k2TyBna1aePGNKv6hjZhpxizv7F0d2lVmdZnVBwXKfudJzJM+CbdPfcnWuuxkyKofkzhpHHE7hMn5P6ABckBIHlx+d60oaJ6V1d51Pt4ZX2FYru16wNaEA1QpdzYvWu05mcSZGNqUSH0KaSSqGfM75r1++Nn1YZmXX355A31slu9VHui6g6O+W4iMXZ/n2LNGf0+Cd2RtXFJXkT/ZePkkBzWR5t7tMY89bvT3LGzZPRV2HyukB1vvKnAss/qgwOiCmMEBtIAWBe8rKGeHgXsARdhatmbFdKagfSpGv4IHPGNCZS+sZ/fAm61eYQTZ3+vZ3peT71wXEA0zme10JmDAN4wwPsww3wB+b0JnsqY/SUxOACBFXuOCWHdwTEWjPnUnyfUZ21gXZNHnSUY/+sUpbC6g5vfNClIE2GbHONZGFuG4TlKVvL9+KXBERzmVRZ1kryvcGmVcaJYtcFFWXZFAeXW2Y6kEHgVf4BEHvSQTzeTVJ0nJ8u1Ez7ZK1zd7WQ8mUhIUWrCPWhR2L+2tDnj1SjP7c5S4l1+CHLMmea6ZfW4vy1wT87Z/RiZPmMUsi519byblPH9jnrPR2Pdt7M2u/DwL7LN9iJzSxoMq5x6/YCN5xWrYyK+3kQ7Myjki6XVuGTHN09/NnrVQKo8HM09EAOV72XUguz2mxzKNnb2nnzTOjwGQfE98RyPBMflP3q9PQFjRSwGAUZ9shcriYZuZ6iPAca8Vnhglk3pOSWCvSWBhcMSyJPgqCOBEQNt/UNw4WUd1nIkEHOWTYY2jz5CJScbUERnFHIGjZOFRzDEmWViJXRTq3AkO2FK3l5jjqHGt55QE9poEFgJHnRJBwhxV07A1R65SHNQjOt3TXkmzEklFu7xnJHPkZ8AYsTp5WUq324LG7N3M9NpKH4Ejszq+Dhvh5btxR8j/KnDcijTr2pLAoZHAwuAISITCbdXyUW8tJ3qNaHqcpdn+k8z4JLfjdO4AACAASURBVNWOeIdnJMIIjKULSDqW0JxdFiPeA8ztDgirtrAAe24C+VUFjiOkXM8oCWyvBBYCR0DCBFVxhc8xKQrZWD6qiXHaAt2UjsruhJHv6FNNvEvJpHnRzGXem9SDpCfIvZOioOr3ueeeW+C4jFDrnpLADktgS+Cogi+zGstK5nufwrFq25M2gWXZTM63qVjlSL9mdj4A4jA6m91VLx71iVlNNhi2HRsqjOiLBOVijqMkXc8pCWyfBBYCR6/f7mK3CYYALz5HX5iWIMZIn2NSC5jt+vSmN72p7aQYmcqTFJTkzO3lYxK2T/XqySWB3S2BlcFxXiWMZbqdJFoR5IDj6DzHJOwCLuaubU7yHFUNHhWtLnBcZvTrnpLA7pLAyuA4ktUlWXYWHPk2R32SZMrkxRylDBU4jpJuPacksD4S2FXgSKwbmdVSYkZ9ZpljzOqRzHGdSpaNkns9pySw1ySwMjhmP+WqHU+k2vftNqsx1DDHAsdVR67uLwmspwRWBseRrC57LWcDMiMj4oYxhTF7n6OK1aN8jsUc13OyVK/2lwR2FTgSPYACjtijaPXo7YMBxyp2u78UvXpbEtiqBAoc64CtrepMXV8S2BcSKHAscNwXil6dLAlsVQIFjgWOW9WZur4ksC8kUOBY4LgvFL06WRLYqgQKHAsct6ozdX1JYF9IoMCxwHFfKHp1siSwVQkUOBY4blVn6vqSwL6QQIFjgeO+UPTqZElgqxIocCxw3KrO1PUlgX0hgQLHAsd9oejVyZLAViVQ4FjguFWdqetLAvtCAguDozNkXv7yl0+PfOQj2+FRZ511VjvnZXSxWyXL7Kvu91aPrBl5hzvcoR27oPiEPtnH/axnPWt6zGMeM2zAFdBwfoyTDn1e+MIXtqNf7RU/77zz6piEYZKuB5UEtk8CC4Gjye68FeB4wQUXTMcff/x0xhlntKNZR53vkjJiDtTKudWOZb373e8+tPeAVtEJbXdE6w033NDOd1HPEdiP+Cie4dlHHnlkWzyuuuqqdgwDcDznnHMKHEcIuZ5REthmCSwMjpjQy172sunhD394O/jqzDPPnADaKOaIMfoCWm9/+9un173udQ2AHZs6CoDJEptTWRzYA7C3vvWtB86QGSVr7T3ssMMa2ALiK664oi0qDiWrc6tHSbmeUxLYXglsCRwxx4c97GENsO51r3u18mIj6zkCLczx5ptvnl7zmtdMp59+egOUkfUcMUemtWcCSCCcA7aA/YhPzpDxPD9fdtlljTliwve///2LOY4Qcj2jJLDNElgIHE3wW265Zbrmmmuaz5FZ7YB6TG8UcOVUQM8Ejip0q+UIHEcCcM7B1qcPfOADzed4ySWXNGbn3aM+gDFnbz/nOc+ZHve4x7VFpZjjKAnXc0oC2yuBhcBRE7CsgKNJf+yxxzazeuQxCUxqHxW6mevOx3bu80izGnMEgsxeAKlfZ599dnMVjAJ6zyUX8jniiCOam+D6669vjPF+97tfMcft1el6eklgiAQWAkes7j3vec903XXXNYZl4gMyIDDyk2MKmNd8gwGrke85/PDDGxONCa0vQJipPfKYBPLBUuOXffe7391Y8Pnnn1/gOFJp6lklgW2SwMLg6BjTV7ziFdMjHvGI6bjjjmtsC3iNCsikf4lWS+U59dRTp0/8xE8calbnPUBLKo9zq5/xjGdMj370o4eBfc6Q8S4gKZXnsY99bItWf/7nf36B4zYpcz22JDBSAguBoxcGHL/iK76i5TkGHEfmIHoPcLzppptanuNpp522beCYPEe+TedWy3McxRxzzjYABo7Pf/7zJwd4CchUKs9I9a1nlQS2TwILgaNJzg/4yle+cgKOd7vb3Ro4ApjR4MifmdMHgeM97nGP4cwxUWSADxyTBD4aHMlHf4BjotXFHLdPmevJJYGRElgZHEcFZHQKOAmWbCc4JirO9GVW33jjjS2VRxL4qE+OmPUO4Pi85z2vMVMBmXPPPbfM6lGCrueUBLZRAguB4zyzeiRzDGvznUkNIPnoBDFGstMeHLFh7wKOwGtUnqN3+OrBsfIct1GL69ElgW2QwELgaKJvFJABjvGvjWpb9lZvJzgCrf7camY18Br1SUAmZjXmWOA4Srr1nJLAzkhgIXDsmaNotYDMve997+ZzHJmgHdMaMPaFJ0YDsHb34BizepTPcSNwVHiCWV07ZHZGsestJYFVJVDgWCXLVtWhur8ksJYSKHAscFxLxa5OlQRWlUCBY4HjqjpU95cE1lICBY4Fjmup2NWpksCqEihwLHBcVYfq/pLAWkqgwLHAcS0VuzpVElhVAgWOBY6r6lDdXxJYSwkUOBY4rqViV6dKAqtKoMCxwHFVHar7SwJrKYECxwLHtVTs6lRJYFUJFDgWOK6qQ3V/SWAtJbAQOKZqdiqB7+W91fqSM7L7qjxKlo3cW01bvEchjdnCEw4nu8td7tK+VB762I/92FbaTKHf2bOzR7VpLbW3OlUS2EYJLASOCik45MoBWw996EOnE044YTrrrLOGFrtNLceULFMNPMckjCw8EbBRfEKlIfUcVQIfWZUnBTlUAQeQL3jBC6aLL754Oumkkw6cIRNwVNB3Fhy1MeXTChy3Ufvr0SWBTSSwEDia7P/5n/85vfSlL23nVgccTdyRZ8ikDqKKPG9729sOHJMwsp6jg7v0BaP74Ac/OL3hDW8YDo4qFQFGi4piwC9+8Yvb0ayqmit2ezDmWOBYc7YkcOglsDA4ApJrr722HZPgGNMzzjijtX4Uq+sBAZsDkKeffno7d2Xk0ayexXxNyTLl0ZQswxxHsTRg7jTDmPCYo5JlCvc+4AEPOFAJ/K53vWtbAO50pzvdxqwucDz0E6NaUBJYCBxN8g984APNrH7Uox41HX/88Y398I+NYo7YqS/MjkntbBdmNUAZBcCG2/OBFwDCIG+44Ybpx37sx6aLLrpomDbkOFby8T4+RwdsAcKcIbOZz7HAcdhQ1INKAktLYGFwdN5KwFFARuFWpuMocOxZ21ve8pbpX/7lX1qw4u53v/tQ5og1AlvMERsGxJdccsl04YUXDmOOcUMcddRR7T0vetGLpic+8YmNcT/wgQ9sbBg43vnOd26AWT7HpfW3biwJbJsEFgZHzFG0+su//MubWWpCY2CAYNQH4zr88MMbaHkfs9NnZLVxbO6www5roH7EEUdM73znOxsLxoZHMVTvwEqPOeaYJp9///d/n17zmtc0FgwcgT5wZE4DR9eRaaLVxRxHaVQ9pySwvARuB44eFV9ZvvsbILz66qun7/qu72rBkiOPPLJFe7FH4JVginuAw6jDqpbv2sZ3zgPzvq+rvjMsODIIIAvIPOQhD2lncR933HHtiNsTTzxxOvbYYxswChLla9U21P0lgZLAahI4KDjm8ZicvMD3vOc90/vf//7p5ptvnt7xjne037EkrCvmas98Vmve3rwbwGWR8T3gyP8IFLkKsEbskamNOfoUOO7N8a5Wr6cEFgJHYIcd8jtiisxeEWVgCShvueWWlrISgDTJdytzDHBt53CGRQcggaPoNXbIDwkQfeeaAJZYePI8tW9U1Hw7+1jPLgmsuwRuA44fc/SpB/rbgxswNMGZ0UCSif32t7+9ASPA9H9/F3xgtgKB3fqZBzzaPgrQA45h0ADPogIgBWEAIn/n0Ucf3UxqjJJ8+0T43Sq/aldJYL9IYCFwzGT/j//4jwPBjLe+9a2NKSYyCxyBS85qxiR342ceAAL00Ywtz/M9wZY73vGOzaQGlBgjBpl3z4Kjto5u024ck2pTSWA3SuA24PjRR51yoI39pMSqfPEtivRm611SeZLOk6DGTpiuo4U5ijVqF/n0ASo/Y4bkQn4A0fuAItaYPdi9OZ7+FTiOHul6XklgMQnMZY5uz8TEEPOziQ8ok14Tc7p/nWtHpcUs1o3VrxoJQr1Z3YNcGKRFxQdYptBEX3Cij3aPbNfqUqonlAT2jwQ2DMjMdr9P7QGO/e+AMp+wr5jX+0eMt+3pvKBKD5q9j7GCMPtVU6rfu1kCC4PjRgDYd6wHxp517ubOH8q29UBZ7PBQjkS9uySwsQS2DI4bsUp/K3BcTMX6IM2sK2KxJ9RVJYGSwE5IYGFwnBewmE34HhnY2AkBbNc7FmGD/TWLXL9dba3nlgRKAreXwMLguJEJ7W+zu0EKHD8SyNpI4fr0nALEmpIlgd0rgYXAcSNgzB7lWXCMib3fJ/5sJe+A4jyzeveqSLWsJLA/JbAQOCZC3QNe/pYUlFlGtJ8ZpL6L4ls4UiItuYyzkemNckN72e33RWZ/Tsvq9W6QwELg2E/WTPzs5pgNxMTUXgYcN/NrjhLWTr0jjDrbEvvE+MhOn2Z9tvnbqP7Wc0oCJYHlJLAQOCbRu68aM2sersp2wqA26sbIHTfzSpZttDtlOZHeGrkP6EmGT05jkul7cNzoHcUWl5V83VcSGCeBhcAxJnTPagCmyW47XJ8UvgrzmQeCIwvqznvHZuC8VXGnvZ6ZbYN5/sHyG0eC9FbbXdeXBEoCH5HAQuCYvdW94PpdMP2umVyzDPvZKZN3u9kaAM45NX62kPiu2ARZZdtg/I89IBY41vQsCewOCSwEjvEzKnj7z//8z+18F8UmTO5U5plljyNN4d0hqsVbAeBUJUoNR7JSiUclcAVuBWnsr/YVZhnGXeC4uJzrypLAdkpgoTNkTFhMyImAn/mZn9l+DvgtwxDndShFcgGus2RyXvVmwZ2tvt/1yoapRQm8ABew2sx03+o79CPRavcCQGD5mMc8Zvqe7/meVsPR33zpZ46ViG9y1gTfTgXYDc823sbDAqJwsqpFxp4cLCAWZbUvIxdySgEUY6daVKobjawlqk6p8Yn/uC/irM3xwScTwZhnrtCtFF/pfcyxFmZTvXbDOOx0G8jAUcnGLoTCeEeesUj9LZWuMl/9zZyKFUZfPGejT2ImxoR+KRXoHXQlz/Cz63z5v89C4GiQPeS1r33t9KAHPWg677zzpkc+8pHDz4qJUP78z/98uuyyy9phXs553iyIstUB9Y4ESUy67/3e721ncZ9zzjkb1k7cKjBqTyLUBouwX/3qV0+//Mu/3I5l/fZv//Z2dgxfbQre+jkgmkWnL3u21T7uxPXLLFib3QOIKC85pDZoZB/g633f6SN5xVURGY7sf6wmz+zHxs/mhEmadmqHSWr8+yOAgXlfianPUFhGv0b271A/K4tcFg164G8/+7M/24pCIxRkaq7EUs2C6HtKKPZVrWb75H7X/tIv/dIEW37mZ36mLcQ5t6knR9Gl9q733Th91P++903/54H/75jTbrdHOi8CKNddd930hV/4hdPjH//46Ud+5EeaUlDoUZ+svL/1W7/VjjJ1nvRjH/vYA2W9Rr3H6kNZHfNw9tlnTz/6oz86fdVXfdWox7dJEwZDyIBeP+5zn/u086tPOOGExoScHcPMzkrVm9i7nVmMBEcKGb+syfETP/ETjUnSL7K5+OKLm8x8eiAKM+uVfCTYaFcYYthqFj/6k+wD37U/Fd1Nxp/+6Z+eHDGsbWeddVYb/wBsgeOtU61f7JLh4e8/9VM/1cjE93//9ze8IdfgDNnSiX4TSthfFqDZiZwSiy94wQsaGfqSL/mS6Yd/+Ifb6ab9e6M7rm/juwg4hv4Cx4c97GHT137t104//uM/3h7M7Bj18TxK9pu/+ZvN/Lz00kunr//6r5977MIyE8E9mYwqm3/qp37q9NSnPnX6pm/6pmHMMQLPxHr+858/ffVXf/V0v/vdr7Hhk046qZ0f48sZ4DEZM8nJsx+0UfId+Zxl2Pw8QM3KDoAcleu4Wor7uZ/7uU02Trx0vER/dK17wjRj7vobJjHqM1u0OKdsZvLke9il65mJ5oQJ/uY3v3l65Stf2RjQS1/60gLHmYFJUDduKPPlr/7qr9oc+cZv/MZGkIAUcAzDjDlNxpnHGfN5ePDud7+7ASpS9Ed/9EdtofrJn/zJhi2xVOhSdMq4ts0bi4CjPvHrvOpVr5oe8YhHTBdeeGFb3UcDo/dk1QWMP/RDPzR927d929yzXZYBx7ANE9FRD1Z1K5SBmBdE2up7DELovmf+zu/8TltQPv3TP70tLgIz/I6ovcO2gKTrMvn3Mjj27G4WpOaBYyYJpXTG9yd/8ic3xQ2DJKfc2xdapvTkSN5YeHyUo8ARGMbflQkTHWV1YLk+2D8Qd8YSf3bcNu5/0pOe1M4s/4u/+IsCxw0GJm4ucjb3mdEY9+WXX97OkjcvjK9F89nPfvb0J3/yJ03uX/zFX9xw6NRTbz33KmmFG4295xqLzMuv+7qva3P/V37lV9r8d29MdeZ73HsLgaOLmTmY48Mf/vBmGj796U9vijAqKp0JopGXXHJJ+/KOeYxus0m42eTI8bHAS+T9zDPPbO/yno0+WwVGzwjDiB/luc99bpPZPe95z3ZuNWaETWBHn/AJn9BYEbDuwXHUBN+u5ywTwJoHjonsays2b0yYPnxE7qHU2EMYhsnxcz/3c9Mf/uEfTj//8z8/nXHGGQf0cGRAJoGeuHuMEVB83vOe19rmWGKMBNN5whOe0BY77Y17xJzBeh1Gp60+FZD5iEaSVVg3mQn4Aq6nPe1p0+d93uc195SxtgBeeeWV08te9rLpwQ9+8HTTTTdNz3zmM9siyjfpHPh+8ZrV+fiG40/8m7/5m+miiy5qrjQWasAwrpHcvxA4uliU59prr23gqAP8gYn6jJiAERLlRnmxOe9Arzdztm713fFzUNK3ve1tzazmcxz5noBAzLKY1Z/0SZ/UgllAMuB48sknH4hez4LjMsC8VXkc7HqK1UfTb7jhhukNb3hDM0cwYeCeBZIJmcPCPuMzPmP613/918aa/P+BD3xgO+f8n/7pn5rFwYeIMbNG3vWud01f9EVf1AAQ+6L0X/qlXzr92q/92oEIdQIvWIWJcdVVV7VrX/jCF07nn39+ewd5J0CScV5EdzJeiZyGSbz85S9v/TNGngcsAfUVV1zRzGesH5P54z/+4+YKMrbk4itnLn3nd37n9I//+I8tENA7+3d7wO1gejHi/yFEifD/wR/8QQM73+mRr+RY5xqYA8S++Zu/ebrmmmua7J0DH4ALaeqzRcg6izl9oIfmO3Jice0DeRk/37cEjpTFKgkc+Rxz3vJIQVFyzuzv+77va8zxW77lW4ax09DvTOYeHDHHUSw4TMOAGAxM4yu/8ivbpBexBo4GhjmGRQKJKMNGZ8mMkO+yzwAGvlgJP/iDPzgJlkURsW+LGJ0AbPpiESVHCyk29Zd/+ZctOv/617++mTHcJcwcYOIaAKjPfEEWKoAqSPbQhz70gHUShQWGQNQ1Vn7PY2oBRyAOdE2cPrCl3z3zm5VDJqh7MD399CxmHZfOve51r9YOC0HGUzuAo35hO1wm9FXwIMEWz3Ns8Xd8x3e0BYFZnQkbIE+/lh2bvX5fmCN5kCfdsljSCZ/EIOCM//s9P4sTAEbBTvMpoGhhI3e6kNSejFt0wzXf+q3f2szpX/3VXz0QWDMeYfYNKxb1OVL6AsfF1HGdwLEHG+4BpqT0KuYv8weQWH2ZlFbk66+/fnrKU54yYcmf8imfMl1wwQUNFAAepWXSAAy+IqlUfHIUH7Ok+P/2b//W/ECPfvSjp2c961ltQtA9oKUt/JDSyfigmEXMVVkA2ZFkkYlpm+BbwHweE9c+YJbos8kkqslXjOHrp3fGd8W/aRIBSX3g4JfaBiQz4QscDz5X+ogz85mcyTb+/8wj3wVMsmWZ3C2edErWDHJB3sbHGPagmIUoeYzx7YtWs4AQl+hJGGSCoQWOHzarizlurMyJElJQTBGQUTAgybRl4mKBFNXnz/7szxpjZN4yJZmenkG5ASkzG9OkzL/92789ffZnf/YBk9g7KD4fotxTJlbeH9CLafq7v/u7zTTiixLV9neTA2PIoW9R+lkmOdvTPkgXc/fv/u7vGgBrt/YAf/3PjrC4G37jN36juYGwHVZBGE+B4+LgaJyAo4Xy3ve+d1v0ssh4Cp2L7I2xhYsesTBdTx8TPAuAeiZdOAB0Hw66JLPBvX/6p3/aLARBmP4TplngWOC4qRb3uXwmPB+bL1tImZSYE3NImhKl4nfEpJi6GCVlTo4ggPuHf/iH5k/kx+Nb8okp437O9vve974NHCXr+l8Sg5MdQfExRkzNu5mz2bXVm0V9x+aZsCZP8lL76HRALpHnvp1+dg+WDKBPPPHE6TnPeU7b2dP7Z8us3hwge58jeWJzgi82SgTEenbJguBKwTAtSqyNbMHtK17FZ5wxjLmca+ghxvm6171uEg+Ifnpn3ls+xy4gU8xxY0W2alMmSkh5n/GMZ7Q0CgrMj4YxSdgVXaRQgJOf2LVM4+QwAlGMTuQWmPmyevskX405ZAJgoViYCeA+K3tM4jADPkq+b4m9MgCyqyZmU0zgBA17h33f0z6VRMAFU9RO9wO7mHbe7/9hI0Bc2gkA1E7+0iQqx6wvcDw4OEa+ZCYDgM/x13/915ssgZnvGLxUKSYwdmlBwh4BqjFKdogxkk9KJ+kXl45gH99wv1WQvrFuvNu7Yjlobbbw+rmYYzHHTTWYAlEmCc1MGIpp1aVs2JJcVL5IgQsfPkXMkdLxBTKHML8E7/7+7/++mdWyHgRzkshNKb2LMgt+YAWeAexMgkSUM2mY1RY04IhpxuxyPWXHCkyqz/qsz2qBr3ngqM3pY7/rRb6l1BHRaqlFfJ5hMfyidonpi0wHLNfzY/o31vGhNghk8a8C0quvvrqi1RtoWl+96kUvelGzNlgU5J3aCsbc3wS9yNZi7GPMMU3M3bhbvAQ+LdB8klw+GfuwSdcJ6AFHQVHWSXyN0Z24YRYCRzdbwQVkJIEnlSdFEzZfHxb7byj2uker73//+7eodR+t5s/aKM9xN6TyZNO+yD4QspXPimzCyw+ViM20VZCEnw44ymQQ2dbPU045pSkooBCw8X+KKeos91PQxkTQf+/iyxSQ+bIv+7Lmc4zPKLuHRL35JV/xile04Iw2uN4E+fiP//h2vWCRFJqXvOQlDbykfWwGjpmE2gCIfUzSH/iBH2iR0F/8xV9sbBaImmR8jPIsMWMgnyiqxSOTEAM2fhi2yagtvWkesN8NY7zYDB1/VdL3LDrGV5rY4x73uBaQYZ30jI7MLTBxjySzhGuFPtIv4yN6bcGWOSESnURy9yWwAzzlN1rgsP/kxlocYx0sbFYXOG5NMTaLVu81cAQWUSwrN8WimPIYP+dzPufAPljgce655zbmBzDlMVJM4CC6zWRmFlFcidTZOsm0xsyYziZD8hxNDszRs4Ar4ARiQI/p5PdsC/N/qRkUPSBrYgBG5jkzC8vYKOcx6SJ98QGj/fu///ttAmG/GC4fKTmIcJq8f/3Xf92CNPFRAej4r7giAL5+au+NN97Y0pYKHG87j7JAhBiZN7bZWkAtuHQKYBmbm2++uY15chZjaRh77JHuZIMH/7d7ZTt4ZnIjvZ0OeYf76R4dTZJ4FscUginmuMNm9V4Dx4BHTA6rO3aHUVEsFkVMTkpG+aRjMGkpJuUFKhQOo/Mcf3etSHYUOv5G5izQZXrbn2wyJDVDWwBiypnZl26l93sc83xQtoa5j2nFF2oSeOdGJa16n6PJwwWgvcBa3+J3jK8z5jtmmLJ6AWQ7nfpggLZyQXBJANsCx9uTjPiGs1fawidgx7LA2AFjfLnZwRIrwJhbiJKlEL/lk5/85LawsVAswgnWJUPCIm/BlJ5FD7NwJngYJlngWOC4KS1mrlDOpFb0ifLZqN8DaPw32c5FoQGY+7KCU9LsWc5OlrAIprfgBnDkD/J3oAa0PCNFBgLWGp8IcfIVBX0wD2k+2BwQNUk2MmHTr9zrd332TO/195j22prJlHSPPrE7NULd6xk+AgfAUdpIgePtmWOYYPIQyfoXfuEXmstEEj7XiwWWnGORtaIQHz6bKWk8Fiuy/tu//dtmqbiX64r+xU9tN5U9+8xpFkyq+8RqSCAtulvgWOC4KTj26RYpKxbzNCttoorJLwzweXAUOuZ5ACdHRrgmuZP+JkWIWYSVYtnAUOAFO80OmB5kYgqlTd7HxGb28nsyz2M29cCeToc5BmxN1h6AU0zCM5JgHHbo3rCWyCZ/40Kw1ZFvFAvljihwvK2qkZkPfclmA7pgDLlFJODbY4+9W9iS5N3X0AywWYwEyACphdAYxppI7io3DcuHfvBRB5ADhim0G2Za4FjguCk4xiTpAwhhUvHhADX+Nb4fIJISU9md0JeCCrPsdyUEbFxHkQEbRQ1blOQdYAOC2c2ShPAod9olMOR6BQm0KdfN66j7e4aRvLikIWlfcuDCUuPj0ve0LUDrfvmcmGQYaKL5ycOsgMyt2wPD2JNjGqbe+xCBHWaYRSsBnIBe9MzvYZR+jtntPtcAXq4SjDILXW8RxV0T98vK4LjRarzpbNvkn1k9RClRZNQaBR75jig6BRaBTbHbke/pzTDvkeoiWCB6u9d8jsuOZd1XEtjrEthV4Bj/jTQJDlXgOK+U2LKCz2oDtDjuA45SCEaBcMAxqyJwtCUqVXn2UirPsnKu+0oCe10CK4PjyDytgEnAUb4cRjfyHb2JxSeUkmVy4UaCI8XIu/ifgKMIbzHHvT5lqv37RQIrg+NGuWPLCi8mrxC+/DBb1UaDY9ipNvbM0c6PkeAYn5pnAkdmdYHjsppR95UEdl4CK4PjqCbHmS2CZHcCs3o7it0mqgi0Ao52WYwEx5juSQ0IOJbPcZS21HNKAtsvgZXBMVG3EU2NWY05fvd3f3fbhsYXONKs7vPSHJNgyxdw/IZv+IZh7wk4JqpWzHGEdtQzSgI7K4GFwFGThMBVYbGf1DYxlZjthMhe1BHNTp6ciisSeB1GJU8tG/5HvCN+QOF9PkfVYpQX+wAAGqhJREFUYxQO4AvM+1d9T0pgyW+THuBENX5UW9BsZ9uNAZmtLnLzFqw+4EWOyZOM+yUVeDB3qRZZEDeSeXIks0Uv70xb8/+kY+SIhlXH72D3J90kKSTen3fHAkoqUtJI5slr5MJ/sHZv9//7XM8+Zam3CvN3bdls7Lfa1j69LHqRba/RvczLyHzWJTibXrUQOFJouxzsD7UliyJIys1Wq612ZN71GifRVz6SL/lNyYwf9Y5s/+LflFxqu1qOKBj1Ds/NRvgUTFC+SvBHlZh1AMd5suqLBfQM2jjmXOeAWZJtDwYQ7u1zDfPclJdKvpy/jzxHfTM9zUQKcJt42U1Ex+Tl9fmefbv6hSiFFEbp3qF8TvIMo/MIVQ5Giz8/peVSjWlUe6MDsQxzhnWOV8jmgwBk9HFenGHhwhMUExAqZKoKCWC0g4EyHEyxt9p5z7Mn1f5dB+fY4pOqKVt91rzrU1rK/4GjEvcKDGyVPW0GEAYBczRIr371q9uWKJVCdiNzDFhtRb6bMUe7SqKcrjMRUlCULvnf7G6EzWSZJO9+pQ876N0kAdut9GOZa6Mn2frmGT0zTvK4iQkM6HB/nnYvu9HzZ5n+jLrH2GYnERnpc4DSO8giRCSbC7KPedU29DocoPTMbDX0cwiLdkUn5713YXB0Ycxq4KhggEoqXmyFHPGJ+aXRfIFMXuWubPMZCY7anBpyAF81a4UJpNqM+uhLJoif7elU6ktfVMheZ+ZoCxcfK0sDYFgM7HU1MVK0NuwyzG/e6g18An4B1+xp7nNJA4qu3Qnm2Lt5oreZnPrm/wrgqsajb/RYEYR81hUcgQ85mFNqfSrwkOro/a4mciCDLKAj5l12OWUHVraD9sxcHUi7p8QYuAS9P7q30ZgsbFbngC0sC2s8/fTTm/KP8jmmE5TLRn0liiRNO4jJCjzqk+rBvqsS49hMRTGl2oxijlGE+FcUP1AD8x73uEc7vvNQgeNm/dsqg5nnB/693/u9VglcSTP9VbQWQObMlZihZBQF7vfK9uOcd7gu/uDoSXyX6VO+z54HMkpv+uf0vs5U6wHKvlJwgqWg5qXTF1WxVoswoLBOpnQvF3M3tTT1XYFafffJPnw/ZysmOY4CyCxKjfF9qB39ohpWD7AVnnCWuFJ6Ss6lPf3YpE8LgaOLgaOAjGK3wFH9urCwEQqYlZcJgjViIPbGmmBbnbibtYcC60uKkarPpzQW8Br1CTNK/TkFOA3KoTar54HjSLNaUVe5qQ7PAoomBYaeqjh90Qbski9onmnV+xljkhkj/ttUiuajph+zzvRRY7nRc7xL23wPsMdaCIMBCvpuG+wb3/jGVuw2oLiu4GicHbamSLCTGx/84AcfOEvcPnMyyeIR3/8ocOyLWHhHX3QicQvvlAHDUhQgFewNcwyR6bFmIXD0cJ0TkHnUox7VwJFZ7UGjmCMljII759e+Z8zxpJNOuk1F4FWV3oRUd89A8mtiqZijApijmGNWROzGM5Xyx0yx4J0wq3ugCONKzcGYp70pm3b20eD83EcUY8r2q2yANWlLQED6lS2T6jL25hMFpi9Kijlz2LPpkwreCbLk2b25mkVYmxVCdXwB/zfAdXqhrAYsYBVTLe+LfDYCsIAiFogVYUeqwHi/haCvjE+3TFAshXXiVMaY/5HtyEV/1Xmx7P39nCEP7iOWkTnV5/sae8dLOJGS2ywlxUbJQOyA7nm+xRM+GRcFP8z5nJxpMb7wwgsbSCuGi4DpQx/cy9xYCBwJLqXpMUf18eQHxrRZVrAb3UdYwJFCAUfpL30EdMS74stSScZ7rCTAcdRAxeyKf4wPztkWO5UEngOHUpIpgEOBmHnAic9F9Jx7xPXqKKokQwbOTeEnU3iUIquKIzjGcsDYKJp7r7vuulZiTGkpZca8z6mA9sO/+MUvbpH53jdogVWKihK7zzvktHp2gINiag8A1EbHovJbxVRyCBP98D6LtbqNSuVLyWJSL7NjK1FWfQ8Q87F7vorm9t8HNFkczq/xfyRBKTIyxZQc+ZBgn+vX9YCtjGkCUnGVsMCcA8O3Z9z66up0i7sF6YElr33ta9uiOGrOqeTEQgN28Mni7HgK45OIOSbvZ+OH0VvElS8LgUjptFgDBY5rCI5ZzZMCAxxzqJDjRIFbfK/Pfvaz20InaPTUpz61LXj8hJRWvqlnPP3pT29nxKjO7IOlYWxAjqLLEQUOrsWqmNWz4AjwABmzhmLK/RSwUJHZJMG6Eu20mKigrbSUs0OcXRPLAohj/sDHu9X745NWTBaLWyYg06egZOKb6EwvbXBMAl9xzsTWTmzEtXxsFlYT37k3ZBsmsu7gmMBmzl4xTg5HUzDGwhbQsSiyIlhN9IrpzWJzKuCoDyYYvyPdsIgKCAFhFlvym/1PPMOmD+/nGw4oZuwyfgWOawqO/epuZTdRra58uGoc+llCPwAAMFZUjBJYYneUWCI+4EoZecDkkDVl6Ck8vyIg9bPJ4B7MEVDMgiPFxdIppqMLACgzzETBwMIgvIu5wxz1wQBYK33BWqDIfwWgALt7Bb2w4D5lZpGJF3OajLhagCvGYztpgJuJKL8XazSRcsaIyY8B81fL4tCnuBnWmTnGXO79wPyqLAzn9vCvHzhq4EPj7mfj7PgDiw5rweIItEYxR/rFErRwapexs9hfddVVDZhjLeZ9KVFI/32SctRvYihwXENwjCL0aUt+ns1L5QcFfpihD2CgLBzq9rc7+zd5afHDAD1pKQDSJEi+YpgdNqnC0UZmtWvSNoVFHJ/qPUCtZ7tMeSaS4BwAT3HSrP6uBZBMb8fAOlKBKUfxlzGrAW8i4mERQDy7mjwfK435mH5grHyJIp/ay7+VIyXWGRzjNkqBWgwSCFkUMbacHJggR85+sfjkCARjn6NVF1nEDnZN/OZxv7BQ6CAQNqbR/wSAuGFYLhbVuKHoT5/aU+C4puAYf2eiqgBFBoBCwnx4vvhjpNz4m+tMbKYv9kiJ5WXGUU2RsU+BlKc85SntwCj+uJSjdz/wZd7OA8coIQUEKCaIc2I4z7FAYOhj8vVHJ+RIhaRn6BtQuvTSS5viB8Qo9zLMMdWj9Y/LAFj2bc3Om/iswi60wUJCDkCer2s/MMeMQ9g8+XGr0Av6I0pt/PqEb2NojDFHsnJ8BF/zMm6QjYAymSHGiG8cSFv8LWzGJEw2zJHeAXQBHP2J/zSLW0sze9+N00f973vf9H+NWh5z2oEVfDZyWwGZg61dH/n/oQ7IZOxiMlJe6VF8Y1iaU9cEh7A3wRdmTpgjk5ri8vUxvymd/sQfYzV2OBHFkklA2VxDKYEbU3weOPbmmMPugaP39eZVosRRVuDMnM1hSNrpd1FuZhQgVwpOH5dljolCewb3QnxpYaEYT7Y+xpTkEnjIQx7SGCVwFoBwva919jkG/IEHsAsT47OmTxg8ueR42n4HEzkCJQHQnPcybwPA4rPt1ivj37RgCX7Kx+b7TD4tfcp+d4E7Fb8khGu3thpf37N7iy4VOK4hc0wgxmpJOSglEDKJOcJzHCYHOSc6sxrrA0B8fBRMLU1+xDBKLEFA4vLLL28MgW+R/zKsKysy8BStdt2nfdqnHcg3yxkglBTQcogza6zwADpnsZh8AAgTweJMtDDCgBZWi6G4lz8pJwLmu+v4VPnBmOXk0O+GmJ14Ccj0E0l7BaRE56Xp+J9n6C+Tm8/KThDtFJwCFCZdfL2ul84j+KSfXAA9UPS+ra0CwaG8vk8NC3PUdxkECtLQG4swfUouo+/80uRnIWbykh19CqPD2snPYmf7MBM9+6+Tp5jxSRS8N4fJRJoX/7RAi+dwGWVRjX6Su4/FWZv4Qvs8yLgKChzXNJUnSbABPAoRc0b6jd8Biy/pDMCOgstD4zsDKlgAViRNJ/tQndyGVZoATnJjdlPApK9QMqCZPEeTJezCBKH0amhiC7Zw8S0ySzFQCfKp6gKgsU/gyCckgGMiareVXvTYkZ2CJPFDmhCc8X6n9PLopGwIpvCNzmOVfUCGvMIcTWDBBX3EhuLU93yRdKYhuWVrpEmIjYdJ6yMmYpIL2jD11gEcw+iNeW8hSW2SXmUh4c8DfGQQX6BxB4BAy5gaR+4IW5GBHv0AmPIkHa+K2dGBWBLxC8dEDuMM65cqZMxlY9B1Y0FvuY/ocBZH973rXe9qOur99ENfoh/GLJWUijmuIXMMOKb4BSb1qle9qgVS5IHlQ3EpjsnPl2jSAzAgBbCY1f5n4jNhlXbz/3e+850t/5Qp+aQnPak9M0nmWCcFl44D1DyLkmqLSDel56KRAgM4s08fE6ToJpykedFqYAco5bsCLWCKGfgOuDGNmMLqfwogmQTAkUmFpWDHnrEZc4xJ3udkAj+THKvVZlF5k9sCgnVgggDdc7UZkJOhSeZvJpk+860CBjmj6wCOvVmd8QpgiQ5L5TKWXCWxOnxXvJpuGBv5ttw7LA/MWn4oHfF3oIWx81vSoQBV7+roXS/ZoOJa7h7vAno+ANpOPmOpjcaFRfD617++6aiFy/f+k+CRvxU4riE4ZnVvfuQPrYphb/yOKRklfcb/TOBs6wJ6lJEZ7hkAyBfF8gyABgQpqnsosxU6igeUMSQKzvfIrI7plZJeTFJg63kmBLMV6zCZcga0a4GQVd77E0XULm10P6CK2eb/wAmYUn7uAAxCMZFzzjmn+bhMohy5OWuW9knz2bIIwLUB88BKvQPg6T856n8Kr+gD2QBL1wVk9dHigYmvCziS3Sx7JFuy0E8mtSCfdKzoH3lIAzO+wNG1xjVH9lqEyZX+AEtFO1guvsLkNypxFlOZvniuL+Pv+Um3MjbeZSx8/F3itwVLG41ZNpkk0T9ByALHNQRHSkAhUxko5k0czgE4igdw4oSmJO5J9RygkT2xMTv8PzsIAAJQSjTXO636zCF5ZvE5xp8Y/6T7AWKS0bXPNTnQPfuvARPFTy2+gLB740uK/yklsFzLr0rxmWdMa6lAPvOc//H/9dFX/c2zM7G0x7tNOICQQJH7+oCRdpro2Db2Kb9z3cAxQafoWnzFFiJ9JnebA8gxJnGCVUmryXgab2NvwcO0mchYOJeG+5PJEDO+T6kKQCZNrTf3o7OJRnvfFVdc0d4hQ4NbxieLb8DR9c2/XNHq9ds+GD+PgQcaYVgJEmA9AaAAZ0AxDuvk/VGcpLAEgDzXs6KIeZ+/qcoDHG25A5zM4C/4gi9owBRFzoRJpDNBI2YQsA6TjVsgoBVWFsYbpe6fq19yH/n5mFmYYxjKPHDMpPNuIJdKO8mPS/8iC8/ptwl6Z/IjA6jejUkx4Zh5TMp1Mat7t0wWncjQRgLuG1aFdC8sPjoVM7ulyXy4tFv+Bxif+MQntkWFS4TJHQYe+ebaHsSiV5FtUsDovMWLLiWIBLD5iblfuEakXmXxzTv0J0x4ZXAcWWsxghb58oXy8m2l4sasObTK7wSdwhNWOw7+UZ/dkspjMkdpskJmpfe/MKZZpQsriH8pQY+AUJ4RYO3/bruWiDXfJKDh87NzAqPrTc4+3agHYu+aXf0zSXzvHfEtovihSRZGol2UXRtMShMsOZKbJYenLWSViZcFwPfIKe+PXNLv/u+uxy4FHfq96qnnGH9Zvo/SuUPxnOhN5BCXhMRrrF2OIZ92fJKRc64n78jOwqRCFh8vN0bYYb/wzd7f/94v6r2+ZPy8iw9aCpFAm4XbguY+Y5550uvoyuA4ErgiqIAjRzxnf5B/hAL0kxI4SrNggvGVjPocanAc1Y9lnkO+FC4mfZhU8t6WeeZW7on/MAvtToKQvod1AOmw9lmw7wFyK33b7ddmcWEGZ7zjgukX0PQji8xG/RqV/+jZ2TUToAzrP1gC+srgGGfmqgMXQRHKLDhmVVj1HRFOmE+B4wiJ3vYZUcRZAIhfcvwbb//+AKPvOw2OcVdEx7JQJKDQM6GNAGO75bOdzw8piMzjh8y+5dl37xQ4Jo8x7erN+83ksTI4bqdZHeY4CoB7QRiYAsftmypAIWZT2CSf4nZ/+oW0B5+dACL9zHzwviQtx1pJ33e6Xdst854JzvpVN1ugZuXSt3PkePXWRN/W5DfOk8/K4Diy2G0c7LPMcaTp3vuJChy3Z9oEDOM3CkPIbojteeutT5034UZOtnntT79nQbCPrs7euxPt2k5598/u/Xb+Pvv7Ru3YifHSjj6Y6J3Z8VTMcQMJFHPcvimDvVk046CPWZXo9Pa9+SNP3oytbdf7vVO/fU/ycoI5/aK8XQxpu/q16HP7NK8w+Phg5y0COwGOfbuygMb9sdnitBBz1AERuGuuuabVrbOrQR09HR9l8vY+RwmaAiU5JmEz+r3owPV0OgMnh0+6hYDMyNMH8/xEzUQuBXwkOu/Go1m3KsPNru/TelzXRxFHvmeRZ/V6s1MMzTuzKPRR9P79h6Jdi8hr1Wui7/2Yzy4Oq75j2fvTjujkZtkLecdC4OjBdgzYl3vBBRe0XQNC7tl2tWyDZ++LWQK0ZNTLD3NOyMhodRTXu/2sQraUgxRNHdEXE6FfraSWSIp2LMC6g+MI+dUzSgK7QQILgaOG8s8pOqAckFB9UjRGrsjxOUL1JP4mPWKUsDyv9wH53Y6QfmVZ9V3MR+1PbTi/202yU2fIrNr+ur8kUBJYcG814JC3ZN+s4gPOE2Fej0yxSXRPhrwCBYpQ2nxuw3+OcxwxYFivbV0ASxa/Ch7ORrnPfe4zrD9hp9nortqIg4cktOvPoTq3eoT86hklgf0igYWYo8kuYqzKsyKjtmcp6TRvI/8ywgtDBJJqD9qwr6yVd4105CcXSxu5CvgBlc1SoWMUC8asc66yftnP6ZwROzbsNy1wXEZD6p6SwM5KYCFwNMGxN5vBL7roolZ+XE0/eWsjgyWJbClmqsSRdwDHkdny2VQOwPg2lUsCjvYDL+KkXWR4yCSb631Xu05ARoBJjcMCx0WkWNeUBA6tBBYCx0SlVVxRflzxUMCF0Y0ElES7lFJX0BRzBFojP1hwzF7BGIEYdQydNjeKOWpvCqd6l2i15wtilVk9cjTrWSWB7ZPAQuAINKTy8AWqssJEVAAUcxwJjilwoBCEM2eV72fujmSOfbTaAeMOp7cRXWn/Ue/Zz3urt09V68klgZ2VQIFjgePOaly9rSSwRyRQ4FjguEdUtZpZEthZCRQ4FjjurMbV20oCe0QCBY4FjntEVauZJYGdlUCBY4Hjzmpcva0ksEckUOBY4LhHVLWaWRLYWQkUOBY47qzG1dtKAntEAgWOBY57RFWrmSWBnZVAgWOB485qXL2tJLBHJFDgWOC4R1S1mlkS2FkJFDgWOO6sxtXbSgJ7RAK7FhyVLHva0542fG91X7LMcQxnn31221v9+Mc/ftg+8c32VqsEfs973nO6613vOt3lLneZTjvttFbtXPUeX/1e9ZGFMPaIPlYzSwK7RgK7BhxJJKeVPfOZz5ye/OQnt8ITT3jCE4YVhOjf4ee3vOUttyk8MaqIRoHjrtHvakhJYGkJFDh2ZnWB49J6VDeWBNZOAvsOHPuSZb1ZvVMly8qsXrs5VB1aUwnsS3Dky/N1KOo5Fjiu6Uyqbq2dBPYdODoLR1HbgGMfkNmJYrcFjms3h6pDayqBAscuWl3guKZaXt0qCSwhgduA48ccfWp7BFblPJd8+dsHP/jB6ZprrmkHbDksSvpLf4ZMf9BWzNattMf98Qdedtll08UXX9yOYviar/maoaccYo45H9tZ0o5JuPTSS1ufRn3+53/+p8km8rvyyiunCy64oB2w9YAHPKCl7xx33HHTx33cx00nnXRS+xkwVyrPqBGo55QEVpfAwuDowKirr766nSHj3OoHPehBbTIn/SaA2APqVpqX+4DE9ddfP73kJS+ZzjvvvOm+973v0BMOtekOd7hDa7c+OWL2/PPPb30adZKiZ/uIfpPLG9/4xum5z31uO+nQAVunnHJKy3MMOMp3dF2B41Y0pq4tCWyvBBYCR6DhKNNrr712uvDCC6f/+q//akDi3Go/h236vgrA9IzVzwEXjHLUR/uwOuwOSAJjP4/8eO5///d/H8jP9A6MFUsFxCeffPIBcDzxxBOnO9/5zu31BY4jR6GeVRJYTQILgaPJjWX5uuqqq6Y3v/nNLdJ7yy23NGDxd2CQo1UDpltpmpMH3XenO92pmdfAGKD4+2GHHbaVR2167R3veMf2bO953/veN733ve+djjzyyAaU3jfiE1l4BxYJ5AEytnjmmWc2UxpbZE47rtUOmQLHEZKvZ5QExklgIXDE4vjnTHpMESjefPPNkzxBvzu2FeD04Ljs1rdEk4HiUUcd1Z47KlBCbMDKs7XPd2AJjPtthauKV3vjbvBs4HjMMce07wDzhBNOaIB47LHHTscff3zrJ9kVc1xV8nV/SWCcBBYCx/jnYn4CrJtuuml6xzve0YBFsCbmtUm+LNAADyz0iCOOaEAMvGJaj+vyrb7AAGSCJwGzEe+Je8A7MEYfLggfJvTd7na3xlaPPvroxiD117UFjiOkX88oCYyRwG3A8aPueHJ7aiZ3XpFIMiDxBRwxSWapnwEZxtdHuJdhe97bB3h6Jjqmu7c+JaxRG+MjzbtGvSeyAMSJRAM/gIg1YqyHH354A0nfXROZhXUvy75H9aGeUxLYzxK4DTh+9FGnbCiLgBYAxBSB4fvf//4GjMAMYM4GTfbzxJ5Nawrw+Q4IASMmiVXyp/rqwbnAcT9Pyer7bpHAwuDI7EvQBCACSKBoIvc+u1nWuVs6upPtmAeOya8EhlhkIvJ+jpkfZtt/38m217tKAiWBWyWwoc9xVjgmu8k7a2YnuBHgzLa8ZXMd13FQkv8ZYAwg9iZ0f02B4zpqQfVpL0pgIXDsQbH3Kyb4EuDsd8asku+4FwW5WZsjl40AMWBYZvW6jXr1Z69LYEvgqLMxrXuWOAuOvYm41wW0TPtnXQuz2ymzcPR/7yP85XNcRup1T0lgrARuV3hio8f3Ed38HHB0fT/Zwyz3c0Amfe/l0st1o79vtKDsZxmOVfN6Wklg6xJYCBy3/ti6oyRQEigJ7G0JFDju7fGr1pcESgLbJIECx20SbD22JFAS2NsSAI7/H4HYs3fyl5gLAAAAAElFTkSuQmCC)"
      ]
    },
    {
      "cell_type": "code",
      "execution_count": null,
      "id": "e34ff414-30f7-47d8-aee5-d07b0becb728",
      "metadata": {
        "id": "e34ff414-30f7-47d8-aee5-d07b0becb728",
        "outputId": "09c7a4a3-c9e0-41a3-f735-fc8c53df2519",
        "colab": {
          "base_uri": "https://localhost:8080/"
        }
      },
      "outputs": [
        {
          "output_type": "execute_result",
          "data": {
            "text/plain": [
              "array([[1],\n",
              "       [4],\n",
              "       [7]])"
            ]
          },
          "metadata": {},
          "execution_count": 60
        }
      ],
      "source": [
        "arr2d[:, :1]"
      ]
    },
    {
      "cell_type": "markdown",
      "id": "392a2088-b476-4929-83e9-e763d20063e1",
      "metadata": {
        "id": "392a2088-b476-4929-83e9-e763d20063e1"
      },
      "source": [
        "Bien sûr, l’affectation à une tranche s’applique à la sélection tout entière :"
      ]
    },
    {
      "cell_type": "code",
      "execution_count": null,
      "id": "9b0ee65f-faec-4048-8897-ac0c2d7a3d5f",
      "metadata": {
        "id": "9b0ee65f-faec-4048-8897-ac0c2d7a3d5f",
        "outputId": "d058ecf9-9708-4860-bc1e-25a13517d675",
        "colab": {
          "base_uri": "https://localhost:8080/"
        }
      },
      "outputs": [
        {
          "output_type": "execute_result",
          "data": {
            "text/plain": [
              "array([[1, 0, 0],\n",
              "       [4, 0, 0],\n",
              "       [7, 8, 9]])"
            ]
          },
          "metadata": {},
          "execution_count": 61
        }
      ],
      "source": [
        "arr2d[:2, 1:] = 0\n",
        "arr2d"
      ]
    },
    {
      "cell_type": "markdown",
      "id": "e677e1e0-413f-41ea-b0d0-984c0aed80af",
      "metadata": {
        "id": "e677e1e0-413f-41ea-b0d0-984c0aed80af"
      },
      "source": [
        "### Indexation booléenne\n",
        "Prenons un exemple dans lequel nous avons quelques données dans un tableau, ainsi qu’un tableau de noms avec des doublons. Je vais utiliser ici la fonction randn de numpy.random pour générer des données aléatoires avec une distribution normale :"
      ]
    },
    {
      "cell_type": "code",
      "execution_count": null,
      "id": "435b58ac-b487-407d-a526-d167eee33766",
      "metadata": {
        "id": "435b58ac-b487-407d-a526-d167eee33766",
        "outputId": "c897ca68-a90a-4759-c370-230d7667b55c",
        "colab": {
          "base_uri": "https://localhost:8080/"
        }
      },
      "outputs": [
        {
          "output_type": "execute_result",
          "data": {
            "text/plain": [
              "array(['Bob', 'Joe', 'Will', 'Bob', 'Will', 'Joe', 'Joe'], dtype='<U4')"
            ]
          },
          "metadata": {},
          "execution_count": 62
        }
      ],
      "source": [
        "names = np.array(['Bob', 'Joe', 'Will', 'Bob', 'Will', 'Joe', 'Joe'])\n",
        "data = np.random.randn(7, 4)\n",
        "names"
      ]
    },
    {
      "cell_type": "code",
      "execution_count": null,
      "id": "e253a682-f911-4859-9ff0-325e206e9ca9",
      "metadata": {
        "id": "e253a682-f911-4859-9ff0-325e206e9ca9",
        "outputId": "9d0bbc4e-3b52-49b0-98d9-1b2c2991d346",
        "colab": {
          "base_uri": "https://localhost:8080/"
        }
      },
      "outputs": [
        {
          "output_type": "execute_result",
          "data": {
            "text/plain": [
              "array([[ 1.5792,  0.7674, -0.4695,  0.5426],\n",
              "       [-0.4634, -0.4657,  0.242 , -1.9133],\n",
              "       [-1.7249, -0.5623, -1.0128,  0.3142],\n",
              "       [-0.908 , -1.4123,  1.4656, -0.2258],\n",
              "       [ 0.0675, -1.4247, -0.5444,  0.1109],\n",
              "       [-1.151 ,  0.3757, -0.6006, -0.2917],\n",
              "       [-0.6017,  1.8523, -0.0135, -1.0577]])"
            ]
          },
          "metadata": {},
          "execution_count": 63
        }
      ],
      "source": [
        "data"
      ]
    },
    {
      "cell_type": "markdown",
      "id": "0c67a1ed-bc09-4abf-a847-06143c1a0aba",
      "metadata": {
        "id": "0c67a1ed-bc09-4abf-a847-06143c1a0aba"
      },
      "source": [
        "Supposons que chaque nom soit associé à une ligne du tableau de données et que nous voulions sélectionner toutes les lignes correspondant au nom 'Bob'. Comme dans le cas des opérations arithmétiques, les comparaisons (telles que ==) avec les tableaux sont également vectorisées. Ainsi, la comparaison de noms avec la chaîne 'Bob' renvoie un tableau booléen :"
      ]
    },
    {
      "cell_type": "code",
      "execution_count": null,
      "id": "42215637-43ae-41af-828d-188564a0d5ab",
      "metadata": {
        "id": "42215637-43ae-41af-828d-188564a0d5ab",
        "outputId": "b1b7deee-e0f6-4b03-87c5-99994aad6065",
        "colab": {
          "base_uri": "https://localhost:8080/"
        }
      },
      "outputs": [
        {
          "output_type": "execute_result",
          "data": {
            "text/plain": [
              "array([ True, False, False,  True, False, False, False])"
            ]
          },
          "metadata": {},
          "execution_count": 64
        }
      ],
      "source": [
        "names == 'Bob'"
      ]
    },
    {
      "cell_type": "markdown",
      "id": "479e1c72-5c6c-4e22-a8f2-df5cc71afc72",
      "metadata": {
        "id": "479e1c72-5c6c-4e22-a8f2-df5cc71afc72"
      },
      "source": [
        "Ce tableau booléen peut être passé lors de l’indexation du tableau data :"
      ]
    },
    {
      "cell_type": "code",
      "execution_count": null,
      "id": "e88b35c3-b311-4f16-826c-461dd102edeb",
      "metadata": {
        "id": "e88b35c3-b311-4f16-826c-461dd102edeb",
        "outputId": "3b726f5e-8c3b-4c8f-93e7-8a634b3a180f",
        "colab": {
          "base_uri": "https://localhost:8080/"
        }
      },
      "outputs": [
        {
          "output_type": "execute_result",
          "data": {
            "text/plain": [
              "array([[ 1.5792,  0.7674, -0.4695,  0.5426],\n",
              "       [-0.908 , -1.4123,  1.4656, -0.2258]])"
            ]
          },
          "metadata": {},
          "execution_count": 68
        }
      ],
      "source": [
        "data[names == 'Bob']"
      ]
    },
    {
      "cell_type": "markdown",
      "id": "7b994c60-1020-414b-940b-058bd51828c8",
      "metadata": {
        "id": "7b994c60-1020-414b-940b-058bd51828c8"
      },
      "source": [
        "Le tableau booléen doit être de la même longueur que l’axe du tableau qu’il indexe. Vous pouvez même mélanger et faire correspondre des tableaux booléens avec des tranches ou des entiers (ou des séquences d’entiers, sujet sur lequel nous reviendrons plus tard). Dans ces exemples, j’effectue une sélection des lignes avec names == 'Bob' et j’indexe également les colonnes :"
      ]
    },
    {
      "cell_type": "code",
      "execution_count": null,
      "id": "8103d743-44a4-4850-8a83-46f37524e56b",
      "metadata": {
        "id": "8103d743-44a4-4850-8a83-46f37524e56b",
        "outputId": "1fac50ef-d100-4243-aa85-df6567a1f3c2",
        "colab": {
          "base_uri": "https://localhost:8080/"
        }
      },
      "outputs": [
        {
          "output_type": "execute_result",
          "data": {
            "text/plain": [
              "array([[-0.4695,  0.5426],\n",
              "       [ 1.4656, -0.2258]])"
            ]
          },
          "metadata": {},
          "execution_count": 69
        }
      ],
      "source": [
        "data[names == 'Bob', 2:]"
      ]
    },
    {
      "cell_type": "code",
      "execution_count": null,
      "id": "607749d4-512f-44af-89b4-1a2387e50256",
      "metadata": {
        "id": "607749d4-512f-44af-89b4-1a2387e50256",
        "outputId": "8604efb9-0476-48d9-a00d-42cd25c3542a",
        "colab": {
          "base_uri": "https://localhost:8080/"
        }
      },
      "outputs": [
        {
          "output_type": "execute_result",
          "data": {
            "text/plain": [
              "array([ 0.5426, -0.2258])"
            ]
          },
          "metadata": {},
          "execution_count": 70
        }
      ],
      "source": [
        "data[names == 'Bob', 3]"
      ]
    },
    {
      "cell_type": "markdown",
      "id": "811825ec-618a-4845-9465-66916ec08b3b",
      "metadata": {
        "id": "811825ec-618a-4845-9465-66916ec08b3b"
      },
      "source": [
        "Pour tout sélectionner sauf 'Bob', vous pouvez utiliser soit ! =, soit la condition de négation avec ∼:"
      ]
    },
    {
      "cell_type": "code",
      "execution_count": null,
      "id": "ad09b1cb-15ec-4087-90dd-e9d3f32098b6",
      "metadata": {
        "id": "ad09b1cb-15ec-4087-90dd-e9d3f32098b6",
        "outputId": "a69c0189-6813-4e6e-88fc-8ee551b36bb2",
        "colab": {
          "base_uri": "https://localhost:8080/"
        }
      },
      "outputs": [
        {
          "output_type": "execute_result",
          "data": {
            "text/plain": [
              "array([False,  True,  True, False,  True,  True,  True])"
            ]
          },
          "metadata": {},
          "execution_count": 71
        }
      ],
      "source": [
        "names != 'Bob'"
      ]
    },
    {
      "cell_type": "code",
      "execution_count": null,
      "id": "74ae75f9-4173-4a2c-97ac-6442d41d8d9e",
      "metadata": {
        "id": "74ae75f9-4173-4a2c-97ac-6442d41d8d9e",
        "outputId": "897e5876-ffef-40f2-ad07-a2e717aee025",
        "colab": {
          "base_uri": "https://localhost:8080/"
        }
      },
      "outputs": [
        {
          "output_type": "execute_result",
          "data": {
            "text/plain": [
              "array([[-0.4634, -0.4657,  0.242 , -1.9133],\n",
              "       [-1.7249, -0.5623, -1.0128,  0.3142],\n",
              "       [ 0.0675, -1.4247, -0.5444,  0.1109],\n",
              "       [-1.151 ,  0.3757, -0.6006, -0.2917],\n",
              "       [-0.6017,  1.8523, -0.0135, -1.0577]])"
            ]
          },
          "metadata": {},
          "execution_count": 72
        }
      ],
      "source": [
        "data[~(names == 'Bob')] #data[(names != 'Bob')]"
      ]
    },
    {
      "cell_type": "markdown",
      "id": "762cd73e-a398-4eb1-9b29-76cc834c3ccd",
      "metadata": {
        "id": "762cd73e-a398-4eb1-9b29-76cc834c3ccd"
      },
      "source": [
        "L’opérateur ∼ peut être utile lorsque vous souhaitez inverser une condition générale :"
      ]
    },
    {
      "cell_type": "code",
      "execution_count": null,
      "id": "9743d217-a266-4413-ad9d-97673168b065",
      "metadata": {
        "id": "9743d217-a266-4413-ad9d-97673168b065",
        "outputId": "94ca8875-bb14-4a5b-cf8b-e30d50e26da7",
        "colab": {
          "base_uri": "https://localhost:8080/"
        }
      },
      "outputs": [
        {
          "output_type": "execute_result",
          "data": {
            "text/plain": [
              "array([[-0.4634, -0.4657,  0.242 , -1.9133],\n",
              "       [-1.7249, -0.5623, -1.0128,  0.3142],\n",
              "       [ 0.0675, -1.4247, -0.5444,  0.1109],\n",
              "       [-1.151 ,  0.3757, -0.6006, -0.2917],\n",
              "       [-0.6017,  1.8523, -0.0135, -1.0577]])"
            ]
          },
          "metadata": {},
          "execution_count": 73
        }
      ],
      "source": [
        "cond = names == 'Bob'\n",
        "data[~cond]"
      ]
    },
    {
      "cell_type": "markdown",
      "id": "12045158-2bd4-4cc9-b12f-a9f1bdda1f93",
      "metadata": {
        "id": "12045158-2bd4-4cc9-b12f-a9f1bdda1f93"
      },
      "source": [
        "En sélectionnant deux des trois noms pour combiner plusieurs conditions booléennes, on peut utiliser les opérateurs arithmétiques booléens comme & (et) et | (ou) :"
      ]
    },
    {
      "cell_type": "code",
      "execution_count": null,
      "id": "8666eea6-d534-43a9-ac60-7fcbd1c468c9",
      "metadata": {
        "id": "8666eea6-d534-43a9-ac60-7fcbd1c468c9",
        "outputId": "3040f775-417b-4398-c5fb-9d3bcacdd62d",
        "colab": {
          "base_uri": "https://localhost:8080/"
        }
      },
      "outputs": [
        {
          "output_type": "execute_result",
          "data": {
            "text/plain": [
              "array([ True, False,  True,  True,  True, False, False])"
            ]
          },
          "metadata": {},
          "execution_count": 76
        }
      ],
      "source": [
        "mask = (names == 'Bob') | (names == 'Will')\n",
        "mask"
      ]
    },
    {
      "cell_type": "code",
      "execution_count": null,
      "id": "763ca3ef-3539-42ec-8b2d-b5a0c56caa9a",
      "metadata": {
        "id": "763ca3ef-3539-42ec-8b2d-b5a0c56caa9a",
        "outputId": "0acd605a-dc3d-4d55-d567-8986bacb2a73",
        "colab": {
          "base_uri": "https://localhost:8080/"
        }
      },
      "outputs": [
        {
          "output_type": "execute_result",
          "data": {
            "text/plain": [
              "array([[ 1.5792,  0.7674, -0.4695,  0.5426],\n",
              "       [-1.7249, -0.5623, -1.0128,  0.3142],\n",
              "       [-0.908 , -1.4123,  1.4656, -0.2258],\n",
              "       [ 0.0675, -1.4247, -0.5444,  0.1109]])"
            ]
          },
          "metadata": {},
          "execution_count": 77
        }
      ],
      "source": [
        "data[mask]"
      ]
    },
    {
      "cell_type": "markdown",
      "id": "b4021922-677d-4bb9-87de-64e038fe23c9",
      "metadata": {
        "id": "b4021922-677d-4bb9-87de-64e038fe23c9"
      },
      "source": [
        "La sélection de données dans un tableau par indexation booléenne crée toujours une copie de ces données, même si le tableau renvoyé est inchangé.  \n",
        "*Note:* Les mots clés Python and et or ne fonctionnent pas avec les tableaux booléens. Utilisez à leur place & (et) et | (ou)."
      ]
    },
    {
      "cell_type": "markdown",
      "id": "452318b7-0cd2-43f7-ab1a-d5d62ad020c1",
      "metadata": {
        "id": "452318b7-0cd2-43f7-ab1a-d5d62ad020c1"
      },
      "source": [
        "La définition de valeurs à l’aide de tableaux booléens fonctionne comme on peut s’attendre. Exemple:"
      ]
    },
    {
      "cell_type": "code",
      "execution_count": null,
      "id": "01182f03-f26e-43b6-abed-d3e80c3f21d0",
      "metadata": {
        "id": "01182f03-f26e-43b6-abed-d3e80c3f21d0",
        "outputId": "2ac70aab-c483-471e-8445-362a833307e6",
        "colab": {
          "base_uri": "https://localhost:8080/"
        }
      },
      "outputs": [
        {
          "output_type": "execute_result",
          "data": {
            "text/plain": [
              "array([[1.5792, 0.7674, 0.    , 0.5426],\n",
              "       [0.    , 0.    , 0.242 , 0.    ],\n",
              "       [0.    , 0.    , 0.    , 0.3142],\n",
              "       [0.    , 0.    , 1.4656, 0.    ],\n",
              "       [0.0675, 0.    , 0.    , 0.1109],\n",
              "       [0.    , 0.3757, 0.    , 0.    ],\n",
              "       [0.    , 1.8523, 0.    , 0.    ]])"
            ]
          },
          "metadata": {},
          "execution_count": 79
        }
      ],
      "source": [
        "data[data < 0] = 0\n",
        "data"
      ]
    },
    {
      "cell_type": "markdown",
      "id": "b34fd300-28d3-47d0-818c-673e78c3822f",
      "metadata": {
        "id": "b34fd300-28d3-47d0-818c-673e78c3822f"
      },
      "source": [
        "Il est également facile de définir des lignes ou des colonnes entières à l’aide d’un tableau booléen unidimensionnel :"
      ]
    },
    {
      "cell_type": "code",
      "execution_count": null,
      "id": "172181d9-36b2-4167-8b88-17b9bc09e820",
      "metadata": {
        "id": "172181d9-36b2-4167-8b88-17b9bc09e820",
        "outputId": "1b69f7c4-2c5a-4c80-fd6d-62c948c248a2",
        "colab": {
          "base_uri": "https://localhost:8080/"
        }
      },
      "outputs": [
        {
          "output_type": "execute_result",
          "data": {
            "text/plain": [
              "array([[7.    , 7.    , 7.    , 7.    ],\n",
              "       [0.    , 0.    , 0.242 , 0.    ],\n",
              "       [7.    , 7.    , 7.    , 7.    ],\n",
              "       [7.    , 7.    , 7.    , 7.    ],\n",
              "       [7.    , 7.    , 7.    , 7.    ],\n",
              "       [0.    , 0.3757, 0.    , 0.    ],\n",
              "       [0.    , 1.8523, 0.    , 0.    ]])"
            ]
          },
          "metadata": {},
          "execution_count": 80
        }
      ],
      "source": [
        "data[names != 'Joe'] = 7\n",
        "data"
      ]
    },
    {
      "cell_type": "markdown",
      "id": "2252b4bd-2d30-4ee0-ac4a-bb141d2f2165",
      "metadata": {
        "id": "2252b4bd-2d30-4ee0-ac4a-bb141d2f2165"
      },
      "source": [
        "Transposer des tableaux et permuter les axes La transposition est une forme spéciale de remodelage qui renvoie une vue sur les données sous-jacentes sans rien copier. Les tableaux disposent de la méthode transpose ainsi que de l’attribut spécial T :"
      ]
    },
    {
      "cell_type": "code",
      "execution_count": null,
      "id": "6dc6e106-bd8e-43b3-b106-48500343d1ae",
      "metadata": {
        "id": "6dc6e106-bd8e-43b3-b106-48500343d1ae",
        "outputId": "35b0e364-3e7c-4f4e-e623-3bfef9937476",
        "colab": {
          "base_uri": "https://localhost:8080/"
        }
      },
      "outputs": [
        {
          "output_type": "execute_result",
          "data": {
            "text/plain": [
              "array([[ 0,  1,  2,  3,  4],\n",
              "       [ 5,  6,  7,  8,  9],\n",
              "       [10, 11, 12, 13, 14]])"
            ]
          },
          "metadata": {},
          "execution_count": 81
        }
      ],
      "source": [
        "arr = np.arange(15).reshape((3, 5))\n",
        "arr"
      ]
    },
    {
      "cell_type": "code",
      "execution_count": null,
      "id": "c28f55ce-94bb-4808-93d5-0eef3556ffdb",
      "metadata": {
        "id": "c28f55ce-94bb-4808-93d5-0eef3556ffdb",
        "outputId": "03f2b699-66cf-4a53-d1ed-b4abf0accbe7",
        "colab": {
          "base_uri": "https://localhost:8080/"
        }
      },
      "outputs": [
        {
          "output_type": "execute_result",
          "data": {
            "text/plain": [
              "array([[ 0,  5, 10],\n",
              "       [ 1,  6, 11],\n",
              "       [ 2,  7, 12],\n",
              "       [ 3,  8, 13],\n",
              "       [ 4,  9, 14]])"
            ]
          },
          "metadata": {},
          "execution_count": 82
        }
      ],
      "source": [
        "arr.T"
      ]
    },
    {
      "cell_type": "markdown",
      "id": "987d577a-13d2-4c67-bcc6-76a0e4eeb412",
      "metadata": {
        "id": "987d577a-13d2-4c67-bcc6-76a0e4eeb412"
      },
      "source": [
        "Cette méthode est très courante pour les calculs matriciels, par exemple lorsque vous calculez le produit scalaire de la matrice avec np.dot :"
      ]
    },
    {
      "cell_type": "code",
      "execution_count": null,
      "id": "dc825f91-33d8-41b8-8ecf-2c37054963cc",
      "metadata": {
        "id": "dc825f91-33d8-41b8-8ecf-2c37054963cc",
        "outputId": "1e5c605e-0ce2-4811-8393-225c5efa3833",
        "colab": {
          "base_uri": "https://localhost:8080/"
        }
      },
      "outputs": [
        {
          "output_type": "execute_result",
          "data": {
            "text/plain": [
              "array([[ 0.8225, -1.2208,  0.2089],\n",
              "       [-1.9597, -1.3282,  0.1969],\n",
              "       [ 0.7385,  0.1714, -0.1156],\n",
              "       [-0.3011, -1.4785, -0.7198],\n",
              "       [-0.4606,  1.0571,  0.3436],\n",
              "       [-1.763 ,  0.3241, -0.3851]])"
            ]
          },
          "metadata": {},
          "execution_count": 83
        }
      ],
      "source": [
        "arr = np.random.randn(6, 3)\n",
        "arr"
      ]
    },
    {
      "cell_type": "code",
      "execution_count": null,
      "id": "edf3ac44-0cb4-482e-aa7d-0ee70565eea7",
      "metadata": {
        "id": "edf3ac44-0cb4-482e-aa7d-0ee70565eea7",
        "outputId": "201f90e4-dc84-4328-d246-f5b8fc0ec4fa",
        "colab": {
          "base_uri": "https://localhost:8080/"
        }
      },
      "outputs": [
        {
          "output_type": "execute_result",
          "data": {
            "text/plain": [
              "array([[8.4734, 1.112 , 0.438 ],\n",
              "       [1.112 , 6.6925, 0.7665],\n",
              "       [0.438 , 0.7665, 0.8803]])"
            ]
          },
          "metadata": {},
          "execution_count": 84
        }
      ],
      "source": [
        "np.dot(arr.T, arr)"
      ]
    },
    {
      "cell_type": "markdown",
      "id": "3b255873-cdd9-4350-9cf6-7922d4e92a69",
      "metadata": {
        "id": "3b255873-cdd9-4350-9cf6-7922d4e92a69"
      },
      "source": [
        "La transposition simple avec .T est un cas particulier d’échange d’axes. ndarray dispose de la méthode swapaxes, qui reçoit une paire de numéros d’axes et commute les axes spécifiés afin de réarranger les données :"
      ]
    },
    {
      "cell_type": "code",
      "execution_count": null,
      "id": "3a6da2ca-5b30-485e-be50-6f72eb8b7eab",
      "metadata": {
        "id": "3a6da2ca-5b30-485e-be50-6f72eb8b7eab",
        "outputId": "bdca7cad-ea36-4065-f689-1c01378a80c4",
        "colab": {
          "base_uri": "https://localhost:8080/"
        }
      },
      "outputs": [
        {
          "output_type": "execute_result",
          "data": {
            "text/plain": [
              "array([[ 0,  1,  0],\n",
              "       [ 1,  2, -2],\n",
              "       [ 6,  3,  2],\n",
              "       [-1,  0, -1],\n",
              "       [ 1,  0,  1]])"
            ]
          },
          "metadata": {},
          "execution_count": 85
        }
      ],
      "source": [
        "arr = np.array([[0, 1, 0], [1, 2, -2], [6, 3, 2], [-1, 0, -1], [1, 0, 1\n",
        "]])\n",
        "arr"
      ]
    },
    {
      "cell_type": "code",
      "execution_count": null,
      "id": "43050710-d974-4a69-88e4-ae2f324649b9",
      "metadata": {
        "id": "43050710-d974-4a69-88e4-ae2f324649b9",
        "outputId": "a16c84e8-8a88-4a42-d762-44148be093db",
        "colab": {
          "base_uri": "https://localhost:8080/"
        }
      },
      "outputs": [
        {
          "output_type": "execute_result",
          "data": {
            "text/plain": [
              "array([[ 0,  1,  6, -1,  1],\n",
              "       [ 1,  2,  3,  0,  0],\n",
              "       [ 0, -2,  2, -1,  1]])"
            ]
          },
          "metadata": {},
          "execution_count": 86
        }
      ],
      "source": [
        "arr.swapaxes(0, 1)"
      ]
    },
    {
      "cell_type": "markdown",
      "id": "67c142fe-cd3f-4cb6-a20f-58b62423713c",
      "metadata": {
        "id": "67c142fe-cd3f-4cb6-a20f-58b62423713c"
      },
      "source": [
        "swapaxes renvoie également une vue sur les données sans en faire une copie."
      ]
    },
    {
      "cell_type": "markdown",
      "id": "376b5d07-4773-4bff-bbd3-d4621432d105",
      "metadata": {
        "id": "376b5d07-4773-4bff-bbd3-d4621432d105"
      },
      "source": [
        "# Fonctions universelles : fonctions de tableau rapides élément par élément\n",
        "Une fonction universelle, ou ufunc, est une fonction qui effectue des opérations élément par élément sur les données de tableaux ndarray. On peut les considérer comme des enveloppes vectorisées rapides contenant des fonctions simples qui reçoivent une ou plusieurs valeurs scalaires, et produisent un ou plusieurs résultats scalaires. De nombreuses fonctions ufunc sont de simples transformations d’éléments, comme sqrt (racine carrée) ou exp (exponentielle) :"
      ]
    },
    {
      "cell_type": "code",
      "execution_count": null,
      "id": "fe8b8244-1d29-4ff7-88a1-2faf9309446e",
      "metadata": {
        "id": "fe8b8244-1d29-4ff7-88a1-2faf9309446e",
        "outputId": "0e725e83-9f0b-460d-af07-718cc683f795",
        "colab": {
          "base_uri": "https://localhost:8080/"
        }
      },
      "outputs": [
        {
          "output_type": "execute_result",
          "data": {
            "text/plain": [
              "array([0, 1, 2, 3, 4, 5, 6, 7, 8, 9])"
            ]
          },
          "metadata": {},
          "execution_count": 87
        }
      ],
      "source": [
        "arr = np.arange(10)\n",
        "arr"
      ]
    },
    {
      "cell_type": "code",
      "execution_count": null,
      "id": "198a70be-30b4-4e5c-9cfe-f9265cad6313",
      "metadata": {
        "id": "198a70be-30b4-4e5c-9cfe-f9265cad6313",
        "outputId": "58175546-69b2-479a-94f7-fd81ce99a6f7",
        "colab": {
          "base_uri": "https://localhost:8080/"
        }
      },
      "outputs": [
        {
          "output_type": "execute_result",
          "data": {
            "text/plain": [
              "array([0.    , 1.    , 1.4142, 1.7321, 2.    , 2.2361, 2.4495, 2.6458,\n",
              "       2.8284, 3.    ])"
            ]
          },
          "metadata": {},
          "execution_count": 88
        }
      ],
      "source": [
        "np.sqrt(arr)"
      ]
    },
    {
      "cell_type": "code",
      "execution_count": null,
      "id": "c9133e3f-b34e-49c6-bc2e-9c53f82a9c1b",
      "metadata": {
        "id": "c9133e3f-b34e-49c6-bc2e-9c53f82a9c1b",
        "outputId": "0806fa5a-dce6-4e3c-802e-9af862fe1a6a",
        "colab": {
          "base_uri": "https://localhost:8080/"
        }
      },
      "outputs": [
        {
          "output_type": "execute_result",
          "data": {
            "text/plain": [
              "array([   1.    ,    2.7183,    7.3891,   20.0855,   54.5982,  148.4132,\n",
              "        403.4288, 1096.6332, 2980.958 , 8103.0839])"
            ]
          },
          "metadata": {},
          "execution_count": 90
        }
      ],
      "source": [
        "np.exp(arr)"
      ]
    },
    {
      "cell_type": "markdown",
      "id": "b4ac58d8-c313-496c-8d51-ad29c9f2e7a9",
      "metadata": {
        "id": "b4ac58d8-c313-496c-8d51-ad29c9f2e7a9"
      },
      "source": [
        "On les appelle des ufunc unaires. D’autres, comme add ou maximum, prennent deux tableaux (donc, des ufunc binaires) et renvoient comme résultat un seul tableau :"
      ]
    },
    {
      "cell_type": "code",
      "execution_count": null,
      "id": "692ca388-a1c7-4449-89d3-3be82ef142d8",
      "metadata": {
        "id": "692ca388-a1c7-4449-89d3-3be82ef142d8",
        "outputId": "ccf85e8f-cd16-438a-8fce-72a4a1ff3642",
        "colab": {
          "base_uri": "https://localhost:8080/"
        }
      },
      "outputs": [
        {
          "output_type": "execute_result",
          "data": {
            "text/plain": [
              "array([-0.6769,  0.6117,  1.031 ,  0.9313, -0.8392, -0.3092,  0.3313,\n",
              "        0.9755])"
            ]
          },
          "metadata": {},
          "execution_count": 91
        }
      ],
      "source": [
        "x = np.random.randn(8)\n",
        "y = np.random.randn(8)\n",
        "x"
      ]
    },
    {
      "cell_type": "code",
      "execution_count": null,
      "id": "a7fb23f1-3b06-4a3b-9d80-a44c01efbaf9",
      "metadata": {
        "id": "a7fb23f1-3b06-4a3b-9d80-a44c01efbaf9",
        "outputId": "298dd55b-9ba4-4b57-b90f-e35e63f447bd",
        "colab": {
          "base_uri": "https://localhost:8080/"
        }
      },
      "outputs": [
        {
          "output_type": "execute_result",
          "data": {
            "text/plain": [
              "array([-0.4792, -0.1857, -1.1063, -1.1962,  0.8125,  1.3562, -0.072 ,\n",
              "        1.0035])"
            ]
          },
          "metadata": {},
          "execution_count": 92
        }
      ],
      "source": [
        "y"
      ]
    },
    {
      "cell_type": "code",
      "execution_count": null,
      "id": "bdfe1d7f-a9fb-4afc-b7d6-0831a775c75f",
      "metadata": {
        "id": "bdfe1d7f-a9fb-4afc-b7d6-0831a775c75f",
        "outputId": "8571ff51-8e9d-492d-bbdc-56105970c8d1",
        "colab": {
          "base_uri": "https://localhost:8080/"
        }
      },
      "outputs": [
        {
          "output_type": "execute_result",
          "data": {
            "text/plain": [
              "array([-0.4792,  0.6117,  1.031 ,  0.9313,  0.8125,  1.3562,  0.3313,\n",
              "        1.0035])"
            ]
          },
          "metadata": {},
          "execution_count": 93
        }
      ],
      "source": [
        "np.maximum(x, y)"
      ]
    },
    {
      "cell_type": "markdown",
      "id": "d266e98d-29bb-4da5-91ae-442d9331995d",
      "metadata": {
        "id": "d266e98d-29bb-4da5-91ae-442d9331995d"
      },
      "source": [
        "Ici, numpy.maximum a calculé le maximum, élément par élément, du contenu de x et de y."
      ]
    },
    {
      "cell_type": "markdown",
      "id": "c7e279d0-73ba-4e58-96ae-1775cbf14659",
      "metadata": {
        "id": "c7e279d0-73ba-4e58-96ae-1775cbf14659"
      },
      "source": [
        "![image.png](data:image/png;base64,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)  \n",
        "![image.png](data:image/png;base64,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)"
      ]
    },
    {
      "cell_type": "markdown",
      "id": "83b34eac-2d79-41b6-a8b7-9891725155eb",
      "metadata": {
        "id": "83b34eac-2d79-41b6-a8b7-9891725155eb"
      },
      "source": [
        "## Exprimer une logique conditionnelle sous forme d’opérations de tableau\n",
        "La fonction numpy.where est une version vectorisée de l’expression ternaire x if condition else y. Supposons que nous ayons un tableau booléen et deux tableaux de valeurs :"
      ]
    },
    {
      "cell_type": "code",
      "execution_count": null,
      "id": "8ec32053-e50f-4d52-98e3-3ad1ce2a9d27",
      "metadata": {
        "id": "8ec32053-e50f-4d52-98e3-3ad1ce2a9d27"
      },
      "outputs": [],
      "source": [
        "xarr = np.array([1.1, 1.2, 1.3, 1.4, 1.5])\n",
        "yarr = np.array([2.1, 2.2, 2.3, 2.4, 2.5])\n",
        "cond = np.array([True, False, True, True, False])"
      ]
    },
    {
      "cell_type": "markdown",
      "id": "abe373b9-ac15-4836-9b6c-65ec31f4feeb",
      "metadata": {
        "id": "abe373b9-ac15-4836-9b6c-65ec31f4feeb"
      },
      "source": [
        "Supposons que nous voulions prendre une valeur de xarr lorsque la valeur correspondante dans cond est vraie, et sinon prendre la valeur de yarr. Nous pourrions alors avoir la compréhension de liste suivante :"
      ]
    },
    {
      "cell_type": "code",
      "execution_count": null,
      "id": "f73596ca-d2c4-438a-a951-d8b61867bf79",
      "metadata": {
        "id": "f73596ca-d2c4-438a-a951-d8b61867bf79",
        "outputId": "4351586e-ad77-4fac-ecfe-9d11b29e0696",
        "colab": {
          "base_uri": "https://localhost:8080/"
        }
      },
      "outputs": [
        {
          "output_type": "execute_result",
          "data": {
            "text/plain": [
              "[1.1, 2.2, 1.3, 1.4, 2.5]"
            ]
          },
          "metadata": {},
          "execution_count": 99
        }
      ],
      "source": [
        "result = [(x if c else y)\n",
        "          for x, y, c in zip(xarr, yarr, cond)]\n",
        "result"
      ]
    },
    {
      "cell_type": "markdown",
      "id": "c1a6324a-b925-4b7b-a774-c3d187ad7fc5",
      "metadata": {
        "id": "c1a6324a-b925-4b7b-a774-c3d187ad7fc5"
      },
      "source": [
        "Cela pose de multiples problèmes. Premièrement, ce code ne sera pas très performant pour de grands tableaux (du fait que tout le travail est effectué avec du code Python interprété). Deuxièmement, il ne fonctionnera pas avec des tableaux multidimensionnels. Avec np.where, vous pouvez écrire cela de manière très concise :"
      ]
    },
    {
      "cell_type": "code",
      "execution_count": null,
      "id": "92afad8c-bb07-49c4-b7f1-67c573b28805",
      "metadata": {
        "id": "92afad8c-bb07-49c4-b7f1-67c573b28805",
        "outputId": "c86db55e-07e6-4e70-9c41-df7a2d0c8f32",
        "colab": {
          "base_uri": "https://localhost:8080/"
        }
      },
      "outputs": [
        {
          "output_type": "execute_result",
          "data": {
            "text/plain": [
              "array([1.1, 2.2, 1.3, 1.4, 2.5])"
            ]
          },
          "metadata": {},
          "execution_count": 100
        }
      ],
      "source": [
        "result = np.where(cond, xarr, yarr)\n",
        "result"
      ]
    },
    {
      "cell_type": "markdown",
      "id": "f374bded-c52a-425d-8e74-5e1216a22f7c",
      "metadata": {
        "id": "f374bded-c52a-425d-8e74-5e1216a22f7c"
      },
      "source": [
        "Les deuxième et troisième arguments de np.where ne sont pas nécessairement des tableaux : l’un ou les deux peuvent être des scalaires. Une utilisation typique de where dans l’analyse des données consiste à produire un nouveau tableau de valeurs basé sur un autre tableau. Supposons que vous ayez une matrice de données générées de manière aléatoire et que vous vouliez remplacer toutes les valeurs positives par 2 et toutes les valeurs négatives par –2. C’est très facile à réaliser avec np.where :"
      ]
    },
    {
      "cell_type": "code",
      "execution_count": null,
      "id": "c8102387-b5fd-406b-8386-df2be97f4941",
      "metadata": {
        "id": "c8102387-b5fd-406b-8386-df2be97f4941",
        "outputId": "cb34fa82-feb7-443f-f4d3-4f904e70f010",
        "colab": {
          "base_uri": "https://localhost:8080/"
        }
      },
      "outputs": [
        {
          "output_type": "execute_result",
          "data": {
            "text/plain": [
              "array([[ 0.3616, -0.6451,  0.3614,  1.538 ],\n",
              "       [-0.0358,  1.5646, -2.6197,  0.8219],\n",
              "       [ 0.087 , -0.299 ,  0.0918, -1.9876],\n",
              "       [-0.2197,  0.3571,  1.4779, -0.5183]])"
            ]
          },
          "metadata": {},
          "execution_count": 101
        }
      ],
      "source": [
        "arr = np.random.randn(4, 4)\n",
        "arr"
      ]
    },
    {
      "cell_type": "code",
      "execution_count": null,
      "id": "0147a034-6825-4da1-9780-36aaeb642269",
      "metadata": {
        "id": "0147a034-6825-4da1-9780-36aaeb642269",
        "outputId": "b3ce75f8-a6ba-400b-e7a2-eaaea74f0d11",
        "colab": {
          "base_uri": "https://localhost:8080/"
        }
      },
      "outputs": [
        {
          "output_type": "execute_result",
          "data": {
            "text/plain": [
              "array([[ True, False,  True,  True],\n",
              "       [False,  True, False,  True],\n",
              "       [ True, False,  True, False],\n",
              "       [False,  True,  True, False]])"
            ]
          },
          "metadata": {},
          "execution_count": 102
        }
      ],
      "source": [
        "arr > 0"
      ]
    },
    {
      "cell_type": "code",
      "execution_count": null,
      "id": "66bf59d9-d8b3-435b-b47a-55e336a7c9e7",
      "metadata": {
        "id": "66bf59d9-d8b3-435b-b47a-55e336a7c9e7",
        "outputId": "ef10e6c1-20b9-43f5-ec2b-e7b3665f3d65",
        "colab": {
          "base_uri": "https://localhost:8080/"
        }
      },
      "outputs": [
        {
          "output_type": "execute_result",
          "data": {
            "text/plain": [
              "array([[ 2, -2,  2,  2],\n",
              "       [-2,  2, -2,  2],\n",
              "       [ 2, -2,  2, -2],\n",
              "       [-2,  2,  2, -2]])"
            ]
          },
          "metadata": {},
          "execution_count": 103
        }
      ],
      "source": [
        "np.where(arr > 0, 2, -2)"
      ]
    },
    {
      "cell_type": "markdown",
      "id": "df7da7a6-6b9d-47c1-ad1f-664fec85938e",
      "metadata": {
        "id": "df7da7a6-6b9d-47c1-ad1f-664fec85938e"
      },
      "source": [
        "Vous pouvez combiner des scalaires et des tableaux en utilisant np.where. Par exemple, je peux remplacer toutes les valeurs positives dans arr par la constante 2, comme cela :"
      ]
    },
    {
      "cell_type": "code",
      "execution_count": null,
      "id": "42ec4187-15bb-4175-8702-56b36b30a841",
      "metadata": {
        "id": "42ec4187-15bb-4175-8702-56b36b30a841",
        "outputId": "09e750cd-7123-4cb1-fdc1-3a8b6ada8935",
        "colab": {
          "base_uri": "https://localhost:8080/"
        }
      },
      "outputs": [
        {
          "output_type": "execute_result",
          "data": {
            "text/plain": [
              "array([[ 2.    , -0.6451,  2.    ,  2.    ],\n",
              "       [-0.0358,  2.    , -2.6197,  2.    ],\n",
              "       [ 2.    , -0.299 ,  2.    , -1.9876],\n",
              "       [-0.2197,  2.    ,  2.    , -0.5183]])"
            ]
          },
          "metadata": {},
          "execution_count": 104
        }
      ],
      "source": [
        "np.where(arr > 0, 2, arr) # set only positive values to 2"
      ]
    },
    {
      "cell_type": "markdown",
      "id": "a5d553a0-c79a-45cd-af10-81a5f8f58759",
      "metadata": {
        "id": "a5d553a0-c79a-45cd-af10-81a5f8f58759"
      },
      "source": [
        "## Méthodes mathématiques et statistiques\n",
        "Un ensemble de fonctions mathématiques qui calculent des statistiques sur un tableau entier ou sur les données le long d’un axe sont accessibles en tant que méthodes de la classe des tableaux. Vous pouvez utiliser des agrégations (souvent appelées réductions) comme la somme (sum), la moyenne (mean) et l’écart-type (std) soit en appelant la méthode de l’instance de tableau, soit en utilisant la fonction NumPy de haut niveau. Ici, je génère des données aléatoires avec une distribution normale, et je calcule des statistiques globales :"
      ]
    },
    {
      "cell_type": "code",
      "execution_count": null,
      "id": "24ba5736-573f-438d-b260-52d31d992606",
      "metadata": {
        "id": "24ba5736-573f-438d-b260-52d31d992606",
        "outputId": "33dbf6af-814a-41db-b989-32ae04b4701c",
        "colab": {
          "base_uri": "https://localhost:8080/"
        }
      },
      "outputs": [
        {
          "output_type": "execute_result",
          "data": {
            "text/plain": [
              "array([[-0.8085, -0.5018,  0.9154,  0.3288],\n",
              "       [-0.5298,  0.5133,  0.0971,  0.9686],\n",
              "       [-0.7021, -0.3277, -0.3921, -1.4635],\n",
              "       [ 0.2961,  0.2611,  0.0051, -0.2346],\n",
              "       [-1.4154, -0.4206, -0.3427, -0.8023]])"
            ]
          },
          "metadata": {},
          "execution_count": 105
        }
      ],
      "source": [
        "arr = np.random.randn(5, 4)\n",
        "arr"
      ]
    },
    {
      "cell_type": "code",
      "execution_count": null,
      "id": "f408ad02-6010-4b53-aef0-6ed5efccdfb7",
      "metadata": {
        "id": "f408ad02-6010-4b53-aef0-6ed5efccdfb7",
        "outputId": "7fa381f6-c59c-479e-a6fc-d218005bfd18",
        "colab": {
          "base_uri": "https://localhost:8080/"
        }
      },
      "outputs": [
        {
          "output_type": "execute_result",
          "data": {
            "text/plain": [
              "-0.2277755984840249"
            ]
          },
          "metadata": {},
          "execution_count": 106
        }
      ],
      "source": [
        "arr.mean()"
      ]
    },
    {
      "cell_type": "code",
      "execution_count": null,
      "id": "f4e90130-6c67-42d7-aa6a-0a48e5203c6f",
      "metadata": {
        "id": "f4e90130-6c67-42d7-aa6a-0a48e5203c6f",
        "outputId": "05590ccb-0396-40f0-b6df-dd8394a15398",
        "colab": {
          "base_uri": "https://localhost:8080/"
        }
      },
      "outputs": [
        {
          "output_type": "execute_result",
          "data": {
            "text/plain": [
              "-0.2277755984840249"
            ]
          },
          "metadata": {},
          "execution_count": 107
        }
      ],
      "source": [
        "np.mean(arr)"
      ]
    },
    {
      "cell_type": "code",
      "execution_count": null,
      "id": "22ea6d19-c8c6-4bbd-adce-8263023ec0c0",
      "metadata": {
        "id": "22ea6d19-c8c6-4bbd-adce-8263023ec0c0",
        "outputId": "128c7ff8-4909-4f87-ffce-9be49b5aafd3",
        "colab": {
          "base_uri": "https://localhost:8080/"
        }
      },
      "outputs": [
        {
          "output_type": "execute_result",
          "data": {
            "text/plain": [
              "-4.555511969680498"
            ]
          },
          "metadata": {},
          "execution_count": 108
        }
      ],
      "source": [
        "arr.sum()"
      ]
    },
    {
      "cell_type": "markdown",
      "id": "563711c5-4f18-4349-8956-0dea01d76175",
      "metadata": {
        "id": "563711c5-4f18-4349-8956-0dea01d76175"
      },
      "source": [
        "Les fonctions comme mean et sum prennent un argument axis optionnel qui calcule la statistique pour l’axe spécifié, ce qui donne un tableau avec une dimension de moins :"
      ]
    },
    {
      "cell_type": "code",
      "execution_count": null,
      "id": "e91ebd09-ea94-4146-85da-5b5135d69a32",
      "metadata": {
        "id": "e91ebd09-ea94-4146-85da-5b5135d69a32",
        "outputId": "ae3bcea7-ba62-4260-c878-e43cd87041f2",
        "colab": {
          "base_uri": "https://localhost:8080/"
        }
      },
      "outputs": [
        {
          "output_type": "execute_result",
          "data": {
            "text/plain": [
              "array([-0.0165,  0.2623, -0.7213,  0.0819, -0.7453])"
            ]
          },
          "metadata": {},
          "execution_count": 109
        }
      ],
      "source": [
        "arr.mean(axis=1)"
      ]
    },
    {
      "cell_type": "code",
      "execution_count": null,
      "id": "5216aebf-7545-4578-b464-7ac062a59972",
      "metadata": {
        "id": "5216aebf-7545-4578-b464-7ac062a59972",
        "outputId": "369608f3-e7fe-4d91-a9f8-2237699f7741",
        "colab": {
          "base_uri": "https://localhost:8080/"
        }
      },
      "outputs": [
        {
          "output_type": "execute_result",
          "data": {
            "text/plain": [
              "array([-3.1596, -0.4757,  0.2828, -1.203 ])"
            ]
          },
          "metadata": {},
          "execution_count": 110
        }
      ],
      "source": [
        "arr.sum(axis=0)"
      ]
    },
    {
      "cell_type": "markdown",
      "id": "31bedd72-dd40-4d68-8faf-a5c3573d62fc",
      "metadata": {
        "id": "31bedd72-dd40-4d68-8faf-a5c3573d62fc"
      },
      "source": [
        "Ici, arr.mean(1) signifie « calculer la moyenne entre les colonnes », et arr.sum(0) signifie « calculer la somme des lignes »."
      ]
    },
    {
      "cell_type": "markdown",
      "id": "f7dc1d57-c91f-4489-9a0b-a5615b02ab36",
      "metadata": {
        "id": "f7dc1d57-c91f-4489-9a0b-a5615b02ab36"
      },
      "source": [
        "## Unique et autres logiques d’ensembles :  \n",
        "NumPy dispose d’opérations ensemblistes de base pour les tableaux unidimensionnels. Une opération couramment utilisée est np.unique, qui renvoie les valeurs uniques triées dans un tableau :"
      ]
    },
    {
      "cell_type": "code",
      "execution_count": null,
      "id": "1f8d7747-2c13-489f-b705-82e0c1784d6a",
      "metadata": {
        "id": "1f8d7747-2c13-489f-b705-82e0c1784d6a",
        "outputId": "511d05b3-70e5-46ba-b8e8-b9f597cc3e12",
        "colab": {
          "base_uri": "https://localhost:8080/"
        }
      },
      "outputs": [
        {
          "output_type": "execute_result",
          "data": {
            "text/plain": [
              "array(['Bob', 'Joe', 'Will'], dtype='<U4')"
            ]
          },
          "metadata": {},
          "execution_count": 119
        }
      ],
      "source": [
        "names = np.array(['Bob', 'Joe', 'Will', 'Bob', 'Will', 'Joe', 'Joe'])\n",
        "np.unique(names)"
      ]
    },
    {
      "cell_type": "code",
      "execution_count": null,
      "id": "913881c6-fcb7-44f5-bec4-7fc5cd20479a",
      "metadata": {
        "id": "913881c6-fcb7-44f5-bec4-7fc5cd20479a",
        "outputId": "0673fb47-658b-427b-a43d-7f4f7438eca6",
        "colab": {
          "base_uri": "https://localhost:8080/"
        }
      },
      "outputs": [
        {
          "output_type": "execute_result",
          "data": {
            "text/plain": [
              "array([1, 2, 3, 4])"
            ]
          },
          "metadata": {},
          "execution_count": 120
        }
      ],
      "source": [
        "ints = np.array([3, 3, 3, 2, 2, 1, 1, 4, 4])\n",
        "np.unique(ints)"
      ]
    }
  ],
  "metadata": {
    "kernelspec": {
      "display_name": "Python 3 (ipykernel)",
      "language": "python",
      "name": "python3"
    },
    "language_info": {
      "codemirror_mode": {
        "name": "ipython",
        "version": 3
      },
      "file_extension": ".py",
      "mimetype": "text/x-python",
      "name": "python",
      "nbconvert_exporter": "python",
      "pygments_lexer": "ipython3",
      "version": "3.10.9"
    },
    "colab": {
      "provenance": []
    }
  },
  "nbformat": 4,
  "nbformat_minor": 5
}