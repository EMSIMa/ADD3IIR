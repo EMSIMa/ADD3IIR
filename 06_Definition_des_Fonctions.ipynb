{
  "cells": [
    {
      "cell_type": "markdown",
      "metadata": {
        "id": "view-in-github",
        "colab_type": "text"
      },
      "source": [
        "<a href=\"https://colab.research.google.com/github/EMSIMa/ADD3IIR/blob/main/06_Definition_des_Fonctions.ipynb\" target=\"_parent\"><img src=\"https://colab.research.google.com/assets/colab-badge.svg\" alt=\"Open In Colab\"/></a>"
      ]
    },
    {
      "cell_type": "markdown",
      "metadata": {
        "id": "19ED7ALs-Nxm"
      },
      "source": [
        "# Définition et utilisation des fonctions"
      ]
    },
    {
      "cell_type": "markdown",
      "metadata": {
        "id": "fbhyqi2I-Nxo"
      },
      "source": [
        "Jusqu'à présent, nos scripts étaient de simples blocs de code à usage unique.\n",
        "Une façon d'organiser notre code Python et de le rendre plus lisible et réutilisable est de factoriser les morceaux utiles en *fonctions* réutilisables.\n",
        "Nous verrons ici deux façons de créer des fonctions : l'instruction ``def``, utile pour n'importe quel type de fonction, et l'instruction ``lambda``, utile pour créer de courtes fonctions anonymes."
      ]
    },
    {
      "cell_type": "markdown",
      "metadata": {
        "id": "XZe1JeqR-Nxp"
      },
      "source": [
        "## Utilisation des fonctions\n",
        "\n",
        "Les fonctions sont des groupes de code qui portent un nom et peuvent être appelées à l'aide de parenthèses.\n",
        "Nous avons déjà vu des fonctions auparavant. Par exemple, ``print`` est une fonction :"
      ]
    },
    {
      "cell_type": "code",
      "execution_count": null,
      "metadata": {
        "id": "RcFhCgrW-Nxr",
        "outputId": "b61a3412-6c65-4a9e-8460-6727e6871f6a"
      },
      "outputs": [
        {
          "name": "stdout",
          "output_type": "stream",
          "text": [
            "abc\n"
          ]
        }
      ],
      "source": [
        "print('abc')"
      ]
    },
    {
      "cell_type": "markdown",
      "metadata": {
        "id": "YaKu4cv1-Nxt"
      },
      "source": [
        "Ici, ``print`` est le nom de la fonction, et ``'abc'`` est l'*argument* de la fonction.\n",
        "\n",
        "En plus des arguments, il existe des *arguments mots-clés* qui sont spécifiés par leur nom.\n",
        "Un argument mot-clé disponible pour la fonction ``print()`` (en Python 3) est ``sep``, qui indique quel(s) caractère(s) doit(vent) être utilisé(s) pour séparer plusieurs éléments :"
      ]
    },
    {
      "cell_type": "code",
      "execution_count": null,
      "metadata": {
        "id": "7jRYX5dg-Nxv",
        "outputId": "062df75c-8e38-41fb-e259-d03a52d613bb"
      },
      "outputs": [
        {
          "name": "stdout",
          "output_type": "stream",
          "text": [
            "1 2 3\n"
          ]
        }
      ],
      "source": [
        "print(1, 2, 3)"
      ]
    },
    {
      "cell_type": "code",
      "execution_count": null,
      "metadata": {
        "id": "utsJSyAJ-Nxx",
        "outputId": "90247a13-864c-4e17-e242-879138841203"
      },
      "outputs": [
        {
          "name": "stdout",
          "output_type": "stream",
          "text": [
            "1--2--3\n"
          ]
        }
      ],
      "source": [
        "print(1, 2, 3, sep='--')"
      ]
    },
    {
      "cell_type": "markdown",
      "metadata": {
        "id": "bNLx9PXh-Nxz"
      },
      "source": [
        "Lorsque des arguments autres que des mots-clés sont utilisés avec des arguments de mots-clés, les arguments de mots-clés doivent être placés à la fin."
      ]
    },
    {
      "cell_type": "markdown",
      "metadata": {
        "id": "G0d274RQ-Nx0"
      },
      "source": [
        "## Définir des fonctions\n",
        "Les fonctions deviennent encore plus utiles lorsque nous commençons à définir les nôtres, en organisant les fonctionnalités pour les utiliser à plusieurs endroits.\n",
        "En Python, les fonctions sont définies avec l'instruction ``def``.\n",
        "Par exemple, nous pouvons encapsuler une version de notre code de la séquence de Fibonacci de la section précédente comme suit :"
      ]
    },
    {
      "cell_type": "code",
      "execution_count": null,
      "metadata": {
        "id": "4nLEAx_i-Nx1"
      },
      "outputs": [],
      "source": [
        "def fibonacci(N):\n",
        "    L = []\n",
        "    a, b = 0, 1\n",
        "    while len(L) < N:\n",
        "        a, b = b, a + b\n",
        "        L.append(a)\n",
        "    return L"
      ]
    },
    {
      "cell_type": "markdown",
      "metadata": {
        "id": "VlQqp9L1-Nx3"
      },
      "source": [
        "Nous avons maintenant une fonction nommée ``fibonacci`` qui prend un seul argument ``N``, fait quelque chose avec cet argument, et ``return`` une valeur ; dans ce cas, une liste des premiers ``N`` nombres de Fibonacci :"
      ]
    },
    {
      "cell_type": "code",
      "execution_count": null,
      "metadata": {
        "id": "DlrXOTdh-Nx3",
        "outputId": "d1735099-ea15-4630-a098-523b4e0a209c"
      },
      "outputs": [
        {
          "data": {
            "text/plain": [
              "[1, 1, 2, 3, 5, 8, 13, 21, 34, 55]"
            ]
          },
          "execution_count": 5,
          "metadata": {},
          "output_type": "execute_result"
        }
      ],
      "source": [
        "fibonacci(10)"
      ]
    },
    {
      "cell_type": "markdown",
      "metadata": {
        "id": "jHE5YjKK-Nx4"
      },
      "source": [
        "Si vous êtes familier avec les langages fortement typés comme ``C``, vous remarquerez immédiatement qu'il n'y a pas d'information de type associée aux entrées ou sorties des fonctions.\n",
        "Les fonctions Python peuvent retourner n'importe quel objet Python, simple ou composé, ce qui signifie que les constructions qui peuvent être difficiles dans d'autres langages sont simples en Python.\n",
        "\n",
        "Par exemple, les valeurs de retour multiples sont simplement placées dans un tuple, indiqué par des virgules :"
      ]
    },
    {
      "cell_type": "code",
      "execution_count": null,
      "metadata": {
        "id": "G3eb6gq2-Nx5",
        "outputId": "4770dbb7-d8ec-40f9-d357-7330998273eb"
      },
      "outputs": [
        {
          "name": "stdout",
          "output_type": "stream",
          "text": [
            "3.0 4.0 (3-4j)\n"
          ]
        }
      ],
      "source": [
        "def real_imag_conj(val):\n",
        "    return val.real, val.imag, val.conjugate()\n",
        "\n",
        "r, i, c = real_imag_conj(3 + 4j)\n",
        "print(r, i, c)"
      ]
    },
    {
      "cell_type": "markdown",
      "metadata": {
        "id": "R67m3U0L-Nx6"
      },
      "source": [
        "## Valeurs par défaut des arguments\n",
        "\n",
        "Souvent, lors de la définition d'une fonction, il y a certaines valeurs que nous voulons que la fonction utilise *la plupart* du temps, mais nous aimerions aussi donner à l'utilisateur une certaine flexibilité.\n",
        "Dans ce cas, nous pouvons utiliser des *valeurs par défaut* pour les arguments.\n",
        "Considérons la fonction ``fibonacci`` de tout à l'heure.\n",
        "Et si nous voulions que l'utilisateur puisse jouer avec les valeurs de départ ?\n",
        "Nous pourrions le faire comme suit :"
      ]
    },
    {
      "cell_type": "code",
      "execution_count": null,
      "metadata": {
        "id": "KYsvNoi_-Nx7"
      },
      "outputs": [],
      "source": [
        "def fibonacci(N, a=0, b=1):\n",
        "    L = []\n",
        "    while len(L) < N:\n",
        "        a, b = b, a + b\n",
        "        L.append(a)\n",
        "    return L"
      ]
    },
    {
      "cell_type": "markdown",
      "metadata": {
        "id": "m52uDcjW-Nx8"
      },
      "source": [
        "Avec un seul argument, le résultat de l'appel de la fonction est identique au précédent :"
      ]
    },
    {
      "cell_type": "code",
      "execution_count": null,
      "metadata": {
        "id": "t3wwfNxZ-Nx8",
        "outputId": "313829e8-014c-440f-dcc4-06b905f4beda"
      },
      "outputs": [
        {
          "data": {
            "text/plain": [
              "[1, 1, 2, 3, 5, 8, 13, 21, 34, 55]"
            ]
          },
          "execution_count": 8,
          "metadata": {},
          "output_type": "execute_result"
        }
      ],
      "source": [
        "fibonacci(10)"
      ]
    },
    {
      "cell_type": "markdown",
      "metadata": {
        "id": "8_z_7l8Q-Nx9"
      },
      "source": [
        "Mais nous pouvons maintenant utiliser la fonction pour explorer de nouveaux aspects, tels que l'effet de nouvelles valeurs de départ :"
      ]
    },
    {
      "cell_type": "code",
      "execution_count": null,
      "metadata": {
        "id": "usWjVfYa-Nx-",
        "outputId": "e501d0cd-9bf0-4d29-eab0-495e946a1d38"
      },
      "outputs": [
        {
          "data": {
            "text/plain": [
              "[2, 2, 4, 6, 10, 16, 26, 42, 68, 110]"
            ]
          },
          "execution_count": 9,
          "metadata": {},
          "output_type": "execute_result"
        }
      ],
      "source": [
        "fibonacci(10, 0, 2)"
      ]
    },
    {
      "cell_type": "markdown",
      "metadata": {
        "id": "6EHrj7tr-Nx_"
      },
      "source": [
        "Les valeurs peuvent également être spécifiées par leur nom, auquel cas l'ordre des valeurs nommées n'a pas d'importance :"
      ]
    },
    {
      "cell_type": "code",
      "execution_count": null,
      "metadata": {
        "id": "H2NuGtuA-Nx_",
        "outputId": "08799f11-e0a7-46d2-bfbf-4ecb74c1b640"
      },
      "outputs": [
        {
          "data": {
            "text/plain": [
              "[3, 4, 7, 11, 18, 29, 47, 76, 123, 199]"
            ]
          },
          "execution_count": 10,
          "metadata": {},
          "output_type": "execute_result"
        }
      ],
      "source": [
        "fibonacci(10, b=3, a=1)"
      ]
    },
    {
      "cell_type": "markdown",
      "metadata": {
        "id": "hDEUB0rU-NyA"
      },
      "source": [
        "## ``*args`` et ``**kwargs`` : Arguments flexibles\n",
        "Il peut arriver que vous souhaitiez écrire une fonction dans laquelle vous ne savez pas au départ combien d'arguments l'utilisateur va passer.\n",
        "Dans ce cas, vous pouvez utiliser les formes spéciales ``*args`` et ``**kwargs`` pour récupérer tous les arguments passés.\n",
        "Voici un exemple :"
      ]
    },
    {
      "cell_type": "code",
      "execution_count": null,
      "metadata": {
        "id": "t5q0R_Iy-NyB"
      },
      "outputs": [],
      "source": [
        "def catch_all(*args, **kwargs):\n",
        "    print(\"args =\", args)\n",
        "    print(\"kwargs = \", kwargs)"
      ]
    },
    {
      "cell_type": "code",
      "execution_count": null,
      "metadata": {
        "id": "QBIlpr8Y-NyC",
        "outputId": "f778e1e0-8117-4e8b-c566-0fa82f6704ae"
      },
      "outputs": [
        {
          "name": "stdout",
          "output_type": "stream",
          "text": [
            "args = (1, 2, 3)\n",
            "kwargs =  {'a': 4, 'b': 5}\n"
          ]
        }
      ],
      "source": [
        "catch_all(1, 2, 3, a=4, b=5)"
      ]
    },
    {
      "cell_type": "code",
      "execution_count": null,
      "metadata": {
        "id": "ahWrHZz2-NyD",
        "outputId": "79bb06bf-cb87-41b1-966d-9877f18cf63c"
      },
      "outputs": [
        {
          "name": "stdout",
          "output_type": "stream",
          "text": [
            "args = ('a',)\n",
            "kwargs =  {'keyword': 2}\n"
          ]
        }
      ],
      "source": [
        "catch_all('a', keyword=2)"
      ]
    },
    {
      "cell_type": "markdown",
      "metadata": {
        "id": "DMHCYe7Z-NyD"
      },
      "source": [
        "Ici, ce ne sont pas les noms ``args`` et ``kwargs`` qui sont importants, mais les caractères ``*`` qui les précèdent.\n",
        "``args`` et ``kwargs`` sont juste les noms de variables souvent utilisés par convention, abrégés pour \"arguments\" et \"keyword arguments\".\n",
        "La différence opérationnelle réside dans les caractères astérisques : un simple ``*`` devant une variable signifie \"développer ceci comme une séquence\", alors qu'un double ``**`` devant une variable signifie \"développer ceci comme un dictionnaire\".\n",
        "En fait, cette syntaxe peut être utilisée non seulement avec la définition de la fonction, mais aussi avec l'appel de la fonction !"
      ]
    },
    {
      "cell_type": "code",
      "execution_count": null,
      "metadata": {
        "id": "2Gpn-G-g-NyE",
        "outputId": "098f1739-25f2-4757-e378-cd03655c842e"
      },
      "outputs": [
        {
          "name": "stdout",
          "output_type": "stream",
          "text": [
            "args = (1, 2, 3)\n",
            "kwargs =  {'pi': 3.14}\n"
          ]
        }
      ],
      "source": [
        "inputs = (1, 2, 3)\n",
        "keywords = {'pi': 3.14}\n",
        "\n",
        "catch_all(*inputs, **keywords)"
      ]
    },
    {
      "cell_type": "markdown",
      "metadata": {
        "id": "2aRZ7NGb-NyF"
      },
      "source": [
        "## Fonctions anonymes (``lambda``)\n",
        "Plus tôt, nous avons rapidement couvert la manière la plus commune de définir des fonctions, l'instruction ``def``.\n",
        "Vous rencontrerez probablement une autre façon de définir des fonctions courtes et uniques avec l'instruction ``lambda``.\n",
        "Cela ressemble à quelque chose comme ceci :"
      ]
    },
    {
      "cell_type": "code",
      "execution_count": null,
      "metadata": {
        "id": "744JtzBM-NyG",
        "outputId": "b7ce1530-cd8d-47f3-fced-83c0c0c0062e"
      },
      "outputs": [
        {
          "data": {
            "text/plain": [
              "3"
            ]
          },
          "execution_count": 15,
          "metadata": {},
          "output_type": "execute_result"
        }
      ],
      "source": [
        "add = lambda x, y: x + y\n",
        "add(1, 2)"
      ]
    },
    {
      "cell_type": "markdown",
      "metadata": {
        "id": "mb9p7UdK-NyH"
      },
      "source": [
        "Cette fonction lambda est à peu près équivalente à"
      ]
    },
    {
      "cell_type": "code",
      "execution_count": null,
      "metadata": {
        "id": "Cp7f0P7p-NyI"
      },
      "outputs": [],
      "source": [
        "def add(x, y):\n",
        "    return x + y"
      ]
    },
    {
      "cell_type": "markdown",
      "metadata": {
        "id": "JcJ48QsC-NyJ"
      },
      "source": [
        "Alors pourquoi voudriez-vous utiliser une telle chose ?\n",
        "La raison principale est que tout est objet en Python, même les fonctions elles-mêmes !\n",
        "Cela signifie que les fonctions peuvent être passées en tant qu'arguments aux fonctions.\n",
        "\n",
        "Par exemple, supposons que nous ayons des données stockées dans une liste de dictionnaires :"
      ]
    },
    {
      "cell_type": "code",
      "execution_count": null,
      "metadata": {
        "id": "8Fa71bui-NyK"
      },
      "outputs": [],
      "source": [
        "data = [{'first':'Guido', 'last':'Van Rossum', 'YOB':1956},\n",
        "        {'first':'Grace', 'last':'Hopper',     'YOB':1906},\n",
        "        {'first':'Alan',  'last':'Turing',     'YOB':1912}]"
      ]
    },
    {
      "cell_type": "markdown",
      "metadata": {
        "id": "lgz7hVVR-NyK"
      },
      "source": [
        "Supposons maintenant que nous voulions trier ces données.\n",
        "Python dispose d'une fonction ``sorted`` qui permet de le faire :"
      ]
    },
    {
      "cell_type": "code",
      "execution_count": null,
      "metadata": {
        "id": "aZAa4uAz-NyL",
        "outputId": "a78f2516-c8b4-4a18-9415-9e9c93d23890"
      },
      "outputs": [
        {
          "data": {
            "text/plain": [
              "[1, 2, 3, 4, 5, 6]"
            ]
          },
          "execution_count": 18,
          "metadata": {},
          "output_type": "execute_result"
        }
      ],
      "source": [
        "sorted([2,4,3,5,1,6])"
      ]
    },
    {
      "cell_type": "markdown",
      "metadata": {
        "id": "1aj9QJaI-NyL"
      },
      "source": [
        "Mais les dictionnaires ne sont pas ordonnés : nous avons besoin d'un moyen pour dire à la fonction *comment* trier nos données.\n",
        "Nous pouvons le faire en spécifiant la fonction ``key``, une fonction qui, étant donné un élément, renvoie la clé de tri pour cet élément :"
      ]
    },
    {
      "cell_type": "code",
      "execution_count": null,
      "metadata": {
        "id": "rsLFGu_m-NyN",
        "outputId": "07eb0fea-bc7f-469e-a448-cdd8d12ea5a8"
      },
      "outputs": [
        {
          "data": {
            "text/plain": [
              "[{'YOB': 1912, 'first': 'Alan', 'last': 'Turing'},\n",
              " {'YOB': 1906, 'first': 'Grace', 'last': 'Hopper'},\n",
              " {'YOB': 1956, 'first': 'Guido', 'last': 'Van Rossum'}]"
            ]
          },
          "execution_count": 19,
          "metadata": {},
          "output_type": "execute_result"
        }
      ],
      "source": [
        "# sort alphabetically by first name\n",
        "sorted(data, key=lambda item: item['first'])"
      ]
    },
    {
      "cell_type": "code",
      "execution_count": null,
      "metadata": {
        "id": "fZV3GiLR-NyN",
        "outputId": "2ed32996-9568-49d7-d63f-1f1775abe2bc"
      },
      "outputs": [
        {
          "data": {
            "text/plain": [
              "[{'YOB': 1906, 'first': 'Grace', 'last': 'Hopper'},\n",
              " {'YOB': 1912, 'first': 'Alan', 'last': 'Turing'},\n",
              " {'YOB': 1956, 'first': 'Guido', 'last': 'Van Rossum'}]"
            ]
          },
          "execution_count": 20,
          "metadata": {},
          "output_type": "execute_result"
        }
      ],
      "source": [
        "# sort by year of birth\n",
        "sorted(data, key=lambda item: item['YOB'])"
      ]
    },
    {
      "cell_type": "markdown",
      "metadata": {
        "id": "TSX-xfWU-NyO"
      },
      "source": [
        "Alors que ces fonctions clés pourraient certainement être créées par la syntaxe normale ``def``, la syntaxe ``lambda`` est pratique pour des fonctions courtes et uniques comme celles-ci."
      ]
    },
    {
      "cell_type": "markdown",
      "source": [
        "# Exercice:\n",
        "Ecrivez un programme qui prend une liste de nombres en entrée et renvoie une liste des carrés de tous les nombres pairs de la liste d'entrée. Le programme doit utiliser une fonction lambda pour déterminer si un nombre est pair ou impair."
      ],
      "metadata": {
        "id": "Spytxt1HExSu"
      }
    },
    {
      "cell_type": "code",
      "source": [],
      "metadata": {
        "id": "ZlsK2BUYEzVk"
      },
      "execution_count": null,
      "outputs": []
    }
  ],
  "metadata": {
    "anaconda-cloud": {},
    "kernelspec": {
      "display_name": "Python 3",
      "language": "python",
      "name": "python3"
    },
    "language_info": {
      "codemirror_mode": {
        "name": "ipython",
        "version": 3
      },
      "file_extension": ".py",
      "mimetype": "text/x-python",
      "name": "python",
      "nbconvert_exporter": "python",
      "pygments_lexer": "ipython3",
      "version": "3.5.1"
    },
    "colab": {
      "provenance": [],
      "include_colab_link": true
    }
  },
  "nbformat": 4,
  "nbformat_minor": 0
}