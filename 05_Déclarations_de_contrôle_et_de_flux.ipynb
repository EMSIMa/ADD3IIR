{
  "cells": [
    {
      "cell_type": "markdown",
      "metadata": {
        "id": "view-in-github",
        "colab_type": "text"
      },
      "source": [
        "<a href=\"https://colab.research.google.com/github/EMSIMa/ADD3IIR/blob/main/05_D%C3%A9clarations_de_contr%C3%B4le_et_de_flux.ipynb\" target=\"_parent\"><img src=\"https://colab.research.google.com/assets/colab-badge.svg\" alt=\"Open In Colab\"/></a>"
      ]
    },
    {
      "cell_type": "markdown",
      "metadata": {
        "id": "o7JGzMD139_a"
      },
      "source": [
        "# Contrôle du flux"
      ]
    },
    {
      "cell_type": "markdown",
      "metadata": {
        "id": "4DBjHYAD39_f"
      },
      "source": [
        "*Le contrôle du flux* est le point où la vraie programmation commence.  \n",
        "Sans lui, un programme n'est qu'une liste d'instructions exécutées de manière séquentielle.\n",
        "Avec le flux de contrôle, vous pouvez exécuter certains blocs de code de manière conditionnelle et/ou répétée : ces éléments de base peuvent être combinés pour créer des programmes étonnamment sophistiqués !\n",
        "\n",
        "Nous aborderons ici les *déclarations conditionnelles* (y compris \"`if``\", \"`elif``\" et \"`else`\"), les *déclarations de boucle* (y compris \"`for``\" et \"`while`` et les \"`break``, \"`continue`` et \"`pass``\" qui les accompagnent)."
      ]
    },
    {
      "cell_type": "markdown",
      "metadata": {
        "id": "A5An8CgP39_l"
      },
      "source": [
        "## Déclarations conditionnelles : ``if`-`elif`-`else`` :\n",
        "Les instructions conditionnelles, souvent appelées instructions *if-then*, permettent au programmeur d'exécuter certains morceaux de code en fonction d'une condition booléenne.\n",
        "Voici un exemple de base d'une instruction conditionnelle Python :"
      ]
    },
    {
      "cell_type": "code",
      "execution_count": null,
      "metadata": {
        "id": "LmyS4Ryk39_p",
        "outputId": "dd82fff6-3685-4637-b682-d9e1c6a219b7"
      },
      "outputs": [
        {
          "name": "stdout",
          "output_type": "stream",
          "text": [
            "-15 is negative\n"
          ]
        }
      ],
      "source": [
        "x = -15\n",
        "\n",
        "if x == 0:\n",
        "    print(x, \"is zero\")\n",
        "elif x > 0:\n",
        "    print(x, \"is positive\")\n",
        "elif x < 0:\n",
        "    print(x, \"is negative\")\n",
        "else:\n",
        "    print(x, \"is unlike anything I've ever seen...\")"
      ]
    },
    {
      "cell_type": "markdown",
      "metadata": {
        "id": "Wf9pjGjT39_x"
      },
      "source": [
        "Notez en particulier l'utilisation de deux points (``:``) et d'espaces blancs pour indiquer des blocs de code séparés.\n",
        "\n",
        "Python adopte les ``if`` et ``else`` souvent utilisés dans d'autres langages ; son mot-clé le plus unique est ``elif``, une contraction de \"else if\".\n",
        "Dans ces clauses conditionnelles, les blocs ``elif`` et ``else`` sont optionnels ; de plus, vous pouvez choisir d'inclure aussi peu ou autant d'instructions ``elif`` que vous le souhaitez."
      ]
    },
    {
      "cell_type": "markdown",
      "metadata": {
        "id": "Zt_qE4zw39_1"
      },
      "source": [
        "## Les boucles ``for``.\n",
        "Les boucles en Python sont un moyen d'exécuter de manière répétée une instruction de code.\n",
        "Par exemple, si nous voulons afficher chaque élément d'une liste, nous pouvons utiliser une boucle ``for`` :"
      ]
    },
    {
      "cell_type": "code",
      "execution_count": null,
      "metadata": {
        "id": "Lo4norsj39_6",
        "outputId": "818fc239-d24a-474f-9bc5-defcd8d2149e"
      },
      "outputs": [
        {
          "name": "stdout",
          "output_type": "stream",
          "text": [
            "2 3 5 7 "
          ]
        }
      ],
      "source": [
        "for N in [2, 3, 5, 7]:\n",
        "    print(N, end=' ') # print all on same line"
      ]
    },
    {
      "cell_type": "markdown",
      "metadata": {
        "id": "b-ZSieDM3-AB"
      },
      "source": [
        "Remarquez la simplicité de la boucle ``for`` : nous spécifions la variable que nous voulons utiliser, la séquence sur laquelle nous voulons boucler, et nous utilisons l'opérateur \"``in``\" pour les lier ensemble d'une manière intuitive et lisible.\n",
        "Plus précisément, l'objet à la droite du \"``in``\" peut être n'importe quel *itérateur* Python.\n",
        "Un itérateur peut être considéré comme une séquence généralisée, et nous en discuterons plus tard.\n",
        "\n",
        "Par exemple, l'un des itérateurs les plus couramment utilisés en Python est l'objet ``range``, qui génère une séquence de nombres :"
      ]
    },
    {
      "cell_type": "code",
      "execution_count": null,
      "metadata": {
        "id": "-tb4vT0y3-AG",
        "outputId": "776c1b15-a0e4-41e4-f652-095259f967f7"
      },
      "outputs": [
        {
          "name": "stdout",
          "output_type": "stream",
          "text": [
            "0 1 2 3 4 5 6 7 8 9 "
          ]
        }
      ],
      "source": [
        "for i in range(10):\n",
        "    print(i, end=' ')"
      ]
    },
    {
      "cell_type": "markdown",
      "metadata": {
        "id": "fuXDi6oH3-AM"
      },
      "source": [
        "Notez que la plage commence à zéro par défaut et que, par convention, le haut de la plage n'est pas inclus dans la sortie.\n",
        "Les objets Range peuvent également avoir des valeurs plus complexes :"
      ]
    },
    {
      "cell_type": "code",
      "execution_count": null,
      "metadata": {
        "id": "RIVwGrgQ3-AP",
        "outputId": "a7313540-0c35-4772-e198-ee3a57d68efe"
      },
      "outputs": [
        {
          "data": {
            "text/plain": [
              "[5, 6, 7, 8, 9]"
            ]
          },
          "execution_count": 4,
          "metadata": {},
          "output_type": "execute_result"
        }
      ],
      "source": [
        "# range from 5 to 10\n",
        "list(range(5, 10))"
      ]
    },
    {
      "cell_type": "code",
      "execution_count": null,
      "metadata": {
        "id": "ba-7CJAW3-AR",
        "outputId": "1525b8eb-146b-440f-fec9-7b292c98906a"
      },
      "outputs": [
        {
          "data": {
            "text/plain": [
              "[0, 2, 4, 6, 8]"
            ]
          },
          "execution_count": 5,
          "metadata": {},
          "output_type": "execute_result"
        }
      ],
      "source": [
        "# range from 0 to 10 by 2\n",
        "list(range(0, 10, 2))"
      ]
    },
    {
      "cell_type": "markdown",
      "metadata": {
        "id": "9JAWkaIZ3-AU"
      },
      "source": [
        "Vous remarquerez que la signification des arguments ``range`` est très similaire à la syntaxe de découpage que nous avons abordée dans Lists."
      ]
    },
    {
      "cell_type": "markdown",
      "metadata": {
        "id": "tzFqb1sL3-AW"
      },
      "source": [
        "## Boucles ``while`` (pendant)\n",
        "L'autre type de boucle en Python est la boucle ``while``, qui itère jusqu'à ce qu'une condition soit remplie :"
      ]
    },
    {
      "cell_type": "code",
      "execution_count": null,
      "metadata": {
        "id": "jBIJITej3-AX",
        "outputId": "4dc7f1e6-b800-40d3-d0f5-cd123bca3b24"
      },
      "outputs": [
        {
          "name": "stdout",
          "output_type": "stream",
          "text": [
            "0 1 2 3 4 5 6 7 8 9 "
          ]
        }
      ],
      "source": [
        "i = 0\n",
        "while i < 10:\n",
        "    print(i, end=' ')\n",
        "    i += 1"
      ]
    },
    {
      "cell_type": "markdown",
      "metadata": {
        "id": "cPKFhEXQ3-Ab"
      },
      "source": [
        "L'argument de la boucle ``while`` est évalué comme une instruction booléenne, et la boucle est exécutée jusqu'à ce que l'instruction soit évaluée à False."
      ]
    },
    {
      "cell_type": "markdown",
      "metadata": {
        "id": "-wgFuP4i3-Ad"
      },
      "source": [
        "## ``break`` et ``continue`` : Ajustement de vos boucles\n",
        "Il existe deux instructions utiles qui peuvent être utilisées dans les boucles pour affiner la façon dont elles sont exécutées :\n",
        "\n",
        "- L'instruction ``break`` permet de sortir complètement de la boucle\n",
        "- L'instruction ``continue`` saute le reste de la boucle en cours et passe à l'itération suivante.\n",
        "\n",
        "Ces instructions peuvent être utilisées à la fois dans les boucles `for` et `while`.\n",
        "\n",
        "Voici un exemple d'utilisation de `continue`` pour imprimer une chaîne de nombres impairs.\n",
        "Dans ce cas, le résultat pourrait être obtenu tout aussi bien avec une instruction `if-else`, mais parfois l'instruction `continue` peut être un moyen plus pratique d'exprimer l'idée que vous avez à l'esprit :"
      ]
    },
    {
      "cell_type": "code",
      "execution_count": null,
      "metadata": {
        "id": "wzJ2OGnf3-Af",
        "outputId": "08a07b3d-41f4-4706-e787-40fe0f7b0102"
      },
      "outputs": [
        {
          "name": "stdout",
          "output_type": "stream",
          "text": [
            "1 3 5 7 9 11 13 15 17 19 "
          ]
        }
      ],
      "source": [
        "for n in range(20):\n",
        "    # if the remainder of n / 2 is 0, skip the rest of the loop\n",
        "    if n % 2 == 0:\n",
        "        continue\n",
        "    print(n, end=' ')"
      ]
    },
    {
      "cell_type": "markdown",
      "metadata": {
        "id": "FDq5pUCm3-Ah"
      },
      "source": [
        "Voici un exemple d'instruction ``break`` utilisée pour une tâche moins triviale.\n",
        "Cette boucle remplira une liste avec tous les nombres de Fibonacci jusqu'à une certaine valeur :"
      ]
    },
    {
      "cell_type": "code",
      "execution_count": null,
      "metadata": {
        "id": "p882xaLF3-Ak",
        "outputId": "3e84ee3e-3f7f-471a-c50d-1f5efea5f076"
      },
      "outputs": [
        {
          "name": "stdout",
          "output_type": "stream",
          "text": [
            "[1, 1, 2, 3, 5, 8, 13, 21, 34, 55, 89]\n"
          ]
        }
      ],
      "source": [
        "a, b = 0, 1\n",
        "amax = 100\n",
        "L = []\n",
        "\n",
        "while True:\n",
        "    (a, b) = (b, a + b)\n",
        "    if a > amax:\n",
        "        break\n",
        "    L.append(a)\n",
        "\n",
        "print(L)"
      ]
    },
    {
      "cell_type": "markdown",
      "metadata": {
        "id": "40JkhhUy3-Am"
      },
      "source": [
        "Remarquez que nous utilisons une boucle ``while True``, qui tournera en boucle indéfiniment à moins que nous ayons une instruction break !"
      ]
    },
    {
      "cell_type": "markdown",
      "metadata": {
        "id": "iWpIKFUz3-Ao"
      },
      "source": [
        "## Les boucles avec un bloc ``else``\n",
        "Un motif rarement utilisé en Python est la déclaration ``else`` qui fait partie d'une boucle ``for`` ou ``while``.\n",
        "Nous avons discuté du bloc ``else`` plus tôt : il s'exécute si toutes les instructions ``if`` et ``elif`` évaluent à ``False``.\n",
        "Le bloc ``else`` de la boucle est peut-être l'une des instructions dont le nom prête le plus à confusion en Python ; je préfère le considérer comme une instruction ``nobreak`` : c'est-à-dire que le bloc ``else`` n'est exécuté que si la boucle se termine naturellement, sans rencontrer d'instruction ``break``.\n",
        "\n",
        "Pour illustrer l'utilité de cette approche, considérons l'implémentation suivante (non optimisée) du *Crible d'Eratosthène*, un algorithme bien connu pour trouver les nombres premiers :"
      ]
    },
    {
      "cell_type": "code",
      "execution_count": null,
      "metadata": {
        "id": "HlntLBhT3-As",
        "outputId": "ad492933-c4c3-45e9-a35e-2f6bb442d9a1"
      },
      "outputs": [
        {
          "name": "stdout",
          "output_type": "stream",
          "text": [
            "[2, 3, 5, 7, 11, 13, 17, 19, 23, 29]\n"
          ]
        }
      ],
      "source": [
        "L = []\n",
        "nmax = 30\n",
        "\n",
        "for n in range(2, nmax):\n",
        "    for factor in L:\n",
        "        if n % factor == 0:\n",
        "            break\n",
        "    else: # no break\n",
        "        L.append(n)\n",
        "print(L)"
      ]
    },
    {
      "cell_type": "markdown",
      "metadata": {
        "id": "bH3K2BxQ3-Av"
      },
      "source": [
        "L'instruction ``else`` ne s'exécute que si aucun des facteurs ne divise le nombre donné.\n",
        "L'instruction ``else`` fonctionne de la même manière que la boucle ``while``."
      ]
    }
  ],
  "metadata": {
    "anaconda-cloud": {},
    "kernelspec": {
      "display_name": "Python 3",
      "language": "python",
      "name": "python3"
    },
    "language_info": {
      "codemirror_mode": {
        "name": "ipython",
        "version": 3
      },
      "file_extension": ".py",
      "mimetype": "text/x-python",
      "name": "python",
      "nbconvert_exporter": "python",
      "pygments_lexer": "ipython3",
      "version": "3.5.1"
    },
    "colab": {
      "provenance": [],
      "include_colab_link": true
    }
  },
  "nbformat": 4,
  "nbformat_minor": 0
}