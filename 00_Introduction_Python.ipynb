{
  "cells": [
    {
      "cell_type": "markdown",
      "metadata": {
        "id": "4sv-KReK-1e5"
      },
      "source": [
        "# 1. Introduction"
      ]
    },
    {
      "cell_type": "markdown",
      "metadata": {
        "id": "8d4jFOpz-1e7"
      },
      "source": [
        "Conçu à la fin des années 1980 comme un langage d'enseignement et de script, Python est depuis devenu un outil essentiel pour de nombreux programmeurs, ingénieurs, chercheurs et data scientists dans le monde universitaire et l'industrie. \n",
        "\n",
        "L'attrait de Python réside dans sa simplicité et sa beauté, ainsi que dans la commodité du vaste écosystème d'outils spécifiques au domaine qui ont été construits à partir de lui. Par exemple, la plupart du code Python dans le domaine du calcul scientifique et de la science des données est construit autour d'un groupe de paquets matures et utiles :\n",
        "\n",
        "\n",
        "- [NumPy](http://numpy.org) fournit un stockage et un calcul efficace pour les tableaux de données multidimensionnels.\n",
        "- [SciPy](http://scipy.org) contient un large éventail d'outils numériques tels que l'intégration et l'interpolation numériques.\n",
        "- [Pandas](http://pandas.pydata.org) fournit un objet DataFrame ainsi qu'un ensemble puissant de méthodes pour manipuler, filtrer, grouper et transformer les données.\n",
        "- [Matplotlib](http://matplotlib.org) fournit une interface utile pour la création de graphiques et de figures de qualité professionnelle.\n",
        "- [Scikit-Learn](http://scikit-learn.org) fournit une boîte à outils uniforme permettant d'appliquer aux données des algorithmes d'apprentissage automatique courants.\n",
        "- [IPython/Jupyter](http://jupyter.org) fournit un terminal amélioré et un environnement de notebook interactif utile pour l'analyse exploratoire, ainsi que pour la création de documents interactifs et exécutables. Par exemple, cette presentation est un notebook Jupyter.\n",
        "\n",
        "Les nombreux autres outils et paquets qui les accompagnent ne sont pas moins importants : si vous souhaitez effectuer une tâche scientifique ou d'analyse de données, il y a de fortes chances que quelqu'un ait écrit un paquet qui le fera pour vous.\n",
        "\n",
        "Toutefois, pour exploiter la puissance de cet écosystème de science des données, il faut d'abord se familiariser avec le langage Python lui-même.\n",
        "Cette présentation vise à combler cette niche.\n",
        "Elle offrira un tour d'horizon de la syntaxe et de la sémantique essentielles de Python, des types et structures de données intégrés, des définitions de fonctions, des instructions de flux de contrôle et d'autres aspects du langage.\n",
        "\n",
        "Vous repartirez avec une base solide à partir de laquelle vous pourrez explorer la pile de données scientifiques que nous venons de décrire.\n"
      ]
    },
    {
      "cell_type": "markdown",
      "metadata": {
        "id": "antmsVaK-1fA"
      },
      "source": [
        "## Installation et considérations pratiques\n",
        "\n",
        "L'installation de Python et de la suite de bibliothèques qui permettent le calcul scientifique est simple, que vous utilisiez Windows, Linux ou Mac OS X. Cette section présente quelques-unes des considérations à prendre en compte lors de la configuration de votre ordinateur."
      ]
    },
    {
      "cell_type": "markdown",
      "metadata": {
        "id": "sGVs0A6r-1fC"
      },
      "source": [
        "### Installation avec conda\n",
        "\n",
        "Bien qu'il existe plusieurs façons d'installer Python, celle que je vous suggère - en particulier si vous souhaitez utiliser les outils de science des données mentionnés ci-dessus - est la distribution multiplateforme Anaconda.\n",
        "Il existe deux versions de la distribution Anaconda :\n",
        "\n",
        "- [Miniconda](http://conda.pydata.org/miniconda.html) vous donne l'interpréteur Python lui-même, ainsi qu'un outil de ligne de commande appelé \"conda\" qui fonctionne comme un gestionnaire de paquets multiplateforme orienté vers les paquets Python, similaire dans son esprit aux outils \"apt\" ou \"yum\" que les utilisateurs de Linux connaissent peut-être.\n",
        "- [Anaconda](https://www.continuum.io/downloads) inclut à la fois Python et ``conda``, et propose en plus une suite d'autres paquets pré-installés orientés vers le calcul scientifique.\n",
        "\n",
        "Tous les paquets inclus dans Anaconda peuvent aussi être installés manuellement au-dessus de Miniconda ; pour cette raison, je suggère de commencer avec Miniconda.\n",
        "\n",
        "Pour commencer, téléchargez et installez le paquetage Miniconda - assurez-vous de choisir une version avec Python 3 - et installez ensuite le package IPython notebook :\n",
        "```\n",
        "[~]$ conda install ipython-notebook\n",
        "```\n",
        "Pour plus d'informations sur ``conda``, y compris des informations sur la création et l'utilisation des environnements conda, reportez-vous à la documentation du package Miniconda dont le lien figure à la page ci-dessus."
      ]
    },
    {
      "cell_type": "markdown",
      "metadata": {
        "id": "Mb_VzdTe-1fH"
      },
      "source": [
        "With that, let's start our tour of the Python language."
      ]
    },
    {
      "cell_type": "markdown",
      "source": [
        "# Tour rapide de la syntaxe du langage Python"
      ],
      "metadata": {
        "id": "FD_FKrjaLFLy"
      }
    },
    {
      "cell_type": "markdown",
      "source": [
        "Python a été développé à l'origine comme un langage d'enseignement, mais sa facilité d'utilisation et sa syntaxe claire l'ont fait adopter par les débutants comme par les experts.\n",
        "La propreté de la syntaxe de Python a conduit certains à l'appeler \"pseudocode exécutable\", et il est en effet souvent beaucoup plus facile de lire et de comprendre un script Python que de lire un script similaire écrit en C, par exemple.\n",
        "Ici, nous allons commencer à discuter des principales caractéristiques de la syntaxe de Python.\n",
        "\n",
        "La syntaxe fait référence à la structure du langage (c'est-à-dire à ce qui constitue un programme correctement formé).\n",
        "Pour l'instant, nous ne nous intéresserons pas à la sémantique - la signification des mots et des symboles dans la syntaxe - mais nous y reviendrons plus tard.\n",
        "\n",
        "Considérons l'exemple de code suivant"
      ],
      "metadata": {
        "id": "0wkFOf_fL5Lc"
      }
    },
    {
      "cell_type": "code",
      "source": [
        "# definir le point median\n",
        "midpoint = 5\n",
        "\n",
        "# creer deux listes vides\n",
        "lower = []; upper = []\n",
        "\n",
        "# diviser les nombres en supérieur et inférieur\n",
        "for i in range(10):\n",
        "    if (i < midpoint):\n",
        "        lower.append(i)\n",
        "    else:\n",
        "        upper.append(i)\n",
        "        \n",
        "print(\"lower:\", lower)\n",
        "print(\"upper:\", upper)"
      ],
      "metadata": {
        "colab": {
          "base_uri": "https://localhost:8080/"
        },
        "id": "iYda3m5RL1I_",
        "outputId": "07434aa8-d3dc-4f3f-fc50-b7dcf109c80b"
      },
      "execution_count": null,
      "outputs": [
        {
          "output_type": "stream",
          "name": "stdout",
          "text": [
            "lower: [0, 1, 2, 3, 4]\n",
            "upper: [5, 6, 7, 8, 9]\n"
          ]
        }
      ]
    },
    {
      "cell_type": "markdown",
      "source": [
        "Ce script est un peu simpliste, mais il illustre de manière compacte plusieurs des aspects importants de la syntaxe Python.\n",
        "Parcourons-le et discutons de certaines des caractéristiques syntaxiques de Python."
      ],
      "metadata": {
        "id": "KBuLmX0jN4CS"
      }
    },
    {
      "cell_type": "markdown",
      "source": [
        "## Les commentaires sont marqués par ``#''.\n",
        "Le script commence par un commentaire :\n",
        "``` python\n",
        "# définir le point médian\n",
        "```\n",
        "En Python, les commentaires sont indiqués par un dièse (``#``), et tout ce qui se trouve sur la ligne qui suit le dièse est ignoré par l'interpréteur.\n",
        "Cela signifie, par exemple, que vous pouvez avoir des commentaires autonomes comme celui que vous venez de voir, ainsi que des commentaires en ligne qui suivent une déclaration. Par exemple :\n",
        "``` python\n",
        "x += 2 # abréviation de x = x + 2\n",
        "```\n",
        "Python ne possède pas de syntaxe pour les commentaires multi-lignes, comme la syntaxe ``/* .... */`` utilisée en C et C++, bien que les chaînes de caractères multi-lignes soient souvent utilisées pour remplacer les commentaires multi-lignes\n",
        "``` python\n",
        "\"\"\"\n",
        "Ceci\n",
        "est\n",
        "un\n",
        "commentaire\n",
        "multi\n",
        "ligne\n",
        "\"\"\"\n",
        "```\n",
        "\n",
        "\n"
      ],
      "metadata": {
        "id": "9md2wL8rN4GB"
      }
    },
    {
      "cell_type": "markdown",
      "source": [
        "## La fin de ligne termine une déclaration\n",
        "La ligne suivante du script est\n",
        "``` python\n",
        "midpoint = 5\n",
        "```\n",
        "Il s'agit d'une opération d'affectation, dans laquelle nous avons créé une variable nommée \"midpoint\" et lui avons attribué la valeur \"5\".\n",
        "Remarquez que la fin de cette instruction est simplement marquée par la fin de la ligne.\n",
        "Cela contraste avec des langages comme C et C++, où chaque instruction doit se terminer par un point-virgule (``;``).\n",
        "\n",
        "En Python, si vous souhaitez qu'une instruction continue à la ligne suivante, il est possible d'utiliser le marqueur \"``\\``\" pour l'indiquer :"
      ],
      "metadata": {
        "id": "Y3_ZDkzjN4Ly"
      }
    },
    {
      "cell_type": "code",
      "source": [
        "x = 1 + 2 + 3 + 4 +\\\n",
        "    5 + 6 + 7 + 8"
      ],
      "metadata": {
        "id": "KF4B2EbmSb-I"
      },
      "execution_count": null,
      "outputs": []
    },
    {
      "cell_type": "markdown",
      "source": [
        "Il est également possible de poursuivre les expressions sur la ligne suivante entre parenthèses, sans utiliser le marqueur \"````\" :"
      ],
      "metadata": {
        "id": "KWF9puGIN4Pf"
      }
    },
    {
      "cell_type": "code",
      "source": [
        "x = (1 + 2 + 3 + 4 +\n",
        "     5 + 6 + 7 + 8)"
      ],
      "metadata": {
        "id": "odOHfVJPSovp"
      },
      "execution_count": null,
      "outputs": []
    },
    {
      "cell_type": "markdown",
      "source": [
        "La plupart des guides de style Python recommandent la deuxième version de la continuation de ligne (entre parenthèses) à la première (utilisation du marqueur \"``\\``\")"
      ],
      "metadata": {
        "id": "lcwEgIn6N4S4"
      }
    },
    {
      "cell_type": "markdown",
      "source": [
        "## Le point-virgule peut éventuellement terminer une déclaration\n",
        "Il peut parfois être utile de placer plusieurs instructions sur une seule ligne.\n",
        "La partie suivante du script est\n",
        "\n",
        "``` python\n",
        "lower = [] ; upper = []\n",
        "```\n",
        "Ceci montre comment le point-virgule (``;``) familier en C peut être utilisé optionnellement en Python pour mettre deux déclarations sur une seule ligne.\n",
        "D'un point de vue fonctionnel, cela revient à écrire\n",
        "```python\n",
        "lower = []\n",
        "upper = []\n",
        "```\n",
        "L'utilisation d'un point-virgule pour placer plusieurs instructions sur une seule ligne est généralement déconseillée par la plupart des guides de style Python, bien que cela s'avère parfois pratique."
      ],
      "metadata": {
        "id": "V4609e3pN4WA"
      }
    },
    {
      "cell_type": "markdown",
      "source": [
        "## Indentation : L'espace vide est important !\n",
        "Ensuite, nous passons au bloc de code principal :\n",
        "```Python\n",
        "for i in range(10) :\n",
        "    if i < midpoint :\n",
        "        lower.append(i)\n",
        "    else :\n",
        "        upper.append(i)\n",
        "```\n",
        "Il s'agit d'une instruction de flux de contrôle composée comprenant une boucle et une conditionnelle - nous nous pencherons sur ces types d'instructions ultérieurement.\n",
        "Pour l'instant, considérez que ceci démontre ce qui est peut-être la caractéristique la plus controversée de la syntaxe de Python : les espaces vides sont significatifs !\n",
        "\n",
        "Dans les langages de programmation, un *bloc* de code est un ensemble d'instructions qui doit être traité comme une unité.\n",
        "En C, par exemple, les blocs de code sont désignés par des accolades :\n",
        "``` C\n",
        "// Code C\n",
        "for(int i=0 ; i<100 ; i++)\n",
        "   {\n",
        "      // Les accolades indiquent le bloc de code\n",
        "      total += i ;\n",
        "   }\n",
        "```\n",
        "En Python, les blocs de code sont signalés par une *indentation* :\n",
        "``` python\n",
        "for i in range(100) :\n",
        "    # l'indentation indique le bloc de code\n",
        "    total += i\n",
        "```\n",
        "En Python, les blocs de code indentés sont toujours précédés de deux points (``:``) sur la ligne précédente."
      ],
      "metadata": {
        "id": "D0EEIggEN4Zf"
      }
    },
    {
      "cell_type": "markdown",
      "source": [
        "L'utilisation de l'indentation permet de renforcer le style uniforme et lisible que beaucoup trouvent attrayant dans le code Python.\n",
        "Mais elle peut être source de confusion pour les non-initiés ; par exemple, les deux extraits suivants produiront des résultats différents :\n",
        "```python\n",
        ">>> if x < 4 :         >>> if x < 4 :\n",
        "...     y = x * 2      ...     y = x * 2\n",
        "...     print(x)       ... print(x)\n",
        "```\n",
        "Dans l'extrait de gauche, ``print(x)`` est dans le bloc indenté, et ne sera exécutée que si ``x`` est inférieur à ``4``.\n",
        "Dans l'extrait de droite, ``print(x)`` est en dehors du bloc, et sera exécuté quelle que soit la valeur de \"x\" !"
      ],
      "metadata": {
        "id": "zYhrU_MIN4c4"
      }
    },
    {
      "cell_type": "markdown",
      "source": [
        "L'utilisation par Python d'espaces vides significatifs est souvent surprenante pour les programmeurs habitués à d'autres langages, mais en pratique, elle peut conduire à un code beaucoup plus cohérent et lisible que les langages qui n'imposent pas l'indentation des blocs de code.\n",
        "\n",
        "Enfin, sachez que la *quantité* d'espaces vides utilisés pour l'indentation des blocs de code est laissée à l'appréciation de l'utilisateur, pour autant qu'elle soit cohérente dans tout le script.\n",
        "Par convention, la plupart des guides de style recommandent d'indenter les blocs de code de quatre espaces, et c'est la convention que nous suivrons dans ce cours.\n",
        "Notez que de nombreux éditeurs de texte comme Emacs et Vim contiennent des modes Python qui effectuent automatiquement l'indentation à quatre espaces."
      ],
      "metadata": {
        "id": "AKnHkgdDN4gb"
      }
    },
    {
      "cell_type": "markdown",
      "source": [
        "## Les espaces vides *à l'intérieur* des lignes n'ont pas d'importance\n",
        "Si le mantra de l'espace vide significatif est vrai pour l'espace vide *avant* les lignes (qui indiquent un bloc de code), l'espace vide *dans* les lignes de code Python n'a pas d'importance.\n",
        "Par exemple, les trois expressions suivantes sont équivalentes :"
      ],
      "metadata": {
        "id": "ltdenuslN4kC"
      }
    },
    {
      "cell_type": "code",
      "source": [
        "x=1+2\n",
        "x = 1 + 2\n",
        "x             =        1    +                2"
      ],
      "metadata": {
        "id": "OljaBrwPsmtM"
      },
      "execution_count": null,
      "outputs": []
    },
    {
      "cell_type": "markdown",
      "source": [
        "L'abus de cette flexibilité peut entraîner des problèmes de lisibilité du code - en fait, l'abus des espaces blancs est souvent l'un des principaux moyens d'obscurcir intentionnellement le code (ce que certaines personnes font pour le plaisir).\n",
        "L'utilisation efficace des espaces vides peut conduire à un code beaucoup plus lisible, \n",
        "surtout dans les cas où les opérateurs se suivent - comparez les deux expressions suivantes pour l'exponentiation par un nombre négatif :\n",
        "``` python\n",
        "x=10**-2\n",
        "```\n",
        "à\n",
        "``` python\n",
        "x = 10 ** -2\n",
        "```\n",
        "Je trouve la deuxième version avec espaces beaucoup plus lisible au premier coup d'œil.\n",
        "La plupart des guides de style Python recommandent d'utiliser un seul espace autour des opérateurs binaires, et aucun espace autour des opérateurs unaires.\n"
      ],
      "metadata": {
        "id": "IOOttgkJN4nq"
      }
    },
    {
      "cell_type": "markdown",
      "source": [
        "## Les parenthèses servent à regrouper ou à appeler.\n",
        "\n",
        "Dans l'extrait de code précédent, nous voyons deux utilisations des parenthèses.\n",
        "Tout d'abord, elles peuvent être utilisées de manière classique pour regrouper des déclarations ou des opérations mathématiques :"
      ],
      "metadata": {
        "id": "zI5d1lC5N4rB"
      }
    },
    {
      "cell_type": "code",
      "source": [
        "2 * (3 + 4)"
      ],
      "metadata": {
        "colab": {
          "base_uri": "https://localhost:8080/"
        },
        "id": "C4H0tW1Dup9m",
        "outputId": "c08ad98b-116b-4b01-a954-23674a60d7b2"
      },
      "execution_count": null,
      "outputs": [
        {
          "output_type": "execute_result",
          "data": {
            "text/plain": [
              "14"
            ]
          },
          "metadata": {},
          "execution_count": 8
        }
      ]
    },
    {
      "cell_type": "markdown",
      "source": [
        "Elles peuvent également être utilisées pour indiquer qu'une *fonction* est appelée.\n",
        "Dans l'extrait suivant, la fonction \"print()`` est utilisée pour afficher le contenu d'une variable.\n",
        "L'appel de fonction est indiqué par une paire de parenthèses ouvrantes et fermantes, avec les *arguments* de la fonction contenus à l'intérieur :"
      ],
      "metadata": {
        "id": "zCd3kKTkspQs"
      }
    },
    {
      "cell_type": "code",
      "source": [
        "print('first value:', 1)"
      ],
      "metadata": {
        "colab": {
          "base_uri": "https://localhost:8080/"
        },
        "id": "rtBiseD7wFvL",
        "outputId": "314c513c-687e-4e1a-82da-e8e251b8657f"
      },
      "execution_count": null,
      "outputs": [
        {
          "output_type": "stream",
          "name": "stdout",
          "text": [
            "first value: 1\n"
          ]
        }
      ]
    },
    {
      "cell_type": "code",
      "source": [
        "print('second value:', 2)"
      ],
      "metadata": {
        "colab": {
          "base_uri": "https://localhost:8080/"
        },
        "id": "HTOFGbbVwLTZ",
        "outputId": "faeb83bc-4a29-4038-e957-09bdb8c43a0d"
      },
      "execution_count": null,
      "outputs": [
        {
          "output_type": "stream",
          "name": "stdout",
          "text": [
            "second value: 2\n"
          ]
        }
      ]
    },
    {
      "cell_type": "markdown",
      "source": [
        "Certaines fonctions peuvent être appelées sans aucun argument, auquel cas les parenthèses ouvrantes et fermantes doivent être utilisées pour indiquer une évaluation de fonction.\n",
        "Un exemple de ceci est la méthode \" Sort \" pour trier des listes :"
      ],
      "metadata": {
        "id": "tV3q56RmspUD"
      }
    },
    {
      "cell_type": "code",
      "source": [
        "L = [4,2,3,1]\n",
        "L.sort()\n",
        "print(L)"
      ],
      "metadata": {
        "colab": {
          "base_uri": "https://localhost:8080/"
        },
        "id": "LZgh8C__xoeq",
        "outputId": "ebf1c6d5-5053-4f98-bd4c-7a3f3c65ba95"
      },
      "execution_count": null,
      "outputs": [
        {
          "output_type": "stream",
          "name": "stdout",
          "text": [
            "[1, 2, 3, 4]\n"
          ]
        }
      ]
    },
    {
      "cell_type": "markdown",
      "source": [
        "Les \"``()``\" après ``sort`` indiquent que la fonction doit être exécutée, et sont requis même si aucun argument n'est nécessaire."
      ],
      "metadata": {
        "id": "0orDNA6aspXk"
      }
    },
    {
      "cell_type": "markdown",
      "source": [
        "## Conclusion\n",
        "\n",
        "Ceci a été une très brève exploration des caractéristiques essentielles de la syntaxe Python ; son but est de vous donner un bon cadre de référence pour la lecture du code dans les sections suivantes.\n",
        "Nous avons mentionné à plusieurs reprises les \"guides de style\" Python, qui peuvent aider les développeurs à écrire du code dans un style cohérent.\n",
        "Le guide de style le plus largement utilisé en Python est connu sous le nom de PEP8 et peut être consulté à l'adresse https://www.python.org/dev/peps/pep-0008/.\n",
        "Si vous commencez à écrire du code Python, il serait utile de le lire !\n",
        "Les suggestions de style contiennent la sagesse de nombreux gourous de Python, et la plupart des suggestions vont au-delà de la simple pédanterie : ce sont des recommandations basées sur l'expérience qui peuvent aider à éviter des erreurs et des bugs subtils dans votre code."
      ],
      "metadata": {
        "id": "SECG-c50spbQ"
      }
    }
  ],
  "metadata": {
    "anaconda-cloud": {},
    "kernelspec": {
      "display_name": "Python 3",
      "language": "python",
      "name": "python3"
    },
    "language_info": {
      "codemirror_mode": {
        "name": "ipython",
        "version": 3
      },
      "file_extension": ".py",
      "mimetype": "text/x-python",
      "name": "python",
      "nbconvert_exporter": "python",
      "pygments_lexer": "ipython3",
      "version": "3.5.1"
    },
    "colab": {
      "provenance": []
    }
  },
  "nbformat": 4,
  "nbformat_minor": 0
}