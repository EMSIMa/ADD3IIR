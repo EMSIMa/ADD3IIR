{
  "cells": [
    {
      "cell_type": "markdown",
      "metadata": {
        "id": "view-in-github",
        "colab_type": "text"
      },
      "source": [
        "<a href=\"https://colab.research.google.com/github/EMSIMa/ADD3IIR/blob/main/11_Modules_et_Packages.ipynb\" target=\"_parent\"><img src=\"https://colab.research.google.com/assets/colab-badge.svg\" alt=\"Open In Colab\"/></a>"
      ]
    },
    {
      "cell_type": "markdown",
      "metadata": {
        "id": "7zS4dUPABsnz"
      },
      "source": [
        "# Modules et packages"
      ]
    },
    {
      "cell_type": "markdown",
      "metadata": {
        "id": "WrxB6uPWBsn0"
      },
      "source": [
        "L'une des caractéristiques de Python qui le rend utile pour un large éventail de tâches est le fait qu'il est livré \"batteries incluses\" - c'est-à-dire que la bibliothèque standard de Python contient des outils utiles pour un large éventail de tâches.\n",
        "En outre, il existe un vaste écosystème d'outils et de paquets tiers qui offrent des fonctionnalités plus spécialisées.\n",
        "Nous examinerons ici l'importation de modules de la bibliothèque standard, les outils d'installation de modules tiers et la manière dont vous pouvez créer vos propres modules."
      ]
    },
    {
      "cell_type": "markdown",
      "metadata": {
        "id": "Ch3uJ2afBsn3"
      },
      "source": [
        "## Chargement de modules : l'instruction ``import``.\n",
        "\n",
        "Pour charger des modules intégrés ou tiers, Python fournit l'instruction ``import``.\n",
        "Il y a plusieurs façons d'utiliser cette instruction, que nous allons mentionner brièvement ici, de la plus recommandée à la moins recommandée."
      ]
    },
    {
      "cell_type": "markdown",
      "metadata": {
        "id": "wNdouwigBsn4"
      },
      "source": [
        "### Importation explicite d'un module\n",
        "\n",
        "L'importation explicite d'un module préserve le contenu du module dans un \"namespace\" (espace de noms).\n",
        "Le namespace est ensuite utilisé pour faire référence à son contenu avec un \"``.``\" entre eux.\n",
        "Par exemple, nous allons importer le module intégré ``math`` et calculer le cosinus de pi :"
      ]
    },
    {
      "cell_type": "code",
      "execution_count": null,
      "metadata": {
        "id": "MH36OjHSBsn6",
        "outputId": "5f68bdf6-d392-4747-a3e6-541466281284"
      },
      "outputs": [
        {
          "data": {
            "text/plain": [
              "-1.0"
            ]
          },
          "execution_count": 1,
          "metadata": {},
          "output_type": "execute_result"
        }
      ],
      "source": [
        "import math\n",
        "math.cos(math.pi)"
      ]
    },
    {
      "cell_type": "markdown",
      "metadata": {
        "id": "1pdegzdQBsn7"
      },
      "source": [
        "### Importation explicite d'un module par alias\n",
        "\n",
        "Pour les noms de modules plus longs, il n'est pas pratique d'utiliser le nom complet du module à chaque fois que l'on accède à un élément.\n",
        "C'est pourquoi nous utiliserons souvent le schéma \"``import ... as ...``\" pour créer un alias plus court pour l'espace de noms.\n",
        "Par exemple, le package NumPy (Numerical Python), un package tiers populaire utile pour la science des données, est par convention importé sous l'alias ``np`` :"
      ]
    },
    {
      "cell_type": "code",
      "execution_count": null,
      "metadata": {
        "id": "KDvVoK0bBsn8",
        "outputId": "31cc5c28-3c3a-4506-92af-6b6a11f32a00"
      },
      "outputs": [
        {
          "data": {
            "text/plain": [
              "-1.0"
            ]
          },
          "execution_count": 2,
          "metadata": {},
          "output_type": "execute_result"
        }
      ],
      "source": [
        "import numpy as np\n",
        "np.cos(np.pi)"
      ]
    },
    {
      "cell_type": "markdown",
      "metadata": {
        "id": "afhhrCDtBsn-"
      },
      "source": [
        "### Importation explicite du contenu d'un module\n",
        "\n",
        "Parfois, plutôt que d'importer tout le namespace du module, vous souhaiteriez simplement importer quelques éléments particuliers du module.\n",
        "Cela peut être fait avec le schéma \"``from ... import ...``\".\n",
        "Par exemple, nous pouvons importer seulement la fonction ``cos`` et la constante ``pi`` du module ``math`` :"
      ]
    },
    {
      "cell_type": "code",
      "execution_count": null,
      "metadata": {
        "id": "lYXKTBY7Bsn_",
        "outputId": "fd854f1b-0974-4010-9dc0-f4766ef2e64e"
      },
      "outputs": [
        {
          "data": {
            "text/plain": [
              "-1.0"
            ]
          },
          "execution_count": 3,
          "metadata": {},
          "output_type": "execute_result"
        }
      ],
      "source": [
        "from math import cos, pi\n",
        "cos(pi)"
      ]
    },
    {
      "cell_type": "markdown",
      "metadata": {
        "id": "pNDg7VBPBsoA"
      },
      "source": [
        "### Importation implicite du contenu du module\n",
        "\n",
        "Enfin, il est parfois utile d'importer la totalité du contenu du module dans le namespace local.\n",
        "Cela peut être fait avec le schéma \"``from ... import *``\" :"
      ]
    },
    {
      "cell_type": "code",
      "execution_count": null,
      "metadata": {
        "id": "vShTN3F8BsoB",
        "outputId": "b2031155-489d-4031-c72b-581d6c12a3dd"
      },
      "outputs": [
        {
          "data": {
            "text/plain": [
              "1.0"
            ]
          },
          "execution_count": 4,
          "metadata": {},
          "output_type": "execute_result"
        }
      ],
      "source": [
        "from math import *\n",
        "sin(pi) ** 2 + cos(pi) ** 2"
      ]
    },
    {
      "cell_type": "markdown",
      "metadata": {
        "id": "rsTWH_guBsoC"
      },
      "source": [
        "Ce schéma doit être utilisé avec modération, voire pas du tout.\n",
        "Le problème est que de telles importations peuvent parfois écraser des noms de fonctions que vous n'avez pas l'intention d'écraser, et le caractère implicite de la déclaration rend difficile la détermination de ce qui a été changé.\n",
        "\n",
        "Par exemple, Python possède une fonction intégrée ``sum`` qui peut être utilisée pour diverses opérations :"
      ]
    },
    {
      "cell_type": "code",
      "execution_count": null,
      "metadata": {
        "id": "2AxBvUxABsoD",
        "outputId": "e47dc30f-7414-40f9-a6d1-8e4fc01600ae"
      },
      "outputs": [
        {
          "name": "stdout",
          "output_type": "stream",
          "text": [
            "Help on built-in function sum in module builtins:\n",
            "\n",
            "sum(...)\n",
            "    sum(iterable[, start]) -> value\n",
            "    \n",
            "    Return the sum of an iterable of numbers (NOT strings) plus the value\n",
            "    of parameter 'start' (which defaults to 0).  When the iterable is\n",
            "    empty, return start.\n",
            "\n"
          ]
        }
      ],
      "source": [
        "help(sum)"
      ]
    },
    {
      "cell_type": "markdown",
      "metadata": {
        "id": "xygB0bSiBsoE"
      },
      "source": [
        "Nous pouvons l'utiliser pour calculer la somme d'une séquence, en commençant par une certaine valeur (ici, nous commencerons par ``-1``) :"
      ]
    },
    {
      "cell_type": "code",
      "execution_count": null,
      "metadata": {
        "id": "QnHONirmBsoG",
        "outputId": "345664dd-3c83-4c27-aeb7-c0cea124c34e"
      },
      "outputs": [
        {
          "data": {
            "text/plain": [
              "9"
            ]
          },
          "execution_count": 6,
          "metadata": {},
          "output_type": "execute_result"
        }
      ],
      "source": [
        "sum(range(5), -1)"
      ]
    },
    {
      "cell_type": "markdown",
      "metadata": {
        "id": "I3AqsUVfBsoI"
      },
      "source": [
        "Maintenant, observez ce qui se passe si nous faisons *exactement le même appel de fonction* après avoir importé ``*`` de ``numpy`` :"
      ]
    },
    {
      "cell_type": "code",
      "execution_count": null,
      "metadata": {
        "id": "AaSOxPkpBsoJ"
      },
      "outputs": [],
      "source": [
        "from numpy import *"
      ]
    },
    {
      "cell_type": "code",
      "execution_count": null,
      "metadata": {
        "id": "T-xCBjq1BsoK",
        "outputId": "080a6cb2-b993-421f-cc69-6dee8ee1b173"
      },
      "outputs": [
        {
          "data": {
            "text/plain": [
              "10"
            ]
          },
          "execution_count": 8,
          "metadata": {},
          "output_type": "execute_result"
        }
      ],
      "source": [
        "sum(range(5), -1)"
      ]
    },
    {
      "cell_type": "markdown",
      "metadata": {
        "id": "6PsteTsNBsoM"
      },
      "source": [
        "Le résultat est décalé d'une unité !\n",
        "La raison en est que l'instruction ``import *`` *remplace* la fonction intégrée ``sum`` par la fonction ``numpy.sum``, qui a une signature d'appel différente : dans la première, nous additionnons ``range(5)`` en commençant par ``-1`` ; dans la seconde, nous additionnons ``range(5)`` le long du dernier axe (indiqué par ``-1``).\n",
        "C'est le type de situation qui peut se produire si l'on ne fait pas attention en utilisant \"``import *``\" - pour cette raison, il est préférable d'éviter cela à moins que vous ne sachiez exactement ce que vous êtes en train de faire."
      ]
    },
    {
      "cell_type": "markdown",
      "metadata": {
        "id": "3mIYe2ULBsoM"
      },
      "source": [
        "## Importer à partir de la bibliothèque standard de Python\n",
        "\n",
        "La bibliothèque standard de Python contient de nombreux modules intégrés utiles, que vous pouvez lire en détail dans la [documentation de Python](https://docs.python.org/3/library/).\n",
        "Chacun d'entre eux peut être importé avec l'instruction ``import``, puis exploré à l'aide de la fonction help vue dans la section précédente.\n",
        "Voici une liste extrêmement incomplète de certains des modules que vous pourriez souhaiter explorer et connaître :\n",
        "\n",
        "- ``os`` et ``sys`` : Outils d'interface avec le système d'exploitation, y compris la navigation dans les structures de répertoires de fichiers et l'exécution de commandes shell.\n",
        "- ``math`` et ``cmath`` : Fonctions mathématiques et opérations sur les nombres réels et complexes\n",
        "- ``itertools`` : Outils pour construire et interagir avec les itérateurs et les générateurs.\n",
        "- ``functools`` : Outils d'aide à la programmation fonctionnelle\n",
        "- ``random`` : Outils pour générer des nombres pseudo-aléatoires\n",
        "- ``pickle`` : Outils pour la persistance des objets : sauvegarde et chargement d'objets sur le disque\n",
        "- ``json`` et ``csv`` : Outils pour lire les fichiers formatés JSON et CSV.\n",
        "- ``urllib`` : Outils pour effectuer des requêtes HTTP et d'autres requêtes web.\n",
        "\n",
        "Vous pouvez trouver des informations sur ces outils, et bien d'autres, dans la documentation de la bibliothèque standard de Python : https://docs.python.org/3/library/."
      ]
    },
    {
      "cell_type": "markdown",
      "metadata": {
        "id": "e1EAmEZFBsoN"
      },
      "source": [
        "## Importation de modules tiers\n",
        "\n",
        "L'une des choses qui rend Python utile, en particulier dans le monde de la science des données, est son écosystème de modules tiers.\n",
        "Ceux-ci peuvent être importés de la même manière que les modules intégrés, mais ils doivent d'abord être installés sur votre système.\n",
        "Le registre standard de ces modules est le Python Package Index (*PyPI* en abrégé), que l'on trouve sur le Web à l'adresse http://pypi.python.org/.\n",
        "Pour plus de commodité, Python est livré avec un programme appelé ``pip`` (un acronyme récursif signifiant \"pip installs packages\"), qui va automatiquement chercher les paquets publiés et listés sur PyPI.\n",
        "Par exemple, si vous souhaitez installer le paquet ``pandas``, il vous suffit de taper ce qui suit dans la ligne de commande :\n",
        "```\n",
        "$ pip install pandas\n",
        "```\n",
        "Le code source du paquet sera automatiquement téléchargé depuis le dépôt PyPI, et le paquet sera installé dans le chemin standard de Python (en supposant que vous ayez la permission de le faire sur l'ordinateur que vous utilisez).\n",
        "\n",
        "Pour plus d'informations sur PyPI et l'installeur ``pip``, reportez-vous à la documentation à l'adresse http://pypi.python.org/."
      ]
    }
  ],
  "metadata": {
    "anaconda-cloud": {},
    "kernelspec": {
      "display_name": "Python 3",
      "language": "python",
      "name": "python3"
    },
    "language_info": {
      "codemirror_mode": {
        "name": "ipython",
        "version": 3
      },
      "file_extension": ".py",
      "mimetype": "text/x-python",
      "name": "python",
      "nbconvert_exporter": "python",
      "pygments_lexer": "ipython3",
      "version": "3.5.1"
    },
    "colab": {
      "provenance": [],
      "include_colab_link": true
    }
  },
  "nbformat": 4,
  "nbformat_minor": 0
}
