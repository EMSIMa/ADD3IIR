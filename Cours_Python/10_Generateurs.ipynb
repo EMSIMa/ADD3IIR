{
  "cells": [
    {
      "cell_type": "markdown",
      "metadata": {
        "id": "view-in-github",
        "colab_type": "text"
      },
      "source": [
        "<a href=\"https://colab.research.google.com/github/EMSIMa/ADD3IIR/blob/main/10_Generateurs.ipynb\" target=\"_parent\"><img src=\"https://colab.research.google.com/assets/colab-badge.svg\" alt=\"Open In Colab\"/></a>"
      ]
    },
    {
      "cell_type": "markdown",
      "metadata": {
        "id": "Nb619KMTBsFf"
      },
      "source": [
        "# Générateurs"
      ]
    },
    {
      "cell_type": "markdown",
      "metadata": {
        "id": "8AZnKLQgBsFg"
      },
      "source": [
        "Nous allons ici approfondir notre connaissance des générateurs Python, y compris les *generator expressions * et les *fonctions génératrices*."
      ]
    },
    {
      "cell_type": "markdown",
      "metadata": {
        "id": "BT64nJ4SBsFj"
      },
      "source": [
        "## Generator Expressions"
      ]
    },
    {
      "cell_type": "markdown",
      "metadata": {
        "id": "NnRweC7tBsFk"
      },
      "source": [
        "La différence entre les compréhensions de listes et les expressions de générateurs peut parfois prêter à confusion :"
      ]
    },
    {
      "cell_type": "markdown",
      "metadata": {
        "id": "JG4RPAS9BsFm"
      },
      "source": [
        "### Les compréhensions de listes utilisent des crochets, tandis que les expressions de générateurs utilisent des parenthèses.\n",
        "Il s'agit d'une compréhension de liste représentative :"
      ]
    },
    {
      "cell_type": "code",
      "execution_count": null,
      "metadata": {
        "id": "FAFjB24gBsFm",
        "outputId": "76d68631-a1a6-4e40-82ad-ec715cc985df"
      },
      "outputs": [
        {
          "data": {
            "text/plain": [
              "[0, 1, 4, 9, 16, 25, 36, 49, 64, 81, 100, 121]"
            ]
          },
          "execution_count": 1,
          "metadata": {},
          "output_type": "execute_result"
        }
      ],
      "source": [
        "[n ** 2 for n in range(12)]"
      ]
    },
    {
      "cell_type": "markdown",
      "metadata": {
        "id": "AJZFzmjoBsFo"
      },
      "source": [
        "Il s'agit d'une expression représentative du générateur :"
      ]
    },
    {
      "cell_type": "code",
      "execution_count": null,
      "metadata": {
        "id": "V3IIAx0dBsFp",
        "outputId": "6a144f27-c41c-4805-c944-2313a7462599"
      },
      "outputs": [
        {
          "data": {
            "text/plain": [
              "<generator object <genexpr> at 0x104a60518>"
            ]
          },
          "execution_count": 2,
          "metadata": {},
          "output_type": "execute_result"
        }
      ],
      "source": [
        "(n ** 2 for n in range(12))"
      ]
    },
    {
      "cell_type": "markdown",
      "metadata": {
        "id": "9O8H9CGOBsFr"
      },
      "source": [
        "Notez que si on affiche l'expression du générateur, on n'affiche pas son contenu ; une façon d'afficher le contenu d'une expression du générateur est de la passer au constructeur ``list`` :"
      ]
    },
    {
      "cell_type": "code",
      "execution_count": null,
      "metadata": {
        "id": "P8SAY_ogBsFt",
        "outputId": "c1e91c83-af8b-4486-e7b3-aa4d754d3288"
      },
      "outputs": [
        {
          "data": {
            "text/plain": [
              "[0, 1, 4, 9, 16, 25, 36, 49, 64, 81, 100, 121]"
            ]
          },
          "execution_count": 3,
          "metadata": {},
          "output_type": "execute_result"
        }
      ],
      "source": [
        "G = (n ** 2 for n in range(12))\n",
        "list(G)"
      ]
    },
    {
      "cell_type": "markdown",
      "metadata": {
        "id": "_pfKr8T4BsFu"
      },
      "source": [
        "### Une liste est une collection de valeurs, tandis qu'un générateur est une recette pour produire des valeurs.\n",
        "Lorsque vous créez une liste, vous construisez en fait une collection de valeurs, et il y a un certain coût de mémoire associé à cela.\n",
        "Lorsque vous créez un générateur, vous ne construisez pas une collection de valeurs, mais une recette pour produire ces valeurs.\n",
        "Les deux exposent la même interface d'itérateur, comme nous pouvons le voir ici :"
      ]
    },
    {
      "cell_type": "code",
      "execution_count": null,
      "metadata": {
        "id": "deQ7TOWiBsFv",
        "outputId": "2d5edbc8-803d-4efb-da71-80c1dfede593"
      },
      "outputs": [
        {
          "name": "stdout",
          "output_type": "stream",
          "text": [
            "0 1 4 9 16 25 36 49 64 81 100 121 "
          ]
        }
      ],
      "source": [
        "L = [n ** 2 for n in range(12)]\n",
        "for val in L:\n",
        "    print(val, end=' ')"
      ]
    },
    {
      "cell_type": "code",
      "execution_count": null,
      "metadata": {
        "id": "HKuYnIsBBsFw",
        "outputId": "e29936c2-0088-4496-c511-83bfebd0963c"
      },
      "outputs": [
        {
          "name": "stdout",
          "output_type": "stream",
          "text": [
            "0 1 4 9 16 25 36 49 64 81 100 121 "
          ]
        }
      ],
      "source": [
        "G = (n ** 2 for n in range(12))\n",
        "for val in G:\n",
        "    print(val, end=' ')"
      ]
    },
    {
      "cell_type": "markdown",
      "metadata": {
        "id": "BZkMPxw0BsFx"
      },
      "source": [
        "La différence réside dans le fait qu'une expression génératrice ne calcule les valeurs qu'au moment où elles sont nécessaires.\n",
        "Cela permet non seulement d'économiser de la mémoire, mais aussi d'améliorer l'efficacité des calculs !\n",
        "Cela signifie également que la taille d'une liste est limitée par la mémoire disponible, alors que la taille d'une expression de générateur est illimitée !\n",
        "\n",
        "Un exemple d'expression de générateur infini peut être créé en utilisant l'itérateur ``count`` défini dans ``itertools`` :"
      ]
    },
    {
      "cell_type": "code",
      "execution_count": null,
      "metadata": {
        "id": "V14b8zYtBsFx",
        "outputId": "f7a20845-99f7-413a-f3f0-621cfba97433"
      },
      "outputs": [
        {
          "data": {
            "text/plain": [
              "count(0)"
            ]
          },
          "execution_count": 6,
          "metadata": {},
          "output_type": "execute_result"
        }
      ],
      "source": [
        "from itertools import count\n",
        "count()"
      ]
    },
    {
      "cell_type": "code",
      "execution_count": null,
      "metadata": {
        "id": "_NVkG35XBsFz",
        "outputId": "e7cde4ec-f621-4c8d-d030-75c6f21209df"
      },
      "outputs": [
        {
          "name": "stdout",
          "output_type": "stream",
          "text": [
            "0 1 2 3 4 5 6 7 8 9 10 "
          ]
        }
      ],
      "source": [
        "for i in count():\n",
        "    print(i, end=' ')\n",
        "    if i >= 10: break"
      ]
    },
    {
      "cell_type": "markdown",
      "metadata": {
        "id": "BaJb-RpyBsF0"
      },
      "source": [
        "L'itérateur ``count`` continuera à compter joyeusement pour toujours jusqu'à ce que vous lui disiez d'arrêter ; cela rend pratique la création de générateurs qui continueront à compter pour toujours :"
      ]
    },
    {
      "cell_type": "code",
      "execution_count": null,
      "metadata": {
        "id": "iueI5_HaBsF1",
        "outputId": "1aab5f14-8415-4fa5-a20a-d6c5172d4726"
      },
      "outputs": [
        {
          "name": "stdout",
          "output_type": "stream",
          "text": [
            "1 11 13 17 19 23 29 31 37 41 "
          ]
        }
      ],
      "source": [
        "factors = [2, 3, 5, 7]\n",
        "G = (i for i in count() if all(i % n > 0 for n in factors))\n",
        "for val in G:\n",
        "    print(val, end=' ')\n",
        "    if val > 40: break"
      ]
    },
    {
      "cell_type": "markdown",
      "metadata": {
        "id": "ZqZM2M0xBsF2"
      },
      "source": [
        "Vous voyez peut-être où nous voulons en venir : si nous allongions la liste des facteurs de manière appropriée, nous aurions les prémices d'un générateur de nombres premiers, utilisant l'algorithme du crible d'Eratosthène. Nous examinerons ce point plus en détail dans un instant."
      ]
    },
    {
      "cell_type": "markdown",
      "metadata": {
        "id": "0uwGuYqCBsF2"
      },
      "source": [
        "### Une liste peut être itérée plusieurs fois ; une expression de générateur est à usage unique\n",
        "C'est l'un des problèmes potentiels des expressions de générateur.\n",
        "Avec une liste, nous pouvons simplement faire ceci :"
      ]
    },
    {
      "cell_type": "code",
      "execution_count": null,
      "metadata": {
        "id": "DfrZ96KcBsF3",
        "outputId": "422df9aa-e96d-4d62-f5d6-526a4bf0578a"
      },
      "outputs": [
        {
          "name": "stdout",
          "output_type": "stream",
          "text": [
            "0 1 4 9 16 25 36 49 64 81 100 121 \n",
            "0 1 4 9 16 25 36 49 64 81 100 121 "
          ]
        }
      ],
      "source": [
        "L = [n ** 2 for n in range(12)]\n",
        "for val in L:\n",
        "    print(val, end=' ')\n",
        "print()\n",
        "\n",
        "for val in L:\n",
        "    print(val, end=' ')"
      ]
    },
    {
      "cell_type": "markdown",
      "metadata": {
        "id": "Qu8dWXGeBsF4"
      },
      "source": [
        "Une expression génératrice, en revanche, est épuisée après une itération :"
      ]
    },
    {
      "cell_type": "code",
      "execution_count": null,
      "metadata": {
        "id": "xq8UzlWpBsF5",
        "outputId": "5e1d1703-7314-44ad-9b21-6c1e2c90227e"
      },
      "outputs": [
        {
          "data": {
            "text/plain": [
              "[0, 1, 4, 9, 16, 25, 36, 49, 64, 81, 100, 121]"
            ]
          },
          "execution_count": 10,
          "metadata": {},
          "output_type": "execute_result"
        }
      ],
      "source": [
        "G = (n ** 2 for n in range(12))\n",
        "list(G)"
      ]
    },
    {
      "cell_type": "code",
      "execution_count": null,
      "metadata": {
        "id": "PaOTGIqpBsF5",
        "outputId": "e53aa19f-9d4a-4e04-80df-d8d51c918a33"
      },
      "outputs": [
        {
          "data": {
            "text/plain": [
              "[]"
            ]
          },
          "execution_count": 11,
          "metadata": {},
          "output_type": "execute_result"
        }
      ],
      "source": [
        "list(G)"
      ]
    },
    {
      "cell_type": "markdown",
      "metadata": {
        "id": "AZDVo96QBsF6"
      },
      "source": [
        "Cela peut être très utile car cela signifie que l'itération peut être arrêtée et démarrée :"
      ]
    },
    {
      "cell_type": "code",
      "execution_count": null,
      "metadata": {
        "id": "Iz_jCZ46BsF7",
        "outputId": "b2861d42-2b5e-4959-ccf0-dd65c99c787c"
      },
      "outputs": [
        {
          "name": "stdout",
          "output_type": "stream",
          "text": [
            "0 1 4 9 16 25 36 \n",
            "doing something in between\n",
            "49 64 81 100 121 "
          ]
        }
      ],
      "source": [
        "G = (n**2 for n in range(12))\n",
        "for n in G:\n",
        "    print(n, end=' ')\n",
        "    if n > 30: break\n",
        "\n",
        "print(\"\\ndoing something in between\")\n",
        "\n",
        "for n in G:\n",
        "    print(n, end=' ')"
      ]
    },
    {
      "cell_type": "markdown",
      "metadata": {
        "id": "EX3EWe3MBsF8"
      },
      "source": [
        "C'est notamment utile lorsque l'on travaille avec des collections de fichiers de données sur disque\n",
        "\n",
        "cela signifie que vous pouvez facilement les analyser par lots, en laissant le générateur suivre ceux que vous n'avez pas encore vus."
      ]
    },
    {
      "cell_type": "markdown",
      "metadata": {
        "id": "q0xykFv1BsF8"
      },
      "source": [
        "## Fonctions génératrices : Utilisation de ``yield``\n",
        "Nous avons vu dans la section précédente que les compréhensions de listes sont mieux utilisées pour créer des listes relativement simples, alors que l'utilisation d'une boucle ``for`` normale peut être meilleure dans des situations plus compliquées.\n",
        "Il en va de même pour les expressions de générateur : nous pouvons créer des générateurs plus compliqués en utilisant les *fonctions génératrices*, qui utilisent l'instruction ``yield``.\n",
        "\n",
        "Ici, nous avons deux façons de construire la même liste :"
      ]
    },
    {
      "cell_type": "code",
      "execution_count": null,
      "metadata": {
        "id": "xNcdIkHHBsF8",
        "outputId": "494a075c-4816-45c5-d3db-cd6bb3652fe7"
      },
      "outputs": [
        {
          "name": "stdout",
          "output_type": "stream",
          "text": [
            "[0, 1, 4, 9, 16, 25, 36, 49, 64, 81, 100, 121]\n",
            "[0, 1, 4, 9, 16, 25, 36, 49, 64, 81, 100, 121]\n"
          ]
        }
      ],
      "source": [
        "L1 = [n ** 2 for n in range(12)]\n",
        "\n",
        "L2 = []\n",
        "for n in range(12):\n",
        "    L2.append(n ** 2)\n",
        "\n",
        "print(L1)\n",
        "print(L2)"
      ]
    },
    {
      "cell_type": "markdown",
      "metadata": {
        "id": "Yn31nrPmBsF9"
      },
      "source": [
        "De même, nous avons ici deux façons de construire des générateurs équivalents :"
      ]
    },
    {
      "cell_type": "code",
      "execution_count": null,
      "metadata": {
        "id": "A4ZUQ05TBsF-",
        "outputId": "32506e28-3838-49ca-aeb9-09704364ad69"
      },
      "outputs": [
        {
          "name": "stdout",
          "output_type": "stream",
          "text": [
            "0 1 4 9 16 25 36 49 64 81 100 121\n",
            "0 1 4 9 16 25 36 49 64 81 100 121\n"
          ]
        }
      ],
      "source": [
        "G1 = (n ** 2 for n in range(12))\n",
        "\n",
        "def gen():\n",
        "    for n in range(12):\n",
        "        yield n ** 2\n",
        "\n",
        "G2 = gen()\n",
        "print(*G1)\n",
        "print(*G2)"
      ]
    },
    {
      "cell_type": "markdown",
      "metadata": {
        "id": "PexPQNRgBsF_"
      },
      "source": [
        "Une fonction génératrice est une fonction qui, au lieu d'utiliser ``return`` pour retourner une valeur une seule fois, utilise ``yield`` pour retourner une séquence (potentiellement infinie) de valeurs.\n",
        "Tout comme dans les expressions de générateur, l'état du générateur est préservé entre les itérations partielles, mais si nous voulons une nouvelle copie du générateur, nous pouvons simplement appeler la fonction à nouveau."
      ]
    },
    {
      "cell_type": "markdown",
      "metadata": {
        "id": "AcvzXyt6BsGB"
      },
      "source": [
        "## Exemple : Générateur de nombres premiers\n",
        "Voici un exemple de fonction génératrice : une fonction permettant de générer une série illimitée de nombres premiers.\n",
        "Un algorithme classique pour cela est le *crible d'Eratosthène*, qui fonctionne comme suit :"
      ]
    },
    {
      "cell_type": "code",
      "execution_count": null,
      "metadata": {
        "id": "x7QPM_RGBsGC",
        "outputId": "c2fd64ba-5b28-4bff-d536-cadb0b9f133f"
      },
      "outputs": [
        {
          "name": "stdout",
          "output_type": "stream",
          "text": [
            "[2, 3, 4, 5, 6, 7, 8, 9, 10, 11, 12, 13, 14, 15, 16, 17, 18, 19, 20, 21, 22, 23, 24, 25, 26, 27, 28, 29, 30, 31, 32, 33, 34, 35, 36, 37, 38, 39]\n"
          ]
        }
      ],
      "source": [
        "# Generate a list of candidates\n",
        "L = [n for n in range(2, 40)]\n",
        "print(L)"
      ]
    },
    {
      "cell_type": "code",
      "execution_count": null,
      "metadata": {
        "id": "CbgQRi8OBsGC",
        "outputId": "a64b94ef-dfcf-4a5c-8eb3-430a30ac847b"
      },
      "outputs": [
        {
          "name": "stdout",
          "output_type": "stream",
          "text": [
            "[2, 3, 5, 7, 9, 11, 13, 15, 17, 19, 21, 23, 25, 27, 29, 31, 33, 35, 37, 39]\n"
          ]
        }
      ],
      "source": [
        "# Remove all multiples of the first value\n",
        "L = [n for n in L if n == L[0] or n % L[0] > 0]\n",
        "print(L)"
      ]
    },
    {
      "cell_type": "code",
      "execution_count": null,
      "metadata": {
        "id": "F4TN9trWBsGE",
        "outputId": "69e71d49-5797-494f-9b04-15221cf6802e"
      },
      "outputs": [
        {
          "name": "stdout",
          "output_type": "stream",
          "text": [
            "[2, 3, 5, 7, 11, 13, 17, 19, 23, 25, 29, 31, 35, 37]\n"
          ]
        }
      ],
      "source": [
        "# Remove all multiples of the second value\n",
        "L = [n for n in L if n == L[1] or n % L[1] > 0]\n",
        "print(L)"
      ]
    },
    {
      "cell_type": "code",
      "execution_count": null,
      "metadata": {
        "id": "z_e0cB59BsGF",
        "outputId": "94291445-6772-473a-a4d7-4bc436fc078d"
      },
      "outputs": [
        {
          "name": "stdout",
          "output_type": "stream",
          "text": [
            "[2, 3, 5, 7, 11, 13, 17, 19, 23, 29, 31, 37]\n"
          ]
        }
      ],
      "source": [
        "# Remove all multiples of the third value\n",
        "L = [n for n in L if n == L[2] or n % L[2] > 0]\n",
        "print(L)"
      ]
    },
    {
      "cell_type": "markdown",
      "metadata": {
        "id": "BGRu2mbFBsGG"
      },
      "source": [
        "Si nous répétons cette procédure suffisamment de fois sur une liste suffisamment grande, nous pouvons générer autant de nombres premiers que nous le souhaitons.\n",
        "\n",
        "Encapsulons cette logique dans une fonction génératrice :"
      ]
    },
    {
      "cell_type": "code",
      "execution_count": null,
      "metadata": {
        "id": "ib6sDH7fBsGH",
        "outputId": "590c6325-248c-49b3-d5f5-d572c84e83e1"
      },
      "outputs": [
        {
          "name": "stdout",
          "output_type": "stream",
          "text": [
            "2 3 5 7 11 13 17 19 23 29 31 37 41 43 47 53 59 61 67 71 73 79 83 89 97\n"
          ]
        }
      ],
      "source": [
        "def gen_primes(N):\n",
        "    \"\"\"Generate primes up to N\"\"\"\n",
        "    primes = set()\n",
        "    for n in range(2, N):\n",
        "        if all(n % p > 0 for p in primes):\n",
        "            primes.add(n)\n",
        "            yield n\n",
        "\n",
        "print(*gen_primes(100))"
      ]
    }
  ],
  "metadata": {
    "anaconda-cloud": {},
    "kernelspec": {
      "display_name": "Python 3",
      "language": "python",
      "name": "python3"
    },
    "language_info": {
      "codemirror_mode": {
        "name": "ipython",
        "version": 3
      },
      "file_extension": ".py",
      "mimetype": "text/x-python",
      "name": "python",
      "nbconvert_exporter": "python",
      "pygments_lexer": "ipython3",
      "version": "3.5.1"
    },
    "colab": {
      "provenance": [],
      "include_colab_link": true
    }
  },
  "nbformat": 4,
  "nbformat_minor": 0
}
