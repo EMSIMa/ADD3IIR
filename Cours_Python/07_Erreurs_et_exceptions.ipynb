{
  "cells": [
    {
      "cell_type": "markdown",
      "metadata": {
        "id": "view-in-github",
        "colab_type": "text"
      },
      "source": [
        "<a href=\"https://colab.research.google.com/github/EMSIMa/ADD3IIR/blob/main/07_Erreurs_et_exceptions.ipynb\" target=\"_parent\"><img src=\"https://colab.research.google.com/assets/colab-badge.svg\" alt=\"Open In Colab\"/></a>"
      ]
    },
    {
      "cell_type": "markdown",
      "metadata": {
        "id": "6lU6wQvHxGN4"
      },
      "source": [
        "# Erreurs and Exceptions"
      ]
    },
    {
      "cell_type": "markdown",
      "metadata": {
        "id": "9Sto5dZQxGN9"
      },
      "source": [
        "Quelles que soient vos compétences en tant que programmeur, vous finirez par commettre une erreur de programmation.\n",
        "Ces erreurs se présentent sous trois formes principales :\n",
        "\n",
        "- Erreurs de syntaxe:* Erreurs où le code n'est pas du Python valide (généralement facile à corriger).\n",
        "- Erreurs d'exécution:* Erreurs où le code syntaxiquement valide ne s'exécute pas, peut-être à cause d'une entrée utilisateur invalide (parfois facile à corriger).\n",
        "- Erreurs sémantiques:* Erreurs de logique : le code s'exécute sans problème, mais le résultat n'est pas celui que vous attendiez (souvent très difficile à repérer et à corriger).\n",
        "\n",
        "Ici, nous allons nous concentrer sur la façon de traiter proprement les *erreurs d'exécution*.\n",
        "Comme nous le verrons, Python gère les erreurs d'exécution via son framework de *gestion des exceptions*.\n"
      ]
    },
    {
      "cell_type": "markdown",
      "metadata": {
        "id": "Rc-miV-YxGOD"
      },
      "source": [
        "## Erreurs d'exécution\n",
        "\n",
        "Si vous avez codé en Python, vous avez probablement rencontré des erreurs d'exécution.\n",
        "Elles peuvent se produire de différentes manières.\n",
        "\n",
        "Par exemple, si vous essayez de référencer une variable non définie :"
      ]
    },
    {
      "cell_type": "code",
      "execution_count": null,
      "metadata": {
        "id": "Q7wk4um_xGOJ",
        "outputId": "ea3d529f-df76-4d58-e910-caf38290e2a7"
      },
      "outputs": [
        {
          "ename": "NameError",
          "evalue": "name 'Q' is not defined",
          "output_type": "error",
          "traceback": [
            "\u001b[0;31m---------------------------------------------------------------------------\u001b[0m",
            "\u001b[0;31mNameError\u001b[0m                                 Traceback (most recent call last)",
            "\u001b[0;32m<ipython-input-3-e796bdcf24ff>\u001b[0m in \u001b[0;36m<module>\u001b[0;34m()\u001b[0m\n\u001b[0;32m----> 1\u001b[0;31m \u001b[0mprint\u001b[0m\u001b[0;34m(\u001b[0m\u001b[0mQ\u001b[0m\u001b[0;34m)\u001b[0m\u001b[0;34m\u001b[0m\u001b[0m\n\u001b[0m",
            "\u001b[0;31mNameError\u001b[0m: name 'Q' is not defined"
          ]
        }
      ],
      "source": [
        "print(Q)"
      ]
    },
    {
      "cell_type": "markdown",
      "metadata": {
        "id": "q_16xYsRxGOO"
      },
      "source": [
        "Ou si vous essayez une opération qui n'est pas définie :"
      ]
    },
    {
      "cell_type": "code",
      "execution_count": null,
      "metadata": {
        "id": "4wPuORWHxGOT",
        "outputId": "ea78fd60-e908-4bd3-b83c-a365f2104784"
      },
      "outputs": [
        {
          "ename": "TypeError",
          "evalue": "unsupported operand type(s) for +: 'int' and 'str'",
          "output_type": "error",
          "traceback": [
            "\u001b[0;31m---------------------------------------------------------------------------\u001b[0m",
            "\u001b[0;31mTypeError\u001b[0m                                 Traceback (most recent call last)",
            "\u001b[0;32m<ipython-input-4-aab9e8ede4f7>\u001b[0m in \u001b[0;36m<module>\u001b[0;34m()\u001b[0m\n\u001b[0;32m----> 1\u001b[0;31m \u001b[0;36m1\u001b[0m \u001b[0;34m+\u001b[0m \u001b[0;34m'abc'\u001b[0m\u001b[0;34m\u001b[0m\u001b[0m\n\u001b[0m",
            "\u001b[0;31mTypeError\u001b[0m: unsupported operand type(s) for +: 'int' and 'str'"
          ]
        }
      ],
      "source": [
        "1 + 'abc'"
      ]
    },
    {
      "cell_type": "markdown",
      "metadata": {
        "id": "wcuB6IXfxGOZ"
      },
      "source": [
        "Vous pouvez également essayer de calculer un résultat mathématiquement mal défini :"
      ]
    },
    {
      "cell_type": "code",
      "execution_count": null,
      "metadata": {
        "id": "OQg6ww-ExGOf",
        "outputId": "1bb08f51-98f4-4749-f7c8-8d5c97298dd0"
      },
      "outputs": [
        {
          "ename": "ZeroDivisionError",
          "evalue": "division by zero",
          "output_type": "error",
          "traceback": [
            "\u001b[0;31m---------------------------------------------------------------------------\u001b[0m",
            "\u001b[0;31mZeroDivisionError\u001b[0m                         Traceback (most recent call last)",
            "\u001b[0;32m<ipython-input-5-ae0c5d243292>\u001b[0m in \u001b[0;36m<module>\u001b[0;34m()\u001b[0m\n\u001b[0;32m----> 1\u001b[0;31m \u001b[0;36m2\u001b[0m \u001b[0;34m/\u001b[0m \u001b[0;36m0\u001b[0m\u001b[0;34m\u001b[0m\u001b[0m\n\u001b[0m",
            "\u001b[0;31mZeroDivisionError\u001b[0m: division by zero"
          ]
        }
      ],
      "source": [
        "2 / 0"
      ]
    },
    {
      "cell_type": "markdown",
      "metadata": {
        "id": "sI13sF5fxGOj"
      },
      "source": [
        "Ou peut-être essayez-vous d'accéder à un élément de séquence qui n'existe pas :"
      ]
    },
    {
      "cell_type": "code",
      "execution_count": null,
      "metadata": {
        "id": "6eHYnPnuxGOp",
        "outputId": "04557cfb-0c0a-44d7-c100-462018fbdfbd"
      },
      "outputs": [
        {
          "ename": "IndexError",
          "evalue": "list index out of range",
          "output_type": "error",
          "traceback": [
            "\u001b[0;31m---------------------------------------------------------------------------\u001b[0m",
            "\u001b[0;31mIndexError\u001b[0m                                Traceback (most recent call last)",
            "\u001b[0;32m<ipython-input-6-06b6eb1b8957>\u001b[0m in \u001b[0;36m<module>\u001b[0;34m()\u001b[0m\n\u001b[1;32m      1\u001b[0m \u001b[0mL\u001b[0m \u001b[0;34m=\u001b[0m \u001b[0;34m[\u001b[0m\u001b[0;36m1\u001b[0m\u001b[0;34m,\u001b[0m \u001b[0;36m2\u001b[0m\u001b[0;34m,\u001b[0m \u001b[0;36m3\u001b[0m\u001b[0;34m]\u001b[0m\u001b[0;34m\u001b[0m\u001b[0m\n\u001b[0;32m----> 2\u001b[0;31m \u001b[0mL\u001b[0m\u001b[0;34m[\u001b[0m\u001b[0;36m1000\u001b[0m\u001b[0;34m]\u001b[0m\u001b[0;34m\u001b[0m\u001b[0m\n\u001b[0m",
            "\u001b[0;31mIndexError\u001b[0m: list index out of range"
          ]
        }
      ],
      "source": [
        "L = [1, 2, 3]\n",
        "L[1000]"
      ]
    },
    {
      "cell_type": "markdown",
      "metadata": {
        "id": "2kAAq5-YxGOu"
      },
      "source": [
        "Notez que dans chaque cas, Python a la gentillesse de ne pas simplement indiquer qu'une erreur s'est produite, mais de produire une exception *significative* qui inclut des informations sur ce qui s'est exactement mal passé, ainsi que la ligne de code exacte où l'erreur s'est produite.\n",
        "Il est extrêmement utile d'avoir accès à des erreurs significatives comme celle-ci lorsque vous essayez de remonter à la source des problèmes dans votre code."
      ]
    },
    {
      "cell_type": "markdown",
      "metadata": {
        "id": "LrH3fqbtxGOx"
      },
      "source": [
        "## Capturer les exceptions : ``try'' et ``except''\n",
        "L'outil principal que Python vous donne pour gérer les exceptions d'exécution est la clause ``try``...``except``.\n",
        "Sa structure de base est la suivante :"
      ]
    },
    {
      "cell_type": "code",
      "execution_count": null,
      "metadata": {
        "id": "7fmcSNhjxGO0",
        "outputId": "c4fe5a8a-0b91-4a3e-b36e-fdd87b52698f"
      },
      "outputs": [
        {
          "name": "stdout",
          "output_type": "stream",
          "text": [
            "this gets executed first\n"
          ]
        }
      ],
      "source": [
        "try:\n",
        "    print(\"this gets executed first\")\n",
        "except:\n",
        "    print(\"this gets executed only if there is an error\")"
      ]
    },
    {
      "cell_type": "markdown",
      "metadata": {
        "id": "64fh3z-8xGO4"
      },
      "source": [
        "Notez que le second bloc n'a pas été exécuté : c'est parce que le premier bloc n'a pas retourné d'erreur.\n",
        "Plaçons une déclaration problématique dans le bloc ``try`` et voyons ce qui se passe :"
      ]
    },
    {
      "cell_type": "code",
      "execution_count": null,
      "metadata": {
        "id": "rmVErrCFxGO6",
        "outputId": "f3f9dcab-717a-4cf7-b1f8-6e7d143b6262"
      },
      "outputs": [
        {
          "name": "stdout",
          "output_type": "stream",
          "text": [
            "let's try something:\n",
            "something bad happened!\n"
          ]
        }
      ],
      "source": [
        "try:\n",
        "    print(\"let's try something:\")\n",
        "    x = 1 / 0 # ZeroDivisionError\n",
        "except:\n",
        "    print(\"something bad happened!\")"
      ]
    },
    {
      "cell_type": "markdown",
      "metadata": {
        "id": "sfErU38QxGO-"
      },
      "source": [
        "Ici, nous voyons que lorsque l'erreur a été levée dans la déclaration ``try`` (dans ce cas, une ``ZeroDivisionError``), l'erreur a été capturée, et la déclaration ``except`` a été exécutée.\n",
        "\n",
        "L'une des utilisations les plus courantes est la vérification des entrées de l'utilisateur au sein d'une fonction ou d'un autre morceau de code.\n",
        "Par exemple, nous pourrions souhaiter avoir une fonction qui capture la division par zéro et renvoie une autre valeur, peut-être un nombre suffisamment grand comme $10^{100}$ :"
      ]
    },
    {
      "cell_type": "code",
      "execution_count": null,
      "metadata": {
        "id": "76oNGmu_xGO_"
      },
      "outputs": [],
      "source": [
        "def safe_divide(a, b):\n",
        "    try:\n",
        "        return a / b\n",
        "    except:\n",
        "        return 1E100"
      ]
    },
    {
      "cell_type": "code",
      "execution_count": null,
      "metadata": {
        "id": "5sGD-pMRxGPB",
        "outputId": "0a3f1c66-8bda-43f8-c64c-585586b06cc3"
      },
      "outputs": [
        {
          "data": {
            "text/plain": [
              "0.5"
            ]
          },
          "execution_count": 10,
          "metadata": {},
          "output_type": "execute_result"
        }
      ],
      "source": [
        "safe_divide(1, 2)"
      ]
    },
    {
      "cell_type": "code",
      "execution_count": null,
      "metadata": {
        "id": "qXqNYZWzxGPC",
        "outputId": "31062e03-c559-49a5-c7b2-152e7977a69d"
      },
      "outputs": [
        {
          "data": {
            "text/plain": [
              "1e+100"
            ]
          },
          "execution_count": 11,
          "metadata": {},
          "output_type": "execute_result"
        }
      ],
      "source": [
        "safe_divide(2, 0)"
      ]
    },
    {
      "cell_type": "markdown",
      "metadata": {
        "id": "JBIr2n0wxGPG"
      },
      "source": [
        "Ce code pose toutefois un problème subtil : que se passe-t-il lorsqu'un autre type d'exception survient ? Par exemple, ce n'est probablement pas ce que nous voulions :"
      ]
    },
    {
      "cell_type": "code",
      "execution_count": null,
      "metadata": {
        "id": "pagpLyswxGPI",
        "outputId": "0ce882c8-2c45-4fb1-9386-caef9792514f"
      },
      "outputs": [
        {
          "data": {
            "text/plain": [
              "1e+100"
            ]
          },
          "execution_count": 12,
          "metadata": {},
          "output_type": "execute_result"
        }
      ],
      "source": [
        "safe_divide (1, '2')"
      ]
    },
    {
      "cell_type": "markdown",
      "metadata": {
        "id": "id_YdnfXxGPL"
      },
      "source": [
        "Diviser un entier et une chaîne de caractères soulève une ``TypeError``, que notre code trop enthousiaste a détecté et pris pour une ``ZeroDivisionError`` !\n",
        "Pour cette raison, il est presque toujours préférable de capturer les exceptions *explicitement* :"
      ]
    },
    {
      "cell_type": "code",
      "execution_count": null,
      "metadata": {
        "id": "iSkorqKsxGPN"
      },
      "outputs": [],
      "source": [
        "def safe_divide(a, b):\n",
        "    try:\n",
        "        return a / b\n",
        "    except ZeroDivisionError:\n",
        "        return 1E100"
      ]
    },
    {
      "cell_type": "code",
      "execution_count": null,
      "metadata": {
        "id": "9RLOU-XOxGPP",
        "outputId": "5edc93cb-6a4d-4a85-eeca-b40f894d90b7"
      },
      "outputs": [
        {
          "data": {
            "text/plain": [
              "1e+100"
            ]
          },
          "execution_count": 14,
          "metadata": {},
          "output_type": "execute_result"
        }
      ],
      "source": [
        "safe_divide(1, 0)"
      ]
    },
    {
      "cell_type": "code",
      "execution_count": null,
      "metadata": {
        "id": "T-Lg0Jl0xGPR",
        "outputId": "91856aa2-926f-4500-8eee-e3d0281a9004"
      },
      "outputs": [
        {
          "ename": "TypeError",
          "evalue": "unsupported operand type(s) for /: 'int' and 'str'",
          "output_type": "error",
          "traceback": [
            "\u001b[0;31m---------------------------------------------------------------------------\u001b[0m",
            "\u001b[0;31mTypeError\u001b[0m                                 Traceback (most recent call last)",
            "\u001b[0;32m<ipython-input-15-2331af6a0acf>\u001b[0m in \u001b[0;36m<module>\u001b[0;34m()\u001b[0m\n\u001b[0;32m----> 1\u001b[0;31m \u001b[0msafe_divide\u001b[0m\u001b[0;34m(\u001b[0m\u001b[0;36m1\u001b[0m\u001b[0;34m,\u001b[0m \u001b[0;34m'2'\u001b[0m\u001b[0;34m)\u001b[0m\u001b[0;34m\u001b[0m\u001b[0m\n\u001b[0m",
            "\u001b[0;32m<ipython-input-13-10b5f0163af8>\u001b[0m in \u001b[0;36msafe_divide\u001b[0;34m(a, b)\u001b[0m\n\u001b[1;32m      1\u001b[0m \u001b[0;32mdef\u001b[0m \u001b[0msafe_divide\u001b[0m\u001b[0;34m(\u001b[0m\u001b[0ma\u001b[0m\u001b[0;34m,\u001b[0m \u001b[0mb\u001b[0m\u001b[0;34m)\u001b[0m\u001b[0;34m:\u001b[0m\u001b[0;34m\u001b[0m\u001b[0m\n\u001b[1;32m      2\u001b[0m     \u001b[0;32mtry\u001b[0m\u001b[0;34m:\u001b[0m\u001b[0;34m\u001b[0m\u001b[0m\n\u001b[0;32m----> 3\u001b[0;31m         \u001b[0;32mreturn\u001b[0m \u001b[0ma\u001b[0m \u001b[0;34m/\u001b[0m \u001b[0mb\u001b[0m\u001b[0;34m\u001b[0m\u001b[0m\n\u001b[0m\u001b[1;32m      4\u001b[0m     \u001b[0;32mexcept\u001b[0m \u001b[0mZeroDivisionError\u001b[0m\u001b[0;34m:\u001b[0m\u001b[0;34m\u001b[0m\u001b[0m\n\u001b[1;32m      5\u001b[0m         \u001b[0;32mreturn\u001b[0m \u001b[0;36m1E100\u001b[0m\u001b[0;34m\u001b[0m\u001b[0m\n",
            "\u001b[0;31mTypeError\u001b[0m: unsupported operand type(s) for /: 'int' and 'str'"
          ]
        }
      ],
      "source": [
        "safe_divide(1, '2')"
      ]
    },
    {
      "cell_type": "markdown",
      "metadata": {
        "id": "7cse5AhZxGPU"
      },
      "source": [
        "Nous ne détectons plus que les erreurs de division par zéro et laissons passer toutes les autres erreurs sans les modifier."
      ]
    },
    {
      "cell_type": "markdown",
      "metadata": {
        "id": "WqvVjdSQxGPX"
      },
      "source": [
        "## Lever les exceptions : ``raise``\n",
        "Nous avons vu à quel point il est utile d'avoir des exceptions informatives lors de l'utilisation de certaines parties du langage Python.\n",
        "Il est tout aussi important d'utiliser des exceptions informatives dans le code que vous écrivez, de façon à ce que les utilisateurs de votre code (et surtout vous-même !) puissent comprendre ce qui a causé leurs erreurs.\n",
        "\n",
        "La façon de lever vos propres exceptions est l'instruction ``raise``. Par exemple :"
      ]
    },
    {
      "cell_type": "code",
      "execution_count": null,
      "metadata": {
        "id": "CjmUTjIexGPZ",
        "outputId": "91be6c45-df5f-4a09-a9dc-c0a31dc258e6"
      },
      "outputs": [
        {
          "ename": "RuntimeError",
          "evalue": "my error message",
          "output_type": "error",
          "traceback": [
            "\u001b[0;31m---------------------------------------------------------------------------\u001b[0m",
            "\u001b[0;31mRuntimeError\u001b[0m                              Traceback (most recent call last)",
            "\u001b[0;32m<ipython-input-16-c6a4c1ed2f34>\u001b[0m in \u001b[0;36m<module>\u001b[0;34m()\u001b[0m\n\u001b[0;32m----> 1\u001b[0;31m \u001b[0;32mraise\u001b[0m \u001b[0mRuntimeError\u001b[0m\u001b[0;34m(\u001b[0m\u001b[0;34m\"my error message\"\u001b[0m\u001b[0;34m)\u001b[0m\u001b[0;34m\u001b[0m\u001b[0m\n\u001b[0m",
            "\u001b[0;31mRuntimeError\u001b[0m: my error message"
          ]
        }
      ],
      "source": [
        "raise RuntimeError(\"my error message\")"
      ]
    },
    {
      "cell_type": "markdown",
      "metadata": {
        "id": "Xc8WssPsxGPc"
      },
      "source": [
        "Pour illustrer l'utilité de cette fonction, revenons à la fonction ``fibonacci`` que nous avons définie précédemment :"
      ]
    },
    {
      "cell_type": "code",
      "execution_count": null,
      "metadata": {
        "id": "R0RHhCraxGPd"
      },
      "outputs": [],
      "source": [
        "def fibonacci(N):\n",
        "    L = []\n",
        "    a, b = 0, 1\n",
        "    while len(L) < N:\n",
        "        a, b = b, a + b\n",
        "        L.append(a)\n",
        "    return L"
      ]
    },
    {
      "cell_type": "markdown",
      "metadata": {
        "id": "fet1SJqXxGPf"
      },
      "source": [
        "Un problème potentiel est que la valeur d'entrée peut être négative.\n",
        "Cela ne causera pas d'erreur dans notre fonction, mais nous pourrions vouloir faire savoir à l'utilisateur qu'un ``N`` négatif n'est pas supporté.\n",
        "Les erreurs provenant de valeurs de paramètres invalides, par convention, conduisent à la levée d'une ``ValueError`` :"
      ]
    },
    {
      "cell_type": "code",
      "execution_count": null,
      "metadata": {
        "id": "o6cxC_6nxGPh"
      },
      "outputs": [],
      "source": [
        "def fibonacci(N):\n",
        "    if N < 0:\n",
        "        raise ValueError(\"N must be non-negative\")\n",
        "    L = []\n",
        "    a, b = 0, 1\n",
        "    while len(L) < N:\n",
        "        a, b = b, a + b\n",
        "        L.append(a)\n",
        "    return L"
      ]
    },
    {
      "cell_type": "code",
      "execution_count": null,
      "metadata": {
        "id": "HB4OwDNjxGPj",
        "outputId": "63efba37-6510-41fb-bacd-275b85329a4c"
      },
      "outputs": [
        {
          "data": {
            "text/plain": [
              "[1, 1, 2, 3, 5, 8, 13, 21, 34, 55]"
            ]
          },
          "execution_count": 19,
          "metadata": {},
          "output_type": "execute_result"
        }
      ],
      "source": [
        "fibonacci(10)"
      ]
    },
    {
      "cell_type": "code",
      "execution_count": null,
      "metadata": {
        "id": "gfdhiRAVxGPm",
        "outputId": "93559231-ae21-4d2c-e02b-d02336fb41ca"
      },
      "outputs": [
        {
          "ename": "ValueError",
          "evalue": "N must be non-negative",
          "output_type": "error",
          "traceback": [
            "\u001b[0;31m---------------------------------------------------------------------------\u001b[0m",
            "\u001b[0;31mValueError\u001b[0m                                Traceback (most recent call last)",
            "\u001b[0;32m<ipython-input-20-3d291499cfa7>\u001b[0m in \u001b[0;36m<module>\u001b[0;34m()\u001b[0m\n\u001b[0;32m----> 1\u001b[0;31m \u001b[0mfibonacci\u001b[0m\u001b[0;34m(\u001b[0m\u001b[0;34m-\u001b[0m\u001b[0;36m10\u001b[0m\u001b[0;34m)\u001b[0m\u001b[0;34m\u001b[0m\u001b[0m\n\u001b[0m",
            "\u001b[0;32m<ipython-input-18-01d0cf168d63>\u001b[0m in \u001b[0;36mfibonacci\u001b[0;34m(N)\u001b[0m\n\u001b[1;32m      1\u001b[0m \u001b[0;32mdef\u001b[0m \u001b[0mfibonacci\u001b[0m\u001b[0;34m(\u001b[0m\u001b[0mN\u001b[0m\u001b[0;34m)\u001b[0m\u001b[0;34m:\u001b[0m\u001b[0;34m\u001b[0m\u001b[0m\n\u001b[1;32m      2\u001b[0m     \u001b[0;32mif\u001b[0m \u001b[0mN\u001b[0m \u001b[0;34m<\u001b[0m \u001b[0;36m0\u001b[0m\u001b[0;34m:\u001b[0m\u001b[0;34m\u001b[0m\u001b[0m\n\u001b[0;32m----> 3\u001b[0;31m         \u001b[0;32mraise\u001b[0m \u001b[0mValueError\u001b[0m\u001b[0;34m(\u001b[0m\u001b[0;34m\"N must be non-negative\"\u001b[0m\u001b[0;34m)\u001b[0m\u001b[0;34m\u001b[0m\u001b[0m\n\u001b[0m\u001b[1;32m      4\u001b[0m     \u001b[0mL\u001b[0m \u001b[0;34m=\u001b[0m \u001b[0;34m[\u001b[0m\u001b[0;34m]\u001b[0m\u001b[0;34m\u001b[0m\u001b[0m\n\u001b[1;32m      5\u001b[0m     \u001b[0ma\u001b[0m\u001b[0;34m,\u001b[0m \u001b[0mb\u001b[0m \u001b[0;34m=\u001b[0m \u001b[0;36m0\u001b[0m\u001b[0;34m,\u001b[0m \u001b[0;36m1\u001b[0m\u001b[0;34m\u001b[0m\u001b[0m\n",
            "\u001b[0;31mValueError\u001b[0m: N must be non-negative"
          ]
        }
      ],
      "source": [
        "fibonacci(-10)"
      ]
    },
    {
      "cell_type": "markdown",
      "metadata": {
        "id": "nHWKKXppxGPq"
      },
      "source": [
        "Maintenant, l'utilisateur sait exactement pourquoi l'entrée n'est pas valide, et pourrait même utiliser un bloc ``try``...``except`` pour le gérer !"
      ]
    },
    {
      "cell_type": "code",
      "execution_count": null,
      "metadata": {
        "id": "MA14FcHBxGPr",
        "outputId": "bab0c9d4-0e99-4957-db3d-24f3148638bc"
      },
      "outputs": [
        {
          "name": "stdout",
          "output_type": "stream",
          "text": [
            "trying this...\n",
            "Bad value: need to do something else\n"
          ]
        }
      ],
      "source": [
        "N = -10\n",
        "try:\n",
        "    print(\"trying this...\")\n",
        "    print(fibonacci(N))\n",
        "except ValueError:\n",
        "    print(\"Bad value: need to do something else\")"
      ]
    },
    {
      "cell_type": "markdown",
      "metadata": {
        "id": "zn-CsKd3xGPu"
      },
      "source": [
        "## Approfondir les exceptions\n",
        "\n",
        "Brièvement, je voudrais mentionner ici d'autres concepts que vous pourriez rencontrer.\n",
        "Je n'entrerai pas dans les détails de ces concepts, ni comment et pourquoi les utiliser, mais je me contenterai de vous montrer la syntaxe pour que vous puissiez l'explorer par vous-même."
      ]
    },
    {
      "cell_type": "markdown",
      "metadata": {
        "id": "H7KRkRpUxGPv"
      },
      "source": [
        "### Accéder au message d'erreur\n",
        "\n",
        "Parfois, dans une déclaration ``try``...``except``, vous aimeriez pouvoir travailler avec le message d'erreur lui-même.\n",
        "Cela peut être fait avec le mot-clé ``as`` :"
      ]
    },
    {
      "cell_type": "code",
      "execution_count": null,
      "metadata": {
        "id": "4uL3zr-gxGPx",
        "outputId": "252ed81f-2290-4c59-bcd3-9d9b67bcb1e3"
      },
      "outputs": [
        {
          "name": "stdout",
          "output_type": "stream",
          "text": [
            "Error class is:   <class 'ZeroDivisionError'>\n",
            "Error message is: division by zero\n"
          ]
        }
      ],
      "source": [
        "try:\n",
        "    x = 1 / 0\n",
        "except ZeroDivisionError as err:\n",
        "    print(\"Error class is:  \", type(err))\n",
        "    print(\"Error message is:\", err)"
      ]
    },
    {
      "cell_type": "markdown",
      "metadata": {
        "id": "EGsYDNSuxGPz"
      },
      "source": [
        "Grâce à ce modèle, vous pouvez personnaliser davantage la gestion des exceptions de votre fonction."
      ]
    },
    {
      "cell_type": "markdown",
      "metadata": {
        "id": "qv9vAJ9XxGP0"
      },
      "source": [
        "### Définition d'exceptions personnalisées\n",
        "En plus des exceptions intégrées, il est possible de définir des exceptions personnalisées par *héritage de classe*.\n",
        "Par exemple, si vous voulez un type spécial de ``ValueError``, vous pouvez faire ceci :"
      ]
    },
    {
      "cell_type": "code",
      "execution_count": null,
      "metadata": {
        "id": "z5UVJc5RxGP1",
        "outputId": "6e5717b6-6749-4611-cf9b-ff5dba064b97"
      },
      "outputs": [
        {
          "ename": "MySpecialError",
          "evalue": "here's the message",
          "output_type": "error",
          "traceback": [
            "\u001b[0;31m---------------------------------------------------------------------------\u001b[0m",
            "\u001b[0;31mMySpecialError\u001b[0m                            Traceback (most recent call last)",
            "\u001b[0;32m<ipython-input-23-92c36e04a9d0>\u001b[0m in \u001b[0;36m<module>\u001b[0;34m()\u001b[0m\n\u001b[1;32m      2\u001b[0m     \u001b[0;32mpass\u001b[0m\u001b[0;34m\u001b[0m\u001b[0m\n\u001b[1;32m      3\u001b[0m \u001b[0;34m\u001b[0m\u001b[0m\n\u001b[0;32m----> 4\u001b[0;31m \u001b[0;32mraise\u001b[0m \u001b[0mMySpecialError\u001b[0m\u001b[0;34m(\u001b[0m\u001b[0;34m\"here's the message\"\u001b[0m\u001b[0;34m)\u001b[0m\u001b[0;34m\u001b[0m\u001b[0m\n\u001b[0m",
            "\u001b[0;31mMySpecialError\u001b[0m: here's the message"
          ]
        }
      ],
      "source": [
        "class MySpecialError(ValueError):\n",
        "    pass\n",
        "\n",
        "raise MySpecialError(\"here's the message\")"
      ]
    },
    {
      "cell_type": "markdown",
      "metadata": {
        "id": "HfiyPdMCxGP4"
      },
      "source": [
        "Cela vous permettrait d'utiliser un bloc ``try``...``except`` qui ne capturerait que ce type d'erreur :"
      ]
    },
    {
      "cell_type": "code",
      "execution_count": null,
      "metadata": {
        "id": "kchCF5g4xGP6",
        "outputId": "8e6a27e8-b2f1-47ad-f333-87e9b704d1cd"
      },
      "outputs": [
        {
          "name": "stdout",
          "output_type": "stream",
          "text": [
            "do something\n",
            "do something else\n"
          ]
        }
      ],
      "source": [
        "try:\n",
        "    print(\"do something\")\n",
        "    raise MySpecialError(\"[informative error message here]\")\n",
        "except MySpecialError:\n",
        "    print(\"do something else\")"
      ]
    },
    {
      "cell_type": "markdown",
      "metadata": {
        "id": "fcXelcCYxGP8"
      },
      "source": [
        "Cela peut s'avérer utile lorsque vous développez un code plus personnalisé."
      ]
    },
    {
      "cell_type": "markdown",
      "metadata": {
        "id": "UcD96jvqxGP9"
      },
      "source": [
        "## ``try``...``except``...``else``...`finally``\n",
        "En plus de ``try`` et ``except``, vous pouvez utiliser les mots-clés ``else`` et ``finally`` pour affiner la gestion des exceptions dans votre code.\n",
        "La structure de base est la suivante :"
      ]
    },
    {
      "cell_type": "code",
      "execution_count": null,
      "metadata": {
        "id": "s6BZr-sUxGP-",
        "outputId": "b53d381b-e22c-4b5e-8312-831b85f70dce"
      },
      "outputs": [
        {
          "name": "stdout",
          "output_type": "stream",
          "text": [
            "try something here\n",
            "this happens only if it succeeds\n",
            "this happens no matter what\n"
          ]
        }
      ],
      "source": [
        "try:\n",
        "    print(\"try something here\")\n",
        "except:\n",
        "    print(\"this happens only if it fails\")\n",
        "else:\n",
        "    print(\"this happens only if it succeeds\")\n",
        "finally:\n",
        "    print(\"this happens no matter what\")"
      ]
    },
    {
      "cell_type": "markdown",
      "metadata": {
        "id": "IrvTXhWuxGQA"
      },
      "source": [
        "L'utilité de ``else`` ici est claire, mais quel est l'intérêt de ``finally`` ?\n",
        "Eh bien, la clause `finally`` est vraiment exécutée *quoi qu'il arrive* : Elle est généralement utilisée pour faire une sorte de nettoyage après la fin d'une opération."
      ]
    }
  ],
  "metadata": {
    "anaconda-cloud": {},
    "kernelspec": {
      "display_name": "Python 3",
      "language": "python",
      "name": "python3"
    },
    "language_info": {
      "codemirror_mode": {
        "name": "ipython",
        "version": 3
      },
      "file_extension": ".py",
      "mimetype": "text/x-python",
      "name": "python",
      "nbconvert_exporter": "python",
      "pygments_lexer": "ipython3",
      "version": "3.5.1"
    },
    "colab": {
      "provenance": [],
      "include_colab_link": true
    }
  },
  "nbformat": 4,
  "nbformat_minor": 0
}
