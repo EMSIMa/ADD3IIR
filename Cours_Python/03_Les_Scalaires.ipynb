{
  "cells": [
    {
      "cell_type": "markdown",
      "metadata": {
        "id": "view-in-github",
        "colab_type": "text"
      },
      "source": [
        "<a href=\"https://colab.research.google.com/github/EMSIMa/ADD3IIR/blob/main/03_Les_Scalaires.ipynb\" target=\"_parent\"><img src=\"https://colab.research.google.com/assets/colab-badge.svg\" alt=\"Open In Colab\"/></a>"
      ]
    },
    {
      "cell_type": "markdown",
      "metadata": {
        "id": "KrtY_Xvwq6Ng"
      },
      "source": [
        "# Types predefinis : Valeurs simples"
      ]
    },
    {
      "cell_type": "markdown",
      "metadata": {
        "id": "hz98fvs4q6Nh"
      },
      "source": [
        "Lorsque nous avons abordé les variables et les objets Python, nous avons mentionné le fait que tous les objets Python sont associés à des informations de type. Ici, nous allons brièvement passer en revue les types simples prédéfinis offerts par Python.\n",
        "Nous disons \"types simples\" pour faire la différence avec plusieurs types composés, qui seront abordés dans la section suivante.\n",
        "\n",
        "Les types simples de Python sont résumés dans le tableau suivant :\n",
        "\n",
        "<center>**Types Scalaires Python **</center>\n",
        "\n",
        "| Type        | Exemple        | Description                                                  |\n",
        "|-------------|----------------|--------------------------------------------------------------|\n",
        "| ``int``     | ``x = 1``      | Entiers \n",
        "| ``float``   | ``x = 1.0``    | les nombres à virgule flottante (c'est-à-dire les nombres réels) \n",
        "| ``complex`` | ``x = 1 + 2j`` | Les nombres complexes (c'est-à-dire les nombres ayant une partie réelle et une partie imaginaire) |\n",
        "| ``bool``    | ``x = True``   | Booléens : Valeurs True/False                                   |\n",
        "| ``str``     | ``x = 'abc'``  | Chaîne : caractères ou texte                                   |\n",
        "| ``NoneType``| ``x = None``   | Objet spécial indiquant les nuls                              |\n",
        "\n",
        "Nous allons examiner rapidement chacun d'entre eux à tour de rôle."
      ]
    },
    {
      "cell_type": "markdown",
      "metadata": {
        "id": "IWnogmy-q6Nk"
      },
      "source": [
        "## Entiers\n",
        "Le type numérique le plus élémentaire est le nombre entier.\n",
        "Tout nombre sans point décimal est un nombre entier :"
      ]
    },
    {
      "cell_type": "code",
      "execution_count": null,
      "metadata": {
        "id": "1EpeUrNwq6Nl",
        "outputId": "1901c98e-7193-430d-bc1f-204a9b187b47"
      },
      "outputs": [
        {
          "data": {
            "text/plain": [
              "int"
            ]
          },
          "execution_count": 1,
          "metadata": {},
          "output_type": "execute_result"
        }
      ],
      "source": [
        "x = 1\n",
        "type(x)"
      ]
    },
    {
      "cell_type": "markdown",
      "metadata": {
        "id": "E7trbKIiq6Nm"
      },
      "source": [
        "Les nombres entiers de Python sont en fait un peu plus sophistiqués que les nombres entiers de langages comme ``C``.\n",
        "Les entiers en C sont à précision fixe, et débordent généralement à une certaine valeur (souvent proche de $2^{31}$ ou $2^{63}$, selon votre système).\n",
        "Les entiers Python sont à précision variable, ce qui vous permet d'effectuer des calculs qui déborderaient dans d'autres langages :"
      ]
    },
    {
      "cell_type": "code",
      "execution_count": null,
      "metadata": {
        "id": "GyVYAdT8q6Nn",
        "outputId": "fc821858-6713-4c23-89a5-61e13bf7bf4e"
      },
      "outputs": [
        {
          "data": {
            "text/plain": [
              "1606938044258990275541962092341162602522202993782792835301376"
            ]
          },
          "execution_count": 2,
          "metadata": {},
          "output_type": "execute_result"
        }
      ],
      "source": [
        "2 ** 200"
      ]
    },
    {
      "cell_type": "markdown",
      "metadata": {
        "id": "RKmASCTHq6Np"
      },
      "source": [
        "Une autre caractéristique pratique des entiers Python est que, par défaut, la division est convertie en virgule flottante :"
      ]
    },
    {
      "cell_type": "code",
      "execution_count": null,
      "metadata": {
        "id": "oMkntq58q6Nq",
        "outputId": "8c09bc14-9d0c-414b-cdd6-05dfebc5a319"
      },
      "outputs": [
        {
          "data": {
            "text/plain": [
              "2.5"
            ]
          },
          "execution_count": 3,
          "metadata": {},
          "output_type": "execute_result"
        }
      ],
      "source": [
        "5 / 2"
      ]
    },
    {
      "cell_type": "markdown",
      "metadata": {
        "id": "9cOyFIpjq6Ns"
      },
      "source": [
        "Notez que ce transfert est une fonctionnalité de Python 3 ; dans Python 2, comme dans de nombreux langages à typage statique tels que C, la division des entiers tronque toute décimale et renvoie toujours un entier :\n",
        "``` python\n",
        "# Comportement en Python 2\n",
        ">>> 5 / 2\n",
        "2\n",
        "```\n",
        "Pour retrouver ce comportement en Python 3, vous pouvez utiliser l'opérateur de division floor :"
      ]
    },
    {
      "cell_type": "code",
      "execution_count": null,
      "metadata": {
        "id": "J8HCz4Ivq6Nt",
        "outputId": "ceda746e-80d2-47a7-8c2a-2a2d863ea2b6"
      },
      "outputs": [
        {
          "data": {
            "text/plain": [
              "2"
            ]
          },
          "execution_count": 4,
          "metadata": {},
          "output_type": "execute_result"
        }
      ],
      "source": [
        "5 // 2"
      ]
    },
    {
      "cell_type": "markdown",
      "metadata": {
        "id": "l6pIcMpdq6Nu"
      },
      "source": [
        "Enfin, notez que même si Python *2.x* avait à la fois un type ``int`` et un type ``long``, Python 3 combine le comportement de ces deux types en un seul type ``int``."
      ]
    },
    {
      "cell_type": "markdown",
      "metadata": {
        "id": "U7hYSU9Vq6Nu"
      },
      "source": [
        "## Nombres à virgule flottante\n",
        "Le type à virgule flottante permet de stocker des nombres fractionnaires.\n",
        "Ils peuvent être définis soit en notation décimale standard, soit en notation exponentielle :"
      ]
    },
    {
      "cell_type": "code",
      "execution_count": null,
      "metadata": {
        "id": "JOMEA79uq6Nv",
        "outputId": "4face3cf-fc54-4bad-aab5-fe22adc5c9cb"
      },
      "outputs": [
        {
          "name": "stdout",
          "output_type": "stream",
          "text": [
            "True\n"
          ]
        }
      ],
      "source": [
        "x = 0.000005\n",
        "y = 5e-6\n",
        "print(x == y)"
      ]
    },
    {
      "cell_type": "code",
      "execution_count": null,
      "metadata": {
        "id": "8ja3rz_tq6Nv",
        "outputId": "16303691-7a9e-425a-ea83-c3cf8cb1ee26"
      },
      "outputs": [
        {
          "name": "stdout",
          "output_type": "stream",
          "text": [
            "True\n"
          ]
        }
      ],
      "source": [
        "x = 1400000.00\n",
        "y = 1.4e6\n",
        "print(x == y)"
      ]
    },
    {
      "cell_type": "markdown",
      "metadata": {
        "id": "tqjGh1ojq6Nw"
      },
      "source": [
        "Dans la notation exponentielle, le ``e`` ou ``E`` peut être lu \"...fois dix à la puissance,...\",\n",
        "de sorte que \"1,4e6\" est interprété comme $~1.4\\times10^6$."
      ]
    },
    {
      "cell_type": "markdown",
      "metadata": {
        "id": "kS1maFWWq6Nx"
      },
      "source": [
        "Un entier peut être explicitement converti en un flottant avec le constructeur ``float`` :"
      ]
    },
    {
      "cell_type": "code",
      "execution_count": null,
      "metadata": {
        "id": "JPFCueePq6Ny",
        "outputId": "29220a48-f3d7-4f44-bd72-f4817e10f069"
      },
      "outputs": [
        {
          "data": {
            "text/plain": [
              "1.0"
            ]
          },
          "execution_count": 7,
          "metadata": {},
          "output_type": "execute_result"
        }
      ],
      "source": [
        "float(1)"
      ]
    },
    {
      "cell_type": "markdown",
      "metadata": {
        "id": "j4xb2qhzq6N0"
      },
      "source": [
        "### Précision de la virgule flottante\n",
        "Une chose dont il faut être conscient avec l'arithmétique à virgule flottante est que sa précision est limitée, ce qui peut rendre les tests d'égalité instables. Par exemple :"
      ]
    },
    {
      "cell_type": "code",
      "execution_count": null,
      "metadata": {
        "id": "f_VByeq-q6N0",
        "outputId": "8d1b7ac5-acde-4824-e708-8c8237476f69"
      },
      "outputs": [
        {
          "data": {
            "text/plain": [
              "False"
            ]
          },
          "execution_count": 8,
          "metadata": {},
          "output_type": "execute_result"
        }
      ],
      "source": [
        "0.1 + 0.2 == 0.3"
      ]
    },
    {
      "cell_type": "markdown",
      "metadata": {
        "id": "zGQ7PAVsq6N1"
      },
      "source": [
        "Pourquoi est-ce le cas ? Il s'avère que ce n'est pas un comportement propre à Python, mais qu'il est dû au format à précision fixe du stockage binaire à virgule flottante utilisé par la plupart, voire la totalité, des plateformes de calcul scientifique.\n",
        "Tous les langages de programmation utilisant des nombres à virgule flottante les stockent dans un nombre fixe de bits, ce qui conduit à ce que certains nombres ne soient représentés qu'approximativement.\n",
        "Nous pouvons le constater en imprimant les trois valeurs en haute précision :"
      ]
    },
    {
      "cell_type": "code",
      "execution_count": null,
      "metadata": {
        "id": "mCRrK7Rbq6N1",
        "outputId": "718c6d73-5db7-41cd-f784-914ca10b23d3"
      },
      "outputs": [
        {
          "name": "stdout",
          "output_type": "stream",
          "text": [
            "0.1 = 0.10000000000000001\n",
            "0.2 = 0.20000000000000001\n",
            "0.3 = 0.29999999999999999\n"
          ]
        }
      ],
      "source": [
        "print(\"0.1 = {0:.17f}\".format(0.1))\n",
        "print(\"0.2 = {0:.17f}\".format(0.2))\n",
        "print(\"0.3 = {0:.17f}\".format(0.3))"
      ]
    },
    {
      "cell_type": "markdown",
      "metadata": {
        "id": "rLKrJxAcq6N3"
      },
      "source": [
        "Nous avons l'habitude de penser aux nombres en notation décimale (base 10), de sorte que chaque fraction doit être exprimée comme une somme de puissances de 10 :\n",
        "$$\n",
        "1 /8 = 1\\cdot 10^{-1} + 2\\cdot 10^{-2} + 5\\cdot 10^{-3}\n",
        "$$\n",
        "Dans la représentation familière en base 10, nous représentons cela par l'expression décimale familière : 0,125$.\n",
        "\n",
        "Les ordinateurs stockent généralement les valeurs en notation binaire, de sorte que chaque nombre est exprimé comme une somme de puissances de 2 :\n",
        "$$\n",
        "1/8 = 0\\cdot 2^{-1} + 0\\cdot 2^{-2} + 1\\cdot 2^{-3}\n",
        "$$\n",
        "Dans une représentation en base 2, on peut écrire ceci $0.001_2$, où l'indice 2 indique la notation binaire.\n",
        "La valeur $0,125 = 0,001_2$ est un nombre que les notations binaire et décimale peuvent représenter avec un nombre fini de chiffres.\n",
        "\n",
        "Dans la représentation familière des nombres en base 10, vous connaissez probablement des nombres qui ne peuvent pas être exprimés en un nombre fini de chiffres.\n",
        "Par exemple, la division de $1$ par $3$ donne, en notation décimale standard :\n",
        "$$\n",
        "1 / 3 = 0,333333333\\cdots\n",
        "$$\n",
        "Les 3 sont infinis : c'est-à-dire que pour représenter réellement ce quotient, le nombre de chiffres requis est infini !\n",
        "\n",
        "De même, il existe des nombres pour lesquels les représentations binaires nécessitent un nombre infini de chiffres.\n",
        "Par exemple :\n",
        "$$\n",
        "1 / 10 = 0,00011001100110011\\cdots_2\n",
        "$$\n",
        "Tout comme la notation décimale nécessite un nombre infini de chiffres pour représenter parfaitement $1/3$, la notation binaire nécessite un nombre infini de chiffres pour représenter $1/10$.\n",
        "Python tronque en interne ces représentations à 52 bits au-delà du premier bit non nul sur la plupart des systèmes.\n",
        "\n",
        "Cette erreur d'arrondi pour les valeurs à virgule flottante est un mal nécessaire pour travailler avec des nombres à virgule flottante.\n",
        "La meilleure façon d'y faire face est de toujours garder à l'esprit que l'arithmétique en virgule flottante est approximative, et de ne *jamais* compter sur des tests d'égalité exacts avec des valeurs en virgule flottante."
      ]
    },
    {
      "cell_type": "markdown",
      "metadata": {
        "id": "ulW_OJptq6N4"
      },
      "source": [
        "## Nombres complexes\n",
        "Les nombres complexes sont des nombres comportant des parties réelles et imaginaires (à virgule flottante).\n",
        "Nous avons déjà vu des nombres entiers et réels ; nous pouvons les utiliser pour construire un nombre complexe :"
      ]
    },
    {
      "cell_type": "code",
      "execution_count": null,
      "metadata": {
        "id": "rXph8kxyq6N4",
        "outputId": "fbc08b26-f7ca-4b7d-a811-f67a889f9bbb"
      },
      "outputs": [
        {
          "data": {
            "text/plain": [
              "(1+2j)"
            ]
          },
          "execution_count": 10,
          "metadata": {},
          "output_type": "execute_result"
        }
      ],
      "source": [
        "complex(1, 2)"
      ]
    },
    {
      "cell_type": "markdown",
      "metadata": {
        "id": "G9YwX7OKq6N5"
      },
      "source": [
        "On peut aussi utiliser le suffixe \"``j``\" dans les expressions pour indiquer la partie imaginaire :"
      ]
    },
    {
      "cell_type": "code",
      "execution_count": null,
      "metadata": {
        "id": "X10RFIJVq6N5",
        "outputId": "f374ad55-e739-4da5-cd58-d830ff9891ea"
      },
      "outputs": [
        {
          "data": {
            "text/plain": [
              "(1+2j)"
            ]
          },
          "execution_count": 11,
          "metadata": {},
          "output_type": "execute_result"
        }
      ],
      "source": [
        "1 + 2j"
      ]
    },
    {
      "cell_type": "markdown",
      "metadata": {
        "id": "LqNk0uu1q6N6"
      },
      "source": [
        "Les nombres complexes ont une variété d'attributs et de méthodes intéressants, que nous allons brièvement démontrer ici :"
      ]
    },
    {
      "cell_type": "code",
      "execution_count": null,
      "metadata": {
        "id": "1J80nbJYq6N7"
      },
      "outputs": [],
      "source": [
        "c = 3 + 4j"
      ]
    },
    {
      "cell_type": "code",
      "execution_count": null,
      "metadata": {
        "id": "8hI2WcFsq6N7",
        "outputId": "278cbb22-faa5-41fa-ad6b-e5588800df32"
      },
      "outputs": [
        {
          "data": {
            "text/plain": [
              "3.0"
            ]
          },
          "execution_count": 13,
          "metadata": {},
          "output_type": "execute_result"
        }
      ],
      "source": [
        "c.real  # real part"
      ]
    },
    {
      "cell_type": "code",
      "execution_count": null,
      "metadata": {
        "id": "33sZ-KRHq6N8",
        "outputId": "3d778b6f-ffd7-4851-abd7-f4b0675440a7"
      },
      "outputs": [
        {
          "data": {
            "text/plain": [
              "4.0"
            ]
          },
          "execution_count": 14,
          "metadata": {},
          "output_type": "execute_result"
        }
      ],
      "source": [
        "c.imag  # imaginary part"
      ]
    },
    {
      "cell_type": "code",
      "execution_count": null,
      "metadata": {
        "id": "fLZD8ALUq6N8",
        "outputId": "998eb16d-a4d8-43d9-a53f-537c70b1cdf5"
      },
      "outputs": [
        {
          "data": {
            "text/plain": [
              "(3-4j)"
            ]
          },
          "execution_count": 15,
          "metadata": {},
          "output_type": "execute_result"
        }
      ],
      "source": [
        "c.conjugate()  # complex conjugate"
      ]
    },
    {
      "cell_type": "code",
      "execution_count": null,
      "metadata": {
        "id": "MSgDPaA7q6N9",
        "outputId": "869e6aa6-f417-4bba-9000-6a374e1fb3ca"
      },
      "outputs": [
        {
          "data": {
            "text/plain": [
              "5.0"
            ]
          },
          "execution_count": 16,
          "metadata": {},
          "output_type": "execute_result"
        }
      ],
      "source": [
        "abs(c)  # magnitude, i.e. sqrt(c.real ** 2 + c.imag ** 2)"
      ]
    },
    {
      "cell_type": "markdown",
      "metadata": {
        "id": "2JTslLgbq6N-"
      },
      "source": [
        "## Type chaîne de caractères\n",
        "Les chaînes de caractères en Python sont créées avec des guillemets simples ou doubles :"
      ]
    },
    {
      "cell_type": "code",
      "execution_count": null,
      "metadata": {
        "id": "ckkUx4_sq6N-"
      },
      "outputs": [],
      "source": [
        "message = \"what do you like?\"\n",
        "response = 'spam'"
      ]
    },
    {
      "cell_type": "markdown",
      "metadata": {
        "id": "NM9Mel-jq6N_"
      },
      "source": [
        "Python possède de nombreuses fonctions et méthodes extrêmement utiles pour les chaînes de caractères ; en voici quelques-unes :"
      ]
    },
    {
      "cell_type": "code",
      "execution_count": null,
      "metadata": {
        "id": "fVtECFjuq6N_",
        "outputId": "97fe6912-7dd2-4a7b-ecf7-ad524e1ccf0a"
      },
      "outputs": [
        {
          "data": {
            "text/plain": [
              "4"
            ]
          },
          "execution_count": 18,
          "metadata": {},
          "output_type": "execute_result"
        }
      ],
      "source": [
        "# length of string\n",
        "len(response)"
      ]
    },
    {
      "cell_type": "code",
      "execution_count": null,
      "metadata": {
        "id": "6EVoD8_gq6OA",
        "outputId": "973504c0-eac9-4f6e-e291-3df3ca983c39"
      },
      "outputs": [
        {
          "data": {
            "text/plain": [
              "'SPAM'"
            ]
          },
          "execution_count": 19,
          "metadata": {},
          "output_type": "execute_result"
        }
      ],
      "source": [
        "# Make upper-case. See also str.lower()\n",
        "response.upper()"
      ]
    },
    {
      "cell_type": "code",
      "execution_count": null,
      "metadata": {
        "id": "CFC0jbq9q6OA",
        "outputId": "5aba550a-f3e7-4a44-bc98-2524edebbf99"
      },
      "outputs": [
        {
          "data": {
            "text/plain": [
              "'What do you like?'"
            ]
          },
          "execution_count": 20,
          "metadata": {},
          "output_type": "execute_result"
        }
      ],
      "source": [
        "# Capitalize. See also str.title()\n",
        "message.capitalize()"
      ]
    },
    {
      "cell_type": "code",
      "execution_count": null,
      "metadata": {
        "id": "xkcMOkLpq6OB",
        "outputId": "57fb5c1f-d379-4701-e47d-c28103e1caea"
      },
      "outputs": [
        {
          "data": {
            "text/plain": [
              "'what do you like?spam'"
            ]
          },
          "execution_count": 21,
          "metadata": {},
          "output_type": "execute_result"
        }
      ],
      "source": [
        "# concatenation with +\n",
        "message + response"
      ]
    },
    {
      "cell_type": "code",
      "execution_count": null,
      "metadata": {
        "id": "hj0aGM8xq6OB",
        "outputId": "454d5ca3-cc55-48df-9f77-b0a40e93e12c"
      },
      "outputs": [
        {
          "data": {
            "text/plain": [
              "'spamspamspamspamspam'"
            ]
          },
          "execution_count": 22,
          "metadata": {},
          "output_type": "execute_result"
        }
      ],
      "source": [
        "# multiplication is multiple concatenation\n",
        "5 * response"
      ]
    },
    {
      "cell_type": "code",
      "execution_count": null,
      "metadata": {
        "id": "Bm4N5RHqq6OC",
        "outputId": "1e01697b-97cb-4fc5-ab53-767a6dec71c2"
      },
      "outputs": [
        {
          "data": {
            "text/plain": [
              "'w'"
            ]
          },
          "execution_count": 23,
          "metadata": {},
          "output_type": "execute_result"
        }
      ],
      "source": [
        "# Access individual characters (zero-based indexing)\n",
        "message[0]"
      ]
    },
    {
      "cell_type": "markdown",
      "metadata": {
        "id": "cvNyEIImq6OD"
      },
      "source": [
        "## Type None\n",
        "Python comprend un type spécial, le ``NoneType``, qui n'a qu'une seule valeur possible : ``None``. Par exemple :"
      ]
    },
    {
      "cell_type": "code",
      "execution_count": null,
      "metadata": {
        "id": "vG-Pyaycq6OE",
        "outputId": "48696957-a14a-4824-b51a-f3b0d1640c0b"
      },
      "outputs": [
        {
          "data": {
            "text/plain": [
              "NoneType"
            ]
          },
          "execution_count": 24,
          "metadata": {},
          "output_type": "execute_result"
        }
      ],
      "source": [
        "type(None)"
      ]
    },
    {
      "cell_type": "markdown",
      "metadata": {
        "id": "zY4JL7aeq6OE"
      },
      "source": [
        "Vous verrez ``None`` utilisé à de nombreux endroits, mais le plus souvent, il est utilisé comme valeur de retour par défaut d'une fonction.\n",
        "Par exemple, la fonction ``print()`` de Python 3 ne renvoie rien, mais nous pouvons quand même récupérer sa valeur :"
      ]
    },
    {
      "cell_type": "code",
      "execution_count": null,
      "metadata": {
        "id": "dVTcY3Olq6OE",
        "outputId": "604bfb55-48fb-44e1-ad30-fa889e976264"
      },
      "outputs": [
        {
          "name": "stdout",
          "output_type": "stream",
          "text": [
            "abc\n"
          ]
        }
      ],
      "source": [
        "return_value = print('abc')"
      ]
    },
    {
      "cell_type": "code",
      "execution_count": null,
      "metadata": {
        "id": "TA9Wxq35q6OF",
        "outputId": "4a9d39ce-09e9-41d4-b181-7ef31f619a54"
      },
      "outputs": [
        {
          "name": "stdout",
          "output_type": "stream",
          "text": [
            "None\n"
          ]
        }
      ],
      "source": [
        "print(return_value)"
      ]
    },
    {
      "cell_type": "markdown",
      "metadata": {
        "id": "uecs0jQlq6OF"
      },
      "source": [
        "De même, toute fonction en Python sans valeur de retour renvoie, en réalité, ``None``."
      ]
    },
    {
      "cell_type": "markdown",
      "metadata": {
        "id": "EEg9KcTUq6OF"
      },
      "source": [
        "## Type booléen\n",
        "Le type booléen est un type simple avec deux valeurs possibles : ``True`` et ``False``, et est retourné par les opérateurs de comparaison discutés précédemment :"
      ]
    },
    {
      "cell_type": "code",
      "execution_count": null,
      "metadata": {
        "id": "YI4JWh0Sq6OF",
        "outputId": "3c9d8cfd-56b7-443f-a401-81a3633092a3"
      },
      "outputs": [
        {
          "data": {
            "text/plain": [
              "True"
            ]
          },
          "execution_count": 27,
          "metadata": {},
          "output_type": "execute_result"
        }
      ],
      "source": [
        "result = (4 < 5)\n",
        "result"
      ]
    },
    {
      "cell_type": "code",
      "execution_count": null,
      "metadata": {
        "id": "AuOrb0l5q6OG",
        "outputId": "99368c81-c859-4e9c-baec-e94394c3c3e4"
      },
      "outputs": [
        {
          "data": {
            "text/plain": [
              "bool"
            ]
          },
          "execution_count": 28,
          "metadata": {},
          "output_type": "execute_result"
        }
      ],
      "source": [
        "type(result)"
      ]
    },
    {
      "cell_type": "markdown",
      "metadata": {
        "id": "eHyeNyApq6OH"
      },
      "source": [
        "Gardez à l'esprit que les valeurs booléennes sont sensibles à la casse : contrairement à d'autres langages, ``True`` et ``False`` doivent être capitalisés !"
      ]
    },
    {
      "cell_type": "code",
      "execution_count": null,
      "metadata": {
        "id": "IuVIyWDkq6OH",
        "outputId": "0e82109e-b05f-4e4a-b64c-b0d3afb54c9c"
      },
      "outputs": [
        {
          "name": "stdout",
          "output_type": "stream",
          "text": [
            "True False\n"
          ]
        }
      ],
      "source": [
        "print(True, False)"
      ]
    },
    {
      "cell_type": "markdown",
      "metadata": {
        "id": "JBV3eVfZq6OI"
      },
      "source": [
        "Les booléens peuvent également être construits à l'aide du constructeur d'objets ``bool()`` : les valeurs de tout autre type peuvent être converties en booléens via des règles prévisibles.\n",
        "Par exemple, tout type numérique est False s'il est égal à zéro, et True sinon :"
      ]
    },
    {
      "cell_type": "code",
      "execution_count": null,
      "metadata": {
        "id": "rj_DzGP3q6OI",
        "outputId": "c2c7f16a-1371-4cc6-8abe-91f8175b0e50"
      },
      "outputs": [
        {
          "data": {
            "text/plain": [
              "True"
            ]
          },
          "execution_count": 30,
          "metadata": {},
          "output_type": "execute_result"
        }
      ],
      "source": [
        "bool(2014)"
      ]
    },
    {
      "cell_type": "code",
      "execution_count": null,
      "metadata": {
        "id": "DNV_9XFbq6OI",
        "outputId": "5ea5a482-5e38-4c7b-84d6-4cbb93b07dcf"
      },
      "outputs": [
        {
          "data": {
            "text/plain": [
              "False"
            ]
          },
          "execution_count": 31,
          "metadata": {},
          "output_type": "execute_result"
        }
      ],
      "source": [
        "bool(0)"
      ]
    },
    {
      "cell_type": "code",
      "execution_count": null,
      "metadata": {
        "id": "-mRwagSfq6OJ",
        "outputId": "5c6d74d9-9e21-4806-cc3a-9ae789aea134"
      },
      "outputs": [
        {
          "data": {
            "text/plain": [
              "True"
            ]
          },
          "execution_count": 32,
          "metadata": {},
          "output_type": "execute_result"
        }
      ],
      "source": [
        "bool(3.1415)"
      ]
    },
    {
      "cell_type": "markdown",
      "metadata": {
        "id": "N8wCeB49q6OJ"
      },
      "source": [
        "La conversion booléenne de ``None`` est toujours False :"
      ]
    },
    {
      "cell_type": "code",
      "execution_count": null,
      "metadata": {
        "id": "AwjOyYq2q6OJ",
        "outputId": "16de8e9b-81ce-45e0-a56f-d0987948c3b5"
      },
      "outputs": [
        {
          "data": {
            "text/plain": [
              "False"
            ]
          },
          "execution_count": 33,
          "metadata": {},
          "output_type": "execute_result"
        }
      ],
      "source": [
        "bool(None)"
      ]
    },
    {
      "cell_type": "markdown",
      "metadata": {
        "id": "KChxscIeq6OJ"
      },
      "source": [
        "Pour les chaînes de caractères, ``bool(s)`` est False pour les chaînes de caractères vides et True sinon :"
      ]
    },
    {
      "cell_type": "code",
      "execution_count": null,
      "metadata": {
        "id": "yCjCwTNpq6OK",
        "outputId": "05787090-f37c-4fec-df82-f2385c2fd649"
      },
      "outputs": [
        {
          "data": {
            "text/plain": [
              "False"
            ]
          },
          "execution_count": 34,
          "metadata": {},
          "output_type": "execute_result"
        }
      ],
      "source": [
        "bool(\"\")"
      ]
    },
    {
      "cell_type": "code",
      "execution_count": null,
      "metadata": {
        "id": "V2AD3_-Dq6OK",
        "outputId": "5b7b4cdc-4ea8-4ee8-ef29-95634b47f462"
      },
      "outputs": [
        {
          "data": {
            "text/plain": [
              "True"
            ]
          },
          "execution_count": 35,
          "metadata": {},
          "output_type": "execute_result"
        }
      ],
      "source": [
        "bool(\"abc\")"
      ]
    },
    {
      "cell_type": "markdown",
      "metadata": {
        "id": "NtYVQp-rq6OK"
      },
      "source": [
        "Pour les séquences, que nous verrons dans la section suivante, la représentation booléenne est Faux pour les séquences vides et Vrai pour toute autre séquence."
      ]
    },
    {
      "cell_type": "code",
      "execution_count": null,
      "metadata": {
        "id": "ACA-MDGeq6OL",
        "outputId": "fbe17b7b-cf86-446c-f9aa-e0d39d92e699"
      },
      "outputs": [
        {
          "data": {
            "text/plain": [
              "True"
            ]
          },
          "execution_count": 36,
          "metadata": {},
          "output_type": "execute_result"
        }
      ],
      "source": [
        "bool([1, 2, 3])"
      ]
    },
    {
      "cell_type": "code",
      "execution_count": null,
      "metadata": {
        "id": "OpscKaW-q6OL",
        "outputId": "115f572b-e3c7-4bbe-9b67-90945aea36f9"
      },
      "outputs": [
        {
          "data": {
            "text/plain": [
              "False"
            ]
          },
          "execution_count": 37,
          "metadata": {},
          "output_type": "execute_result"
        }
      ],
      "source": [
        "bool([])"
      ]
    }
  ],
  "metadata": {
    "anaconda-cloud": {},
    "kernelspec": {
      "display_name": "Python 3",
      "language": "python",
      "name": "python3"
    },
    "language_info": {
      "codemirror_mode": {
        "name": "ipython",
        "version": 3
      },
      "file_extension": ".py",
      "mimetype": "text/x-python",
      "name": "python",
      "nbconvert_exporter": "python",
      "pygments_lexer": "ipython3",
      "version": "3.5.1"
    },
    "colab": {
      "provenance": [],
      "include_colab_link": true
    }
  },
  "nbformat": 4,
  "nbformat_minor": 0
}
