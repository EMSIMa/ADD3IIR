{
  "cells": [
    {
      "cell_type": "markdown",
      "metadata": {
        "id": "16_3tViYk997"
      },
      "source": [
        "# Sémantique de base de Python : Variables et objets"
      ]
    },
    {
      "cell_type": "markdown",
      "metadata": {
        "id": "tVwtoY1Rk9-C"
      },
      "source": [
        "Cette section commence à couvrir la sémantique de base du langage Python.\n",
        "Par opposition à la *syntaxe* abordée dans la section précédente, la *sémantique* d'un langage concerne le sens des énoncés.\n",
        "Comme pour notre discussion sur la syntaxe, nous allons présenter ici quelques-unes des constructions sémantiques essentielles de Python afin de vous donner un meilleur cadre de référence pour comprendre le code dans les sections suivantes.\n",
        "\n",
        "Cette section couvre la sémantique des *variables* et des *objets*, qui sont les principales façons de stocker, de référencer et d'opérer sur les données dans un script Python."
      ]
    },
    {
      "cell_type": "markdown",
      "metadata": {
        "id": "mCTB1cZpk9-F"
      },
      "source": [
        "## Les variables Python sont des pointeurs\n",
        "\n",
        "L'attribution de variables en Python est aussi simple que de placer un nom de variable à gauche du signe égal (``=``) :\n",
        "\n",
        "```python\n",
        "# Assigner 4 à la variable x\n",
        "x = 4\n",
        "```\n",
        "\n",
        "Cela peut sembler simple, mais si vous avez un mauvais modèle mental de ce que fait cette opération, le fonctionnement de Python peut vous sembler déroutant.\n",
        "Nous allons y revenir brièvement ici.\n",
        "\n",
        "Dans de nombreux langages de programmation, les variables sont considérées comme des conteneurs ou des seaux dans lesquels vous placez des données.\n",
        "Ainsi, en C, par exemple, lorsque vous écrivez\n",
        "\n",
        "```C\n",
        "// code C\n",
        "int x = 4 ;\n",
        "```\n",
        "\n",
        "vous définissez essentiellement un \"conteneur mémoire\" nommé \"x\", et vous y placez la valeur \"4\".\n",
        "En Python, par contre, il est préférable de considérer les variables non pas comme des conteneurs mais comme des pointeurs.\n",
        "Ainsi, en Python, lorsque vous écrivez\n",
        "\n",
        "```python\n",
        "x = 4\n",
        "```\n",
        "\n",
        "vous définissez essentiellement un *pointeur* nommé ``x`` qui pointe vers un autre conteneur contenant la valeur ``4``.\n",
        "Notez une conséquence de ceci : parce que les variables Python ne font que pointer vers divers objets, il n'est pas nécessaire de \"déclarer\" la variable, ni même d'exiger que la variable pointe toujours vers des informations du même type !\n",
        "C'est dans ce sens que l'on dit que Python est *dynamiquement typé* : les noms de variables peuvent pointer vers des objets de n'importe quel type.\n",
        "Ainsi, en Python, vous pouvez faire des choses comme ceci :"
      ]
    },
    {
      "cell_type": "code",
      "execution_count": null,
      "metadata": {
        "id": "mFIoFzdQk9-H"
      },
      "outputs": [],
      "source": [
        "x = 1         # x is an integer\n",
        "x = 'hello'   # now x is a string\n",
        "x = [1, 2, 3] # now x is a list"
      ]
    },
    {
      "cell_type": "markdown",
      "metadata": {
        "id": "-Gh83N1dk9-K"
      },
      "source": [
        "Bien que les utilisateurs de langages à typage statique puissent regretter la sécurité de type que procurent des déclarations comme celles que l'on trouve en C,\n",
        "\n",
        "```C\n",
        "int x = 4 ;\n",
        "```\n",
        "\n",
        "ce typage dynamique est l'un des éléments qui rendent Python si rapide à écrire et si facile à lire.\n",
        "\n",
        "Il y a une conséquence de cette approche \"variable comme pointeur\" dont vous devez être conscient.\n",
        "Si nous avons deux noms de variables qui pointent vers le même objet *mutable*, alors changer l'un modifiera l'autre également !\n",
        "Par exemple, créons et modifions une liste :"
      ]
    },
    {
      "cell_type": "code",
      "execution_count": null,
      "metadata": {
        "id": "tczJX8U-k9-L"
      },
      "outputs": [],
      "source": [
        "x = [1, 2, 3]\n",
        "y = x"
      ]
    },
    {
      "cell_type": "markdown",
      "metadata": {
        "id": "v57ud6qUk9-N"
      },
      "source": [
        "Nous avons créé deux variables ``x`` et ``y`` qui pointent toutes deux vers le même objet.\n",
        "De ce fait, si nous modifions la liste via l'un de ses noms, nous verrons que \"l'autre\" liste sera également modifiée :"
      ]
    },
    {
      "cell_type": "code",
      "execution_count": null,
      "metadata": {
        "id": "F1kJ2ZO4k9-Q",
        "outputId": "45f6429f-f223-447e-973d-8e9e863e0a41"
      },
      "outputs": [
        {
          "name": "stdout",
          "output_type": "stream",
          "text": [
            "[1, 2, 3]\n"
          ]
        }
      ],
      "source": [
        "print(y)"
      ]
    },
    {
      "cell_type": "code",
      "execution_count": null,
      "metadata": {
        "id": "j8yRxQf6k9-R",
        "outputId": "acf10a42-3bb4-4288-e9fd-7018bc1595d8"
      },
      "outputs": [
        {
          "name": "stdout",
          "output_type": "stream",
          "text": [
            "[1, 2, 3, 4]\n"
          ]
        }
      ],
      "source": [
        "x.append(4) # append 4 to the list pointed to by x\n",
        "print(y) # y's list is modified as well!"
      ]
    },
    {
      "cell_type": "markdown",
      "metadata": {
        "id": "ev8GyTRmk9-T"
      },
      "source": [
        "Ce comportement peut sembler déroutant si vous considérez, à tort, les variables comme des réservoirs contenant des données.\n",
        "Mais si vous considérez correctement les variables comme des pointeurs vers des objets, alors ce comportement est logique.\n",
        "\n",
        "Notez également que si nous utilisons \"``=``\" pour affecter une autre valeur à ``x``, cela n'affectera pas la valeur de ``y`` - l'affectation est simplement un changement de l'objet vers lequel la variable pointe :"
      ]
    },
    {
      "cell_type": "code",
      "execution_count": null,
      "metadata": {
        "id": "n0ViTy5tk9-U",
        "outputId": "17c8941d-f605-446c-a03a-a1231add93b4"
      },
      "outputs": [
        {
          "name": "stdout",
          "output_type": "stream",
          "text": [
            "[1, 2, 3, 4]\n"
          ]
        }
      ],
      "source": [
        "x = 'something else'\n",
        "print(y)  # y is unchanged"
      ]
    },
    {
      "cell_type": "markdown",
      "metadata": {
        "id": "NkfiYDoEk9-V"
      },
      "source": [
        "Encore une fois, cela est parfaitement logique si vous considérez ``x`` et ``y`` comme des pointeurs, et l'opérateur ``=`` comme une opération qui change ce vers quoi le nom pointe.\n",
        "\n",
        "Vous pouvez vous demander si cette idée de pointeur rend les opérations arithmétiques en Python difficiles à suivre, mais Python est configuré de telle sorte que ce n'est pas un problème. Les nombres, les chaînes de caractères et les autres *types simples* sont immuables : vous ne pouvez pas changer leur valeur - vous pouvez seulement changer les valeurs vers lesquelles les variables pointent.\n",
        "Ainsi, par exemple, il est parfaitement sûr de faire des opérations comme les suivantes :"
      ]
    },
    {
      "cell_type": "code",
      "execution_count": null,
      "metadata": {
        "id": "SN1KICoik9-V",
        "outputId": "8b8a8756-5934-44fc-d833-e7bbd11ad50c"
      },
      "outputs": [
        {
          "name": "stdout",
          "output_type": "stream",
          "text": [
            "x = 15\n",
            "y = 10\n"
          ]
        }
      ],
      "source": [
        "x = 10\n",
        "y = x\n",
        "x += 5  # add 5 to x's value, and assign it to x\n",
        "print(\"x =\", x)\n",
        "print(\"y =\", y)"
      ]
    },
    {
      "cell_type": "markdown",
      "metadata": {
        "id": "hWVw4Y_rk9-W"
      },
      "source": [
        "Lorsque nous appelons ``x += 5 ``, nous ne modifions pas la valeur de l'objet ``10`` pointé par ``x`` ; nous changeons plutôt la variable ``x`` pour qu'elle pointe vers un nouvel objet entier de valeur ``15``.\n",
        "Pour cette raison, la valeur de ``y`` n'est pas affectée par l'opération."
      ]
    },
    {
      "cell_type": "markdown",
      "metadata": {
        "id": "kgclQH7yk9-X"
      },
      "source": [
        "## Tout est un objet\n",
        "\n",
        "Python est un langage de programmation orienté objet, et en Python tout est objet.\n",
        "\n",
        "Expliquons ce que cela signifie. Plus tôt, nous avons vu que les variables sont simplement des pointeurs, et que les noms de variables eux-mêmes n'ont aucune information de type.\n",
        "Cela conduit certains à affirmer à tort que Python est un langage sans type. Mais ce n'est pas le cas !\n",
        "Considérons ce qui suit :"
      ]
    },
    {
      "cell_type": "code",
      "execution_count": null,
      "metadata": {
        "id": "T9SbE94yk9-Y",
        "outputId": "53cce109-636a-486b-8b1b-699bf6a2dc7c"
      },
      "outputs": [
        {
          "data": {
            "text/plain": [
              "int"
            ]
          },
          "execution_count": 7,
          "metadata": {},
          "output_type": "execute_result"
        }
      ],
      "source": [
        "x = 4\n",
        "type(x)"
      ]
    },
    {
      "cell_type": "code",
      "execution_count": null,
      "metadata": {
        "id": "HbaQg5qNk9-Z",
        "outputId": "50f7aec1-7549-4647-e8d5-7efae766f7e5"
      },
      "outputs": [
        {
          "data": {
            "text/plain": [
              "str"
            ]
          },
          "execution_count": 8,
          "metadata": {},
          "output_type": "execute_result"
        }
      ],
      "source": [
        "x = 'hello'\n",
        "type(x)"
      ]
    },
    {
      "cell_type": "code",
      "execution_count": null,
      "metadata": {
        "id": "qs8SvMQhk9-b",
        "outputId": "03c3e27e-3060-4765-adbb-e8120775c9dc"
      },
      "outputs": [
        {
          "data": {
            "text/plain": [
              "float"
            ]
          },
          "execution_count": 9,
          "metadata": {},
          "output_type": "execute_result"
        }
      ],
      "source": [
        "x = 3.14159\n",
        "type(x)"
      ]
    },
    {
      "cell_type": "markdown",
      "metadata": {
        "id": "N9RnBgi0k9-b"
      },
      "source": [
        "Python possède des types ; cependant, les types ne sont pas liés aux noms des variables mais *aux objets eux-mêmes*.\n",
        "\n",
        "Dans les langages de programmation orientés objet comme Python, un *objet* est une entité qui contient des données ainsi que des métadonnées et/ou des fonctionnalités associées.\n",
        "En Python, tout est un objet, ce qui signifie que chaque entité possède des métadonnées (appelées *attributs*) et des fonctionnalités associées (appelées *méthodes*).\n",
        "Ces attributs et méthodes sont accessibles via la syntaxe dot.\n",
        "\n",
        "Par exemple, nous avons vu précédemment que les listes ont une méthode \"append\", qui ajoute un élément à la liste, et à laquelle on accède via la syntaxe point (\"``.``\") :"
      ]
    },
    {
      "cell_type": "code",
      "execution_count": null,
      "metadata": {
        "id": "BvLoZzhUk9-c",
        "outputId": "f494ae6b-9da1-418e-a1af-5a4d244b5780"
      },
      "outputs": [
        {
          "name": "stdout",
          "output_type": "stream",
          "text": [
            "[1, 2, 3, 100]\n"
          ]
        }
      ],
      "source": [
        "L = [1, 2, 3]\n",
        "L.append(100)\n",
        "print(L)"
      ]
    },
    {
      "cell_type": "markdown",
      "metadata": {
        "id": "QCN2uOeFk9-d"
      },
      "source": [
        "Alors que l'on pourrait s'attendre à ce que des objets composés comme les listes aient des attributs et des méthodes, ce qui est parfois inattendu, c'est qu'en Python, même les types simples ont des attributs et des méthodes attachés.\n",
        "Par exemple, les types numériques ont un attribut \"réel\" et \"imaginaire\" qui renvoie la partie réelle et imaginaire de la valeur, si elle est vue comme un nombre complexe :"
      ]
    },
    {
      "cell_type": "code",
      "execution_count": null,
      "metadata": {
        "id": "4VbkMBogk9-d",
        "outputId": "dd9d9e8a-5d93-4379-e198-83f4ef72036e"
      },
      "outputs": [
        {
          "name": "stdout",
          "output_type": "stream",
          "text": [
            "4.5 + 0.0 i\n"
          ]
        }
      ],
      "source": [
        "x = 4.5\n",
        "print(x.real, \"+\", x.imag, 'i')"
      ]
    },
    {
      "cell_type": "markdown",
      "metadata": {
        "id": "xhlTKj0Rk9-e"
      },
      "source": [
        "Les méthodes sont comme les attributs, sauf qu'elles sont des fonctions que vous pouvez appeler en utilisant des parenthèses ouvrantes et fermantes.\n",
        "Par exemple, les nombres à virgule flottante ont une méthode appelée \"is_integer\" qui vérifie si la valeur est un nombre entier :"
      ]
    },
    {
      "cell_type": "code",
      "execution_count": null,
      "metadata": {
        "id": "30Gxq87qk9-e",
        "outputId": "01558f57-c5af-4bd5-d554-63c42b4c93dc"
      },
      "outputs": [
        {
          "data": {
            "text/plain": [
              "False"
            ]
          },
          "execution_count": 12,
          "metadata": {},
          "output_type": "execute_result"
        }
      ],
      "source": [
        "x = 4.5\n",
        "x.is_integer()"
      ]
    },
    {
      "cell_type": "code",
      "execution_count": null,
      "metadata": {
        "id": "KPHeW4AMk9-f",
        "outputId": "8b6785a5-ba77-4bee-e246-c18dcebf4c9b"
      },
      "outputs": [
        {
          "data": {
            "text/plain": [
              "True"
            ]
          },
          "execution_count": 13,
          "metadata": {},
          "output_type": "execute_result"
        }
      ],
      "source": [
        "x = 4.0\n",
        "x.is_integer()"
      ]
    },
    {
      "cell_type": "markdown",
      "metadata": {
        "id": "KgziHRGLk9-f"
      },
      "source": [
        "Quand nous disons que tout en Python est un objet, nous entendons vraiment que *tout* est un objet - même les attributs et les méthodes des objets sont eux-mêmes des objets avec leurs propres informations de \"type\" :"
      ]
    },
    {
      "cell_type": "code",
      "execution_count": null,
      "metadata": {
        "id": "cFN6geBzk9-f",
        "outputId": "f7c34b9f-6ab9-4378-cdc1-d9ad59b3512f"
      },
      "outputs": [
        {
          "data": {
            "text/plain": [
              "builtin_function_or_method"
            ]
          },
          "execution_count": 14,
          "metadata": {},
          "output_type": "execute_result"
        }
      ],
      "source": [
        "type(x.is_integer)"
      ]
    },
    {
      "cell_type": "markdown",
      "metadata": {
        "id": "AXk_nbUhk9-g"
      },
      "source": [
        "Nous verrons que le choix de conception de Python, où tout est objet, permet des constructions de langage très pratiques."
      ]
    }
  ],
  "metadata": {
    "anaconda-cloud": {},
    "kernelspec": {
      "display_name": "Python 3",
      "language": "python",
      "name": "python3"
    },
    "language_info": {
      "codemirror_mode": {
        "name": "ipython",
        "version": 3
      },
      "file_extension": ".py",
      "mimetype": "text/x-python",
      "name": "python",
      "nbconvert_exporter": "python",
      "pygments_lexer": "ipython3",
      "version": "3.5.1"
    },
    "colab": {
      "provenance": []
    }
  },
  "nbformat": 4,
  "nbformat_minor": 0
}
