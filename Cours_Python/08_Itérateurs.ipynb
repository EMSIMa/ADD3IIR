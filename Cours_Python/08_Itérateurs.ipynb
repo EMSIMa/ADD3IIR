{
  "cells": [
    {
      "cell_type": "markdown",
      "metadata": {
        "id": "view-in-github",
        "colab_type": "text"
      },
      "source": [
        "<a href=\"https://colab.research.google.com/github/EMSIMa/ADD3IIR/blob/main/08_It%C3%A9rateurs.ipynb\" target=\"_parent\"><img src=\"https://colab.research.google.com/assets/colab-badge.svg\" alt=\"Open In Colab\"/></a>"
      ]
    },
    {
      "cell_type": "markdown",
      "metadata": {
        "id": "g0zPK3v-6cIL"
      },
      "source": [
        "# Itérateurs"
      ]
    },
    {
      "cell_type": "markdown",
      "metadata": {
        "id": "oQcKyv2C6cIM"
      },
      "source": [
        "Souvent, un élément important de l'analyse des données consiste à répéter un calcul similaire, encore et encore, de manière automatisée.\n",
        "Par exemple, vous pouvez avoir un tableau de noms que vous aimeriez diviser en prénom et nom de famille, ou peut-être des dates que vous aimeriez convertir dans un format standard.\n",
        "L'une des réponses de Python à ce problème est la syntaxe *iterator*.\n",
        "Nous l'avons déjà vu avec l'itérateur ``range`` :"
      ]
    },
    {
      "cell_type": "code",
      "execution_count": null,
      "metadata": {
        "id": "uIw3VKWj6cIO",
        "outputId": "dd92630a-199e-44ae-97bb-c2dc0313b403"
      },
      "outputs": [
        {
          "name": "stdout",
          "output_type": "stream",
          "text": [
            "0 1 2 3 4 5 6 7 8 9 "
          ]
        }
      ],
      "source": [
        "for i in range(10):\n",
        "    print(i, end=' ')"
      ]
    },
    {
      "cell_type": "markdown",
      "metadata": {
        "id": "5vKwXuD56cIR"
      },
      "source": [
        "Ici, nous allons creuser un peu plus loin.\n",
        "Il s'avère que dans Python 3, ``range`` n'est pas une liste, mais quelque chose appelé *iterator*, et apprendre comment il fonctionne est la clé pour comprendre une large classe de fonctionnalités très utiles de Python."
      ]
    },
    {
      "cell_type": "markdown",
      "metadata": {
        "id": "8clwszNr6cIS"
      },
      "source": [
        "## Itérer sur des listes\n",
        "Les itérateurs sont peut-être plus faciles à comprendre dans le cas concret de l'itération sur une liste.\n",
        "Considérons ce qui suit :"
      ]
    },
    {
      "cell_type": "code",
      "execution_count": null,
      "metadata": {
        "id": "gec6X78c6cIT",
        "outputId": "89523bd0-6ad7-422b-bba4-73d196a621c3"
      },
      "outputs": [
        {
          "name": "stdout",
          "output_type": "stream",
          "text": [
            "3 5 7 9 11 "
          ]
        }
      ],
      "source": [
        "for value in [2, 4, 6, 8, 10]:\n",
        "    # do some operation\n",
        "    print(value + 1, end=' ')"
      ]
    },
    {
      "cell_type": "markdown",
      "metadata": {
        "id": "M8I_xA9m6cIW"
      },
      "source": [
        "La syntaxe familière \" ``for x in y`` \" nous permet de répéter une opération pour chaque valeur de la liste.\n",
        "Le fait que la syntaxe du code soit si proche de sa description en anglais (\"*for [each] value in [the] list*\") n'est qu'un des choix syntaxiques qui font de Python un langage si intuitif à apprendre et à utiliser.\n",
        "\n",
        "Mais ce n'est pas le comportement qui se produit *réellement*.\n",
        "Quand vous écrivez quelque chose comme ``for val in L``, l'interpréteur Python vérifie s'il a une interface *iterator*, ce que vous pouvez vérifier vous-même avec la fonction intégrée ``iter`` :"
      ]
    },
    {
      "cell_type": "code",
      "execution_count": null,
      "metadata": {
        "id": "ztgETK8b6cIZ",
        "outputId": "1d06fa71-b575-48e3-cc2e-717fdc3f419e"
      },
      "outputs": [
        {
          "data": {
            "text/plain": [
              "<list_iterator at 0x104722400>"
            ]
          },
          "execution_count": 3,
          "metadata": {},
          "output_type": "execute_result"
        }
      ],
      "source": [
        "iter([2, 4, 6, 8, 10])"
      ]
    },
    {
      "cell_type": "markdown",
      "metadata": {
        "id": "gvEQCk6q6cIb"
      },
      "source": [
        "C'est cet objet iterator qui fournit la fonctionnalité requise par la boucle ``for``.\n",
        "L'objet ``iter`` est un conteneur qui vous donne accès à l'objet suivant tant qu'il est valide, ce qui peut être vu avec la fonction intégrée ``next`` :"
      ]
    },
    {
      "cell_type": "code",
      "execution_count": null,
      "metadata": {
        "collapsed": true,
        "id": "w29yLn9d6cId"
      },
      "outputs": [],
      "source": [
        "I = iter([2, 4, 6, 8, 10])"
      ]
    },
    {
      "cell_type": "code",
      "execution_count": null,
      "metadata": {
        "id": "jxkkFUXI6cIe",
        "outputId": "78602bfd-8055-4940-b07e-f4f4a262e0da"
      },
      "outputs": [
        {
          "name": "stdout",
          "output_type": "stream",
          "text": [
            "2\n"
          ]
        }
      ],
      "source": [
        "print(next(I))"
      ]
    },
    {
      "cell_type": "code",
      "execution_count": null,
      "metadata": {
        "id": "JFPwv5Td6cIf",
        "outputId": "2cc2adae-b84f-42e3-f1cc-91ec79e97573"
      },
      "outputs": [
        {
          "name": "stdout",
          "output_type": "stream",
          "text": [
            "4\n"
          ]
        }
      ],
      "source": [
        "print(next(I))"
      ]
    },
    {
      "cell_type": "code",
      "execution_count": null,
      "metadata": {
        "id": "kTdTsHcl6cIf",
        "outputId": "f49157b3-d5c2-4103-c562-66ad5c86471a"
      },
      "outputs": [
        {
          "name": "stdout",
          "output_type": "stream",
          "text": [
            "6\n"
          ]
        }
      ],
      "source": [
        "print(next(I))"
      ]
    },
    {
      "cell_type": "markdown",
      "metadata": {
        "id": "4LWApzV56cIg"
      },
      "source": [
        "Quel est le but de ce niveau d'indirection ?\n",
        "Eh bien, il s'avère que c'est incroyablement utile, parce que cela permet à Python de traiter les choses comme des listes alors qu'elles ne sont *pas réellement des listes*."
      ]
    },
    {
      "cell_type": "markdown",
      "metadata": {
        "id": "cgv7pWUb6cIi"
      },
      "source": [
        "## ``range()`` : Une liste n'est pas toujours une liste\n",
        "L'exemple le plus courant de cette itération indirecte est peut-être la fonction ``range()``, qui renvoie non pas une liste, mais un objet spécial ``range()`` :"
      ]
    },
    {
      "cell_type": "code",
      "execution_count": null,
      "metadata": {
        "id": "amJCR2v86cIj",
        "outputId": "aae8eef5-7235-4dc4-8913-c62c4dfde533"
      },
      "outputs": [
        {
          "data": {
            "text/plain": [
              "range(0, 10)"
            ]
          },
          "execution_count": 8,
          "metadata": {},
          "output_type": "execute_result"
        }
      ],
      "source": [
        "range(10)"
      ]
    },
    {
      "cell_type": "markdown",
      "metadata": {
        "id": "6xFBl0aO6cIk"
      },
      "source": [
        "``range``, comme une liste, expose un itérateur :"
      ]
    },
    {
      "cell_type": "code",
      "execution_count": null,
      "metadata": {
        "id": "Rrzjktak6cIm",
        "outputId": "50bb61e9-fd6d-4aab-a8f2-aece0e5e57ea"
      },
      "outputs": [
        {
          "data": {
            "text/plain": [
              "<range_iterator at 0x1045a1810>"
            ]
          },
          "execution_count": 9,
          "metadata": {},
          "output_type": "execute_result"
        }
      ],
      "source": [
        "iter(range(10))"
      ]
    },
    {
      "cell_type": "markdown",
      "metadata": {
        "id": "1RrysJlX6cIn"
      },
      "source": [
        "Python sait donc qu'il faut le traiter *comme si* il s'agissait d'une liste :"
      ]
    },
    {
      "cell_type": "code",
      "execution_count": null,
      "metadata": {
        "id": "VEERnBzB6cIn",
        "outputId": "355c0ff8-591f-4e22-bd95-9efd0a4f1b4f"
      },
      "outputs": [
        {
          "name": "stdout",
          "output_type": "stream",
          "text": [
            "0 1 2 3 4 5 6 7 8 9 "
          ]
        }
      ],
      "source": [
        "for i in range(10):\n",
        "    print(i, end=' ')"
      ]
    },
    {
      "cell_type": "markdown",
      "metadata": {
        "id": "68U1DT2C6cIo"
      },
      "source": [
        "L'avantage de l'indirection de l'itérateur est que *la liste complète n'est jamais explicitement créée !*\n",
        "Pour s'en convaincre, il suffit d'effectuer un calcul de plage qui saturerait la mémoire de notre système si nous l'instancions réellement "
      ]
    },
    {
      "cell_type": "code",
      "execution_count": null,
      "metadata": {
        "id": "XpWSq3Nr6cIp",
        "outputId": "56053cb4-b633-4506-d88f-a833c6e72788"
      },
      "outputs": [
        {
          "name": "stdout",
          "output_type": "stream",
          "text": [
            "0, 1, 2, 3, 4, 5, 6, 7, 8, 9, "
          ]
        }
      ],
      "source": [
        "N = 10 ** 12\n",
        "for i in range(N):\n",
        "    if i >= 10: break\n",
        "    print(i, end=', ')"
      ]
    },
    {
      "cell_type": "markdown",
      "metadata": {
        "id": "sqCtLHwW6cIq"
      },
      "source": [
        "Si ``range`` devait réellement créer cette liste de mille milliards de valeurs, elle occuperait des dizaines de téraoctets de mémoire machine : un gaspillage, étant donné que nous ignorons toutes les valeurs sauf les 10 premières !\n",
        "\n",
        "En fait, il n'y a aucune raison pour que les itérateurs se terminent !\n",
        "La bibliothèque ``itertools`` de Python contient une fonction ``count`` qui agit comme une plage infinie :"
      ]
    },
    {
      "cell_type": "code",
      "execution_count": null,
      "metadata": {
        "id": "3328HOzQ6cIq",
        "outputId": "2e2d881c-f5f9-4d84-bc85-6da818a89585"
      },
      "outputs": [
        {
          "name": "stdout",
          "output_type": "stream",
          "text": [
            "0, 1, 2, 3, 4, 5, 6, 7, 8, 9, "
          ]
        }
      ],
      "source": [
        "from itertools import count\n",
        "\n",
        "for i in count():\n",
        "    if i >= 10:\n",
        "        break\n",
        "    print(i, end=', ')"
      ]
    },
    {
      "cell_type": "markdown",
      "metadata": {
        "id": "q75Fn9CQ6cIs"
      },
      "source": [
        "Si nous n'avions pas introduit une interruption de boucle ici, le processus continuerait à compter joyeusement jusqu'à ce qu'il soit interrompu manuellement ou tué (en utilisant, par exemple, ``ctrl-C``)."
      ]
    },
    {
      "cell_type": "markdown",
      "metadata": {
        "id": "ntxT0HXE6cIs"
      },
      "source": [
        "## Itérateurs utiles\n",
        "Cette syntaxe d'itérateur est utilisée presque universellement dans les types intégrés de Python ainsi que dans les objets plus spécifiques à la science des données que nous explorerons dans les sections suivantes.\n",
        "Nous aborderons ici quelques-uns des itérateurs les plus utiles du langage Python :"
      ]
    },
    {
      "cell_type": "markdown",
      "metadata": {
        "id": "K2teTigw6cIt"
      },
      "source": [
        "### ``enumerate``\n",
        "Il est souvent nécessaire d'itérer non seulement les valeurs d'un tableau, mais aussi de garder une trace de l'index.\n",
        "Vous pourriez être tenté de faire les choses de cette façon :"
      ]
    },
    {
      "cell_type": "code",
      "execution_count": null,
      "metadata": {
        "id": "a7JXKGvT6cIt",
        "outputId": "8b994865-bd4a-455d-fbdf-a77401b1d195"
      },
      "outputs": [
        {
          "name": "stdout",
          "output_type": "stream",
          "text": [
            "0 2\n",
            "1 4\n",
            "2 6\n",
            "3 8\n",
            "4 10\n"
          ]
        }
      ],
      "source": [
        "L = [2, 4, 6, 8, 10]\n",
        "for i in range(len(L)):\n",
        "    print(i, L[i])"
      ]
    },
    {
      "cell_type": "markdown",
      "metadata": {
        "id": "7o_rcZLR6cIu"
      },
      "source": [
        "Bien que cela fonctionne, Python fournit une syntaxe plus propre en utilisant l'itérateur ``enumerate`` :"
      ]
    },
    {
      "cell_type": "code",
      "execution_count": null,
      "metadata": {
        "id": "97_LQHAJ6cIv",
        "outputId": "da26b0a8-7383-40b4-9556-71726f7eb86e"
      },
      "outputs": [
        {
          "name": "stdout",
          "output_type": "stream",
          "text": [
            "0 2\n",
            "1 4\n",
            "2 6\n",
            "3 8\n",
            "4 10\n"
          ]
        }
      ],
      "source": [
        "for i, val in enumerate(L):\n",
        "    print(i, val)"
      ]
    },
    {
      "cell_type": "markdown",
      "metadata": {
        "id": "2eL_1rtp6cIv"
      },
      "source": [
        "C'est la façon la plus \"pythonique\" d'énumérer les indices et les valeurs d'une liste."
      ]
    },
    {
      "cell_type": "markdown",
      "metadata": {
        "id": "dvea6iRk6cIw"
      },
      "source": [
        "### ``Zip``\n",
        "Dans d'autres cas, vous pouvez avoir plusieurs listes sur lesquelles vous voulez itérer simultanément.\n",
        "Vous pourriez certainement itérer sur l'index comme dans l'exemple non pythonique que nous avons vu précédemment, mais il est préférable d'utiliser l'itérateur ``zip``, qui regroupe les itérables :"
      ]
    },
    {
      "cell_type": "code",
      "execution_count": null,
      "metadata": {
        "id": "Iw482L9w6cIw",
        "outputId": "b69f5c45-9341-4c96-8ea8-51a4cc9bac24"
      },
      "outputs": [
        {
          "name": "stdout",
          "output_type": "stream",
          "text": [
            "2 3\n",
            "4 6\n",
            "6 9\n",
            "8 12\n",
            "10 15\n"
          ]
        }
      ],
      "source": [
        "L = [2, 4, 6, 8, 10]\n",
        "R = [3, 6, 9, 12, 15]\n",
        "for lval, rval in zip(L, R):\n",
        "    print(lval, rval)"
      ]
    },
    {
      "cell_type": "markdown",
      "metadata": {
        "id": "1YIaWm8P6cIw"
      },
      "source": [
        "N'importe quel nombre d'itérables peut être zippé ensemble, et s'ils sont de longueurs différentes, le plus court déterminera la longueur du ``zip``."
      ]
    },
    {
      "cell_type": "markdown",
      "metadata": {
        "id": "-McrB90G6cIy"
      },
      "source": [
        "### ``map`` et ``filter``\n",
        "L'itérateur ``map`` prend une fonction et l'applique aux valeurs de l'itérateur :"
      ]
    },
    {
      "cell_type": "code",
      "execution_count": null,
      "metadata": {
        "id": "Ctn89YTL6cIy",
        "outputId": "232fb845-1225-4b48-c681-8bf0bf3785a9"
      },
      "outputs": [
        {
          "name": "stdout",
          "output_type": "stream",
          "text": [
            "0 1 4 9 16 25 36 49 64 81 "
          ]
        }
      ],
      "source": [
        "# find the first 10 square numbers\n",
        "square = lambda x: x ** 2\n",
        "for val in map(square, range(10)):\n",
        "    print(val, end=' ')"
      ]
    },
    {
      "cell_type": "markdown",
      "metadata": {
        "id": "ORg33SP56cIy"
      },
      "source": [
        "L'itérateur ``filter`` est similaire, sauf qu'il ne passe que les valeurs pour lesquelles la fonction de filtrage est évaluée à True :"
      ]
    },
    {
      "cell_type": "code",
      "execution_count": null,
      "metadata": {
        "id": "MNNzWnYj6cIz",
        "outputId": "656a5af4-bedd-457f-cb85-12a6fb99bc7f"
      },
      "outputs": [
        {
          "name": "stdout",
          "output_type": "stream",
          "text": [
            "0 2 4 6 8 "
          ]
        }
      ],
      "source": [
        "# find values up to 10 for which x % 2 is zero\n",
        "is_even = lambda x: x % 2 == 0\n",
        "for val in filter(is_even, range(10)):\n",
        "    print(val, end=' ')"
      ]
    },
    {
      "cell_type": "markdown",
      "metadata": {
        "id": "jFIFXcGG6cI0"
      },
      "source": [
        "Les fonctions ``map`` et ``filter``, ainsi que la fonction ``reduce`` (qui se trouve dans le module ``functools`` de Python) sont des composants fondamentaux du style de *programmation fonctionnelle*, qui, bien qu'il ne s'agisse pas d'un style de programmation dominant dans le monde Python, a ses fervents partisans (voir, par exemple, la bibliothèque [pytoolz](https://toolz.readthedocs.org/en/latest/))."
      ]
    },
    {
      "cell_type": "markdown",
      "metadata": {
        "id": "coq4_Yi16cI0"
      },
      "source": [
        "### Les itérateurs comme arguments de fonction\n",
        "\n",
        "Nous avons vu que ``*args`` et ``**kwargs`` peuvent être utilisés pour passer des séquences et des dictionnaires aux fonctions.\n",
        "Il s'avère que la syntaxe ``*args`` ne fonctionne pas seulement avec les séquences, mais avec n'importe quel itérateur :"
      ]
    },
    {
      "cell_type": "code",
      "execution_count": null,
      "metadata": {
        "id": "4LSC2Ktf6cI0",
        "outputId": "103fd98b-2236-4a34-e188-08a3557895b1"
      },
      "outputs": [
        {
          "name": "stdout",
          "output_type": "stream",
          "text": [
            "0 1 2 3 4 5 6 7 8 9\n"
          ]
        }
      ],
      "source": [
        "print(*range(10))"
      ]
    },
    {
      "cell_type": "markdown",
      "metadata": {
        "id": "R32uNEJr6cI2"
      },
      "source": [
        "Ainsi, par exemple, nous pouvons comprimer l'exemple ``map`` de tout à l'heure en ce qui suit :"
      ]
    },
    {
      "cell_type": "code",
      "execution_count": null,
      "metadata": {
        "id": "3UYebdvn6cI2",
        "outputId": "e95eea91-3bbb-49d6-d300-544980a11925"
      },
      "outputs": [
        {
          "name": "stdout",
          "output_type": "stream",
          "text": [
            "0 1 4 9 16 25 36 49 64 81\n"
          ]
        }
      ],
      "source": [
        "print(*map(lambda x: x ** 2, range(10)))"
      ]
    },
    {
      "cell_type": "markdown",
      "metadata": {
        "id": "_ypZ5E-96cI4"
      },
      "source": [
        "L'utilisation de cette astuce nous permet de répondre à l'éternelle question qui revient dans les forums d'apprenants de Python : pourquoi n'y a-t-il pas de fonction ``unzip()`` qui fait le contraire de ``zip()`` ?\n",
        "Si vous vous enfermez dans un placard et que vous y réfléchissez un peu, vous pourriez réaliser que le contraire de ``zip()`` est... ``zip()`` ! La clé est que ``zip()`` peut rassembler n'importe quel nombre d'itérateurs ou de séquences. Observez :"
      ]
    },
    {
      "cell_type": "code",
      "execution_count": null,
      "metadata": {
        "collapsed": true,
        "id": "ilhwoQxB6cI5"
      },
      "outputs": [],
      "source": [
        "L1 = (1, 2, 3, 4)\n",
        "L2 = ('a', 'b', 'c', 'd')"
      ]
    },
    {
      "cell_type": "code",
      "execution_count": null,
      "metadata": {
        "id": "hhLrn7VN6cI5",
        "outputId": "53b25deb-d29a-4df8-c815-2f0e6a00e6f4"
      },
      "outputs": [
        {
          "name": "stdout",
          "output_type": "stream",
          "text": [
            "(1, 'a') (2, 'b') (3, 'c') (4, 'd')\n"
          ]
        }
      ],
      "source": [
        "z = zip(L1, L2)\n",
        "print(*z)"
      ]
    },
    {
      "cell_type": "code",
      "execution_count": null,
      "metadata": {
        "id": "I8YciktB6cI6",
        "outputId": "41cac1f7-37da-489b-caff-65697e0a0423"
      },
      "outputs": [
        {
          "name": "stdout",
          "output_type": "stream",
          "text": [
            "(1, 2, 3, 4) ('a', 'b', 'c', 'd')\n"
          ]
        }
      ],
      "source": [
        "z = zip(L1, L2)\n",
        "new_L1, new_L2 = zip(*z)\n",
        "print(new_L1, new_L2)"
      ]
    },
    {
      "cell_type": "markdown",
      "metadata": {
        "id": "8yakLzJN6cI6"
      },
      "source": [
        "Réfléchissez un peu. Si vous comprenez pourquoi cela fonctionne, vous aurez fait un grand pas dans la compréhension des itérateurs Python !"
      ]
    },
    {
      "cell_type": "markdown",
      "metadata": {
        "id": "Kx-69HfY6cI7"
      },
      "source": [
        "## Les itérateurs spécialisés : ``itertools``\n",
        "\n",
        "Nous avons brièvement regardé l'itérateur infini ``range``, ``itertools.count``.\n",
        "Le module ``itertools`` contient un grand nombre d'itérateurs utiles ; cela vaut la peine d'explorer le module pour voir ce qui est disponible.\n",
        "A titre d'exemple, considérons la fonction ``itertools.permutations``, qui itère sur toutes les permutations d'une séquence :"
      ]
    },
    {
      "cell_type": "code",
      "execution_count": null,
      "metadata": {
        "id": "jxHCaCor6cI7",
        "outputId": "597f8938-8b5b-4708-82d7-899716b9bff6"
      },
      "outputs": [
        {
          "name": "stdout",
          "output_type": "stream",
          "text": [
            "(0, 1, 2) (0, 2, 1) (1, 0, 2) (1, 2, 0) (2, 0, 1) (2, 1, 0)\n"
          ]
        }
      ],
      "source": [
        "from itertools import permutations\n",
        "p = permutations(range(3))\n",
        "print(*p)"
      ]
    },
    {
      "cell_type": "markdown",
      "metadata": {
        "id": "QIpuz8hK6cI8"
      },
      "source": [
        "De même, la fonction ``itertools.combinations`` itère sur toutes les combinaisons uniques de ``N`` valeurs dans une liste :"
      ]
    },
    {
      "cell_type": "code",
      "execution_count": null,
      "metadata": {
        "id": "xIkc8tAd6cI8",
        "outputId": "34c8f885-c90c-473f-cd71-f007267cd3b3"
      },
      "outputs": [
        {
          "name": "stdout",
          "output_type": "stream",
          "text": [
            "(0, 1) (0, 2) (0, 3) (1, 2) (1, 3) (2, 3)\n"
          ]
        }
      ],
      "source": [
        "from itertools import combinations\n",
        "c = combinations(range(4), 2)\n",
        "print(*c)"
      ]
    },
    {
      "cell_type": "markdown",
      "metadata": {
        "id": "sLewH-F96cI9"
      },
      "source": [
        "L'itérateur ``produit``, qui itère sur tous les ensembles de paires entre deux ou plusieurs itérables, joue un rôle similaire :"
      ]
    },
    {
      "cell_type": "code",
      "execution_count": null,
      "metadata": {
        "id": "-55ytLeP6cI-",
        "outputId": "7d2e0f89-3416-4f3a-9931-dffee876cfb3"
      },
      "outputs": [
        {
          "name": "stdout",
          "output_type": "stream",
          "text": [
            "('a', 0) ('a', 1) ('a', 2) ('b', 0) ('b', 1) ('b', 2)\n"
          ]
        }
      ],
      "source": [
        "from itertools import product\n",
        "p = product('ab', range(3))\n",
        "print(*p)"
      ]
    },
    {
      "cell_type": "markdown",
      "metadata": {
        "id": "RGYrI3re6cI-"
      },
      "source": [
        "De nombreux autres itérateurs utiles existent dans ``itertools`` : la liste complète peut être trouvée, avec quelques exemples, dans la [documentation en ligne](https://docs.python.org/3.5/library/itertools.html)."
      ]
    }
  ],
  "metadata": {
    "anaconda-cloud": {},
    "kernelspec": {
      "display_name": "Python 3",
      "language": "python",
      "name": "python3"
    },
    "language_info": {
      "codemirror_mode": {
        "name": "ipython",
        "version": 3
      },
      "file_extension": ".py",
      "mimetype": "text/x-python",
      "name": "python",
      "nbconvert_exporter": "python",
      "pygments_lexer": "ipython3",
      "version": "3.5.1"
    },
    "colab": {
      "provenance": [],
      "include_colab_link": true
    }
  },
  "nbformat": 4,
  "nbformat_minor": 0
}
