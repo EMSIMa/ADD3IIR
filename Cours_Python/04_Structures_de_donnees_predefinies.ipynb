{
  "cells": [
    {
      "cell_type": "markdown",
      "metadata": {
        "id": "view-in-github",
        "colab_type": "text"
      },
      "source": [
        "<a href=\"https://colab.research.google.com/github/EMSIMa/ADD3IIR/blob/main/04_Structures_de_donnees_predefinies.ipynb\" target=\"_parent\"><img src=\"https://colab.research.google.com/assets/colab-badge.svg\" alt=\"Open In Colab\"/></a>"
      ]
    },
    {
      "cell_type": "markdown",
      "metadata": {
        "id": "VM0cAG8Pti8I"
      },
      "source": [
        "# Structures de données intégrées"
      ]
    },
    {
      "cell_type": "markdown",
      "metadata": {
        "id": "V-5_Nvkjti8K"
      },
      "source": [
        "Nous avons vu les types simples de Python : ``int``, ``float``, ``complex``, ``bool``, ``str``, et ainsi de suite.\n",
        "Python possède également plusieurs types composés intégrés, qui agissent comme des conteneurs pour d'autres types.\n",
        "Ces types composés sont les suivants :\n",
        "\n",
        "| Nom du Type | Exemple                   |Description                            |\n",
        "|-----------|---------------------------|---------------------------------------|\n",
        "| ``list``  | ``[1, 2, 3]``             | Collection ordonnée                    |\n",
        "| ``tuple`` | ``(1, 2, 3)``             | Collection ordonnée Immutable |\n",
        "| ``dict``  | ``{'a':1, 'b':2, 'c':3}`` | Mappage non ordonné (clé, valeur) |\n",
        "| ``set``   | ``{1, 2, 3}``             | Collection non ordonnée de valeurs uniques |\n",
        "\n",
        "Comme vous pouvez le constater, les parenthèses rondes, carrées et bouclées ont des significations distinctes en ce qui concerne le type de collection produite.\n",
        "Nous allons faire un tour rapide de ces structures de données."
      ]
    },
    {
      "cell_type": "markdown",
      "metadata": {
        "id": "0iTVx2Wxti8M"
      },
      "source": [
        "## Listes\n",
        "Les listes sont le type de collection de données *ordonnées* et *mutables* de base en Python.\n",
        "Elles peuvent être définies avec des valeurs séparées par des virgules entre crochets ; par exemple, voici une liste des premiers nombres premiers :"
      ]
    },
    {
      "cell_type": "code",
      "execution_count": null,
      "metadata": {
        "id": "mTokBEj8ti8P"
      },
      "outputs": [],
      "source": [
        "L = [2, 3, 5, 7]"
      ]
    },
    {
      "cell_type": "markdown",
      "metadata": {
        "id": "mTDoTiE8ti8U"
      },
      "source": [
        "Les listes disposent d'un certain nombre de propriétés et de méthodes utiles.\n",
        "Nous allons ici jeter un coup d'œil rapide à quelques-unes des plus courantes et des plus utiles d'entre elles :"
      ]
    },
    {
      "cell_type": "code",
      "execution_count": null,
      "metadata": {
        "id": "xkskp_RPti8W",
        "outputId": "d84386a8-c573-4639-ef53-9d03aea18c53"
      },
      "outputs": [
        {
          "data": {
            "text/plain": [
              "4"
            ]
          },
          "execution_count": 2,
          "metadata": {},
          "output_type": "execute_result"
        }
      ],
      "source": [
        "# Length of a list\n",
        "len(L)"
      ]
    },
    {
      "cell_type": "code",
      "execution_count": null,
      "metadata": {
        "id": "EKOp2NMdti8Z",
        "outputId": "5eb75954-b1a3-4e80-e50f-cb7b53a918a6"
      },
      "outputs": [
        {
          "data": {
            "text/plain": [
              "[2, 3, 5, 7, 11]"
            ]
          },
          "execution_count": 3,
          "metadata": {},
          "output_type": "execute_result"
        }
      ],
      "source": [
        "# Append a value to the end\n",
        "L.append(11)\n",
        "L"
      ]
    },
    {
      "cell_type": "code",
      "execution_count": null,
      "metadata": {
        "id": "HKqnadJRti8c",
        "outputId": "42583c57-7fac-4383-f65a-348829cf6de7"
      },
      "outputs": [
        {
          "data": {
            "text/plain": [
              "[2, 3, 5, 7, 11, 13, 17, 19]"
            ]
          },
          "execution_count": 4,
          "metadata": {},
          "output_type": "execute_result"
        }
      ],
      "source": [
        "# Addition concatenates lists\n",
        "L + [13, 17, 19]"
      ]
    },
    {
      "cell_type": "code",
      "execution_count": null,
      "metadata": {
        "id": "tpth3Khvti8e",
        "outputId": "7bf2d6d0-8746-411c-a4e3-40d43262decb",
        "colab": {
          "base_uri": "https://localhost:8080/"
        }
      },
      "outputs": [
        {
          "output_type": "execute_result",
          "data": {
            "text/plain": [
              "[1, 2, 3, 4, 5, 6]"
            ]
          },
          "metadata": {},
          "execution_count": 2
        }
      ],
      "source": [
        "# sort() method sorts in-place\n",
        "L = [2, 5, 1, 6, 3, 4]\n",
        "L.sort()\n",
        "L"
      ]
    },
    {
      "cell_type": "markdown",
      "metadata": {
        "id": "cISQHJdlti8h"
      },
      "source": [
        "En outre, il existe de nombreuses autres méthodes de liste prédéfinies ; elles sont décrites en détail dans la [documentation en ligne de Python](https://docs.python.org/3/tutorial/datastructures.html).\n",
        "\n",
        "Bien que nous ayons montré des listes contenant des valeurs d'un seul type, l'une des caractéristiques puissantes des objets composés de Python est qu'ils peuvent contenir des objets de n'importe quel type, ou même un mélange de types. Par exemple :"
      ]
    },
    {
      "cell_type": "code",
      "execution_count": null,
      "metadata": {
        "id": "nGl6vEsLti8j"
      },
      "outputs": [],
      "source": [
        "L = [1, 'two', 3.14, [0, 3, 5]]"
      ]
    },
    {
      "cell_type": "markdown",
      "metadata": {
        "id": "-djJ35AXti8l"
      },
      "source": [
        "Cette flexibilité est une conséquence du système de type dynamique de Python.\n",
        "Créer une telle séquence mixte dans un langage à typage statique comme C peut s'avérer un véritable casse-tête !\n",
        "Nous voyons que les listes peuvent même contenir d'autres listes en tant qu'éléments.\n",
        "Cette flexibilité des types est un élément essentiel qui rend le code Python relativement rapide et facile à écrire.\n",
        "\n",
        "Jusqu'à présent, nous avons considéré les manipulations de listes dans leur ensemble ; un autre élément essentiel est l'accès à des éléments individuels.\n",
        "En Python, cela se fait par *indexation* et *slicing*, que nous explorerons plus loin."
      ]
    },
    {
      "cell_type": "markdown",
      "metadata": {
        "id": "lu8x0OAWti8m"
      },
      "source": [
        "### Indexation et tranchage de listes\n",
        "Python permet d'accéder aux éléments des types composés par *indexation* pour les éléments simples, et par *tranchage* pour les éléments multiples.\n",
        "Comme nous le verrons, les deux sont indiqués par une syntaxe de crochets.\n",
        "Supposons que nous revenions à notre liste des premiers nombres premiers :"
      ]
    },
    {
      "cell_type": "code",
      "execution_count": null,
      "metadata": {
        "id": "HQBq-Qddti8n"
      },
      "outputs": [],
      "source": [
        "L = [2, 3, 5, 7, 11]"
      ]
    },
    {
      "cell_type": "markdown",
      "metadata": {
        "id": "g6LFve1Lti8o"
      },
      "source": [
        "Python utilise l'indexation *basée sur zéro*, ce qui nous permet d'accéder au premier et au deuxième élément en utilisant la syntaxe suivante :"
      ]
    },
    {
      "cell_type": "code",
      "execution_count": null,
      "metadata": {
        "id": "Of1O8wCOti8q",
        "outputId": "c3ada26e-5b76-4360-d688-d7340f5a0a23"
      },
      "outputs": [
        {
          "data": {
            "text/plain": [
              "2"
            ]
          },
          "execution_count": 8,
          "metadata": {},
          "output_type": "execute_result"
        }
      ],
      "source": [
        "L[0]"
      ]
    },
    {
      "cell_type": "code",
      "execution_count": null,
      "metadata": {
        "id": "qvOM7o0Fti8r",
        "outputId": "3d540700-a491-4d93-d186-20256bb99751"
      },
      "outputs": [
        {
          "data": {
            "text/plain": [
              "3"
            ]
          },
          "execution_count": 9,
          "metadata": {},
          "output_type": "execute_result"
        }
      ],
      "source": [
        "L[1]"
      ]
    },
    {
      "cell_type": "markdown",
      "metadata": {
        "id": "OIMHt0zwti8s"
      },
      "source": [
        "Les éléments en fin de liste sont accessibles par des nombres négatifs, à partir de -1 :"
      ]
    },
    {
      "cell_type": "code",
      "execution_count": null,
      "metadata": {
        "id": "H1XW9P0Eti8t",
        "outputId": "b8e6ff06-537b-4c1d-b395-3bd56bfdda48"
      },
      "outputs": [
        {
          "data": {
            "text/plain": [
              "11"
            ]
          },
          "execution_count": 10,
          "metadata": {},
          "output_type": "execute_result"
        }
      ],
      "source": [
        "L[-1]"
      ]
    },
    {
      "cell_type": "code",
      "execution_count": null,
      "metadata": {
        "id": "Uw_r31vSti8u",
        "outputId": "8d3d627b-d649-4383-bcf6-b57ce47a055f"
      },
      "outputs": [
        {
          "data": {
            "text/plain": [
              "7"
            ]
          },
          "execution_count": 11,
          "metadata": {},
          "output_type": "execute_result"
        }
      ],
      "source": [
        "L[-2]"
      ]
    },
    {
      "cell_type": "markdown",
      "metadata": {
        "id": "l7T-gKqlti8w"
      },
      "source": [
        "Vous pouvez visualiser ce schéma d'indexation de la manière suivante :"
      ]
    },
    {
      "cell_type": "markdown",
      "metadata": {
        "collapsed": false,
        "id": "DQ-OtSdqti8y"
      },
      "source": [
        "![List Indexing Figure](https://github.com/jakevdp/WhirlwindTourOfPython/blob/master/fig/list-indexing.png?raw=1)"
      ]
    },
    {
      "cell_type": "markdown",
      "metadata": {
        "id": "YdrpL5l_ti8z"
      },
      "source": [
        "Ici, les valeurs de la liste sont représentées par des grands nombres dans les carrés ; les indices de la liste sont représentés par des petits nombres au-dessus et au-dessous.\n",
        "Dans ce cas, ``L[2]`` renvoie ``5``, car c'est la valeur suivante à l'index ``2``."
      ]
    },
    {
      "cell_type": "markdown",
      "metadata": {
        "id": "Ht1Yu1dlti81"
      },
      "source": [
        "Alors que l'*indexation* permet d'extraire une seule valeur de la liste, le *tranchage* permet d'accéder à plusieurs valeurs dans des sous-listes.\n",
        "Il utilise deux points pour indiquer le point de départ (inclusif) et le point d'arrivée (non inclusif) de la sous-liste.\n",
        "Par exemple, pour obtenir les trois premiers éléments de la liste, nous pouvons écrire :"
      ]
    },
    {
      "cell_type": "code",
      "execution_count": null,
      "metadata": {
        "id": "_IzDU_uZti82",
        "outputId": "8d9a5505-da4a-41bb-bef2-d823b9a6fc7c"
      },
      "outputs": [
        {
          "data": {
            "text/plain": [
              "[2, 3, 5]"
            ]
          },
          "execution_count": 12,
          "metadata": {},
          "output_type": "execute_result"
        }
      ],
      "source": [
        "L[0:3]"
      ]
    },
    {
      "cell_type": "markdown",
      "metadata": {
        "id": "rxSs1dwuti9E"
      },
      "source": [
        "Remarquez où se trouvent ``0`` et ``3`` dans le diagramme précédent, et comment la tranche ne prend que les valeurs entre les indices.\n",
        "Si nous omettons le premier indice, ``0`` est présumé, de sorte que nous pouvons écrire de façon équivalente :"
      ]
    },
    {
      "cell_type": "code",
      "execution_count": null,
      "metadata": {
        "id": "ipzZ72neti9F",
        "outputId": "7af5c156-aeea-48a3-d5d3-d831fbf515d0"
      },
      "outputs": [
        {
          "data": {
            "text/plain": [
              "[2, 3, 5]"
            ]
          },
          "execution_count": 13,
          "metadata": {},
          "output_type": "execute_result"
        }
      ],
      "source": [
        "L[:3]"
      ]
    },
    {
      "cell_type": "markdown",
      "metadata": {
        "id": "qUbfpYiGti9H"
      },
      "source": [
        "De même, si nous omettons le dernier indice, il correspond par défaut à la longueur de la liste.\n",
        "Ainsi, les trois derniers éléments peuvent être accédés comme suit :"
      ]
    },
    {
      "cell_type": "code",
      "execution_count": null,
      "metadata": {
        "id": "uitCsmm0ti9I",
        "outputId": "18913dbe-afd6-4c65-8297-a39482652b35"
      },
      "outputs": [
        {
          "data": {
            "text/plain": [
              "[5, 7, 11]"
            ]
          },
          "execution_count": 14,
          "metadata": {},
          "output_type": "execute_result"
        }
      ],
      "source": [
        "L[-3:]"
      ]
    },
    {
      "cell_type": "markdown",
      "metadata": {
        "id": "5FI3AP5gti9I"
      },
      "source": [
        "Enfin, il est possible de spécifier un troisième entier qui représente la taille du pas ; par exemple, pour sélectionner un élément sur deux de la liste, on peut écrire :"
      ]
    },
    {
      "cell_type": "code",
      "execution_count": null,
      "metadata": {
        "id": "Fd3v2JHyti9J",
        "outputId": "3d1be36b-315b-4f16-9e3f-8dd90258f50c"
      },
      "outputs": [
        {
          "data": {
            "text/plain": [
              "[2, 5, 11]"
            ]
          },
          "execution_count": 15,
          "metadata": {},
          "output_type": "execute_result"
        }
      ],
      "source": [
        "L[::2]  # equivalent to L[0:len(L):2]"
      ]
    },
    {
      "cell_type": "markdown",
      "metadata": {
        "id": "lu9QK8zNti9K"
      },
      "source": [
        "Une version particulièrement utile de cette méthode consiste à spécifier un pas négatif, qui inversera le tableau :"
      ]
    },
    {
      "cell_type": "code",
      "execution_count": null,
      "metadata": {
        "id": "gV3SIQrdti9M",
        "outputId": "64e7accc-169b-4734-b0f8-280a19c80294"
      },
      "outputs": [
        {
          "data": {
            "text/plain": [
              "[11, 7, 5, 3, 2]"
            ]
          },
          "execution_count": 16,
          "metadata": {},
          "output_type": "execute_result"
        }
      ],
      "source": [
        "L[::-1]"
      ]
    },
    {
      "cell_type": "markdown",
      "metadata": {
        "id": "UEKhhuaeti9M"
      },
      "source": [
        "L'indexation et le tranchage peuvent tous deux être utilisés pour définir des éléments et y accéder.\n",
        "La syntaxe est telle que l'on peut s'y attendre :"
      ]
    },
    {
      "cell_type": "code",
      "execution_count": null,
      "metadata": {
        "id": "jBDCDjdkti9N",
        "outputId": "efc0cc22-4bf6-4ef5-c962-7e867d7bf009"
      },
      "outputs": [
        {
          "name": "stdout",
          "output_type": "stream",
          "text": [
            "[100, 3, 5, 7, 11]\n"
          ]
        }
      ],
      "source": [
        "L[0] = 100\n",
        "print(L)"
      ]
    },
    {
      "cell_type": "code",
      "execution_count": null,
      "metadata": {
        "id": "DLE8RuKVti9O",
        "outputId": "982f27fb-4ccf-4eb9-e3c8-902bf1ebdb4d"
      },
      "outputs": [
        {
          "name": "stdout",
          "output_type": "stream",
          "text": [
            "[100, 55, 56, 7, 11]\n"
          ]
        }
      ],
      "source": [
        "L[1:3] = [55, 56]\n",
        "print(L)"
      ]
    },
    {
      "cell_type": "markdown",
      "metadata": {
        "id": "ZsxQbhtFti9P"
      },
      "source": [
        "Une syntaxe de tranchage très similaire est également utilisée dans de nombreux packages orientés vers la science des données, y compris NumPy et Pandas (mentionnés dans l'introduction).\n",
        "\n",
        "Maintenant que nous avons vu les listes Python et la manière d'accéder aux éléments dans les types composés ordonnés, examinons les trois autres types de données composés standard mentionnés précédemment."
      ]
    },
    {
      "cell_type": "markdown",
      "metadata": {
        "id": "3UENw8bEti9Q"
      },
      "source": [
        "## Tuples\n",
        "Les tuples sont en de nombreux points similaires aux listes, mais ils sont définis avec des parenthèses plutôt qu'avec des crochets :"
      ]
    },
    {
      "cell_type": "code",
      "execution_count": null,
      "metadata": {
        "id": "15rkipcPti9R"
      },
      "outputs": [],
      "source": [
        "t = (1, 2, 3)"
      ]
    },
    {
      "cell_type": "markdown",
      "metadata": {
        "id": "f4gf192Dti9S"
      },
      "source": [
        "Ils peuvent également être définis sans aucune parenthèse :"
      ]
    },
    {
      "cell_type": "code",
      "execution_count": null,
      "metadata": {
        "id": "NX3T6l_fti9S",
        "outputId": "cb254536-fae0-4f53-a63b-f814dda66489"
      },
      "outputs": [
        {
          "name": "stdout",
          "output_type": "stream",
          "text": [
            "(1, 2, 3)\n"
          ]
        }
      ],
      "source": [
        "t = 1, 2, 3\n",
        "print(t)"
      ]
    },
    {
      "cell_type": "markdown",
      "metadata": {
        "id": "J3jUHEZ2ti9T"
      },
      "source": [
        "Comme les listes, les tuples ont une longueur et les éléments individuels peuvent être extraits à l'aide de l'indexation par crochets :"
      ]
    },
    {
      "cell_type": "code",
      "execution_count": null,
      "metadata": {
        "id": "LFvbDrrQti9U",
        "outputId": "4c2c2c8c-f3bd-41dd-b525-0bf127a0878e"
      },
      "outputs": [
        {
          "data": {
            "text/plain": [
              "3"
            ]
          },
          "execution_count": 21,
          "metadata": {},
          "output_type": "execute_result"
        }
      ],
      "source": [
        "len(t)"
      ]
    },
    {
      "cell_type": "code",
      "execution_count": null,
      "metadata": {
        "id": "qbVGDkw0ti9W",
        "outputId": "4c4c94f2-3b97-4f43-eaaa-8a1c34285c77"
      },
      "outputs": [
        {
          "data": {
            "text/plain": [
              "1"
            ]
          },
          "execution_count": 22,
          "metadata": {},
          "output_type": "execute_result"
        }
      ],
      "source": [
        "t[0]"
      ]
    },
    {
      "cell_type": "markdown",
      "metadata": {
        "id": "QzHoSzXYti9X"
      },
      "source": [
        "La principale caractéristique des tuples est qu'ils sont *immuables* : cela signifie qu'une fois créés, leur taille et leur contenu ne peuvent pas être modifiés :"
      ]
    },
    {
      "cell_type": "code",
      "execution_count": null,
      "metadata": {
        "id": "YXDCbCdmti9Y",
        "outputId": "327064b7-8c32-4eb3-e9fa-e217c900bc90"
      },
      "outputs": [
        {
          "ename": "TypeError",
          "evalue": "'tuple' object does not support item assignment",
          "output_type": "error",
          "traceback": [
            "\u001b[0;31m---------------------------------------------------------------------------\u001b[0m",
            "\u001b[0;31mTypeError\u001b[0m                                 Traceback (most recent call last)",
            "\u001b[0;32m<ipython-input-23-141c76cb54a2>\u001b[0m in \u001b[0;36m<module>\u001b[0;34m()\u001b[0m\n\u001b[0;32m----> 1\u001b[0;31m \u001b[0mt\u001b[0m\u001b[0;34m[\u001b[0m\u001b[0;36m1\u001b[0m\u001b[0;34m]\u001b[0m \u001b[0;34m=\u001b[0m \u001b[0;36m4\u001b[0m\u001b[0;34m\u001b[0m\u001b[0m\n\u001b[0m",
            "\u001b[0;31mTypeError\u001b[0m: 'tuple' object does not support item assignment"
          ]
        }
      ],
      "source": [
        "t[1] = 4"
      ]
    },
    {
      "cell_type": "code",
      "execution_count": null,
      "metadata": {
        "id": "8_cGl8BDti9a",
        "outputId": "cc2eec91-f3d5-452d-d525-d5b8b468bcfa"
      },
      "outputs": [
        {
          "ename": "AttributeError",
          "evalue": "'tuple' object has no attribute 'append'",
          "output_type": "error",
          "traceback": [
            "\u001b[0;31m---------------------------------------------------------------------------\u001b[0m",
            "\u001b[0;31mAttributeError\u001b[0m                            Traceback (most recent call last)",
            "\u001b[0;32m<ipython-input-24-e8bd1632f9dd>\u001b[0m in \u001b[0;36m<module>\u001b[0;34m()\u001b[0m\n\u001b[0;32m----> 1\u001b[0;31m \u001b[0mt\u001b[0m\u001b[0;34m.\u001b[0m\u001b[0mappend\u001b[0m\u001b[0;34m(\u001b[0m\u001b[0;36m4\u001b[0m\u001b[0;34m)\u001b[0m\u001b[0;34m\u001b[0m\u001b[0m\n\u001b[0m",
            "\u001b[0;31mAttributeError\u001b[0m: 'tuple' object has no attribute 'append'"
          ]
        }
      ],
      "source": [
        "t.append(4)"
      ]
    },
    {
      "cell_type": "markdown",
      "metadata": {
        "id": "1UgQYZSjti9b"
      },
      "source": [
        "Les tuples sont souvent utilisés dans un programme Python ; un cas particulièrement courant est celui des fonctions qui ont plusieurs valeurs de retour.\n",
        "Par exemple, la méthode ``as_integer_ratio()`` des objets à virgule flottante renvoie un numérateur et un dénominateur ; cette double valeur de retour se présente sous la forme d'un tuple :"
      ]
    },
    {
      "cell_type": "code",
      "execution_count": null,
      "metadata": {
        "id": "VUcmZga9ti9c",
        "outputId": "677cd62c-eb49-49a0-e42a-625763d6edc1"
      },
      "outputs": [
        {
          "data": {
            "text/plain": [
              "(1, 8)"
            ]
          },
          "execution_count": 25,
          "metadata": {},
          "output_type": "execute_result"
        }
      ],
      "source": [
        "x = 0.125\n",
        "x.as_integer_ratio()"
      ]
    },
    {
      "cell_type": "markdown",
      "metadata": {
        "id": "N83GORaMti9d"
      },
      "source": [
        "Ces valeurs de retour multiples peuvent être attribuées individuellement comme suit :"
      ]
    },
    {
      "cell_type": "code",
      "execution_count": null,
      "metadata": {
        "id": "sCS3IE0Nti9d",
        "outputId": "f749dbc0-b3aa-4120-a39c-d31aea9ededf"
      },
      "outputs": [
        {
          "name": "stdout",
          "output_type": "stream",
          "text": [
            "0.125\n"
          ]
        }
      ],
      "source": [
        "numerator, denominator = x.as_integer_ratio()\n",
        "print(numerator / denominator)"
      ]
    },
    {
      "cell_type": "markdown",
      "metadata": {
        "id": "UKAI2AAOti9e"
      },
      "source": [
        "La logique d'indexation et de découpage décrite précédemment pour les listes fonctionne également pour les tuples, ainsi qu'un grand nombre d'autres méthodes.\n",
        "Reportez-vous à la [documentation Python](https://docs.python.org/3/tutorial/datastructures.html) pour obtenir une liste plus complète de ces méthodes."
      ]
    },
    {
      "cell_type": "markdown",
      "metadata": {
        "id": "mTMhsfnfti9g"
      },
      "source": [
        "## Dictionnaires\n",
        "Les dictionnaires sont des correspondances extrêmement flexibles entre les clés et les valeurs.\n",
        "\n",
        "Ils peuvent être créés via une liste de paires ``clé:valeur`` séparées par des virgules et placées entre accolades :"
      ]
    },
    {
      "cell_type": "code",
      "execution_count": null,
      "metadata": {
        "id": "uszVwsxDti9g"
      },
      "outputs": [],
      "source": [
        "numbers = {'one':1, 'two':2, 'three':3}"
      ]
    },
    {
      "cell_type": "markdown",
      "metadata": {
        "id": "uPOOwsEPti9h"
      },
      "source": [
        "Les éléments sont accessibles et définis via la syntaxe d'indexation utilisée pour les listes et les tuples, sauf qu'ici l'index n'est pas un ordre basé sur zéro mais une clé valide dans le dictionnaire :"
      ]
    },
    {
      "cell_type": "code",
      "execution_count": null,
      "metadata": {
        "id": "Xq8SBH8Gti9i",
        "outputId": "cbecaaeb-b02e-4950-c6d8-87b7ce51f5a5"
      },
      "outputs": [
        {
          "data": {
            "text/plain": [
              "2"
            ]
          },
          "execution_count": 28,
          "metadata": {},
          "output_type": "execute_result"
        }
      ],
      "source": [
        "# Access a value via the key\n",
        "numbers['two']"
      ]
    },
    {
      "cell_type": "markdown",
      "metadata": {
        "id": "t844WSQpti9i"
      },
      "source": [
        "L'indexation permet également d'ajouter de nouveaux éléments au dictionnaire :"
      ]
    },
    {
      "cell_type": "code",
      "execution_count": null,
      "metadata": {
        "id": "yWTWcd_Gti9j",
        "outputId": "3aaef7dd-4f39-4776-ebc8-09e9861518ac"
      },
      "outputs": [
        {
          "name": "stdout",
          "output_type": "stream",
          "text": [
            "{'three': 3, 'ninety': 90, 'two': 2, 'one': 1}\n"
          ]
        }
      ],
      "source": [
        "# Set a new key:value pair\n",
        "numbers['ninety'] = 90\n",
        "print(numbers)"
      ]
    },
    {
      "cell_type": "markdown",
      "metadata": {
        "id": "7L1Sh5JBti9l"
      },
      "source": [
        "Gardez à l'esprit que les dictionnaires ne maintiennent aucun ordre pour les paramètres d'entrée ; ceci est voulu.\n",
        "Cette absence d'ordre permet aux dictionnaires d'être mis en œuvre de manière très efficace, de sorte que l'accès à des éléments aléatoires soit très rapide, quelle que soit la taille du dictionnaire (si vous êtes curieux de savoir comment cela fonctionne, lisez ce qui concerne le concept de *table de hachage*).  \n",
        "La [documentation python](https://docs.python.org/3/library/stdtypes.html) contient une liste complète des méthodes disponibles pour les dictionnaires."
      ]
    },
    {
      "cell_type": "markdown",
      "metadata": {
        "id": "ni21xjp0ti9m"
      },
      "source": [
        "## Sets\n",
        "\n",
        "La quatrième collection de base est l'ensemble, qui contient des collections non ordonnées d'éléments uniques.\n",
        "Ils sont définis de la même manière que les listes et les tuples, sauf qu'ils utilisent les parenthèses des dictionnaires :"
      ]
    },
    {
      "cell_type": "code",
      "execution_count": null,
      "metadata": {
        "id": "hdHjhMZUti9n"
      },
      "outputs": [],
      "source": [
        "primes = {2, 3, 5, 7}\n",
        "odds = {1, 3, 5, 7, 9}"
      ]
    },
    {
      "cell_type": "markdown",
      "metadata": {
        "id": "iSS5mQBjti9o"
      },
      "source": [
        "Si vous êtes familier avec les mathématiques des ensembles, vous connaissez des opérations telles que l'union, l'intersection, la différence, la différence symétrique, etc.\n",
        "Les ensembles de Python intègrent toutes ces opérations, par le biais de méthodes ou d'opérateurs.\n",
        "Pour chacune d'entre elles, nous montrerons les deux méthodes équivalentes :"
      ]
    },
    {
      "cell_type": "code",
      "execution_count": null,
      "metadata": {
        "id": "Np33vtbIti9p",
        "outputId": "c55af640-ccfe-45e3-ea13-c874f163fd97"
      },
      "outputs": [
        {
          "data": {
            "text/plain": [
              "{1, 2, 3, 5, 7, 9}"
            ]
          },
          "execution_count": 31,
          "metadata": {},
          "output_type": "execute_result"
        }
      ],
      "source": [
        "# union: items appearing in either\n",
        "primes | odds      # with an operator\n",
        "primes.union(odds) # equivalently with a method"
      ]
    },
    {
      "cell_type": "code",
      "execution_count": null,
      "metadata": {
        "id": "okUGZ20Hti9r",
        "outputId": "c58c56fd-fcac-4741-b060-21f108e884e8"
      },
      "outputs": [
        {
          "data": {
            "text/plain": [
              "{3, 5, 7}"
            ]
          },
          "execution_count": 32,
          "metadata": {},
          "output_type": "execute_result"
        }
      ],
      "source": [
        "# intersection: items appearing in both\n",
        "primes & odds             # with an operator\n",
        "primes.intersection(odds) # equivalently with a method"
      ]
    },
    {
      "cell_type": "code",
      "execution_count": null,
      "metadata": {
        "id": "o8gERdHwti9s",
        "outputId": "d8d816ef-7954-4772-c08d-d209a1b025f8"
      },
      "outputs": [
        {
          "data": {
            "text/plain": [
              "{2}"
            ]
          },
          "execution_count": 33,
          "metadata": {},
          "output_type": "execute_result"
        }
      ],
      "source": [
        "# difference: items in primes but not in odds\n",
        "primes - odds           # with an operator\n",
        "primes.difference(odds) # equivalently with a method"
      ]
    },
    {
      "cell_type": "code",
      "execution_count": null,
      "metadata": {
        "id": "gqF2BBt4ti9t",
        "outputId": "734cc5bd-1d84-4abc-c29c-3fd6a27b3425"
      },
      "outputs": [
        {
          "data": {
            "text/plain": [
              "{1, 2, 9}"
            ]
          },
          "execution_count": 34,
          "metadata": {},
          "output_type": "execute_result"
        }
      ],
      "source": [
        "# symmetric difference: items appearing in only one set\n",
        "primes ^ odds                     # with an operator\n",
        "primes.symmetric_difference(odds) # equivalently with a method"
      ]
    },
    {
      "cell_type": "markdown",
      "metadata": {
        "id": "fGgVq6DGti9u"
      },
      "source": [
        "De nombreuses autres méthodes et opérations sont disponibles.\n",
        "Vous avez probablement déjà deviné ce que je vais dire ensuite : reportez-vous à la [documentation en ligne](https://docs.python.org/3/library/stdtypes.html) pour une référence complète."
      ]
    },
    {
      "cell_type": "markdown",
      "source": [
        "## Structures de données plus spécialisées\n",
        "\n",
        "Python contient plusieurs autres structures de données que vous pourriez trouver utiles ; elles se trouvent généralement dans le module intégré ``collections``.\n",
        "Le module collections est entièrement documenté dans [la documentation en ligne de Python](https://docs.python.org/3/library/collections.html), et vous pouvez en savoir plus sur les différents objets qui y sont disponibles.\n",
        "\n",
        "En particulier, j'ai trouvé l'objet suivant très utile à l'occasion :\n",
        "\n",
        "- ``collections.namedtuple`` : Comme un tuple, mais chaque valeur a un nom\n",
        "- ``collections.defaultdict`` : Comme un dictionnaire, mais les clés non spécifiées ont une valeur par défaut spécifiée par l'utilisateur.\n",
        "- ``collections.OrderedDict`` : Comme un dictionnaire, mais l'ordre des clés est conservé.\n",
        "\n",
        "Une fois que vous avez vu les types de collection standard intégrées, l'utilisation de ces fonctionnalités étendues est très intuitive, et je vous suggère de [lire à propos de leur utilisation](https://docs.python.org/3/library/collections.html)."
      ],
      "metadata": {
        "id": "1cxc5CkJ4MYQ"
      }
    }
  ],
  "metadata": {
    "anaconda-cloud": {},
    "kernelspec": {
      "display_name": "Python 3",
      "language": "python",
      "name": "python3"
    },
    "language_info": {
      "codemirror_mode": {
        "name": "ipython",
        "version": 3
      },
      "file_extension": ".py",
      "mimetype": "text/x-python",
      "name": "python",
      "nbconvert_exporter": "python",
      "pygments_lexer": "ipython3",
      "version": "3.5.1"
    },
    "colab": {
      "provenance": [],
      "include_colab_link": true
    }
  },
  "nbformat": 4,
  "nbformat_minor": 0
}
