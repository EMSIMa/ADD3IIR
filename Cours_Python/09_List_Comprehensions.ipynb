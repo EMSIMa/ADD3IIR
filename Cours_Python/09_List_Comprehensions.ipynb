{
  "cells": [
    {
      "cell_type": "markdown",
      "metadata": {
        "id": "view-in-github",
        "colab_type": "text"
      },
      "source": [
        "<a href=\"https://colab.research.google.com/github/EMSIMa/ADD3IIR/blob/main/09_List_Comprehensions.ipynb\" target=\"_parent\"><img src=\"https://colab.research.google.com/assets/colab-badge.svg\" alt=\"Open In Colab\"/></a>"
      ]
    },
    {
      "cell_type": "markdown",
      "metadata": {
        "id": "2bRulIpyBrq3"
      },
      "source": [
        "# List Comprehensions"
      ]
    },
    {
      "cell_type": "markdown",
      "metadata": {
        "id": "eV33QBPvBrq4"
      },
      "source": [
        "Si vous lisez suffisamment de code Python, vous finirez par rencontrer la construction laconique et efficace connue sous le nom de *list comprehension* (compréhension de liste).\n",
        "Il s'agit d'une fonctionnalité de Python qui devrait vous séduire si vous ne l'avez jamais utilisée ; elle ressemble à ceci :"
      ]
    },
    {
      "cell_type": "code",
      "execution_count": null,
      "metadata": {
        "id": "3Rg88a38Brq5",
        "outputId": "5954d604-29da-4aa7-acc8-a6a0ac3107a8"
      },
      "outputs": [
        {
          "data": {
            "text/plain": [
              "[1, 2, 4, 5, 7, 8, 10, 11, 13, 14, 16, 17, 19]"
            ]
          },
          "execution_count": 1,
          "metadata": {},
          "output_type": "execute_result"
        }
      ],
      "source": [
        "[i for i in range(20) if i % 3 > 0]"
      ]
    },
    {
      "cell_type": "markdown",
      "metadata": {
        "id": "_poguEXBBrq6"
      },
      "source": [
        "Le résultat est une liste de nombres qui exclut les multiples de 3.\n",
        "Bien que cet exemple puisse sembler un peu déroutant au début, au fur et à mesure que l'on se familiarise avec Python, la lecture et l'écriture de compréhensions de listes deviendront une seconde nature."
      ]
    },
    {
      "cell_type": "markdown",
      "metadata": {
        "id": "yKEsHBwKBrq7"
      },
      "source": [
        "## Compréhensions de liste de base\n",
        "Les compréhensions de liste sont simplement un moyen de comprimer une boucle for qui construit une liste en une seule ligne courte et lisible.\n",
        "Par exemple, voici une boucle qui construit une liste des 12 premiers entiers au carré :"
      ]
    },
    {
      "cell_type": "code",
      "execution_count": null,
      "metadata": {
        "id": "Q_fJ9OlXBrq8",
        "outputId": "805d588b-f46c-43ce-ea12-8283e201f8e7"
      },
      "outputs": [
        {
          "data": {
            "text/plain": [
              "[0, 1, 4, 9, 16, 25, 36, 49, 64, 81, 100, 121]"
            ]
          },
          "execution_count": 2,
          "metadata": {},
          "output_type": "execute_result"
        }
      ],
      "source": [
        "L = []\n",
        "for n in range(12):\n",
        "    L.append(n ** 2)\n",
        "L"
      ]
    },
    {
      "cell_type": "markdown",
      "metadata": {
        "id": "Ina2mEcHBrq-"
      },
      "source": [
        "L'équivalent en compréhension de liste est le suivant :"
      ]
    },
    {
      "cell_type": "code",
      "execution_count": null,
      "metadata": {
        "id": "4en0ruXSBrrA",
        "outputId": "ecc9a0c8-6b40-4b11-e533-2da882a7ece5"
      },
      "outputs": [
        {
          "data": {
            "text/plain": [
              "[0, 1, 4, 9, 16, 25, 36, 49, 64, 81, 100, 121]"
            ]
          },
          "execution_count": 3,
          "metadata": {},
          "output_type": "execute_result"
        }
      ],
      "source": [
        "[n ** 2 for n in range(12)]"
      ]
    },
    {
      "cell_type": "markdown",
      "metadata": {
        "id": "eFmEP_auBrrB"
      },
      "source": [
        "Comme pour beaucoup d'instructions Python, vous pouvez presque lire la signification de cette instruction en anglais simple : \"construire une liste composée du carré de ``n`` pour chaque ``n`` jusqu'à 12\".\n",
        "\n",
        "Cette syntaxe de base est donc ``[``*``expr``* ``for`` *``var``* ``in`` *``iterable``*`]`, où *``expr``* est une expression valide, *``var``* est un nom de variable, et *``iterable``* est n'importe quel objet itérable de Python."
      ]
    },
    {
      "cell_type": "markdown",
      "metadata": {
        "id": "-aKo8V5TBrrB"
      },
      "source": [
        "## Itération multiple\n",
        "Parfois, vous voulez construire une liste non pas à partir d'une seule valeur, mais à partir de deux. Pour cela, il suffit d'ajouter une autre expression ``for`` dans la compréhension :"
      ]
    },
    {
      "cell_type": "code",
      "execution_count": null,
      "metadata": {
        "id": "Kmrr17AEBrrC",
        "outputId": "fca2c25d-fa3b-4415-c7d9-69aef852e89c"
      },
      "outputs": [
        {
          "data": {
            "text/plain": [
              "[(0, 0), (0, 1), (0, 2), (1, 0), (1, 1), (1, 2)]"
            ]
          },
          "execution_count": 4,
          "metadata": {},
          "output_type": "execute_result"
        }
      ],
      "source": [
        "[(i, j) for i in range(2) for j in range(3)]"
      ]
    },
    {
      "cell_type": "markdown",
      "metadata": {
        "id": "xMvajRuBBrrD"
      },
      "source": [
        "Remarquez que la seconde expression ``for`` agit comme l'index intérieur, variant le plus rapidement dans la liste résultante.\n",
        "Ce type de construction peut être étendu à trois, quatre, ou plus d'itérateurs dans la compréhension, bien qu'à un certain point la lisibilité du code en souffrira !"
      ]
    },
    {
      "cell_type": "markdown",
      "metadata": {
        "id": "cfGbOyWfBrrE"
      },
      "source": [
        "## Conditionnelles sur l'itérateur\n",
        "Vous pouvez contrôler davantage l'itération en ajoutant une condition à la fin de l'expression.\n",
        "Dans le premier exemple de la section, nous avons itéré sur tous les nombres de 1 à 20, en omettant les multiples de 3.\n",
        "Regardez à nouveau cet exemple et remarquez la construction :"
      ]
    },
    {
      "cell_type": "code",
      "execution_count": null,
      "metadata": {
        "id": "noXScTj9BrrE",
        "outputId": "8ac99167-4e12-463f-e588-4186ac1a26c8"
      },
      "outputs": [
        {
          "data": {
            "text/plain": [
              "[1, 2, 4, 5, 7, 8, 10, 11, 13, 14, 16, 17, 19]"
            ]
          },
          "execution_count": 5,
          "metadata": {},
          "output_type": "execute_result"
        }
      ],
      "source": [
        "[val for val in range(20) if val % 3 > 0]"
      ]
    },
    {
      "cell_type": "markdown",
      "metadata": {
        "id": "p4uPhK6_BrrF"
      },
      "source": [
        "L'expression ``(i % 3 > 0)`` est évaluée à ``True`` à moins que ``val`` ne soit divisible par 3.\n",
        "Là encore, la signification en langue anglaise peut être lue immédiatement : \"Construire une liste de valeurs pour chaque valeur jusqu'à 20, mais seulement si la valeur n'est pas divisible par 3\".\n",
        "Une fois que vous êtes à l'aise avec cela, c'est beaucoup plus facile à écrire - et à comprendre au premier coup d'oeil - que la syntaxe équivalente de la boucle :"
      ]
    },
    {
      "cell_type": "code",
      "execution_count": null,
      "metadata": {
        "id": "Dj6DAKQ8BrrG",
        "outputId": "ecc311eb-cfc4-49b7-f968-51cae9aaadcf"
      },
      "outputs": [
        {
          "data": {
            "text/plain": [
              "[1, 2, 4, 5, 7, 8, 10, 11, 13, 14, 16, 17, 19]"
            ]
          },
          "execution_count": 6,
          "metadata": {},
          "output_type": "execute_result"
        }
      ],
      "source": [
        "L = []\n",
        "for val in range(20):\n",
        "    if val % 3:\n",
        "        L.append(val)\n",
        "L"
      ]
    },
    {
      "cell_type": "markdown",
      "metadata": {
        "id": "wHVRUX6yBrrH"
      },
      "source": [
        "## Conditionnelles sur la valeur\n",
        "Si vous avez programmé en C, vous êtes peut-être familier avec la conditionnelle d'une seule ligne activée par l'opérateur ``?`` :\n",
        "``` C\n",
        "int absval = (val < 0) ? -val : val\n",
        "```\n",
        "Python a quelque chose de très similaire, qui est le plus souvent utilisé dans les compréhensions de listes, les fonctions ``lambda``, et d'autres endroits où une expression simple est souhaitée :"
      ]
    },
    {
      "cell_type": "code",
      "execution_count": null,
      "metadata": {
        "id": "JGYnXpnHBrrH",
        "outputId": "af886134-2bf3-4c92-c8c6-ae4ae2dd53d6"
      },
      "outputs": [
        {
          "data": {
            "text/plain": [
              "10"
            ]
          },
          "execution_count": 7,
          "metadata": {},
          "output_type": "execute_result"
        }
      ],
      "source": [
        "val = -10\n",
        "val if val >= 0 else -val"
      ]
    },
    {
      "cell_type": "markdown",
      "metadata": {
        "id": "6jCR91X9BrrI"
      },
      "source": [
        "Nous voyons que cela duplique simplement la fonctionnalité de la fonction intégrée ``abs()``, mais la construction vous permet de faire des choses vraiment intéressantes dans les compréhensions de listes.\n",
        "Cela devient assez compliqué maintenant, mais vous pouvez faire quelque chose comme ça :"
      ]
    },
    {
      "cell_type": "code",
      "execution_count": null,
      "metadata": {
        "id": "yvbiwe--BrrI",
        "outputId": "be61b33c-d71c-4100-e48d-227385c1154f"
      },
      "outputs": [
        {
          "data": {
            "text/plain": [
              "[1, -2, -4, 5, 7, -8, -10, 11, 13, -14, -16, 17, 19]"
            ]
          },
          "execution_count": 8,
          "metadata": {},
          "output_type": "execute_result"
        }
      ],
      "source": [
        "[val if val % 2 else -val\n",
        " for val in range(20) if val % 3]"
      ]
    },
    {
      "cell_type": "markdown",
      "metadata": {
        "id": "-i8K-dFqBrrJ"
      },
      "source": [
        "Notez le retour à la ligne dans la compréhension de la liste avant l'expression ``for`` : ceci est valide en Python, et c'est souvent une bonne façon de découper de longues compréhensions de listes pour plus de lisibilité.\n",
        "Regardez bien : ce que nous faisons, c'est construire une liste, en éliminant les multiples de 3, et en annulant tous les mutliples de 2."
      ]
    },
    {
      "cell_type": "markdown",
      "metadata": {
        "id": "a3B1KdwVBrrJ"
      },
      "source": [
        "Une fois que vous avez compris la dynamique des compréhensions de listes, il est facile de passer à d'autres types de compréhensions. La syntaxe est en grande partie la même ; la seule différence est le type de parenthèse que vous utilisez.\n",
        "\n",
        "Par exemple, avec des accolades bouclées, vous pouvez créer un \" set \" avec une *compréhension de set* :"
      ]
    },
    {
      "cell_type": "code",
      "execution_count": null,
      "metadata": {
        "id": "dAsec9JMBrrK",
        "outputId": "0e6ce4c9-bb3d-4b19-fcba-2eb999940120"
      },
      "outputs": [
        {
          "data": {
            "text/plain": [
              "{0, 1, 4, 9, 16, 25, 36, 49, 64, 81, 100, 121}"
            ]
          },
          "execution_count": 11,
          "metadata": {},
          "output_type": "execute_result"
        }
      ],
      "source": [
        "{n**2 for n in range(12)}"
      ]
    },
    {
      "cell_type": "markdown",
      "metadata": {
        "id": "JtDdv1VxBrrL"
      },
      "source": [
        "Rappelons qu'un``set`` est une collection qui ne contient pas de doublons.\n",
        "La compréhension de set respecte cette règle et élimine les doublons :"
      ]
    },
    {
      "cell_type": "code",
      "execution_count": null,
      "metadata": {
        "id": "yNvWqKkjBrrL",
        "outputId": "40fbff84-783a-4e9b-e72c-3c7919ae7ac7"
      },
      "outputs": [
        {
          "data": {
            "text/plain": [
              "{0, 1, 2}"
            ]
          },
          "execution_count": 12,
          "metadata": {},
          "output_type": "execute_result"
        }
      ],
      "source": [
        "{a % 3 for a in range(1000)}"
      ]
    },
    {
      "cell_type": "markdown",
      "metadata": {
        "id": "b7G6XJ6KBrrM"
      },
      "source": [
        "Avec une légère modification, vous pouvez ajouter deux points (``:``) pour créer une *compréhension de dictionnaire* :"
      ]
    },
    {
      "cell_type": "code",
      "execution_count": null,
      "metadata": {
        "id": "5RHGv4OkBrrM",
        "outputId": "50dcb8b0-dd92-4c44-e62a-8fc3b6517e0e"
      },
      "outputs": [
        {
          "data": {
            "text/plain": [
              "{0: 0, 1: 1, 2: 4, 3: 9, 4: 16, 5: 25}"
            ]
          },
          "execution_count": 13,
          "metadata": {},
          "output_type": "execute_result"
        }
      ],
      "source": [
        "{n:n**2 for n in range(6)}"
      ]
    },
    {
      "cell_type": "markdown",
      "metadata": {
        "id": "tbzDZ3r4BrrO"
      },
      "source": [
        "Enfin, si vous utilisez des parenthèses plutôt que des crochets, vous obtenez ce que l'on appelle une *generator expression*:"
      ]
    },
    {
      "cell_type": "code",
      "execution_count": null,
      "metadata": {
        "id": "DCNMiLgGBrrO",
        "outputId": "aef10be2-74d3-47f4-95d3-64b0a18d47ae"
      },
      "outputs": [
        {
          "data": {
            "text/plain": [
              "<generator object <genexpr> at 0x1027a5a50>"
            ]
          },
          "execution_count": 15,
          "metadata": {},
          "output_type": "execute_result"
        }
      ],
      "source": [
        "(n**2 for n in range(12))"
      ]
    },
    {
      "cell_type": "markdown",
      "metadata": {
        "id": "lXeQJpfuBrrP"
      },
      "source": [
        "Une expression de générateur est essentiellement une compréhension de liste dans laquelle les éléments sont générés au fur et à mesure des besoins plutôt que tous en même temps, et la simplicité de cette expression cache la puissance de cette caractéristique du langage : nous l'étudierons plus en détail par la suite."
      ]
    },
    {
      "cell_type": "code",
      "source": [],
      "metadata": {
        "id": "vx6O-2ccG_36"
      },
      "execution_count": null,
      "outputs": []
    }
  ],
  "metadata": {
    "anaconda-cloud": {},
    "kernelspec": {
      "display_name": "Python 3",
      "language": "python",
      "name": "python3"
    },
    "language_info": {
      "codemirror_mode": {
        "name": "ipython",
        "version": 3
      },
      "file_extension": ".py",
      "mimetype": "text/x-python",
      "name": "python",
      "nbconvert_exporter": "python",
      "pygments_lexer": "ipython3",
      "version": "3.5.1"
    },
    "colab": {
      "provenance": [],
      "include_colab_link": true
    }
  },
  "nbformat": 4,
  "nbformat_minor": 0
}
