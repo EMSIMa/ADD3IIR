{
  "cells": [
    {
      "cell_type": "markdown",
      "metadata": {
        "id": "view-in-github",
        "colab_type": "text"
      },
      "source": [
        "<a href=\"https://colab.research.google.com/github/EMSIMa/ADD3IIR/blob/main/02_S%C3%A9mantique_Op%C3%A9rateurs.ipynb\" target=\"_parent\"><img src=\"https://colab.research.google.com/assets/colab-badge.svg\" alt=\"Open In Colab\"/></a>"
      ]
    },
    {
      "cell_type": "markdown",
      "metadata": {
        "id": "63R2ofXeElYw"
      },
      "source": [
        "# Sémantique de base de Python : Opérateurs"
      ]
    },
    {
      "cell_type": "markdown",
      "metadata": {
        "id": "IDkmMHazElYx"
      },
      "source": [
        "Dans la section précédente, nous avons commencé à étudier la sémantique des variables et des objets Python ; ici, nous allons nous pencher sur la sémantique des différents *opérateurs* inclus dans le langage.\n",
        "À la fin de cette section, vous disposerez des outils de base pour commencer à comparer et à exploiter des données en Python."
      ]
    },
    {
      "cell_type": "markdown",
      "metadata": {
        "id": "Dn_HPk0GElYy"
      },
      "source": [
        "## Opérations arithmétiques\n",
        "Python implémente sept opérateurs arithmétiques binaires de base, dont deux peuvent se doubler d'opérateurs unaires.\n",
        "Ils sont résumés dans le tableau suivant :\n",
        "\n",
        "| Opérateur | Nom | Description |\n",
        "|--------------|----------------|--------------------------------------------------------|\n",
        "| ``a + b`` | Addition | Somme de ``a`` et de ``b`` |\n",
        "| ``a - b`` | Soustraction | Différence de ``a`` et ``b``|\n",
        "| ``a * b`` | Multiplication | Produit de ``a`` et ``b``|\n",
        "| ``a / b`` | Vraie division | Quotient de ``a`` et ``b``|\n",
        "| ``a // b`` | Division floor | Quotient de ``a`` et ``b``, en enlevant les parties fractionnaires |\n",
        "| ``a % b`` | Modulo | Reste du nombre entier après la division de ``a`` par ``b`` |\n",
        "| ``a ** b`` | Exponentiation | ``a`` élevé à la puissance de ``b`` | ``-a``.\n",
        "| | ``-a`` | Négation | Le négatif de ``a`` |\n",
        "| ``+a`` | Plus unaire | ``a`` inchangé (rarement utilisé) |\n",
        "\n",
        "Ces opérateurs peuvent être utilisés et combinés de manière intuitive, en utilisant les parenthèses standard pour regrouper les opérations.\n",
        "Par exemple :"
      ]
    },
    {
      "cell_type": "code",
      "execution_count": null,
      "metadata": {
        "id": "0zcbipiDElY0",
        "outputId": "7ef4a2c2-930b-4a3f-e4be-0c0ff932478b"
      },
      "outputs": [
        {
          "data": {
            "text/plain": [
              "42.0"
            ]
          },
          "execution_count": 1,
          "metadata": {},
          "output_type": "execute_result"
        }
      ],
      "source": [
        "# addition, subtraction, multiplication\n",
        "(4 + 8) * (6.5 - 3)"
      ]
    },
    {
      "cell_type": "markdown",
      "metadata": {
        "id": "nLHzaH5fElY3"
      },
      "source": [
        "La \"Floor Division\" est une véritable division dont les parties fractionnaires sont tronquées :"
      ]
    },
    {
      "cell_type": "code",
      "execution_count": null,
      "metadata": {
        "id": "y-ByfcJdElY4",
        "outputId": "221b7cf0-b250-489f-c31a-b38c628c737b"
      },
      "outputs": [
        {
          "name": "stdout",
          "output_type": "stream",
          "text": [
            "5.5\n"
          ]
        }
      ],
      "source": [
        "# True division\n",
        "print(11 / 2)"
      ]
    },
    {
      "cell_type": "code",
      "execution_count": null,
      "metadata": {
        "id": "Bi6N_tVDElY5",
        "outputId": "6f484afb-41ac-44f7-e6ba-39bee16bb9c0"
      },
      "outputs": [
        {
          "name": "stdout",
          "output_type": "stream",
          "text": [
            "5\n"
          ]
        }
      ],
      "source": [
        "# Floor division\n",
        "print(11 // 2)"
      ]
    },
    {
      "cell_type": "markdown",
      "metadata": {
        "id": "YKUpclSGElY7"
      },
      "source": [
        "Pour finir, je mentionnerai un huitième opérateur arithmétique qui a été ajouté dans Python 3.5 : l'opérateur ``a @ b``, qui est censé indiquer le *produit matriciel* de ``a`` et ``b``, pour une utilisation dans divers packages d'algèbre linéaire."
      ]
    },
    {
      "cell_type": "markdown",
      "metadata": {
        "id": "xTBNr3HNElY7"
      },
      "source": [
        "## Opérations binaires\n",
        "En plus des opérations numériques standard, Python comprend des opérateurs permettant d'effectuer des opérations logiques par bit sur des entiers.\n",
        "Ces opérations sont beaucoup moins utilisées que les opérations arithmétiques standard, mais il est utile de savoir qu'elles existent.\n",
        "Les six opérateurs binaires sont résumés dans le tableau suivant :\n",
        "\n",
        "| Opérateur | nom | Description |\n",
        "|--------------|-----------------|---------------------------------------------|\n",
        "| ``a & b`` | ET logique | Bits actifs en ``a`` et ``b`` |\n",
        "| <code>a &#124; b</code>| OU logique | Bits actifs en ``a`` ou ``b`` ou les deux |\n",
        "| ``a ^ b`` | XOR | Bits actifs en ``a`` ou ``b`` mais pas les deux |\n",
        "| ``a << b`` | Décalage de bits vers la gauche | Décale les bits de ``a`` vers la gauche par ``b`` unités |\n",
        "| ``a >> b`` | Décalage des bits vers la droite | Décale les bits de ``a`` vers la droite d'une unité ``b``. |\n",
        "| ``~a`` | NON logique | Négation par bit de ``a``. |\n",
        "\n",
        "Ces opérateurs bit à bit n'ont de sens qu'en termes de représentation binaire des nombres, ce que vous pouvez voir en utilisant la fonction intégrée ``bin`` :"
      ]
    },
    {
      "cell_type": "code",
      "execution_count": null,
      "metadata": {
        "id": "yWX0EI4NElY8",
        "outputId": "4115d3df-35f0-4f97-a06c-7cda4e561a7b"
      },
      "outputs": [
        {
          "data": {
            "text/plain": [
              "'0b1010'"
            ]
          },
          "execution_count": 4,
          "metadata": {},
          "output_type": "execute_result"
        }
      ],
      "source": [
        "bin(10)"
      ]
    },
    {
      "cell_type": "markdown",
      "metadata": {
        "id": "JYzp1eMnElY8"
      },
      "source": [
        "Le résultat est préfixé par ``'0b'``, ce qui indique une représentation binaire.\n",
        "Le reste des chiffres indique que le nombre 10 s'exprime comme la somme $1 \\cdot 2^3 + 0 \\cdot 2^2 + 1 \\cdot 2^1 + 0 \\cdot 2^0$.\n",
        "De même, on peut écrire :"
      ]
    },
    {
      "cell_type": "code",
      "execution_count": null,
      "metadata": {
        "id": "so1r_ZYsElY-",
        "outputId": "f7eb949d-e0b1-4984-ee94-0f74e3e917fc"
      },
      "outputs": [
        {
          "data": {
            "text/plain": [
              "'0b100'"
            ]
          },
          "execution_count": 5,
          "metadata": {},
          "output_type": "execute_result"
        }
      ],
      "source": [
        "bin(4)"
      ]
    },
    {
      "cell_type": "markdown",
      "metadata": {
        "id": "EObCwpsxElY-"
      },
      "source": [
        "Maintenant, en utilisant la fonction OU, nous pouvons trouver le nombre qui combine les bits de 4 et 10 :"
      ]
    },
    {
      "cell_type": "code",
      "execution_count": null,
      "metadata": {
        "id": "98anEURhElY-",
        "outputId": "6da43ceb-2344-4715-a1a6-66b8c9675578"
      },
      "outputs": [
        {
          "data": {
            "text/plain": [
              "14"
            ]
          },
          "execution_count": 6,
          "metadata": {},
          "output_type": "execute_result"
        }
      ],
      "source": [
        "4 | 10"
      ]
    },
    {
      "cell_type": "code",
      "execution_count": null,
      "metadata": {
        "id": "5tpLswcvElY_",
        "outputId": "a92faee7-1af0-4ecd-a0d2-f68d7917a4fc"
      },
      "outputs": [
        {
          "data": {
            "text/plain": [
              "'0b1110'"
            ]
          },
          "execution_count": 7,
          "metadata": {},
          "output_type": "execute_result"
        }
      ],
      "source": [
        "bin(4 | 10)"
      ]
    },
    {
      "cell_type": "markdown",
      "metadata": {
        "id": "Chlt1vpgElZA"
      },
      "source": [
        "Ces opérateurs binaires ne sont pas aussi immédiatement utiles que les opérateurs arithmétiques standards, mais il est utile de les voir au moins une fois pour comprendre quelle classe d'opération ils effectuent.\n",
        "En particulier, les utilisateurs d'autres langages sont parfois tentés d'utiliser XOR (i.e., ``a ^ b``) quand ils souhaitent réellement faire une exponentiation (i.e., ``a ** b``)."
      ]
    },
    {
      "cell_type": "markdown",
      "metadata": {
        "id": "WB0-drd3ElZA"
      },
      "source": [
        "## Opérations d'assignation\n",
        "Nous avons vu que les variables peuvent être assignées avec l'opérateur \"``=``\", et les valeurs stockées pour une utilisation ultérieure. Par exemple :"
      ]
    },
    {
      "cell_type": "code",
      "execution_count": null,
      "metadata": {
        "id": "fZKKtDhjElZA",
        "outputId": "6a694c48-79cb-45c2-e4ec-cc93771d7889"
      },
      "outputs": [
        {
          "name": "stdout",
          "output_type": "stream",
          "text": [
            "24\n"
          ]
        }
      ],
      "source": [
        "a = 24\n",
        "print(a)"
      ]
    },
    {
      "cell_type": "markdown",
      "metadata": {
        "id": "cS8AI4w8ElZB"
      },
      "source": [
        "Nous pouvons utiliser ces variables dans des expressions avec n'importe lequel des opérateurs mentionnés précédemment.\n",
        "Par exemple, pour ajouter 2 à ``a``, nous écrivons :"
      ]
    },
    {
      "cell_type": "code",
      "execution_count": null,
      "metadata": {
        "id": "aSdkm6jcElZB",
        "outputId": "6542727c-614a-4cf1-ab32-a8ec7919a39e"
      },
      "outputs": [
        {
          "data": {
            "text/plain": [
              "26"
            ]
          },
          "execution_count": 9,
          "metadata": {},
          "output_type": "execute_result"
        }
      ],
      "source": [
        "a + 2"
      ]
    },
    {
      "cell_type": "markdown",
      "metadata": {
        "id": "SeyZPewAElZB"
      },
      "source": [
        "Nous pourrions vouloir mettre à jour la variable \"a\" avec cette nouvelle valeur ; dans ce cas, nous pouvons combiner l'addition et l'affectation et écrire \"a = a + 2\".\n",
        "Comme ce type d'opération et d'affectation combinées est très courant, Python intègre des opérateurs de mise à jour pour toutes les opérations arithmétiques :"
      ]
    },
    {
      "cell_type": "code",
      "execution_count": null,
      "metadata": {
        "id": "EmKSqHYbElZB",
        "outputId": "e9fdddfe-aa3b-404a-d4f4-e98da8a15b78"
      },
      "outputs": [
        {
          "name": "stdout",
          "output_type": "stream",
          "text": [
            "26\n"
          ]
        }
      ],
      "source": [
        "a += 2  # equivalent to a = a + 2\n",
        "print(a)"
      ]
    },
    {
      "cell_type": "markdown",
      "metadata": {
        "id": "EX5-AcjxElZC"
      },
      "source": [
        "Il existe un opérateur d'affectation augmenté correspondant à chacun des opérateurs binaires énumérés précédemment ; en bref, il s'agit des opérateurs suivants :\n",
        "\n",
        "|``a += b``| ``a -= b``|``a *= b``| ``a /= b``|\n",
        "|``a //= b``| ``a %= b``|``a **= b``|``a &= b``|\n",
        "|<code>a &#124;= b</code>| ``a ^= b``|``a <<= b``| ``a >>= b``|\n",
        "\n",
        "Chacun est équivalent à l'opération correspondante suivie d'une affectation : c'est-à-dire que pour tout opérateur \"``■``\", l'expression ``a ■= b`` est équivalente à ``a = a ■ b``, avec une légère accroche.\n",
        "Pour les objets mutables comme les listes, les tableaux ou les DataFrames, ces opérations d'affectation augmentées sont en fait subtilement différentes de leurs homologues plus verbeux : elles modifient le contenu de l'objet original plutôt que de créer un nouvel objet pour stocker le résultat."
      ]
    },
    {
      "cell_type": "markdown",
      "metadata": {
        "id": "dauWI0SgElZD"
      },
      "source": [
        "## Opérations de comparaison\n",
        "\n",
        "Un autre type d'opération qui peut être très utile est la comparaison de différentes valeurs.\n",
        "Pour cela, Python implémente des opérateurs de comparaison standard, qui retournent des valeurs booléennes ``True`` et ``False``.\n",
        "Les opérations de comparaison sont listées dans le tableau suivant :\n",
        "\n",
        "| Operation     | Description                       || Operation     | Description                          |\n",
        "|---------------|-----------------------------------||---------------|--------------------------------------|\n",
        "| ``a == b``    | ``a`` egal a ``b``              || ``a != b``    | ``a`` different de ``b``             |\n",
        "| ``a < b``     | ``a`` inferieur a ``b``             || ``a > b``     | ``a`` superieur a ``b``             |\n",
        "| ``a <= b``    | ``a`` inferieur ou egal a ``b`` || ``a >= b``    | ``a`` superieur ou egal a ``b`` |\n",
        "\n",
        "Ces opérateurs de comparaison peuvent être combinés avec les opérateurs arithmétiques et binaires pour exprimer une gamme pratiquement illimitée de tests pour les nombres.\n",
        "Par exemple, on peut vérifier si un nombre est impair en vérifiant que le modulo avec 2 donne 1 :"
      ]
    },
    {
      "cell_type": "code",
      "execution_count": null,
      "metadata": {
        "id": "QD2SHAMfElZD",
        "outputId": "a4bee842-e19b-44f6-885d-906c3cc8c7b7"
      },
      "outputs": [
        {
          "data": {
            "text/plain": [
              "True"
            ]
          },
          "execution_count": 11,
          "metadata": {},
          "output_type": "execute_result"
        }
      ],
      "source": [
        "# 25 is odd\n",
        "25 % 2 == 1"
      ]
    },
    {
      "cell_type": "code",
      "execution_count": null,
      "metadata": {
        "id": "Grcs04baElZE",
        "outputId": "2271e8af-399d-4396-9b62-3d43f40cc93f"
      },
      "outputs": [
        {
          "data": {
            "text/plain": [
              "False"
            ]
          },
          "execution_count": 12,
          "metadata": {},
          "output_type": "execute_result"
        }
      ],
      "source": [
        "# 66 is odd\n",
        "66 % 2 == 1"
      ]
    },
    {
      "cell_type": "markdown",
      "metadata": {
        "id": "zvXaFc9DElZE"
      },
      "source": [
        "Nous pouvons enchaîner plusieurs comparaisons pour vérifier des relations plus complexes :"
      ]
    },
    {
      "cell_type": "code",
      "execution_count": null,
      "metadata": {
        "id": "QZuwL8TxElZE",
        "outputId": "51368348-4ca8-4847-c6ec-1476af3421aa"
      },
      "outputs": [
        {
          "data": {
            "text/plain": [
              "True"
            ]
          },
          "execution_count": 13,
          "metadata": {},
          "output_type": "execute_result"
        }
      ],
      "source": [
        "# check if a is between 15 and 30\n",
        "a = 25\n",
        "15 < a < 30"
      ]
    },
    {
      "cell_type": "markdown",
      "metadata": {
        "id": "ztBOGJTOElZF"
      },
      "source": [
        "Et, pour vous donner un peu de mal à la tête, regardez cette comparaison :"
      ]
    },
    {
      "cell_type": "code",
      "execution_count": null,
      "metadata": {
        "id": "53_H2yMIElZG",
        "outputId": "8eb63edd-71e8-4dec-825d-3710326eb7f4"
      },
      "outputs": [
        {
          "data": {
            "text/plain": [
              "True"
            ]
          },
          "execution_count": 14,
          "metadata": {},
          "output_type": "execute_result"
        }
      ],
      "source": [
        "-1 == ~0"
      ]
    },
    {
      "cell_type": "markdown",
      "metadata": {
        "id": "WGM1ANUBElZG"
      },
      "source": [
        "Rappelez-vous que ``~`` est l'opérateur de basculement de bit, et évidemment, lorsque vous basculez tous les bits de zéro, vous obtenez -1.\n",
        "Si vous êtes curieux de savoir pourquoi, consultez le schéma de codage des entiers en *complément à deux*, qui est utilisé par Python pour coder les entiers signés, et réfléchissez à ce qui se passe lorsque vous commencez à inverser tous les bits des entiers codés de cette façon."
      ]
    },
    {
      "cell_type": "markdown",
      "metadata": {
        "id": "pRASSRB7ElZH"
      },
      "source": [
        "## Opérations booléennes\n",
        "Lorsque vous travaillez avec des valeurs booléennes, Python fournit des opérateurs pour combiner les valeurs en utilisant les concepts standards de \"and\", \"or\", et \"not\".\n",
        "Comme on pouvait s'y attendre, ces opérateurs sont exprimés à l'aide des mots \" and \", \" or \" et \" not \" :"
      ]
    },
    {
      "cell_type": "code",
      "execution_count": null,
      "metadata": {
        "id": "H5wiTd1jElZI",
        "outputId": "1b8df0fe-7e98-45a3-8d2a-dcc03be30086"
      },
      "outputs": [
        {
          "data": {
            "text/plain": [
              "True"
            ]
          },
          "execution_count": 15,
          "metadata": {},
          "output_type": "execute_result"
        }
      ],
      "source": [
        "x = 4\n",
        "(x < 6) and (x > 2)"
      ]
    },
    {
      "cell_type": "code",
      "execution_count": null,
      "metadata": {
        "id": "ioz4tnTZElZI",
        "outputId": "77397bf6-9a33-401d-ae80-13342fec2d10"
      },
      "outputs": [
        {
          "data": {
            "text/plain": [
              "True"
            ]
          },
          "execution_count": 16,
          "metadata": {},
          "output_type": "execute_result"
        }
      ],
      "source": [
        "(x > 10) or (x % 2 == 0)"
      ]
    },
    {
      "cell_type": "code",
      "execution_count": null,
      "metadata": {
        "id": "1fyeXMDXElZJ",
        "outputId": "07d4b893-964f-409c-b114-9b904719a871"
      },
      "outputs": [
        {
          "data": {
            "text/plain": [
              "False"
            ]
          },
          "execution_count": 17,
          "metadata": {},
          "output_type": "execute_result"
        }
      ],
      "source": [
        "not (x < 6)"
      ]
    },
    {
      "cell_type": "markdown",
      "metadata": {
        "id": "xWpHSkm9ElZK"
      },
      "source": [
        "Les amateurs d'algèbre booléenne remarqueront peut-être que l'opérateur XOR n'est pas inclus ; il peut bien sûr être construit de plusieurs façons à partir d'une déclaration composée des autres opérateurs.\n",
        "Sinon, une astuce intéressante que vous pouvez utiliser pour l'opérateur XOR de valeurs booléennes est la suivante :"
      ]
    },
    {
      "cell_type": "code",
      "execution_count": null,
      "metadata": {
        "id": "WXZYfjqjElZK",
        "outputId": "9b521ac1-51a9-4db3-e34b-739e3cb21992"
      },
      "outputs": [
        {
          "data": {
            "text/plain": [
              "False"
            ]
          },
          "execution_count": 18,
          "metadata": {},
          "output_type": "execute_result"
        }
      ],
      "source": [
        "# (x > 1) xor (x < 10)\n",
        "(x > 1) != (x < 10)"
      ]
    },
    {
      "cell_type": "markdown",
      "metadata": {
        "id": "ZFUSU5SQElZL"
      },
      "source": [
        "Ce type d'opérations booléennes deviendra extrêmement utile lorsque nous commencerons à discuter des *instructions de flux de contrôle* telles que les conditionnelles et les boucles.\n",
        "\n",
        "Une chose parfois déroutante dans le langage est de savoir quand utiliser les opérateurs booléens (``et``, ``ou``, ``not``), et quand utiliser les opérations binaires (``&``, ``|``, ``~``).\n",
        "La réponse se trouve dans leurs noms : Les opérateurs booléens doivent être utilisés lorsque vous voulez calculer *les valeurs booléennes (c'est-à-dire la vérité ou la fausseté) de déclarations entières*.\n",
        "Les opérations binaires doivent être utilisées lorsque vous voulez *opérer sur des bits ou des composants individuels des objets en question*."
      ]
    },
    {
      "cell_type": "markdown",
      "metadata": {
        "id": "j_iku9KaElZM"
      },
      "source": [
        "## Opérateurs d'identité et d'appartenance\n",
        "\n",
        "Comme ``and``, ``or`` et ``not``, Python contient également des opérateurs de type prose pour vérifier l'identité et l'appartenance.\n",
        "Il s'agit des opérateurs suivants :\n",
        "\n",
        "| Operateur      | Description                                       |\n",
        "|---------------|---------------------------------------------------|\n",
        "| ``a is b``    | Vrai si ``a`` et ``b`` sont des objets identiques     |\n",
        "| ``a is not b``| Vrai si ``a`` et ``b`` ne sont pas des objets identiques |\n",
        "| ``a in b``    | Vrai si ``a`` est un membre de ``b`''.                |\n",
        "| ``a not in b``| Vrai si ``a`` n'est pas un membre de ``b`''.            |"
      ]
    },
    {
      "cell_type": "markdown",
      "metadata": {
        "id": "Ixh4SDF_ElZM"
      },
      "source": [
        "### Opérateurs d'identité : \" is \" et \" is not \".\n",
        "\n",
        "Les opérateurs d'identité, \" is \" et \" is not \", vérifient l'\" identité d'objet \".\n",
        "L'identité d'objet est différente de l'égalité, comme nous pouvons le voir ici :"
      ]
    },
    {
      "cell_type": "code",
      "execution_count": null,
      "metadata": {
        "id": "N5pImeDfElZM"
      },
      "outputs": [],
      "source": [
        "a = [1, 2, 3]\n",
        "b = [1, 2, 3]"
      ]
    },
    {
      "cell_type": "code",
      "execution_count": null,
      "metadata": {
        "id": "0W2a3nIeElZM",
        "outputId": "1e5b5dd4-4bdb-4bc1-b636-f92d6f3212c9"
      },
      "outputs": [
        {
          "data": {
            "text/plain": [
              "True"
            ]
          },
          "execution_count": 20,
          "metadata": {},
          "output_type": "execute_result"
        }
      ],
      "source": [
        "a == b"
      ]
    },
    {
      "cell_type": "code",
      "execution_count": null,
      "metadata": {
        "id": "--OeycKSElZN",
        "outputId": "5cf3c881-ce47-4383-b048-6c506a5ca8f8"
      },
      "outputs": [
        {
          "data": {
            "text/plain": [
              "False"
            ]
          },
          "execution_count": 21,
          "metadata": {},
          "output_type": "execute_result"
        }
      ],
      "source": [
        "a is b"
      ]
    },
    {
      "cell_type": "code",
      "execution_count": null,
      "metadata": {
        "id": "PqIy0FyGElZN",
        "outputId": "0dd11115-6c86-4afb-9f83-6b54790302d8"
      },
      "outputs": [
        {
          "data": {
            "text/plain": [
              "True"
            ]
          },
          "execution_count": 22,
          "metadata": {},
          "output_type": "execute_result"
        }
      ],
      "source": [
        "a is not b"
      ]
    },
    {
      "cell_type": "markdown",
      "metadata": {
        "id": "fq3UIFWDElZN"
      },
      "source": [
        "À quoi ressemblent des objets identiques ? Voici un exemple :"
      ]
    },
    {
      "cell_type": "code",
      "execution_count": null,
      "metadata": {
        "id": "kT_SkV8GElZN",
        "outputId": "3a1ab699-fed2-426a-9596-d981acb3bbd9"
      },
      "outputs": [
        {
          "data": {
            "text/plain": [
              "True"
            ]
          },
          "execution_count": 23,
          "metadata": {},
          "output_type": "execute_result"
        }
      ],
      "source": [
        "a = [1, 2, 3]\n",
        "b = a\n",
        "a is b"
      ]
    },
    {
      "cell_type": "markdown",
      "metadata": {
        "id": "jsoer3BYElZO"
      },
      "source": [
        "La différence entre les deux cas ici est que dans le premier, ``a`` et ``b`` pointent vers des *objets différents*, alors que dans le second, ils pointent vers le *même objet*.\n",
        "Comme nous l'avons vu dans la section précédente, les variables Python sont des pointeurs. L'opérateur \"``is``\" vérifie si les deux variables pointent vers le même conteneur (objet), plutôt que de faire référence à ce que le conteneur contient.\n",
        "En gardant cela à l'esprit, dans la plupart des cas où un débutant est tenté d'utiliser \"``is``\", ce qu'il veut vraiment dire est ``==``."
      ]
    },
    {
      "cell_type": "markdown",
      "metadata": {
        "id": "WJWppqlGElZP"
      },
      "source": [
        "### Opérateurs d'appartenance\n",
        "Les opérateurs d'appartenance vérifient l'appartenance à des objets composés.\n",
        "Ainsi, par exemple, on peut écrire :"
      ]
    },
    {
      "cell_type": "code",
      "execution_count": null,
      "metadata": {
        "id": "Sgs3JjwnElZP",
        "outputId": "226de03c-c1e6-4f6d-9656-3efeadb685b3"
      },
      "outputs": [
        {
          "data": {
            "text/plain": [
              "True"
            ]
          },
          "execution_count": 24,
          "metadata": {},
          "output_type": "execute_result"
        }
      ],
      "source": [
        "1 in [1, 2, 3]"
      ]
    },
    {
      "cell_type": "code",
      "execution_count": null,
      "metadata": {
        "id": "-vaXmyW2ElZP",
        "outputId": "5986ebad-396e-4987-dfea-4a43ceeb8fa4"
      },
      "outputs": [
        {
          "data": {
            "text/plain": [
              "False"
            ]
          },
          "execution_count": 25,
          "metadata": {},
          "output_type": "execute_result"
        }
      ],
      "source": [
        "2 not in [1, 2, 3]"
      ]
    },
    {
      "cell_type": "markdown",
      "metadata": {
        "id": "t3ZbW_qPElZQ"
      },
      "source": [
        "Ces opérations d'appartenance sont un exemple de ce qui rend Python si facile à utiliser par rapport aux langages de plus bas niveau comme C.\n",
        "En C, l'appartenance est généralement déterminée en construisant manuellement une boucle sur la liste et en vérifiant l'égalité de chaque valeur.\n",
        "En Python, vous tapez simplement ce que vous voulez savoir, d'une manière qui rappelle la prose anglaise directe."
      ]
    }
  ],
  "metadata": {
    "anaconda-cloud": {},
    "kernelspec": {
      "display_name": "Python 3",
      "language": "python",
      "name": "python3"
    },
    "language_info": {
      "codemirror_mode": {
        "name": "ipython",
        "version": 3
      },
      "file_extension": ".py",
      "mimetype": "text/x-python",
      "name": "python",
      "nbconvert_exporter": "python",
      "pygments_lexer": "ipython3",
      "version": "3.5.1"
    },
    "colab": {
      "provenance": [],
      "include_colab_link": true
    }
  },
  "nbformat": 4,
  "nbformat_minor": 0
}
